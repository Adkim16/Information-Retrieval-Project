{
  "cells": [
    {
      "cell_type": "markdown",
      "metadata": {
        "id": "view-in-github",
        "colab_type": "text"
      },
      "source": [
        "<a href=\"https://colab.research.google.com/github/Adkim16/Information-Retrieval-Project/blob/main/Information_Retrieval.ipynb\" target=\"_parent\"><img src=\"https://colab.research.google.com/assets/colab-badge.svg\" alt=\"Open In Colab\"/></a>"
      ]
    },
    {
      "cell_type": "markdown",
      "metadata": {
        "id": "HNkr6pQwA8DM"
      },
      "source": [
        "# *Librerie*"
      ]
    },
    {
      "cell_type": "code",
      "execution_count": null,
      "metadata": {
        "colab": {
          "base_uri": "https://localhost:8080/"
        },
        "id": "4JGzdrjgAlSi",
        "outputId": "6f8891e0-c2c9-49b8-fc7e-4a79df3edc1c"
      },
      "outputs": [
        {
          "output_type": "stream",
          "name": "stdout",
          "text": [
            "fatal: destination path 'Information-Retrieval-Project' already exists and is not an empty directory.\n",
            "Looking in indexes: https://pypi.org/simple, https://us-python.pkg.dev/colab-wheels/public/simple/\n",
            "Requirement already satisfied: tika in /usr/local/lib/python3.7/dist-packages (1.24)\n",
            "Requirement already satisfied: setuptools in /usr/local/lib/python3.7/dist-packages (from tika) (63.2.0)\n",
            "Requirement already satisfied: requests in /usr/local/lib/python3.7/dist-packages (from tika) (2.23.0)\n",
            "Requirement already satisfied: chardet<4,>=3.0.2 in /usr/local/lib/python3.7/dist-packages (from requests->tika) (3.0.4)\n",
            "Requirement already satisfied: idna<3,>=2.5 in /usr/local/lib/python3.7/dist-packages (from requests->tika) (2.10)\n",
            "Requirement already satisfied: certifi>=2017.4.17 in /usr/local/lib/python3.7/dist-packages (from requests->tika) (2022.6.15)\n",
            "Requirement already satisfied: urllib3!=1.25.0,!=1.25.1,<1.26,>=1.21.1 in /usr/local/lib/python3.7/dist-packages (from requests->tika) (1.24.3)\n",
            "\u001b[33mWARNING: Running pip as the 'root' user can result in broken permissions and conflicting behaviour with the system package manager. It is recommended to use a virtual environment instead: https://pip.pypa.io/warnings/venv\u001b[0m\u001b[33m\n",
            "\u001b[0mLooking in indexes: https://pypi.org/simple, https://us-python.pkg.dev/colab-wheels/public/simple/\n",
            "Requirement already satisfied: PyPDF2 in /usr/local/lib/python3.7/dist-packages (2.8.1)\n",
            "Requirement already satisfied: typing-extensions in /usr/local/lib/python3.7/dist-packages (from PyPDF2) (4.1.1)\n",
            "\u001b[33mWARNING: Running pip as the 'root' user can result in broken permissions and conflicting behaviour with the system package manager. It is recommended to use a virtual environment instead: https://pip.pypa.io/warnings/venv\u001b[0m\u001b[33m\n",
            "\u001b[0mLooking in indexes: https://pypi.org/simple, https://us-python.pkg.dev/colab-wheels/public/simple/\n",
            "Requirement already satisfied: nltk in /usr/local/lib/python3.7/dist-packages (3.7)\n",
            "Requirement already satisfied: click in /usr/local/lib/python3.7/dist-packages (from nltk) (7.1.2)\n",
            "Requirement already satisfied: tqdm in /usr/local/lib/python3.7/dist-packages (from nltk) (4.64.0)\n",
            "Requirement already satisfied: joblib in /usr/local/lib/python3.7/dist-packages (from nltk) (1.1.0)\n",
            "Requirement already satisfied: regex>=2021.8.3 in /usr/local/lib/python3.7/dist-packages (from nltk) (2022.6.2)\n",
            "\u001b[33mWARNING: Running pip as the 'root' user can result in broken permissions and conflicting behaviour with the system package manager. It is recommended to use a virtual environment instead: https://pip.pypa.io/warnings/venv\u001b[0m\u001b[33m\n",
            "\u001b[0mLooking in indexes: https://pypi.org/simple, https://us-python.pkg.dev/colab-wheels/public/simple/\n",
            "Requirement already satisfied: pyldavis in /usr/local/lib/python3.7/dist-packages (3.3.1)\n",
            "Requirement already satisfied: funcy in /usr/local/lib/python3.7/dist-packages (from pyldavis) (1.17)\n",
            "Requirement already satisfied: numexpr in /usr/local/lib/python3.7/dist-packages (from pyldavis) (2.8.3)\n",
            "Requirement already satisfied: gensim in /usr/local/lib/python3.7/dist-packages (from pyldavis) (3.6.0)\n",
            "Requirement already satisfied: numpy>=1.20.0 in /usr/local/lib/python3.7/dist-packages (from pyldavis) (1.21.6)\n",
            "Requirement already satisfied: sklearn in /usr/local/lib/python3.7/dist-packages (from pyldavis) (0.0)\n",
            "Requirement already satisfied: scikit-learn in /usr/local/lib/python3.7/dist-packages (from pyldavis) (1.0.2)\n",
            "Requirement already satisfied: setuptools in /usr/local/lib/python3.7/dist-packages (from pyldavis) (63.2.0)\n",
            "Requirement already satisfied: joblib in /usr/local/lib/python3.7/dist-packages (from pyldavis) (1.1.0)\n",
            "Requirement already satisfied: future in /usr/local/lib/python3.7/dist-packages (from pyldavis) (0.16.0)\n",
            "Requirement already satisfied: pandas>=1.2.0 in /usr/local/lib/python3.7/dist-packages (from pyldavis) (1.3.5)\n",
            "Requirement already satisfied: jinja2 in /usr/local/lib/python3.7/dist-packages (from pyldavis) (2.11.3)\n",
            "Requirement already satisfied: scipy in /usr/local/lib/python3.7/dist-packages (from pyldavis) (1.7.3)\n",
            "Requirement already satisfied: pytz>=2017.3 in /usr/local/lib/python3.7/dist-packages (from pandas>=1.2.0->pyldavis) (2022.1)\n",
            "Requirement already satisfied: python-dateutil>=2.7.3 in /usr/local/lib/python3.7/dist-packages (from pandas>=1.2.0->pyldavis) (2.8.2)\n",
            "Requirement already satisfied: six>=1.5.0 in /usr/local/lib/python3.7/dist-packages (from gensim->pyldavis) (1.15.0)\n",
            "Requirement already satisfied: smart-open>=1.2.1 in /usr/local/lib/python3.7/dist-packages (from gensim->pyldavis) (5.2.1)\n",
            "Requirement already satisfied: MarkupSafe>=0.23 in /usr/local/lib/python3.7/dist-packages (from jinja2->pyldavis) (2.0.1)\n",
            "Requirement already satisfied: packaging in /usr/local/lib/python3.7/dist-packages (from numexpr->pyldavis) (21.3)\n",
            "Requirement already satisfied: threadpoolctl>=2.0.0 in /usr/local/lib/python3.7/dist-packages (from scikit-learn->pyldavis) (3.1.0)\n",
            "Requirement already satisfied: pyparsing!=3.0.5,>=2.0.2 in /usr/local/lib/python3.7/dist-packages (from packaging->numexpr->pyldavis) (3.0.9)\n",
            "\u001b[33mWARNING: Running pip as the 'root' user can result in broken permissions and conflicting behaviour with the system package manager. It is recommended to use a virtual environment instead: https://pip.pypa.io/warnings/venv\u001b[0m\u001b[33m\n",
            "\u001b[0mLooking in indexes: https://pypi.org/simple, https://us-python.pkg.dev/colab-wheels/public/simple/\n",
            "Requirement already satisfied: PyMuPDF in /usr/local/lib/python3.7/dist-packages (1.20.1)\n",
            "\u001b[33mWARNING: Running pip as the 'root' user can result in broken permissions and conflicting behaviour with the system package manager. It is recommended to use a virtual environment instead: https://pip.pypa.io/warnings/venv\u001b[0m\u001b[33m\n",
            "\u001b[0mLooking in indexes: https://pypi.org/simple, https://us-python.pkg.dev/colab-wheels/public/simple/\n",
            "Requirement already satisfied: word2number in /usr/local/lib/python3.7/dist-packages (1.1)\n",
            "\u001b[33mWARNING: Running pip as the 'root' user can result in broken permissions and conflicting behaviour with the system package manager. It is recommended to use a virtual environment instead: https://pip.pypa.io/warnings/venv\u001b[0m\u001b[33m\n",
            "\u001b[0mLooking in indexes: https://pypi.org/simple, https://us-python.pkg.dev/colab-wheels/public/simple/\n",
            "Requirement already satisfied: spacy in /usr/local/lib/python3.7/dist-packages (3.4.0)\n",
            "Requirement already satisfied: spacy-loggers<2.0.0,>=1.0.0 in /usr/local/lib/python3.7/dist-packages (from spacy) (1.0.3)\n",
            "Requirement already satisfied: thinc<8.2.0,>=8.1.0 in /usr/local/lib/python3.7/dist-packages (from spacy) (8.1.0)\n",
            "Requirement already satisfied: typing-extensions<4.2.0,>=3.7.4 in /usr/local/lib/python3.7/dist-packages (from spacy) (4.1.1)\n",
            "Requirement already satisfied: preshed<3.1.0,>=3.0.2 in /usr/local/lib/python3.7/dist-packages (from spacy) (3.0.6)\n",
            "Requirement already satisfied: cymem<2.1.0,>=2.0.2 in /usr/local/lib/python3.7/dist-packages (from spacy) (2.0.6)\n",
            "Requirement already satisfied: requests<3.0.0,>=2.13.0 in /usr/local/lib/python3.7/dist-packages (from spacy) (2.23.0)\n",
            "Requirement already satisfied: typer<0.5.0,>=0.3.0 in /usr/local/lib/python3.7/dist-packages (from spacy) (0.4.2)\n",
            "Requirement already satisfied: numpy>=1.15.0 in /usr/local/lib/python3.7/dist-packages (from spacy) (1.21.6)\n",
            "Requirement already satisfied: langcodes<4.0.0,>=3.2.0 in /usr/local/lib/python3.7/dist-packages (from spacy) (3.3.0)\n",
            "Requirement already satisfied: wasabi<1.1.0,>=0.9.1 in /usr/local/lib/python3.7/dist-packages (from spacy) (0.9.1)\n",
            "Requirement already satisfied: pathy>=0.3.5 in /usr/local/lib/python3.7/dist-packages (from spacy) (0.6.2)\n",
            "Requirement already satisfied: srsly<3.0.0,>=2.4.3 in /usr/local/lib/python3.7/dist-packages (from spacy) (2.4.4)\n",
            "Requirement already satisfied: pydantic!=1.8,!=1.8.1,<1.10.0,>=1.7.4 in /usr/local/lib/python3.7/dist-packages (from spacy) (1.9.1)\n",
            "Requirement already satisfied: catalogue<2.1.0,>=2.0.6 in /usr/local/lib/python3.7/dist-packages (from spacy) (2.0.7)\n",
            "Requirement already satisfied: packaging>=20.0 in /usr/local/lib/python3.7/dist-packages (from spacy) (21.3)\n",
            "Requirement already satisfied: spacy-legacy<3.1.0,>=3.0.9 in /usr/local/lib/python3.7/dist-packages (from spacy) (3.0.9)\n",
            "Requirement already satisfied: jinja2 in /usr/local/lib/python3.7/dist-packages (from spacy) (2.11.3)\n",
            "Requirement already satisfied: tqdm<5.0.0,>=4.38.0 in /usr/local/lib/python3.7/dist-packages (from spacy) (4.64.0)\n",
            "Requirement already satisfied: murmurhash<1.1.0,>=0.28.0 in /usr/local/lib/python3.7/dist-packages (from spacy) (1.0.7)\n",
            "Requirement already satisfied: setuptools in /usr/local/lib/python3.7/dist-packages (from spacy) (63.2.0)\n",
            "Requirement already satisfied: zipp>=0.5 in /usr/local/lib/python3.7/dist-packages (from catalogue<2.1.0,>=2.0.6->spacy) (3.8.1)\n",
            "Requirement already satisfied: pyparsing!=3.0.5,>=2.0.2 in /usr/local/lib/python3.7/dist-packages (from packaging>=20.0->spacy) (3.0.9)\n",
            "Requirement already satisfied: smart-open<6.0.0,>=5.2.1 in /usr/local/lib/python3.7/dist-packages (from pathy>=0.3.5->spacy) (5.2.1)\n",
            "Requirement already satisfied: certifi>=2017.4.17 in /usr/local/lib/python3.7/dist-packages (from requests<3.0.0,>=2.13.0->spacy) (2022.6.15)\n",
            "Requirement already satisfied: idna<3,>=2.5 in /usr/local/lib/python3.7/dist-packages (from requests<3.0.0,>=2.13.0->spacy) (2.10)\n",
            "Requirement already satisfied: chardet<4,>=3.0.2 in /usr/local/lib/python3.7/dist-packages (from requests<3.0.0,>=2.13.0->spacy) (3.0.4)\n",
            "Requirement already satisfied: urllib3!=1.25.0,!=1.25.1,<1.26,>=1.21.1 in /usr/local/lib/python3.7/dist-packages (from requests<3.0.0,>=2.13.0->spacy) (1.24.3)\n",
            "Requirement already satisfied: blis<0.8.0,>=0.7.8 in /usr/local/lib/python3.7/dist-packages (from thinc<8.2.0,>=8.1.0->spacy) (0.7.8)\n",
            "Requirement already satisfied: click<9.0.0,>=7.1.1 in /usr/local/lib/python3.7/dist-packages (from typer<0.5.0,>=0.3.0->spacy) (7.1.2)\n",
            "Requirement already satisfied: MarkupSafe>=0.23 in /usr/local/lib/python3.7/dist-packages (from jinja2->spacy) (2.0.1)\n",
            "\u001b[33mWARNING: Running pip as the 'root' user can result in broken permissions and conflicting behaviour with the system package manager. It is recommended to use a virtual environment instead: https://pip.pypa.io/warnings/venv\u001b[0m\u001b[33m\n",
            "\u001b[0mLooking in indexes: https://pypi.org/simple, https://us-python.pkg.dev/colab-wheels/public/simple/\n",
            "Requirement already satisfied: pycountry in /usr/local/lib/python3.7/dist-packages (22.3.5)\n",
            "Requirement already satisfied: setuptools in /usr/local/lib/python3.7/dist-packages (from pycountry) (63.2.0)\n",
            "\u001b[33mWARNING: Running pip as the 'root' user can result in broken permissions and conflicting behaviour with the system package manager. It is recommended to use a virtual environment instead: https://pip.pypa.io/warnings/venv\u001b[0m\u001b[33m\n",
            "\u001b[0mLooking in indexes: https://pypi.org/simple, https://us-python.pkg.dev/colab-wheels/public/simple/\n",
            "Requirement already satisfied: pycountry_convert in /usr/local/lib/python3.7/dist-packages (0.7.2)\n",
            "Requirement already satisfied: pytest-mock>=1.6.3 in /usr/local/lib/python3.7/dist-packages (from pycountry_convert) (3.2.0)\n",
            "Requirement already satisfied: wheel>=0.30.0 in /usr/local/lib/python3.7/dist-packages (from pycountry_convert) (0.37.1)\n",
            "Requirement already satisfied: pytest-cov>=2.5.1 in /usr/local/lib/python3.7/dist-packages (from pycountry_convert) (2.9.0)\n",
            "Requirement already satisfied: pytest>=3.4.0 in /usr/local/lib/python3.7/dist-packages (from pycountry_convert) (3.6.4)\n",
            "Requirement already satisfied: pprintpp>=0.3.0 in /usr/local/lib/python3.7/dist-packages (from pycountry_convert) (0.4.0)\n",
            "Requirement already satisfied: pycountry>=16.11.27.1 in /usr/local/lib/python3.7/dist-packages (from pycountry_convert) (22.3.5)\n",
            "Requirement already satisfied: repoze.lru>=0.7 in /usr/local/lib/python3.7/dist-packages (from pycountry_convert) (0.7)\n",
            "Requirement already satisfied: setuptools in /usr/local/lib/python3.7/dist-packages (from pycountry>=16.11.27.1->pycountry_convert) (63.2.0)\n",
            "Requirement already satisfied: atomicwrites>=1.0 in /usr/local/lib/python3.7/dist-packages (from pytest>=3.4.0->pycountry_convert) (1.4.1)\n",
            "Requirement already satisfied: attrs>=17.4.0 in /usr/local/lib/python3.7/dist-packages (from pytest>=3.4.0->pycountry_convert) (21.4.0)\n",
            "Requirement already satisfied: more-itertools>=4.0.0 in /usr/local/lib/python3.7/dist-packages (from pytest>=3.4.0->pycountry_convert) (8.13.0)\n",
            "Requirement already satisfied: pluggy<0.8,>=0.5 in /usr/local/lib/python3.7/dist-packages (from pytest>=3.4.0->pycountry_convert) (0.7.1)\n",
            "Requirement already satisfied: six>=1.10.0 in /usr/local/lib/python3.7/dist-packages (from pytest>=3.4.0->pycountry_convert) (1.15.0)\n",
            "Requirement already satisfied: py>=1.5.0 in /usr/local/lib/python3.7/dist-packages (from pytest>=3.4.0->pycountry_convert) (1.11.0)\n",
            "Requirement already satisfied: coverage>=4.4 in /usr/local/lib/python3.7/dist-packages (from pytest-cov>=2.5.1->pycountry_convert) (6.4.2)\n",
            "\u001b[33mWARNING: Running pip as the 'root' user can result in broken permissions and conflicting behaviour with the system package manager. It is recommended to use a virtual environment instead: https://pip.pypa.io/warnings/venv\u001b[0m\u001b[33m\n",
            "\u001b[0m2022-07-26 09:20:08.985709: E tensorflow/stream_executor/cuda/cuda_driver.cc:271] failed call to cuInit: CUDA_ERROR_NO_DEVICE: no CUDA-capable device is detected\n",
            "Looking in indexes: https://pypi.org/simple, https://us-python.pkg.dev/colab-wheels/public/simple/\n",
            "Collecting en-core-web-lg==3.4.0\n",
            "  Downloading https://github.com/explosion/spacy-models/releases/download/en_core_web_lg-3.4.0/en_core_web_lg-3.4.0-py3-none-any.whl (587.7 MB)\n",
            "\u001b[2K     \u001b[90m━━━━━━━━━━━━━━━━━━━━━━━━━━━━━━━━━━━━━━━\u001b[0m \u001b[32m587.7/587.7 MB\u001b[0m \u001b[31m1.5 MB/s\u001b[0m eta \u001b[36m0:00:00\u001b[0m\n",
            "\u001b[?25hRequirement already satisfied: spacy<3.5.0,>=3.4.0 in /usr/local/lib/python3.7/dist-packages (from en-core-web-lg==3.4.0) (3.4.0)\n",
            "Requirement already satisfied: pathy>=0.3.5 in /usr/local/lib/python3.7/dist-packages (from spacy<3.5.0,>=3.4.0->en-core-web-lg==3.4.0) (0.6.2)\n",
            "Requirement already satisfied: spacy-loggers<2.0.0,>=1.0.0 in /usr/local/lib/python3.7/dist-packages (from spacy<3.5.0,>=3.4.0->en-core-web-lg==3.4.0) (1.0.3)\n",
            "Requirement already satisfied: srsly<3.0.0,>=2.4.3 in /usr/local/lib/python3.7/dist-packages (from spacy<3.5.0,>=3.4.0->en-core-web-lg==3.4.0) (2.4.4)\n",
            "Requirement already satisfied: langcodes<4.0.0,>=3.2.0 in /usr/local/lib/python3.7/dist-packages (from spacy<3.5.0,>=3.4.0->en-core-web-lg==3.4.0) (3.3.0)\n",
            "Requirement already satisfied: pydantic!=1.8,!=1.8.1,<1.10.0,>=1.7.4 in /usr/local/lib/python3.7/dist-packages (from spacy<3.5.0,>=3.4.0->en-core-web-lg==3.4.0) (1.9.1)\n",
            "Requirement already satisfied: typing-extensions<4.2.0,>=3.7.4 in /usr/local/lib/python3.7/dist-packages (from spacy<3.5.0,>=3.4.0->en-core-web-lg==3.4.0) (4.1.1)\n",
            "Requirement already satisfied: spacy-legacy<3.1.0,>=3.0.9 in /usr/local/lib/python3.7/dist-packages (from spacy<3.5.0,>=3.4.0->en-core-web-lg==3.4.0) (3.0.9)\n",
            "Requirement already satisfied: packaging>=20.0 in /usr/local/lib/python3.7/dist-packages (from spacy<3.5.0,>=3.4.0->en-core-web-lg==3.4.0) (21.3)\n",
            "Requirement already satisfied: wasabi<1.1.0,>=0.9.1 in /usr/local/lib/python3.7/dist-packages (from spacy<3.5.0,>=3.4.0->en-core-web-lg==3.4.0) (0.9.1)\n",
            "Requirement already satisfied: numpy>=1.15.0 in /usr/local/lib/python3.7/dist-packages (from spacy<3.5.0,>=3.4.0->en-core-web-lg==3.4.0) (1.21.6)\n",
            "Requirement already satisfied: catalogue<2.1.0,>=2.0.6 in /usr/local/lib/python3.7/dist-packages (from spacy<3.5.0,>=3.4.0->en-core-web-lg==3.4.0) (2.0.7)\n",
            "Requirement already satisfied: preshed<3.1.0,>=3.0.2 in /usr/local/lib/python3.7/dist-packages (from spacy<3.5.0,>=3.4.0->en-core-web-lg==3.4.0) (3.0.6)\n",
            "Requirement already satisfied: setuptools in /usr/local/lib/python3.7/dist-packages (from spacy<3.5.0,>=3.4.0->en-core-web-lg==3.4.0) (63.2.0)\n",
            "Requirement already satisfied: typer<0.5.0,>=0.3.0 in /usr/local/lib/python3.7/dist-packages (from spacy<3.5.0,>=3.4.0->en-core-web-lg==3.4.0) (0.4.2)\n",
            "Requirement already satisfied: murmurhash<1.1.0,>=0.28.0 in /usr/local/lib/python3.7/dist-packages (from spacy<3.5.0,>=3.4.0->en-core-web-lg==3.4.0) (1.0.7)\n",
            "Requirement already satisfied: tqdm<5.0.0,>=4.38.0 in /usr/local/lib/python3.7/dist-packages (from spacy<3.5.0,>=3.4.0->en-core-web-lg==3.4.0) (4.64.0)\n",
            "Requirement already satisfied: cymem<2.1.0,>=2.0.2 in /usr/local/lib/python3.7/dist-packages (from spacy<3.5.0,>=3.4.0->en-core-web-lg==3.4.0) (2.0.6)\n",
            "Requirement already satisfied: requests<3.0.0,>=2.13.0 in /usr/local/lib/python3.7/dist-packages (from spacy<3.5.0,>=3.4.0->en-core-web-lg==3.4.0) (2.23.0)\n",
            "Requirement already satisfied: thinc<8.2.0,>=8.1.0 in /usr/local/lib/python3.7/dist-packages (from spacy<3.5.0,>=3.4.0->en-core-web-lg==3.4.0) (8.1.0)\n",
            "Requirement already satisfied: jinja2 in /usr/local/lib/python3.7/dist-packages (from spacy<3.5.0,>=3.4.0->en-core-web-lg==3.4.0) (2.11.3)\n",
            "Requirement already satisfied: zipp>=0.5 in /usr/local/lib/python3.7/dist-packages (from catalogue<2.1.0,>=2.0.6->spacy<3.5.0,>=3.4.0->en-core-web-lg==3.4.0) (3.8.1)\n",
            "Requirement already satisfied: pyparsing!=3.0.5,>=2.0.2 in /usr/local/lib/python3.7/dist-packages (from packaging>=20.0->spacy<3.5.0,>=3.4.0->en-core-web-lg==3.4.0) (3.0.9)\n",
            "Requirement already satisfied: smart-open<6.0.0,>=5.2.1 in /usr/local/lib/python3.7/dist-packages (from pathy>=0.3.5->spacy<3.5.0,>=3.4.0->en-core-web-lg==3.4.0) (5.2.1)\n",
            "Requirement already satisfied: chardet<4,>=3.0.2 in /usr/local/lib/python3.7/dist-packages (from requests<3.0.0,>=2.13.0->spacy<3.5.0,>=3.4.0->en-core-web-lg==3.4.0) (3.0.4)\n",
            "Requirement already satisfied: certifi>=2017.4.17 in /usr/local/lib/python3.7/dist-packages (from requests<3.0.0,>=2.13.0->spacy<3.5.0,>=3.4.0->en-core-web-lg==3.4.0) (2022.6.15)\n",
            "Requirement already satisfied: idna<3,>=2.5 in /usr/local/lib/python3.7/dist-packages (from requests<3.0.0,>=2.13.0->spacy<3.5.0,>=3.4.0->en-core-web-lg==3.4.0) (2.10)\n",
            "Requirement already satisfied: urllib3!=1.25.0,!=1.25.1,<1.26,>=1.21.1 in /usr/local/lib/python3.7/dist-packages (from requests<3.0.0,>=2.13.0->spacy<3.5.0,>=3.4.0->en-core-web-lg==3.4.0) (1.24.3)\n",
            "Requirement already satisfied: blis<0.8.0,>=0.7.8 in /usr/local/lib/python3.7/dist-packages (from thinc<8.2.0,>=8.1.0->spacy<3.5.0,>=3.4.0->en-core-web-lg==3.4.0) (0.7.8)\n",
            "Requirement already satisfied: click<9.0.0,>=7.1.1 in /usr/local/lib/python3.7/dist-packages (from typer<0.5.0,>=0.3.0->spacy<3.5.0,>=3.4.0->en-core-web-lg==3.4.0) (7.1.2)\n",
            "Requirement already satisfied: MarkupSafe>=0.23 in /usr/local/lib/python3.7/dist-packages (from jinja2->spacy<3.5.0,>=3.4.0->en-core-web-lg==3.4.0) (2.0.1)\n",
            "\u001b[33mWARNING: Running pip as the 'root' user can result in broken permissions and conflicting behaviour with the system package manager. It is recommended to use a virtual environment instead: https://pip.pypa.io/warnings/venv\u001b[0m\u001b[33m\n",
            "\u001b[0m\u001b[38;5;2m✔ Download and installation successful\u001b[0m\n",
            "You can now load the package via spacy.load('en_core_web_lg')\n"
          ]
        }
      ],
      "source": [
        "! git clone https://github.com/Adkim16/Information-Retrieval-Project.git\n",
        "! pip install tika\n",
        "! pip install PyPDF2\n",
        "! pip install nltk\n",
        "! pip install pyldavis\n",
        "! pip install PyMuPDF\n",
        "! pip install word2number\n",
        "!pip install -U spacy\n",
        "!pip install pycountry\n",
        "!pip install pycountry_convert\n",
        "\n",
        "\n",
        "# SPACY\n",
        "#!pip install -U pip setuptools wheel\n",
        "#!pip install -U spacy\n",
        "\n",
        "#accuracy\n",
        "#!python -m spacy download en_core_web_trf\n",
        "\n",
        "#efficiency\n",
        "#!python -m spacy download en_core_web_sm\n",
        "\n",
        "#bigger model (https://spacy.io/models/en/#en_core_web_md)\n",
        "#!python -m spacy download en_core_web_md\n",
        "\n",
        "#bigger\n",
        "!python -m spacy download en_core_web_lg\n",
        "\n"
      ]
    },
    {
      "cell_type": "code",
      "execution_count": null,
      "metadata": {
        "colab": {
          "base_uri": "https://localhost:8080/"
        },
        "id": "ZEmyhIJFGxGi",
        "outputId": "34bf4d34-d8b6-4c18-b821-7273a5f12bea"
      },
      "outputs": [
        {
          "output_type": "stream",
          "name": "stderr",
          "text": [
            "[nltk_data] Downloading package punkt to /root/nltk_data...\n",
            "[nltk_data]   Package punkt is already up-to-date!\n",
            "[nltk_data] Downloading package wordnet to /root/nltk_data...\n",
            "[nltk_data]   Package wordnet is already up-to-date!\n"
          ]
        }
      ],
      "source": [
        "\n",
        "import pycountry_convert as pc\n",
        "import fitz\n",
        "import PyPDF2 as pypdf\n",
        "from PyPDF2 import PdfFileReader, PdfFileWriter\n",
        "from tika import parser\n",
        "import word2number\n",
        "from string import punctuation\n",
        "import nltk\n",
        "import string\n",
        "from nltk.stem.porter import *\n",
        "from word2number import w2n\n",
        "from nltk.corpus import wordnet as wn\n",
        "nltk.download('punkt')\n",
        "nltk.download('wordnet')\n",
        "import warnings\n",
        "warnings.filterwarnings('ignore')\n",
        "import numpy as np\n"
      ]
    },
    {
      "cell_type": "code",
      "execution_count": null,
      "metadata": {
        "id": "xD1GKFbCBLAk"
      },
      "outputs": [],
      "source": [
        "path_list = [\"/content/Information-Retrieval-Project/Rules/PDG_Rules_FINAL.pdf\",\n",
        "             '/content/Information-Retrieval-Project/Rules/LOD_Rules_Aug2016.pdf',\n",
        "             '/content/Information-Retrieval-Project/Rules/GandhiRulesFINALLo-Res.pdf',\n",
        "             '/content/Information-Retrieval-Project/Rules/FireLake-RULES-2018.pdf',\n",
        "             '/content/Information-Retrieval-Project/Rules/FS_Rules_2018.pdf',\n",
        "             '/content/Information-Retrieval-Project/Rules/ColTwi-RULES-LR-May2018.pdf',\n",
        "             '/content/Information-Retrieval-Project/Rules/CL-RULES-2019-LivingRules.pdf',\n",
        "             '/content/Information-Retrieval-Project/Rules/ADP-RULES-2015.pdf',\n",
        "             '/content/Information-Retrieval-Project/Rules/ABBLivingRulesNov-20.pdf',\n",
        "             '/content/Information-Retrieval-Project/Rules/A-RULES-2018-FINAL.pdf']\n",
        "new_path = {x.replace('/content/Information-Retrieval-Project/Rules/', '').replace('.pdf','') for x in path_list}\n"
      ]
    },
    {
      "cell_type": "markdown",
      "metadata": {
        "id": "swzn7WE0BStU"
      },
      "source": [
        "#Estrazione"
      ]
    },
    {
      "cell_type": "code",
      "execution_count": null,
      "metadata": {
        "colab": {
          "base_uri": "https://localhost:8080/"
        },
        "id": "gvW7Ok7jBWsD",
        "outputId": "62f0e5c5-e7a4-4126-95b0-b8d8de09d52b"
      },
      "outputs": [
        {
          "output_type": "execute_result",
          "data": {
            "text/plain": [
              "203214"
            ]
          },
          "metadata": {},
          "execution_count": 34
        }
      ],
      "source": [
        "#estrazione testo\n",
        "\n",
        "def get_words2 (path) :\n",
        "  pdf2 = 'text.pdf'\n",
        "\n",
        "  pdf = fitz.open(path)\n",
        "  pages = range(1,pdf.page_count)\n",
        "  pdf.select(pages)\n",
        "  pdf.save(pdf2)\n",
        "\n",
        "  parsed = parser.from_file(pdf2)\n",
        "  return parsed['content']\n",
        "\n",
        "words_list = [None] * 10\n",
        "\n",
        "for k in range(len(path_list)):\n",
        "  words_list[k] = get_words2(path_list[k])\n",
        "\n",
        "len(words_list[0])"
      ]
    },
    {
      "cell_type": "code",
      "execution_count": null,
      "metadata": {
        "colab": {
          "base_uri": "https://localhost:8080/"
        },
        "id": "MyHalShCCbEx",
        "outputId": "f0f41e08-57c0-4219-852e-38e208464424"
      },
      "outputs": [
        {
          "output_type": "execute_result",
          "data": {
            "text/plain": [
              "['2', 'Pendragon', '~', 'Rules', 'of']"
            ]
          },
          "metadata": {},
          "execution_count": 35
        }
      ],
      "source": [
        "#estrazione token\n",
        "\n",
        "#tokens = nltk.word_tokenize(parsed['content'])\n",
        "#print(tokens)\n",
        "\n",
        "def get_token(text):\n",
        "  tok_list = []\n",
        "\n",
        "  for k in range(len(text)) :\n",
        "    tok_list.append(nltk.word_tokenize(text[k]))\n",
        "  return tok_list\n",
        "\n",
        "\n",
        "token_list = (get_token(words_list))\n",
        "(token_list[0])[:5]"
      ]
    },
    {
      "cell_type": "code",
      "execution_count": null,
      "metadata": {
        "colab": {
          "base_uri": "https://localhost:8080/"
        },
        "id": "GyfFsd8sDBNB",
        "outputId": "55bcf659-abb9-4150-bf00-9c7df33f4b28"
      },
      "outputs": [
        {
          "output_type": "execute_result",
          "data": {
            "text/plain": [
              "['1.0', 'INTRODUCTION', 'Gandhi', 'is', 'a']"
            ]
          },
          "metadata": {},
          "execution_count": 36
        }
      ],
      "source": [
        "#estrazione capitoli\n",
        "\n",
        "def get_chapter(text):\n",
        "  i=0\n",
        "  pos_chapters = []\n",
        "  chapters = ['1.0','2.0','3.0','4.0','5.0','6.0','7.0','8.0','9.0','10.0']\n",
        "  ch = 1\n",
        "\n",
        "  #cambiare text[0] con tutto il testo\n",
        "  \n",
        "  for t in text:\n",
        "    for e in chapters:\n",
        "      if e in t and str(ch) in e and \")\" not in (text)[i+1:i+10]:\n",
        "        #print(t + \"\\t\")\n",
        "        #print(str(ch) + \".0\\n-----------\")\n",
        "        ch += 1\n",
        "        pos_chapters.append(i)\n",
        "    i += 1\n",
        "\n",
        "  chapterText = []\n",
        "\n",
        "  i = 1\n",
        "  while i < ch-1:\n",
        "    chapterText.append((text)[pos_chapters[i-1]:pos_chapters[i]-1])\n",
        "    i += 1\n",
        "\n",
        "  chapterText.append((text)[pos_chapters[i-1]:]) \n",
        "  \n",
        "  return pos_chapters,ch\n",
        "\n",
        "def get_text_in_chapter(text):\n",
        "  i=0\n",
        "  pos_chapters = []\n",
        "  chapters = ['1.0','2.0','3.0','4.0','5.0','6.0','7.0','8.0','9.0','10.0']\n",
        "  ch = 1\n",
        "\n",
        "  #cambiare text[0] con tutto il testo\n",
        "  \n",
        "  for t in text:\n",
        "    for e in chapters:\n",
        "      if e in t and str(ch) in e and \")\" not in (text)[i+1:i+10]:\n",
        "        #print(t + \"\\t\")\n",
        "        #print(str(ch) + \".0\\n-----------\")\n",
        "        ch += 1\n",
        "        pos_chapters.append(i)\n",
        "    i += 1\n",
        "\n",
        "  chapterText = []\n",
        "\n",
        "  i = 1\n",
        "  while i < ch-1:\n",
        "    chapterText.append((text)[pos_chapters[i-1]:pos_chapters[i]-1])\n",
        "    i += 1\n",
        "\n",
        "  chapterText.append((text)[pos_chapters[i-1]:]) \n",
        "  \n",
        "  return chapterText\n",
        "\n",
        "get_chapter(token_list[2])\n",
        "get_text_in_chapter(token_list[2])[0][:5]"
      ]
    },
    {
      "cell_type": "code",
      "execution_count": null,
      "metadata": {
        "colab": {
          "base_uri": "https://localhost:8080/"
        },
        "id": "q7s1TMQ_Df3j",
        "outputId": "866589be-bac4-41d1-f5ab-f4f8a7cda395"
      },
      "outputs": [
        {
          "output_type": "stream",
          "name": "stdout",
          "text": [
            "4168   1\n",
            "1371   2\n",
            "57   3\n",
            "9760   4\n",
            "1107   5\n",
            "2472   6\n",
            "738   7\n",
            "20303   8\n"
          ]
        }
      ],
      "source": [
        "#estrazione token per capitolo\n",
        "\n",
        "def len_chapter(text):\n",
        "  pos_chapters,ch = get_chapter(text)\n",
        "\n",
        "  chapterText = []\n",
        "\n",
        "  i = 1\n",
        "  \n",
        "  while i < ch-1:\n",
        "    chapterText.append(text[pos_chapters[i-1]:pos_chapters[i]-1])\n",
        "    i += 1\n",
        "\n",
        "  chapterText.append(text[pos_chapters[i-1]:])\n",
        "\n",
        "  k = 0\n",
        "  for e in chapterText:\n",
        "    print(str(len(chapterText[k])) + \"   \" + str(k+1))\n",
        "    k += 1\n",
        "  \n",
        "len_chapter(token_list[0])\n",
        "\n"
      ]
    },
    {
      "cell_type": "markdown",
      "metadata": {
        "id": "7zpsJn9dDoE5"
      },
      "source": [
        "#Pulizia"
      ]
    },
    {
      "cell_type": "code",
      "execution_count": null,
      "metadata": {
        "colab": {
          "base_uri": "https://localhost:8080/"
        },
        "id": "pbmXXKhIDrAo",
        "outputId": "66fb96a7-4f4e-4496-aac3-2011dadf4596"
      },
      "outputs": [
        {
          "output_type": "execute_result",
          "data": {
            "text/plain": [
              "8"
            ]
          },
          "metadata": {},
          "execution_count": 38
        }
      ],
      "source": [
        "#rimozione punteggiatura\n",
        "\n",
        "def clean_chaptertext(text):\n",
        "\n",
        "  clean_chapter = []\n",
        "\n",
        "  for ch in text:\n",
        "    clean_tokens = [x for x in ch if x not in punctuation]\n",
        "    clean_chapter.append(clean_tokens)\n",
        "  return clean_chapter\n",
        "\n",
        "\n",
        "len(clean_chaptertext(get_text_in_chapter(token_list[0])))"
      ]
    },
    {
      "cell_type": "markdown",
      "metadata": {
        "id": "gwC9zwQfD9Ue"
      },
      "source": [
        "#Topic"
      ]
    },
    {
      "cell_type": "markdown",
      "metadata": {
        "id": "oC7ZTZNIEH7-"
      },
      "source": [
        "##Luogo"
      ]
    },
    {
      "cell_type": "code",
      "execution_count": null,
      "metadata": {
        "colab": {
          "base_uri": "https://localhost:8080/"
        },
        "id": "GThwML6cEME1",
        "outputId": "5f1655ac-29e0-4645-dfb7-eaafe9a8323b"
      },
      "outputs": [
        {
          "output_type": "stream",
          "name": "stdout",
          "text": [
            "/content/Information-Retrieval-Project/Rules/PDG_Rules_FINAL.pdf\n",
            "Britain\n",
            "/content/Information-Retrieval-Project/Rules/LOD_Rules_Aug2016.pdf\n",
            "America\n",
            "/content/Information-Retrieval-Project/Rules/GandhiRulesFINALLo-Res.pdf\n",
            "India\n",
            "/content/Information-Retrieval-Project/Rules/FireLake-RULES-2018.pdf\n",
            "Vietnam\n",
            "/content/Information-Retrieval-Project/Rules/FS_Rules_2018.pdf\n",
            "Gaul\n",
            "/content/Information-Retrieval-Project/Rules/ColTwi-RULES-LR-May2018.pdf\n",
            "Algeria\n",
            "/content/Information-Retrieval-Project/Rules/CL-RULES-2019-LivingRules.pdf\n",
            "Cuba\n",
            "/content/Information-Retrieval-Project/Rules/ADP-RULES-2015.pdf\n",
            "Afghanistan\n",
            "/content/Information-Retrieval-Project/Rules/ABBLivingRulesNov-20.pdf\n",
            "Finland\n",
            "/content/Information-Retrieval-Project/Rules/A-RULES-2018-FINAL.pdf\n",
            "Colombia\n",
            "['Place', 'Britain', 'America', 'India', 'Vietnam', 'Gaul', 'Algeria', 'Cuba', 'Afghanistan', 'Finland', 'Colombia']\n"
          ]
        }
      ],
      "source": [
        "def get_country(text, path):\n",
        "  place = ['Place']\n",
        "  country_list = [\"Afghanistan\",\"Albania\",\"Algeria\", \"America\", \"Andorra\",\"Angola\",\"Anguilla\",\"Antigua & Barbuda\",\"Argentina\",\"Armenia\",\"Aruba\",\"Australia\",\"Austria\",\"Azerbaijan\",\"Bahamas\",\"Bahrain\",\"Bangladesh\",\"Barbados\",\"Belarus\",\"Belgium\",\"Belize\",\"Benin\",\"Bermuda\",\"Bhutan\",\"Bolivia\",\"Bosnia & Herzegovina\",\"Botswana\",\"Brazil\", \"Britain\", \"British Virgin Islands\",\"Brunei\",\"Bulgaria\",\"Burkina Faso\",\"Burundi\",\"Cambodia\",\"Cameroon\",\"Cape Verde\",\"Cayman Islands\",\"Chad\",\"Chile\",\"China\",\"Colombia\",\"Congo\",\"Cook Islands\",\"Costa Rica\",\"Cote D Ivoire\",\"Croatia\",\"Cruise Ship\",\"Cuba\",\"Cyprus\",\"Czech Republic\",\"Denmark\",\"Djibouti\",\"Dominica\",\"Dominican Republic\",\"Ecuador\",\"Egypt\",\"El Salvador\",\"Equatorial Guinea\",\"Estonia\",\"Ethiopia\",\"Falkland Islands\",\"Faroe Islands\",\"Fiji\",\"Finland\",\"France\",\"French Polynesia\",\"French West Indies\",\"Gabon\",\"Gambia\", \"Gaul\",\"Georgia\",\"Germany\",\"Ghana\",\"Gibraltar\",\"Greece\",\"Greenland\",\"Grenada\",\"Guam\",\"Guatemala\",\"Guernsey\",\"Guinea\",\"Guinea Bissau\",\"Guyana\",\"Haiti\",\"Honduras\",\"Hong Kong\",\"Hungary\",\"Iceland\",\"India\",\"Indonesia\",\"Iran\",\"Iraq\",\"Ireland\",\"Isle of Man\",\"Israel\",\"Italy\",\"Jamaica\",\"Japan\",\"Jersey\",\"Jordan\",\"Kazakhstan\",\"Kenya\",\"Kuwait\",\"Kyrgyz Republic\",\"Laos\",\"Latvia\",\"Lebanon\",\"Lesotho\",\"Liberia\",\"Libya\",\"Liechtenstein\",\"Lithuania\",\"Luxembourg\",\"Macau\",\"Macedonia\",\"Madagascar\",\"Malawi\",\"Malaysia\",\"Maldives\",\"Mali\",\"Malta\",\"Mauritania\",\"Mauritius\",\"Mexico\",\"Moldova\",\"Monaco\",\"Mongolia\",\"Montenegro\",\"Montserrat\",\"Morocco\",\"Mozambique\",\"Namibia\",\"Nepal\",\"Netherlands\",\"Netherlands Antilles\",\"New Caledonia\",\"New Zealand\",\"Nicaragua\",\"Niger\",\"Nigeria\",\"Norway\",\"Oman\",\"Pakistan\",\"Palestine\",\"Panama\",\"Papua New Guinea\",\"Paraguay\",\"Peru\",\"Philippines\",\"Poland\",\"Portugal\",\"Puerto Rico\",\"Qatar\",\"Reunion\", \"Romania\",\"Russia\",\"Rwanda\",\"Saint Pierre &amp; Miquelon\",\"Samoa\",\"San Marino\",\"Satellite\",\"Saudi Arabia\",\"Senegal\",\"Serbia\",\"Seychelles\",\"Sierra Leone\",\"Singapore\",\"Slovakia\",\"Slovenia\",\"South Africa\",\"South Korea\",\"Spain\",\"Sri Lanka\",\"St Kitts &amp; Nevis\",\"St Lucia\",\"St Vincent\",\"St. Lucia\",\"Sudan\",\"Suriname\",\"Swaziland\",\"Sweden\",\"Switzerland\",\"Syria\",\"Taiwan\",\"Tajikistan\",\"Tanzania\",\"Thailand\",\"Timor L'Este\",\"Togo\",\"Tonga\",\"Trinidad &amp; Tobago\",\"Tunisia\",\"Turkey\",\"Turkmenistan\",\"Turks & Caicos\",\"Uganda\",\"Ukraine\",\"United Arab Emirates\",\"United Kingdom\",\"Uruguay\",\"Uzbekistan\",\"Venezuela\",\"Vietnam\",\"Virgin Islands (US)\",\"Yemen\",\"Zambia\",\"Zimbabwe\"]\n",
        "\n",
        "  c=0\n",
        "  for k in range(len(path)):\n",
        "    print(path[c])\n",
        "    c+=1\n",
        "    for e in clean_chaptertext(get_text_in_chapter(text[k]))[0]:\n",
        "      if e in country_list:\n",
        "        \n",
        "        print(e)\n",
        "        place.append(e)\n",
        "        break\n",
        "  print(place)\n",
        "  return place\n",
        "\n",
        "topic_luogo = get_country(token_list,path_list)\n",
        "\n"
      ]
    },
    {
      "cell_type": "markdown",
      "metadata": {
        "id": "LvyzrK7cEMUo"
      },
      "source": [
        "##Periodo storico"
      ]
    },
    {
      "cell_type": "code",
      "execution_count": null,
      "metadata": {
        "colab": {
          "base_uri": "https://localhost:8080/"
        },
        "id": "TPbohgG8EMi2",
        "outputId": "3732c0a1-1fd7-4447-d4e9-1b70c89f3e22"
      },
      "outputs": [
        {
          "output_type": "stream",
          "name": "stdout",
          "text": [
            "/content/Information-Retrieval-Project/Rules/PDG_Rules_FINAL.pdf\n",
            "400-500\n",
            "/content/Information-Retrieval-Project/Rules/LOD_Rules_Aug2016.pdf\n",
            "1775-1783\n",
            "/content/Information-Retrieval-Project/Rules/GandhiRulesFINALLo-Res.pdf\n",
            "1917-1947\n",
            "/content/Information-Retrieval-Project/Rules/FireLake-RULES-2018.pdf\n",
            "1964-1972\n",
            "/content/Information-Retrieval-Project/Rules/FS_Rules_2018.pdf\n",
            "/content/Information-Retrieval-Project/Rules/ColTwi-RULES-LR-May2018.pdf\n",
            "1954-62\n",
            "/content/Information-Retrieval-Project/Rules/CL-RULES-2019-LivingRules.pdf\n",
            "1957-1958\n",
            "/content/Information-Retrieval-Project/Rules/ADP-RULES-2015.pdf\n",
            "/content/Information-Retrieval-Project/Rules/ABBLivingRulesNov-20.pdf\n",
            "1917-1918\n",
            "/content/Information-Retrieval-Project/Rules/A-RULES-2018-FINAL.pdf\n",
            "['Period', '400-500', '1775-1783', '1917-1947', '1964-1972', None, '1954-62', '1957-1958', None, '1917-1918', '1990-2000']\n"
          ]
        }
      ],
      "source": [
        "def cent_to_year(cent):\n",
        "  return str(cent*100-100)+'-'+str((cent*100))\n",
        "\n",
        "period = ['Period']\n",
        "def get_period(text, path):\n",
        "  years = []\n",
        "  p=-1;\n",
        "  c=0\n",
        "  appeso = False\n",
        "\n",
        "  for k in range(len(path)):\n",
        "    appeso = False\n",
        "    print(path[c])\n",
        "    c+=1\n",
        "    for e in clean_chaptertext(get_text_in_chapter(text[k]))[0]:\n",
        "      p+=1\n",
        "      if \"-\" in e:\n",
        "        num = e.split('-')\n",
        "        if num[0].isnumeric() and int(num[0])>100  and num[1].isnumeric()  :\n",
        "          period.append(e)\n",
        "          appeso = True\n",
        "          print(e)\n",
        "      elif e[-1] == 's' and e[:-1].isnumeric():\n",
        "        years.append(e)\n",
        "      elif 'Century' in e:\n",
        "        cent = (clean_chaptertext(get_text_in_chapter(text[k]))[0][p-1:p+1][0])\n",
        "        period.append(cent_to_year(int(cent.replace('th',''))))\n",
        "        appeso = True\n",
        "        print(cent_to_year(int(cent.replace('th',''))))\n",
        "      elif 'from' in e:\n",
        "        if (clean_chaptertext(get_text_in_chapter(text[k]))[0][p]).isnumeric():\n",
        "          if(int(clean_chaptertext(get_text_in_chapter(text[k]))[0][p])):\n",
        "              try:\n",
        "                period.append(clean_chaptertext(get_text_in_chapter(text[k]))[0][p]+'-'+clean_chaptertext(get_text_in_chapter(text[k]))[0][p+2])\n",
        "                appeso = True\n",
        "                print(clean_chaptertext(get_text_in_chapter(text[k]))[0][p]+'-'+clean_chaptertext(get_text_in_chapter(text[k]))[0][p+2])\n",
        "              except IndexError:\n",
        "                print('')\n",
        "    p=0\n",
        "    if len(years)==2: \n",
        "        period.append(years[0].replace('s','')+'-'+years[1].replace('s',''))\n",
        "        appeso = True\n",
        "\n",
        "    if appeso == False:\n",
        "      period.append(None)\n",
        "        \n",
        "  print(period)\n",
        "  return period\n",
        "\n",
        "topic_periodo = get_period(token_list,path_list)\n"
      ]
    },
    {
      "cell_type": "markdown",
      "metadata": {
        "id": "HdPcvNyIEMpk"
      },
      "source": [
        "##Numero giocatori *(non usato)*"
      ]
    },
    {
      "cell_type": "code",
      "execution_count": null,
      "metadata": {
        "colab": {
          "base_uri": "https://localhost:8080/"
        },
        "id": "aC-RVka9EMu4",
        "outputId": "eb9bc622-55d7-423c-9207-611e6b0724bd"
      },
      "outputs": [
        {
          "output_type": "stream",
          "name": "stdout",
          "text": [
            "/content/Information-Retrieval-Project/Rules/PDG_Rules_FINAL.pdf\n",
            "1-4\n",
            "/content/Information-Retrieval-Project/Rules/LOD_Rules_Aug2016.pdf\n",
            "1-4\n",
            "/content/Information-Retrieval-Project/Rules/GandhiRulesFINALLo-Res.pdf\n",
            "1-4\n",
            "/content/Information-Retrieval-Project/Rules/FireLake-RULES-2018.pdf\n",
            "1-4\n",
            "/content/Information-Retrieval-Project/Rules/FS_Rules_2018.pdf\n",
            "1-4\n",
            "/content/Information-Retrieval-Project/Rules/ColTwi-RULES-LR-May2018.pdf\n",
            "2\n",
            "/content/Information-Retrieval-Project/Rules/CL-RULES-2019-LivingRules.pdf\n",
            "1-4\n",
            "/content/Information-Retrieval-Project/Rules/ADP-RULES-2015.pdf\n",
            "1-4\n",
            "/content/Information-Retrieval-Project/Rules/ABBLivingRulesNov-20.pdf\n",
            "3\n",
            "/content/Information-Retrieval-Project/Rules/A-RULES-2018-FINAL.pdf\n",
            "1-4\n",
            "['Number of Players', '1-4', '1-4', '1-4', '1-4', '1-4', '2', '1-4', '1-4', '3', '1-4']\n"
          ]
        }
      ],
      "source": [
        "def get_players(text,path):\n",
        "\n",
        "  players_text = []\n",
        "  players = ['Number of Players']\n",
        "  p=-1\n",
        "  for k in range(len(path)):\n",
        "    print(path[k])\n",
        "    for e in (clean_chaptertext(get_text_in_chapter(text[k]))[0]):\n",
        "      p+=1\n",
        "      if 'player'  in e :\n",
        "        #players_text.append((clean_chaptertext(get_text_in_chapter(token_list[k]))[0][p-3:p]))\n",
        "        for k in ((clean_chaptertext(get_text_in_chapter(text[k]))[0][p-3:p])):\n",
        "          if k in ['to','a','is','for','player','players']:\n",
        "            players_text.append('-')\n",
        "          elif 'player' in k:\n",
        "            players_text.append(k.replace('-player',''))\n",
        "          else:\n",
        "            try:\n",
        "              players_text.append(w2n.word_to_num(k))\n",
        "            except ValueError:\n",
        "              players_text.append(k)\n",
        "        \n",
        "        pl = (''.join(str(x) for x in set(players_text)-set('-')))\n",
        "        if '4' in pl:\n",
        "          players.append('1-4')\n",
        "          print(('1-4'))\n",
        "        else:\n",
        "          players.append(pl)\n",
        "          print(pl)\n",
        "        #if len(pl)>1:\n",
        "        #  if '-' not in pl:\n",
        "        #    print(pl[0]+'-'+pl[1])\n",
        "        #  else: \n",
        "        #    try:\n",
        "        #      if ( int(pl[0]) > int(pl[1]) ):\n",
        "        #        print(pl[1]+'-'+pl[0]) \n",
        "        #      else:\n",
        "        #        print(pl)\n",
        "        #    except ValueError:\n",
        "        #      print(pl)\n",
        "        #else: \n",
        "        #  if (len(pl)==1):\n",
        "        #    if (int(pl)>3):\n",
        "        #      print(''+pl)\n",
        "        #print(pl) #caso in cui c è solo un numero\n",
        "        players_text.clear()\n",
        "        p=0\n",
        "        break\n",
        "\n",
        "  print(players)\n",
        "  return players\n",
        "\n",
        "topic_giocatori = get_players(token_list,path_list)\n"
      ]
    },
    {
      "cell_type": "markdown",
      "metadata": {
        "id": "X23Ktm16EM0O"
      },
      "source": [
        "##Fazioni"
      ]
    },
    {
      "cell_type": "code",
      "execution_count": null,
      "metadata": {
        "colab": {
          "base_uri": "https://localhost:8080/"
        },
        "id": "wWCmaA9XEM5q",
        "outputId": "3a0e467e-c176-413f-86ca-d7c0bf1f3f63"
      },
      "outputs": [
        {
          "output_type": "execute_result",
          "data": {
            "text/plain": [
              "['Factions',\n",
              " ' Dux  Civitates  Saxons  Scotti',\n",
              " ' Indians  British  Patriots  French',\n",
              " '',\n",
              " ' US  VC  NVA  ARVN',\n",
              " 'Roman Republic Aedui Confederation Arverni Confederation Belgic Tribes Germanic Tribes',\n",
              " ' Algeria metropolitan France',\n",
              " ' Syndicate  Directorio  Government',\n",
              " ' Coalition  Government  Taliban  Warlords',\n",
              " ' Reds  Russia  Germany  Senate  Moderates',\n",
              " ' AUC  Cartels  Government  FARC']"
            ]
          },
          "metadata": {},
          "execution_count": 42
        }
      ],
      "source": [
        "from types import prepare_class\n",
        "def get_factions(text,path):\n",
        "  factions = []\n",
        "  faction = ['Factions']\n",
        "  f = []\n",
        "  ff = []\n",
        "\n",
        "  lista_ban = ['Control', 'Resources', 'one', 'are', 'by','coun-','Non-player']\n",
        "  \n",
        "  for p in range(len(path)):\n",
        "    #print(path[p])\n",
        "    c=-1\n",
        "    for k in text[p]:\n",
        "        c+=1\n",
        "        if 'Players' in k and 'Factions' in text[p][c+2]:\n",
        "            #print(text[p][c+3:c+100])\n",
        "            cap = text[p][c+3:c+100]\n",
        "    for c, value in enumerate(cap, start=1):\n",
        "      try:\n",
        "        precc = cap[c-2]\n",
        "        prec = cap[c-3]\n",
        "        #if ('(' in value and (wn.synsets(prec)[0].pos() is 'n' or prec.isupper()) ):\n",
        "        if '(' in value  :\n",
        "          if ( prec not in string.punctuation and precc not in string.punctuation and not prec.isdigit() and not precc.isdigit() ):\n",
        "            if prec not in lista_ban and precc not in lista_ban:\n",
        "          #if  prec.isupper() or wn.synsets(prec)[0].pos() is 'n':\n",
        "              #print(prec,precc)\n",
        "              factions.append(prec+' '+precc)\n",
        "       \n",
        "      except IndexError: err=0\n",
        "    factions = [item.replace(\"and\", \"the\") for item in factions]\n",
        "    factions = [item.replace(\"•\", \"the\") for item in factions]\n",
        "    factions = [item.replace(\"the\", \"\") for item in factions]\n",
        "    #print(factions)\n",
        "\n",
        "    faction.append(str(list(set(factions))).replace(',','').replace('[','').replace(']','').replace(\"'\",''))\n",
        "    factions.clear()\n",
        "\n",
        "  #print(faction)\n",
        "  return [ x if x != [] else ''  for x in faction ]\n",
        "\n",
        "topic_fazioni = get_factions(token_list,path_list)\n",
        "topic_fazioni\n",
        "#get_chapter(token_list[2])\n"
      ]
    },
    {
      "cell_type": "markdown",
      "metadata": {
        "id": "KQ0CEfYlEnJv"
      },
      "source": [
        "##Operazioni"
      ]
    },
    {
      "cell_type": "code",
      "execution_count": null,
      "metadata": {
        "colab": {
          "base_uri": "https://localhost:8080/"
        },
        "id": "0yiyz64_EnQG",
        "outputId": "9cd9d730-5f9a-42d7-a9e6-061964dafed1"
      },
      "outputs": [
        {
          "output_type": "stream",
          "name": "stderr",
          "text": [
            "[nltk_data] Downloading package omw-1.4 to /root/nltk_data...\n",
            "[nltk_data]   Package omw-1.4 is already up-to-date!\n"
          ]
        },
        {
          "output_type": "execute_result",
          "data": {
            "text/plain": [
              "['Operations',\n",
              " 'Training Marching Mustering Returning Battle Mark Raiding Trading Intercepting',\n",
              " 'Muster March Scout Gather Garrison Battle Raid Rally Attacker',\n",
              " 'March Assault Deploy Unrest Players Sweep Garrison Attack Rally Demonstrate',\n",
              " 'March Training Sweeps Assaults Terror Attack Rally Patrolling',\n",
              " 'Marching Raids Seizure Recruiting Mark Rally',\n",
              " 'March Training Sweeps Assaults Terror Attack Garrisoning Rally',\n",
              " 'March Training Assault Terror Players Sweep Garrison Attack Construct Rally',\n",
              " 'March Training Then Assaults Terror Players Sweep Attack Rally Patrolling',\n",
              " 'March Politics Message Attack Negotiate Activism Rally',\n",
              " 'March Training Assault Terror Players Sweep Attack Patrol Rally']"
            ]
          },
          "metadata": {},
          "execution_count": 43
        }
      ],
      "source": [
        "import nltk\n",
        "nltk.download('omw-1.4')\n",
        "\n",
        "def is_float(string):\n",
        "  try:\n",
        "    return float(string) and '.' in string  # True if string is a number contains a dot\n",
        "  except ValueError:  # String is not a number\n",
        "    return False\n",
        "    \n",
        "def has_numbers(inputString):\n",
        "    return any(char.isdigit() for char in inputString)\n",
        "\n",
        "def get_operation(text,path):\n",
        "  op = ['Operations']\n",
        "  for p in range(len(path)):\n",
        "    #print(path[p])\n",
        "    cap3 = 0\n",
        "    cap4 = 0\n",
        "    t = []\n",
        "    lista_ban = ['Players', 'Then']\n",
        "\n",
        "    for k in text[p]:\n",
        "        cap3 = get_chapter(text[p])[0][2]\n",
        "        cap4 = get_chapter(text[p])[0][3]\n",
        "        if len(token_list[p][cap3:cap4])<100:\n",
        "          cap4 = get_chapter(text[p])[0][4]\n",
        "        #print((token_list[p][cap3:cap4]))\n",
        "        break\n",
        "    for k, value in enumerate(token_list[p][cap3:cap4], start=1):\n",
        "      try:\n",
        "        prec = token_list[p][cap3:cap4][k-1]\n",
        "        suc = token_list[p][cap3:cap4][k+1]\n",
        "        succ = token_list[p][cap3:cap4][k+2]\n",
        "        if '.'  in value[1] and '.' in value[3] and '3' in value[0] and '.' in prec and  '.' is suc and len(succ)>3 and not has_numbers(succ) and succ.istitle() and (wn.synsets(succ)[0].pos() is 'n' or wn.synsets(succ)[0].pos() is 'v'):\n",
        "            if t not in lista_ban:\n",
        "              t.append(succ)\n",
        "              #print(succ)\n",
        "      except IndexError: cc=0\n",
        "    op.append(str(list(set(t))).replace(',','').replace('[','').replace(']','').replace(\"'\",''))\n",
        "\n",
        "    #print(set(t))\n",
        "    t.clear()\n",
        "      #print(t)\n",
        "      #t.clear()\n",
        "  return op\n",
        "    \n",
        "topic_op = get_operation(token_list,path_list)\n",
        "get_operation(token_list,path_list)\n"
      ]
    },
    {
      "cell_type": "markdown",
      "metadata": {
        "id": "mDHwHN4bEnYv"
      },
      "source": [
        "##Attività speciali"
      ]
    },
    {
      "cell_type": "code",
      "execution_count": null,
      "metadata": {
        "colab": {
          "base_uri": "https://localhost:8080/"
        },
        "id": "Gu6sF4oFEnfX",
        "outputId": "4018d372-19ca-44f3-91f0-0ba8527869cd"
      },
      "outputs": [
        {
          "output_type": "execute_result",
          "data": {
            "text/plain": [
              "['Special Activities',\n",
              " 'Ravaging Settling Ruling Pillaging Reinforcing Ransoming Retaliation Entreating Surprise Invitation Building Requisition',\n",
              " 'Trade Plunder Persuasion Partisans Skirmish',\n",
              " 'Satyagraha Govern Persuade Negotiate Assassinate Treaty Infiltrate',\n",
              " 'Subversion Taxation Events Advise Ambush Infiltration Bombardment Governing Raiding Transport',\n",
              " 'Scouting Entreaties Trade Rampaging Devastation Enlist Ambush Suborning Besieging Building',\n",
              " '',\n",
              " 'Subversion Profiting Reprisal Bribe Infiltration Muscle Kidnapping Assassination Transport',\n",
              " 'Eradication Suborn Cultivation Ambush Trafficking Infiltration Governing Extortion Surge Transport',\n",
              " 'Prepare Dialogue Publish',\n",
              " 'Eradication Cultivation Processing Kidnapping Assassination Extortion Bribes']"
            ]
          },
          "metadata": {},
          "execution_count": 44
        }
      ],
      "source": [
        "def get_specialact(text,path):\n",
        "\n",
        "  spec = ['Special Activities']\n",
        "  for p in range(len(path)):\n",
        "    #print(path[p])\n",
        "    t = []\n",
        "\n",
        "    for k in text[p]:\n",
        "        cap3 = get_chapter(text[p])[0][3]\n",
        "        cap4 = get_chapter(text[p])[0][4]\n",
        "        #print(token_list[p][cap3:cap4])\n",
        "        break\n",
        "    for k, value in enumerate(token_list[p][cap3:cap4], start=1):\n",
        "      try:\n",
        "        prec = token_list[p][cap3:cap4][k-1]\n",
        "        suc = token_list[p][cap3:cap4][k+1]\n",
        "        succ = token_list[p][cap3:cap4][k+2]\n",
        "        if '.'  in value[1] and '.' in value[3] and '4' in value[0] and '.' in prec and  '.' is suc and len(succ)>4 and not has_numbers(succ) and succ.istitle() and (wn.synsets(succ)[0].pos() is 'n' or wn.synsets(succ)[0].pos() is 'v'):\n",
        "          t.append(succ)\n",
        "          #print(succ)\n",
        "      except IndexError: cc=0\n",
        "    spec.append(str(list(set(t))).replace(',','').replace('[','').replace(']','').replace(\"'\",''))\n",
        "    #print(set(t))\n",
        "    t.clear()\n",
        "      #print(t)\n",
        "      #t.clear()\n",
        "  return [ x if x != [] else ''  for x in spec ]\n",
        "topic_specact = get_specialact(token_list,path_list)\n",
        "get_specialact(token_list,path_list)\n",
        "\n",
        "\n"
      ]
    },
    {
      "cell_type": "markdown",
      "metadata": {
        "id": "KKpGFwWtEnmF"
      },
      "source": [
        "##Mappa"
      ]
    },
    {
      "cell_type": "code",
      "execution_count": null,
      "metadata": {
        "colab": {
          "base_uri": "https://localhost:8080/"
        },
        "id": "X6OtglFKEnsV",
        "outputId": "ca107b07-9c3d-4aa7-acd3-6887b19a88ec"
      },
      "outputs": [
        {
          "output_type": "execute_result",
          "data": {
            "text/plain": [
              "['Map',\n",
              " 'a map of late-Roman Britain and environs divided into Region',\n",
              " 'the British Colonies of North America and neighboring Provinces divided into various types of spaces',\n",
              " 'the British colony of India divided into various spaces',\n",
              " 'South Vietnam and nearby areas divided into various types of spaces',\n",
              " 'a map of Gaul and environs',\n",
              " 'Algeria and nearby areas divided into various types of spaces',\n",
              " 'the island of Cuba divided into various types of spaces',\n",
              " 'the country of Afghanistan divided into various types of spaces',\n",
              " 'central and southern Finland divided into two types of spaces',\n",
              " 'the country of Colombia divided into various types of spaces']"
            ]
          },
          "metadata": {},
          "execution_count": 45
        }
      ],
      "source": [
        "def get_map(text,path):\n",
        "  map = ['Map']\n",
        "  mapp = []\n",
        "  for p in range(len(path)):\n",
        "    #print(path[p])\n",
        "    t = []\n",
        "\n",
        "    for k in text[p]:\n",
        "        cap0 = get_chapter(text[p])[0][0]\n",
        "        cap1 = get_chapter(text[p])[0][1]\n",
        "        #print(token_list[p][cap0:cap1])\n",
        "        break\n",
        "    for k, value in enumerate(token_list[p][cap0:cap1], start=1):\n",
        "      try:\n",
        "        prec_text = token_list[p][cap0:cap1][k-10:k]\n",
        "        succ_text = token_list[p][cap0:cap1][k+3:k+30]\n",
        "        if 'Map' in value:\n",
        "          for x in prec_text:\n",
        "            if x in ['1.2','1.3']:\n",
        "              for v in succ_text:\n",
        "                if v in punctuation:\n",
        "                  break\n",
        "                else:\n",
        "                  mapp.append(v)\n",
        "                  #print(v)\n",
        "              break\n",
        "        \n",
        "      except IndexError as e:  cc=0 \n",
        "    try: mapp.remove('shows')\n",
        "    except ValueError as e: cc=0\n",
        "    map.append(\" \".join(mapp))\n",
        "\n",
        "    mapp.clear()\n",
        "       #except ValueError: \n",
        "  return map\n",
        "    #print(set(t))\n",
        "    #t.clear()\n",
        "      #print(t)\n",
        "      #t.clear()\n",
        "topic_map = get_map(token_list,path_list)\n",
        "get_map(token_list,path_list)\n",
        "\n"
      ]
    },
    {
      "cell_type": "markdown",
      "metadata": {
        "id": "KMPTc-uuEnym"
      },
      "source": [
        "##Aree"
      ]
    },
    {
      "cell_type": "code",
      "execution_count": null,
      "metadata": {
        "colab": {
          "base_uri": "https://localhost:8080/"
        },
        "id": "l2Q6gAj8En41",
        "outputId": "75ceacd0-c484-4461-e054-443424c61a71"
      },
      "outputs": [
        {
          "output_type": "execute_result",
          "data": {
            "text/plain": [
              "['Area',\n",
              " 'marsh mountains',\n",
              " 'rural',\n",
              " '',\n",
              " 'mountains rural forest',\n",
              " '',\n",
              " 'rural',\n",
              " 'rural forest',\n",
              " 'rural',\n",
              " 'industrial rural urban',\n",
              " 'rural forest']"
            ]
          },
          "metadata": {},
          "execution_count": 46
        }
      ],
      "source": [
        "def get_area(text,path):\n",
        "  map = ['Area']\n",
        "  mapp = []\n",
        "  for k,p in enumerate(range(len(path))):\n",
        "    #print(k,path[p])\n",
        "    t = []\n",
        "\n",
        "    for k in text[p]:\n",
        "        cap0 = get_chapter(text[p])[0][0]\n",
        "        cap1 = get_chapter(text[p])[0][1]\n",
        "        #print(token_list[p][cap0:cap1])\n",
        "        break\n",
        "    for k, value in enumerate(token_list[p][cap0:cap1], start=1):\n",
        "      try:\n",
        "        prec_text = token_list[p][cap0:cap1][k-10:k]\n",
        "        succ_text = token_list[p][cap0:cap1][k:k+20]\n",
        "        #if value.lower() == 'terrain':\n",
        "        #  mapp.append(' '.join(succ_text))\n",
        "        if value.lower() in ['forest','jungle']:\n",
        "          mapp.append('forest')\n",
        "        if value.lower() in ['rural','lowland','grassland']:\n",
        "          mapp.append('rural')\n",
        "        if value.lower () in ['fens']:\n",
        "          mapp.append('marsh')\n",
        "        if value.lower() in ['mountains','hills','highland']:\n",
        "          mapp.append('mountains')\n",
        "        if value.lower() in ['urbanization']:\n",
        "          mapp.append('urban')\n",
        "        if value.lower() in ['industrialization']:\n",
        "          mapp.append('industrial')\n",
        "        \n",
        "        \n",
        "      except IndexError as e:  cc=0 \n",
        "    \n",
        "    map.append(str(list(set(mapp))).replace(',','').replace('[','').replace(']','').replace(\"'\",''))\n",
        "    mapp.clear()\n",
        "       #except ValueError: \n",
        "  return [ x if x != [] else ''  for x in map ]\n",
        "  #return map\n",
        "    #print(set(t))\n",
        "    #t.clear()\n",
        "      #print(t)\n",
        "      #t.clear()\n",
        "#topic_map = get_area(token_list,path_list)\n",
        "topic_area = get_area(token_list,path_list)\n",
        "get_area(token_list,path_list)\n",
        "\n",
        "#manca la parte che stampa fino al punto o virgola\n"
      ]
    },
    {
      "cell_type": "markdown",
      "metadata": {
        "id": "UF-QvpBOEn_i"
      },
      "source": [
        "##Vicenda"
      ]
    },
    {
      "cell_type": "code",
      "execution_count": null,
      "metadata": {
        "colab": {
          "base_uri": "https://localhost:8080/"
        },
        "id": "8HqqkA25EoE2",
        "outputId": "84771874-078c-45b8-f757-72080dea2636"
      },
      "outputs": [
        {
          "output_type": "stream",
          "name": "stdout",
          "text": [
            "/content/Information-Retrieval-Project/Rules/PDG_Rules_FINAL.pdf\n",
            "['1.0', 'Introduction', 'Pendragon', 'is', 'a', 'board', 'game', 'about', 'the', 'fall', 'of', 'the', 'Roman', 'Diocese', 'of', 'Britain', ',', 'from', 'the', 'first', 'large-scale', 'raids', 'of', 'Irish', ',', 'Pict', ',', 'and', 'Saxon', 'raiders', 'to', 'the', 'establishment', 'of', 'successor', 'kingdoms', ',', 'both', 'Celtic', 'and', 'Germanic', '.', 'It', 'adapts', 'GMT', 'Games', '’', '“', 'COIN', 'Series', '”', 'game', 'system', 'about', 'asymmetrical', 'conflicts', 'to', 'depict', 'the', 'political', ',', 'military', ',', 'religious', ',', 'and', 'economic', 'affairs', 'of', '5th', 'Century', 'Britain', '.', 'In', 'Pendragon', ',', 'one', 'to', 'four', 'players', 'each', 'take', 'the', 'roles', 'of', 'one', 'or', 'more', 'Factions', 'in', 'Britain', ':', 'the', 'post-Roman', 'army', 'in', 'Britain', 'seeking', 'to', 'maintain', 'imperial', 'order', 'and', 'perhaps', 'morphing', 'into', 'warlords', ';', 'the', 'landholding', 'civilian', 'aristocracy', 'of', 'the', 'Romanized', 'Celtic', 'Briton', 'tribes', 'aiming', 'to', 'recover', 'their', 'independence', 'while', 'preserving', 'their', 'lands', 'and', 'wealth', ',', 'the', 'Germanic', 'peoples', '(', 'Saxons', 'proper', ',', 'Angles', ',', 'Jutes', ',', 'and', 'others', ')', 'threatening', 'Britain', 'as', 'they', 'look', 'for', 'new', 'opportunities', 'across', 'the', 'North', 'Sea', ',', 'and', 'the', 'non-Romanized', 'Celtic', 'peoples', 'from', 'across', 'the', 'Irish', 'Sea', 'or', 'from', 'the', 'cold', 'North', '(', 'mainly', 'Irishmen', 'and', 'Caledonian', 'Picts', ')', 'eying', 'the', 'disintegrating', 'provinces', 'with', 'appetite', '.', 'Issuing', 'commands', 'and', 'exploiting', 'their', 'Factions', '’', 'special', 'actions', 'and', 'various', 'events', ',', 'players', 'build', 'and', 'maneuver', 'forces', 'to', 'influence', 'or', 'control', 'the', 'populations', 'of', 'Britain', ',', 'extract', 'resources', 'and', 'build', 'renown', ',', 'and', 'achieve', 'their', 'Factions', '’', 'aims', '.', 'Cards', 'regulate', 'turn', 'order', ',', 'events', ',', 'and', 'victory', 'checks', '.', 'The', 'game', '’', 's', 'most', 'important', 'functions', 'are', 'summarized', 'on', 'several', 'aid', 'sheets', '.', 'The', 'last', 'few', 'pages', 'of', 'this', 'rule', 'book', 'list', 'key', 'terms', 'in', 'an', 'index', 'and', 'explain', 'how', 'to', 'set', 'up', '.', 'New', 'players', 'should', 'start', 'with', 'the', 'tutorial', 'in', 'the', 'Playbook', '.', '1.1', 'General', 'Course', 'of', 'Play', 'In', 'Pendragon', ',', 'cards', 'are', 'played', 'from', 'the', 'deck', 'one', 'at', 'time', ',', 'with', 'one', 'card', 'ahead', 'revealed', 'to', 'all', 'players', '.', 'Each', 'Event', 'card', 'shows', 'the', 'order', 'in', 'which', 'the', 'Factions', 'become', 'Eligible', 'to', 'choose', 'either', 'that', 'Event', 'or', 'from', 'a', 'menu', 'of', 'Commands', 'and', 'Feats', '.', 'Executing', 'an', 'Event', 'or', 'Command', 'renders', 'that', 'Faction', 'Ineligible', 'to', 'do', 'so', 'on', 'the', 'next', 'card', '.', 'Epoch', 'cards', 'mixed', 'in', 'with', 'the', 'Event', 'cards', 'provide', 'periodic', 'opportunities', 'for', 'instant', 'wins', 'and', 'activities', 'such', 'as', 'collecting', 'resources', '.', '1.2', 'Components', 'A', 'complete', 'set', 'of', 'Pendragon', 'includes', 'the', 'following', ':', '•', 'A', '22', '”', 'x', '34', '”', 'game', 'board', '(', '1.3', ')', '•', 'A', 'deck', 'of', '83', 'playing', 'cards', '(', '5.0', ')', '•', '90', 'golden', 'Prosperity/Plunder', 'cubes', '(', '1.7', ')', '•', '102', 'Troop', 'cubes', '(', '20', 'red', '[', 'Cavalry', ']', ',', '30', 'light', 'blue', '[', 'Militia', ']', ',', '15', 'medium', 'blue', '[', 'Comitates', ']', ',', '12', 'green', '[', 'Scotti', 'Warbands', ']', ',', '25', 'black', '[', 'Saxon', 'Warbands', ']', ')', '(', '1.4', ')', '•', '55', 'Raider', 'triangular', 'cylinders', '(', '30', 'green', '[', 'Scotti', ']', ',', '25', 'black', '[', 'Saxon', ']', ')', '(', '1.4', ')', '•', '58', 'Stronghold', '“', 'castles', '”', '(', '10', 'red', '[', 'Forts', ']', ',', '15', 'light', 'blue', '[', 'Towns', ']', ',', '15', 'medium', 'blue', '[', 'Hillforts', ']', ',', '6', 'green', '[', 'Scotti', 'Settlements', ']', ',', '12', 'black', '[', 'Saxon', 'Settlements', ']', ')', '(', '1.4', ')', '•', 'Eight', 'Faction', 'round', 'cylinders', '(', '2', 'red', ',', '2', 'blue', ',', '2', 'green', ',', '2', 'black', ';', '1.8', ',', '2.2', ')', '•', '12', 'pawns', '(', '1', 'red', ',', '1', 'blue', ',', '6', 'white', ',', '4', 'gray', ';', '1.9', ',', '3.1.1', ')', '•', 'A', 'sheet', 'of', 'markers', '•', 'Four', 'Faction', 'player', 'aid', 'foldouts', '(', '3.0', '.', '4.0', ',', '7.0', ')', '•', 'Two', 'Epoch', 'and', 'Battles', 'sheets', '(', '2.0', ',', '3.6', ',', '6.0', ')', '•', 'A', 'Non-Player', 'Guidelines', 'Summary', 'and', 'Battle', 'Tactics', 'sheet', '(', '8.1-.4', ',', '8.4.2', ')', '•', 'A', 'Non-Player', 'Event', 'Instructions', 'foldout', '(', '8.2.1', ')', '•', 'A', 'Non-player', 'flowchart', 'foldout', '(', '8.5-8.8', ')', '•', 'Three', 'four-sided', 'dice', '(', 'gray', ')', 'and', 'four', 'six-sided', 'dice', '(', 'red', ',', 'blue', ',', 'black', ',', 'and', 'green', ')', '•', 'A', 'background', 'play', 'book', '•', 'This', 'rule', 'book', 'NOTE', ':', 'Several', 'extra', 'wood', 'pieces', 'have', 'been', 'provided', 'for', 'use', 'as', 'spares', '.', '1.3', 'Game', 'Board', 'and', 'Map', 'The', 'game', 'board', 'shows', 'a', 'map', 'of', 'late-Roman', 'Britain', 'and', 'environs', 'divided', 'into', 'Region', ',', 'City', ',', 'and', 'Sea', 'spaces', ',', 'with', 'several', 'tracks', 'around', 'the', 'edge', 'and', 'within', 'spaces', '.', 'Edge', 'Track', 'Road', 'Fens', 'Region', 'Hills', 'Region', 'Clear', 'Region', 'City', 'Sea', 'Sequence', 'of', 'Play', 'Track', 'Imperium-', 'Track', '(', '6.8', ')', 'Stronghold', 'Sites', 'Available', 'Forces', '1.3.1', 'Regions', '.', 'Borders', 'delineate', 'Regions', 'of', 'the', 'map', '.', 'Each', 'Region', 'features', 'the', 'name', 'of', 'its', 'main', 'Briton', 'tribe', ',', 'two', 'Strong-', 'hold', 'Sites', '(', '1.3.5', ')', ',', 'and', 'one', 'of', 'three', 'terrain', 'types', ':', 'Clear', ',', 'Fens', ',', 'or', '3Pendragon', '~', 'Rules', 'of', 'Play', '©', '2017GMT', 'Games', ',', 'LLC', 'Hills', '.', 'Terrain', 'affects', 'Battle', '(', '3.6', ')', 'and', 'certain', 'Events', '(', '5.0', ')', '.', 'Region', 'also', 'show', 'a', 'Population', 'value', '(', '1.3.6', ')', 'and', 'have', 'holding', 'boxes', 'for', 'Control', 'markers', '(', '1.6', ')', 'and', 'Prosperity', 'cubes', '(', '1.7', ')', '.', '1.3.2', 'Cities', '.', 'Two', 'map', 'spaces', ',', 'Londinium', 'and', 'Eboracum', ',', 'are', 'Cit-', 'ies', '.', 'They', 'have', 'only', 'one', 'Stronghold', 'Site', '(', 'a', 'Town', 'Site', 'that', 'can', 'not', 'hold', 'a', 'Hillfort', ')', 'and', 'follow', 'a', 'different', 'Control', 'rule', '(', '1.6', ')', '.', 'They', 'also', 'show', 'Population', 'values', 'and', 'have', 'Prosperity', 'holding', 'boxes', '.', '1.3.3', 'Roads', '.', 'A', 'Road', 'network', 'is', 'superimposed', 'on', 'the', 'map', ',', 'running', 'through', 'and', 'linking', 'several', 'Regions', 'and', 'both', 'Cities', '.', 'Briton', 'Units', 'can', 'move', 'along', 'these', 'Roads', 'during', 'March', '(', '3.2.2', ',', '3.3.2', ')', 'and', 'Intercept', '(', '3.2.3', ')', 'Commands', 'as', 'long', 'as', 'the', 'Roads', 'are', 'Maintained', '(', '6.6.1', ',', '6.8.4', ')', '.', 'NOTE', ':', 'Roads', 'are', 'not', 'spaces', '.', 'Their', 'benefit', 'applies', 'only', 'if', 'moving', 'along', 'connected', 'Roads', '.', 'For', 'example', ',', 'movement', 'from', 'Corieltauvi', 'to', 'Dobunni', 'is', 'along', 'a', 'Road', ',', 'from', 'Corieltauvi', 'directly', 'to', 'Cornovii', 'is', 'not', '.', '1.3.4', 'Adjacency', '.', 'Any', 'two', 'spaces', '(', 'Regions', 'or', 'Cities', ')', 'sharing', 'a', 'border', '(', 'not', 'just', 'a', 'corner', ')', 'are', 'adjacent', '.', 'Roads', 'run', 'through', 'spaces', 'and', 'do', 'not', 'affect', 'adjacency', '(', '1.3.3', ')', '.', 'NOTE', ':', 'Silures', 'and', 'Durotriges', 'Regions', 'are', 'not', 'adjacent', 'to', 'each', 'other', ',', 'nor', 'is', 'Trinovantes', 'to', 'Cantiaci', '.', '1.3.5', 'Stronghold', 'Sites', '.', 'Each', 'Region', 'has', 'two', 'Stronghold', 'Sites', ',', 'and', 'each', 'City', 'has', 'one', '.', 'Each', 'Site', 'is', 'either', 'a', 'Town', 'Site', 'or', 'a', 'Hillfort', 'Site', '.', 'Strongholds', 'may', 'occupy', 'Sites', 'only', ',', 'one', 'Stronghold', 'per', 'Site', '.', 'Towns', 'may', 'occupy', 'Town', 'Sites', 'only', '.', 'Hillforts', ',', 'Forts', ',', 'and', 'Settlements', 'may', 'occupy', 'either', 'type', 'of', 'Site', '(', '1.4.2', ')', '.', 'EXCEPTION', ':', 'Hillforts', 'are', 'not', 'allowed', 'in', 'Cities', '.', 'NOTE', ':', 'Town', 'Sites', 'have', 'names', 'in', 'white', 'on', 'dark', 'gray', '.', '1.3.6', 'Population', '.', 'Each', 'Region', 'and', 'City', 'has', 'a', 'Popu-', 'lation', 'number', '.', 'Feats', 'or', 'Events', '(', '4.3.1', ',', '4.4.1', ',', '4.4.3', ',', '5.0', ')', 'can', 'add', 'or', 'subtract', 'to', 'a', 'Region', '’', 's', 'Population', ',', 'but', 'never', 'below', '0', 'or', 'beyond', 'its', 'printed', 'Population', 'plus', 'one', '.', 'Cities', '’', 'Pop-', 'ulations', 'never', 'increase', ',', 'but', 'can', 'drop', '.', 'Use', 'markers', 'to', 'show', 'changed', 'Population', 'values', '.', 'Regions', 'subject', 'to', 'the', 'Tears', 'Of', 'epOna', 'Event', 'show', 'a', 'tear', 'symbol', '.', 'DESIGN', 'NOTE', ':', 'A', 'Population', 'of', '“', '0', '”', 'does', 'not', 'mean', 'that', 'the', 'area', 'is', 'entirely', 'empty', 'of', 'people', ',', 'simply', 'that', 'the', 'population', 'has', 'dropped', 'so', 'low', 'as', 'to', 'make', 'the', 'area', 'insignificant', 'in', 'manpower', ',', 'economic', ',', 'and', 'political', 'terms', '.', '•', 'Refugees', ':', 'Whenever', 'the', 'Population', 'of', 'a', 'Region', 'or', 'City', 'actually', 'drops', ',', 'put', 'one', 'Refugees', 'marker', 'in', 'the', 'Civitates', 'Available', 'Forces', 'box', ',', 'unless', 'a', 'specific', 'Event', 'instruction', 'says', 'differently', '.', 'NOTE', '.', 'The', 'Civitates', 'Rule', 'Feat', '(', '4.3.1', ')', 'can', 'only', 'add', 'Population', 'to', 'a', 'Region', 'if', 'a', 'Refugees', 'marker', 'is', 'available', '.', 'There', 'are', 'only', 'four', 'Refugees', 'marker', 'in', 'the', 'game', ':', 'when', 'all', 'four', 'are', 'in', 'play', ',', 'no', 'more', 'may', 'be', 'added', '.', 'Refugees', 'are', 'not', 'Population', '(', 'until', 'added', 'to', 'a', 'Region', ')', 'and', 'do', 'not', 'count', 'for', 'Briton', 'Control', 'or', 'any', 'game', 'total', '.', '1.3.7', 'Seas', '.', 'Four', 'Sea', 'spaces', 'border', 'the', 'island', 'of', 'Britain', '.', 'Seas', 'can', 'be', 'either', 'Patrolled', 'or', 'not', '(', 'by', 'Setup', ',', '2.1', ',', 'or', 'Event', ',', '5.0', ')', 'and', 'affect', 'origins', 'and', 'strengths', 'of', 'Raids', 'and', 'Marches', '(', '3.4.1', ',', '3.5.1', ',', '3.4.3', '.', '3.5.3', ')', '.', 'NOTE', ':', 'The', 'Patrolled', 'or', 'No', 'Patrol', 'status', 'of', 'Seas', 'is', 'set', 'by', 'scenario', '(', '2.1', ')', 'and', 'may', 'change', 'via', 'Events', '(', '5.0', ')', '.', '1.3.8', 'Coasts', '.', 'Any', 'space', 'sharing', 'a', 'border', 'with', 'a', 'Sea', 'is', 'Coastal', 'to', 'that', 'Sea', '.', 'Some', 'Regions', 'are', 'Coastal', 'to', 'two', 'Seas', '.', 'NOTE', ':', 'Dobunni', 'Region', 'does', 'not', 'border', 'on', 'Oceanus', 'Hibernicus', 'and', 'is', 'not', 'Coastal', '.', 'Londinium', 'is', 'Coastal', 'on', 'Oceanus', 'Germanicus', '.', '1.3.9', 'Caledonia', ':', 'Caledonia', 'is', 'an', 'area', 'from', 'which', 'Raids', 'can', 'originate', '(', '3.5.1', ')', 'but', 'which', 'holds', 'no', 'pieces', '(', '1.4.2', ')', '.', '1.4', 'Forces', 'Wooden', 'pieces', 'represent', 'the', 'Factions', '’', 'forces', ',', 'either', 'Units—', 'Troops', 'or', 'Raiders—or', 'Strongholds', ':', '•', 'Dux', 'Troops', 'are', 'Cavalry', '(', 'red', 'cubes', ')', ',', 'and', 'their', 'Strongholds', 'are', 'Forts', '(', 'red', 'castles', ')', '.', '•', 'Civitates', 'Troops', 'are', 'Militia', '(', 'light', 'blue', 'cubes', ')', 'and', 'Comitates', '(', 'medium', 'blue', 'cubes', ')', ',', 'and', 'their', 'Strongholds', 'are', 'either', 'Towns', '(', 'light', 'blue', 'castles', ')', 'or', 'Hillforts', '(', 'medium', 'blue', 'castles', ')', '.', '•', 'Barbarian', 'Troops', 'are', 'Warbands', '(', 'black', 'cubes', 'for', 'Saxons', ',', 'green', 'for', 'Scotti', ')', ',', 'and', 'their', 'Strongholds', 'are', 'Settlements', '(', 'black', 'castles', 'for', 'Saxons', ',', 'green', 'for', 'Scotti', ')', '.', 'Other', 'Barbarian', 'Units', 'are', 'Raiders', '(', 'black', 'triangular', 'cylinders', 'for', 'Saxons', ',', 'green', 'for', 'Scotti', ')', '.', 'NOTE', ':', 'See', 'also', 'Foederati', '(', '1.4.3', ')', '—Barbarian', 'pieces', 'in', 'Briton', 'employ', 'can', 'count', 'as', 'Dux', 'or', 'Civitates', 'Forces', '.', '1.4.1', 'Availability', ',', 'Removal', ',', 'and', 'Out', 'of', 'Play', '.', 'Each', 'Faction', '(', '1.5', ')', 'has', 'an', 'Available', 'Forces', 'box', 'showing', 'its', 'inventory', 'of', 'forces', 'pieces', ',', 'including', 'spots', 'for', 'its', 'Strongholds', '.', 'These', 'Force', 'pools', 'limit', 'the', 'number', 'of', 'pieces', 'that', 'a', 'Faction', 'may', 'have', 'in', 'play', '.', 'Keep', 'a', 'Faction', '’', 's', 'forces', 'not', 'on', 'the', 'map', 'in', 'its', 'Available', 'Forces', 'box', '.', 'Place', 'Available', 'Strongholds', 'in', 'the', 'highest-numbered', 'empty', 'spots', ',', 'revealing', 'the', 'number', 'of', 'on-map', 'Strongholds', 'to', 'help', 'track', 'earnings', ',', 'upkeep', ',', 'victory', ',', 'and', 'so', 'on', '(', '6.5', ',', '6.6', ',', '7.2', ')', '.', '•', 'Placement', ':', 'Pieces', 'may', 'be', 'placed', 'from', 'or', 'replaced', 'with', 'those', 'in', 'the', 'Available', 'Forces', 'boxes', 'only', '(', 'not', 'from', 'other', 'holding', 'boxes', ')', '.', 'A', 'piece', 'to', 'be', 'replaced', 'by', 'a', 'piece', 'that', 'is', 'not', 'Available', 'is', 'simply', 'removed', '.', '•', 'Removal', ':', 'When', 'removing', 'pieces', 'from', 'the', 'map', ',', 'put', 'them', 'in', 'their', 'Available', 'Forces', 'boxes', '(', 'EXCEPTION', ':', 'Cavalry', 'Casualties', ')', '.', '•', 'Cavalry', ':', 'Put', 'Cavalry', 'Units', 'removed', 'during', 'Battle', 'into', 'their', 'Casualties', 'box', 'instead', 'of', 'Available', '.', 'Cavalry', 'pieces', 'can', 'go', 'Out', 'of', 'Play', '(', 'a', 'separate', 'holding', 'box', ')', 'via', 'Epoch', 'Round', 'Upkeep', '(', '6.6.1', ')', 'or', 'Event', '(', '5.0', ')', '.', '•', 'Comitates', ':', 'Most', 'scenarios', 'begin', 'with', 'all', 'or', 'most', 'Comitates', 'pieces', 'in', 'a', 'holding', 'box', ',', 'Not', 'Yet', 'in', 'Play', '(', '2.1', ')', '.', 'Comitates', 'enter', 'the', 'Civitates', 'Available', 'Forces', 'box', 'or', 'the', 'map', 'via', 'Events', '(', '5.0', ')', '.', 'Important—Voluntary', 'removal', ':', 'A', 'Faction', 'while', 'executing', 'a', 'Command', ',', 'Feat', ',', 'or', 'Event', 'to', 'place', 'its', 'own', 'Units', 'may', 'take', 'such', 'Units', '(', 'Troop', 'or', 'Raider', 'pieces', 'in', 'that', 'Faction', '’', 's', 'color', ',', 'not', 'Strongholds', ')', 'from', 'the', 'map', 'into', 'Available', 'only', 'if', 'the', 'appropri-', 'ate', 'type', 'is', 'not', 'Available', '.', 'Britons', 'may', 'so', 'remove', 'Foederati', 'with', 'their', 'color', 'marker', '(', 'only', ')', 'of', 'the', 'Nation', 'to', 'be', 'placed', '(', '1.4.3', ')', '.', 'Barbarians', 'may', 'not', 'so', 'remove', 'Foederati', '.', '(', 'Dux', 'may', 'voluntarily', 'remove', 'Forts', 'during', 'Epoch', 'Round', 'Upkeep', ',', '6.6', ')', '.', '4', 'Pendragon', '~', 'Rules', 'of', 'Play', '©', '2017', 'GMT', 'Games', ',', 'LLC', '1.4.2', 'Stacking', '.', 'Any', 'pieces', 'may', 'occupy', 'a', 'space', ',', 'except', ':', '•', 'Towns', 'may', 'occupy', 'only', 'Town', 'Sites', ',', 'one', 'per', 'Site', '.', '•', 'Hillforts', ',', 'Forts', ',', 'and', 'Settlements', 'may', 'occupy', 'Town', 'or', 'Hillfort', 'Sites', ',', 'one', 'per', 'Site', '(', '1.3.5', ')', '.', 'NOTE', ':', 'Hillforts', 'thus', 'may', 'occupy', 'Town', 'Sites', ',', 'except', 'in', 'Cities', '.', '•', 'No', 'pieces', 'may', 'occupy', 'Seas', 'or', 'Caledonia', '(', '1.3.7', ',', '1.3.9', ')', '.', 'Important—Unless', 'otherwise', 'specified', ',', 'a', 'Faction', 'placing', 'a', 'Stronghold', 'via', 'Command', '(', '3.0', ')', ',', 'Feat', '(', '4.0', ')', 'or', 'Event', '(', '5.1', ')', 'must', 'place', 'it', 'in', 'a', 'valid', 'vacant', 'Site', ';', 'if', 'via', 'an', 'Event', '(', 'only', ')', ',', 'if', 'no', 'such', 'Site', 'is', 'vacant', ',', 'the', 'Faction', 'may', 'select', 'and', 'replace', 'an', 'existing', 'Stronghold', 'in', 'a', 'valid', 'Site', '.', '1.4.3', 'Foederati', '.', 'Barbarian', 'Warbands', 'and', 'Settlements', 'may', 'be', 'in', 'the', 'employ', 'of', 'either', 'the', 'Dux', 'or', 'Civitates', 'Faction', '.', 'Place', 'a', 'Foede-', 'rati', 'marker—red', 'for', 'Dux', 'or', 'blue', 'for', 'Civitates—on', 'such', 'War-', 'bands', 'and', 'Settlements', 'to', 'show', 'their', 'Foederati', 'status', '.', 'Foederati', 'pieces', 'are', 'considered', 'pieces', 'of', 'the', 'employing', 'Faction', '(', 'Dux', 'or', 'Civitates', ')', ',', 'not', 'of', 'their', 'original', 'Faction', ',', 'in', 'all', 'aspects', '(', 'such', 'as', 'for', 'Control', ',', '1.6', ',', 'and', 'Commands', ',', '3.0', ')', 'unless', 'otherwise', 'specified', 'for', 'their', 'Saxon', 'or', 'Scotti', 'Nationality', '(', 'see', 'Home', 'Terrain', 'in', 'Battle', ',', '3.6.1', ',', 'and', 'victory', ',', '7.2', ',', 'for', 'example', ')', '.', '1.5', 'Players', 'and', 'Factions', 'Up', 'to', 'four', 'players', 'can', 'play', 'Pendragon', ',', 'each', 'as', 'one', 'or', 'more', 'Factions', ':', 'the', 'Dux', '(', 'red', '–', 'post-Roman', 'Army', ')', ',', 'the', 'Civitates', '(', 'blue', '–', 'Briton', 'lords', ')', ',', 'the', 'Saxons', '(', 'black', '–', 'Germanic', 'peoples', ')', ',', 'or', 'the', 'Scotti', '(', 'green', '–', 'non-Romanized', 'Celts', ')', '.', '•', 'The', 'Dux', 'and', 'Civitates', 'Factions', 'are', '“', 'Britons', '”', ',', 'and', '(', 'except', 'at', 'Fragmentation', 'of', 'the', 'Imperium', ',', '6.8', ')', 'share', 'Control', '(', '1.6', ')', 'and', 'Resources', '(', '1.8.1', ')', '.', '•', 'The', 'Saxon', 'and', 'Scotti', 'Factions', 'are', '“', 'Barbarians', '”', '.', '•', 'All', 'Factions', 'are', '“', 'enemy', '”', 'to', 'all', 'others', '.', 'EXCEPTION', ':', 'Before', 'Fragmentation', '(', '6.8', ')', ',', 'Dux', 'and', 'Civitates', 'are', 'Friendly', 'to', 'one', 'another', 'unless', 'fighting', 'each', 'other', 'in', 'Battle', '(', '3.6', ')', '.', '1.5.1', 'Spare', 'Factions', '.', 'With', 'two', 'or', 'three', 'players', ',', 'the', 'players', 'run', 'leftover', 'Factions', ':', '•', 'With', 'three', 'players', ',', 'one', 'player', 'runs', 'the', 'Saxons', 'and', 'Scotti', '.', '•', 'With', 'two', 'players', ',', 'one', 'player', 'runs', 'the', 'Dux', 'and', 'Civitates', ',', 'the', 'other', 'the', 'Saxons', 'and', 'Scotti', '.', 'A', 'player', 'running', 'two', 'Factions', 'uses', 'the', 'lower', 'victory', 'margin', 'of', 'the', 'two', '(', '7.1-7.3', ')', 'and', 'only', 'causes', 'play', 'to', 'end', 'on', 'a', 'victory', 'check', '(', '6.3', ')', 'if', 'both', 'Factions', 'are', 'meeting', 'their', 'conditions', '.', 'Non-Player', 'Option', ':', 'If', 'playing', 'solitaire', ',', 'or', 'as', 'an', 'alternative', 'to', 'the', 'above', 'with', 'two', 'or', 'three', 'players', ',', 'use', 'the', 'Non-player', 'rules', 'in', 'section', '8', 'to', 'govern', 'leftover', 'Factions', '.', '1.5.2', 'Negotiation', '.', 'Players', 'may', 'make', 'any', 'mutual', 'arrangements', 'within', 'the', 'rules', '.', 'All', 'negotiations', 'are', 'open', '.', 'Once', 'a', 'player', 'agrees', 'to', 'something', 'within', 'the', 'execution', 'of', 'a', 'Command', ',', 'Feat', ',', 'Event', ',', 'or', 'Epoch', 'Round', ',', 'that', 'agreement', 'is', 'binding', 'during', 'that', 'action', 'only', '.', 'The', 'rules', 'do', 'not', 'otherwise', 'bind', 'players', 'to', 'agreements', '.', 'In', 'general', ',', 'assets', 'such', 'as', 'Resources', ',', 'Renown', '(', '1.8', ')', ',', 'or', 'Plunder', '(', '1.7.4', ')', 'may', 'not', 'be', 'transferred', 'between', 'Factions', '.', 'However—', '•', 'Army', 'Preemption', '.', 'Under', 'Roman', 'Rule', 'and', 'under', 'Autonomy', 'with', 'Military', 'Dominance', '(', 'per', 'the', 'Imperium', 'track', ',', '6.8.2', ')', ',', 'the', 'Dux', 'Faction', 'may', 'spend', 'Briton', 'Resources', '(', 'blue', 'cylinder', ';', 'not', 'Wealth', ',', '1.8.4', ')', 'for', 'Commands', ',', 'Feats', ',', 'Annona', ',', 'and', 'Upkeep', 'or', 'transfer', 'them', 'to', 'Barbarians', 'as', 'if', 'they', 'were', 'Dux', 'Resources', '.', '•', 'Briton', 'Cooperation', ',', 'No', 'Preemption', '.', 'At', 'Autonomy', 'with', 'Civilian', 'Dominance', 'only', ',', 'Dux', 'may', 'so', 'spend', 'blue', 'Briton', 'Resources', 'only', 'with', 'Civitates', 'agreement', '.', '(', 'At', 'Fragmentation', 'it', 'may', 'not', 'do', 'so', ',', '6.8.2', '.', ')', '•', 'Tribute', '.', 'A', 'Briton', 'Faction', 'may', 'transfer', 'any', 'of', 'its', 'Resources', 'to', 'a', 'Barbarian', 'Faction', 'during', 'either', '’', 's', 'execution', 'by', 'the', 'Sequence', 'of', 'Play', '(', '2.3.4', ')', 'of', 'a', 'Command', ',', 'Feat', ',', 'or', 'Event', '.', 'Such', 'Resources', 'are', 'converted', 'to', 'Renown', '1', 'for', '1', '.', 'The', 'Civitates', 'Faction', 'may', 'so', 'transfer', 'Wealth', '(', '1.8.4', ')', 'to', 'another', 'Faction', ',', 'converting', 'to', 'Dux', 'Resources', 'or', 'Barbarian', 'Renown', '1', 'for', '1', '.', '(', 'It', 'can', 'not', 'directly', 'transform', 'Resources', 'into', 'Wealth', '.', ')', '1.6', 'Control', 'A', 'Faction', 'Controls', 'a', 'Region', 'if', 'it', 'has', 'a', 'Stronghold', 'there', 'and', 'its', 'Troop', 'and', 'Stronghold', 'pieces', '(', 'not', 'Raiders', ')', 'outnumber', 'those', 'of', 'all', 'other', 'Factions', 'combined', '.', 'Foederati', 'pieces', 'count', 'for', 'their', 'employing', '(', 'marked', ')', 'Faction', '(', '1.4.3', ')', '.', '•', 'Raiders', 'never', 'count', 'for', 'or', 'affect', 'Control', '(', 'but', 'can', 'affect', 'requirements', 'for', 'certain', 'Command', 'and', 'Feat', 'actions', ')', '.', '•', 'A', 'Faction', 'Controls', 'a', 'City', 'if', 'it', 'has', 'a', 'Stronghold', 'there', '(', 'regardless', 'of', 'other', 'pieces', ')', '.', '1.6.1', 'Briton', 'Cooperation', '.', 'Except', 'under', 'Fragmen-', 'tation', '(', '6.8', ')', ',', 'Civitates', 'and', 'Dux', '(', 'including', 'Foederati', ',', '1.4.3', ')', 'add', 'together', 'to', 'determine', 'Briton', 'Control', ',', 'and', 'Briton', 'Control', 'is', '“', 'Friendly', 'Control', '”', 'to', 'the', 'Dux', '.', 'Under', 'Fragmentation', ',', '“', 'Briton', 'Control', '”', 'means', 'Control', 'by', 'the', 'Civitates', 'Faction', ',', 'and', 'Dux', 'Control', 'is', 'assessed', 'separately', '.', 'NOTE', ':', 'Unlike', 'in', 'other', 'COIN', 'Series', 'volumes', ',', 'a', 'Faction', 'must', 'have', 'a', 'Stronghold', 'in', 'a', 'space', 'to', 'Control', 'it', ',', 'and', 'Raider', 'pieces', 'are', 'ignored', 'for', 'Control', '.', '1.7', 'Prosperity', '&', 'Plunder', 'Each', 'space', 'at', 'any', 'given', 'moment', 'holds', 'an', 'amount', 'of', 'Prosperity', '(', 'small', 'gold', 'cubes', ')', ',', 'possibly', '0', '.', 'Keep', 'unused', 'gold', 'cubes', 'off', 'to', 'the', 'side', 'of', 'the', 'game', 'board', '.', '1.7.1', 'Regional', 'Prosperity', '.', 'Each', 'Region', 'may', 'start', 'with', 'up', 'to', 'twice', 'its', 'current', 'Population', '(', '1.3.6', ')', 'in', 'Prosperity', '.', 'Put', 'a', 'Region', '’', 's', 'Prosperity', 'cubes', 'into', 'the', 'two', 'rows', 'of', 'squares', 'in', 'the', 'space', '.', 'When', 'adding', 'Prosperity', ',', 'begin', 'at', 'the', 'bottom', 'row', ',', 'left', 'to', 'right', ';', 'once', 'this', 'row', 'holds', 'Prosperity', 'equal', 'to', 'the', 'Region', '’', 's', 'current', 'Population', ',', 'add', 'any', 'further', 'Prosperity', 'to', 'the', 'top', 'row', ',', 'without', 'exceeding', 'Population', 'in', 'either', 'row', '.', 'When', 'removing', 'Prosperity', '(', 'such', 'as', 'via', 'Raid', ',', '1.7.4', ',', '3.4.1', ',', '3.5.1', ')', ',', 'reverse', 'that', 'order', ':', 'begin', 'on', 'the', 'top', 'row', 'and', 'remove', 'from', 'the', 'bottom', 'row', 'only', 'once', 'the', 'top', 'row', 'is', 'empty', '.', 'Epoch', 'Round', 'Recovery', 'at', 'Imperium', 'Autonomy', 'or', 'Fragmentation', 'adds', 'Prosperity', 'only', 'to', 'the', 'bottom', 'row', '(', '6.7', ',', '6.8.6', ')', '.', 'NOTE', ':', 'No', 'Prosperity', 'cube', 'is', 'removed', 'or', 'added', 'at', 'the', 'time', 'of', 'a', 'change', 'in', 'the', 'Population', 'of', 'a', 'Region', 'subsequent', 'to', 'a', 'Feat', 'or', 'an', 'Event', 'effect', ';', 'any', 'excess', 'cube', 'following', 'a', 'Population', 'reduction', 'would', 'be', 'removed', 'during', 'the', 'next', 'Recovery', 'Phase', '(', '6.7.1', ')', '.', '5Pendragon', '~', 'Rules', 'of', 'Play', '©', '2017GMT', 'Games', ',', 'LLC', 'Open', 'boxes', 'for', 'Pop', '+1', 'Top', 'row', 'Bottom', 'row', 'NOTE', ':', 'Prosperity', 'will', 'be', 'added', 'to', 'the', 'rightmost', ',', 'open', 'box', 'of', 'each', 'row', 'only', 'when', 'Population', 'is', 'at', 'printed', 'Pop', '+1', '.', '1.7.2', 'City', 'Prosperity', '.', 'Cities', 'have', 'only', 'one', 'Prosperity', 'row', 'and', 'can', 'hold', 'twice', 'their', 'printed', 'Population', 'in', 'Prosperity', '.', 'A', 'Barbarian', 'Faction', 'that', 'destroys', 'a', 'City', '’', 's', 'Stronghold', 'in', 'Battle', '(', '3.6', ')', 'immedi-', 'ately', 'Plunders', 'all', 'its', 'Prosperity', '(', '1.7.4', ')', '.', '1.7.3', 'Total', 'Prosperity', '.', 'The', 'number', 'of', 'all', 'Pros-', 'perity', 'cubes', 'in', 'the', 'map', '’', 's', 'Regions', 'and', 'Cities', 'equals', '“', 'Total', 'Prosperity', '”', '(', 'do', 'not', 'count', 'Plunder', 'cubes', 'on', 'Units', ')', '.', 'Total', 'Prosperity', 'can', 'affect', 'Dux', 'victory', '(', '1.9', ',', '7.2-7.3', ')', '.', '1.7.4', 'Plunder', '.', '“', 'Plundering', '”', 'a', 'space', 'means', 'taking', 'Prosperity', 'cubes', 'from', 'that', 'Region', 'or', 'City', '(', '1.7.1-1.7.2', ')', 'and', 'putting', 'them', 'onto', 'Raiders', 'or', 'Troops', 'there', ';', 'those', 'and', 'any', 'other', 'gold', 'cubes', 'carried', 'by', 'Units', 'are', 'Plunder', 'cubes', '(', 'no', 'longer', 'Prosperity', ')', '.', 'Raid', '(', '3.4.1', ',', '3.5.1', ')', 'and', 'many', 'other', 'actions', 'result', 'in', 'Plunder', '.', 'Return', '(', '3.4.2', ',', '3.5.2', ')', 'and', 'other', 'actions', 'or', 'Epoch', 'phases', 'convert', 'Plunder', 'into', 'Renown', ',', 'Resources', ',', 'or', 'Wealth', '.', 'Important—Units', 'may', 'carry', 'one', 'Plunder', 'cube', 'each', '.', 'Cavalry', 'may', 'carry', 'Plunder', 'only', 'from', 'a', 'Retaliate', 'Feat', '(', '4.2.4', ')', 'or', 'Event', '.', 'The', 'executing', 'Faction', 'decides', 'which', 'candidate', 'Units', 'in', 'a', 'space', 'receive', 'new', 'Plunder', '.', 'A', 'Faction', 'may', 'not', 'shift', 'Plunder', 'among', 'Units', '.', '1.8', 'Resources', ',', 'Renown', ',', 'Prestige', ',', '&', 'Wealth', 'At', 'any', 'moment', ',', 'each', 'Briton', 'Faction', 'has', 'between', '0', 'and', '80', 'Resources', 'and', 'each', 'Barbarian', 'Faction', 'between', '0', 'and', '80', 'Renown', 'that', 'they', 'spend', 'to', 'pay', 'for', 'Commands', 'or', 'Feats', '(', '3.0', ',', '4.0', ')', '.', 'Dux', 'has', 'between', '0', 'and', '80', 'Prestige', '.', 'Civitates', 'have', 'between', '0', 'and', '80', 'Wealth', '.', 'Mark', 'Resources', 'and', 'Renown', 'along', 'the', '0-80', 'board', 'edge', 'track', 'with', 'a', 'cylinder', 'of', 'the', 'Faction', '’', 's', 'color', '(', '1.5', ')', 'and', 'Prestige', 'and', 'Wealth', 'with', 'round', 'markers', '.', 'Ignore', 'any', 'drop', 'below', '0', 'or', 'rise', 'above', '80', 'in', 'these', 'totals', '.', '1.8.1', 'Briton', 'Resources', '.', 'The', 'Civitates', 'Faction', '’', 's', 'Resources', '(', 'tracked', 'with', 'a', 'blue', 'cylinder', ')', 'are', 'called', '“', 'Briton', 'Resources', '”', '.', 'NOTE', ':', 'The', 'Dux', 'Faction', 'often', 'will', 'draw', 'on', 'Briton', 'Resources', 'rather', 'than', 'Dux', 'Resources—see', '1.5.2', ',', '6.8.2', '.', 'Dux', 'can', 'accrue', 'Dux', 'Resources', '(', 'red', 'cylinder', ')', 'at', 'any', 'Imperium', 'via', 'Requisition', 'Feat', '(', '4.2.3', ')', 'or', 'Event', '(', '5.0', ')', 'and', 'at', 'Fragmentation', '(', 'only', ')', 'via', 'Epoch', 'Revenue', '(', '6.5.1', ')', '.', 'See', 'also', 'Passing', '(', '2.3.3', ')', '.', '1.8.2', 'Barbarian', 'Renown', '.', 'Barbarian', 'Factions', 'earn', 'and', 'spend', 'Renown', 'instead', 'of', 'Resources', '.', 'DESIGN', 'NOTE', ':', 'Renown', 'represents', 'the', 'fame', 'of', 'leaders', ',', 'chiefs', ',', 'or', 'kings', 'in', 'the', 'Barbarian', 'homelands', ',', 'determining', 'their', 'ability', 'to', 'attract', 'Raiders', 'and', 'initiate', 'campaigns', '.', '1.8.3', 'Dux', 'Prestige', '.', 'The', 'Dux', 'Faction', 'gains', 'or', 'loses', 'Prestige', 'via', 'Battle', 'consequences', '(', '3.6.5', ')', ',', 'Events', '(', '5.0', ',', '6.4', ')', ',', 'and', 'Revenue', '(', '6.5.1', ')', '.', 'Prestige', 'affects', 'Dux', 'victory', '(', '7.2', ',', '7.3', ')', 'and', 'Dominance', '(', '6.2.2', ')', '.', 'Track', 'Prestige', 'on', 'the', 'edge', 'track', 'with', 'its', 'round', 'red', 'marker', '.', '1.8.4', 'Civitates', 'Wealth', '.', 'The', 'Civitates', 'can', 'convert', 'Briton', '(', 'blue', ')', 'Resources', 'or', 'Plunder', '(', '1.7.4', ')', 'into', 'Wealth', '.', 'Track', 'Wealth', 'on', 'the', 'edge', 'track', 'with', 'its', 'round', 'blue', 'marker', '.', 'Wealth', 'is', 'needed', 'for', 'Muster', 'and', 'Upkeep', 'of', 'Comitates', 'Units', 'and', 'Muster', 'of', 'Towns', '(', '3.3.1', ',', '6.6.2', ')', 'and', 'affects', 'Dominance', '(', '6.2.2', ')', '.', '(', 'See', 'also', 'transfer', 'of', 'Wealth', 'to', 'Resources', 'or', 'Renown', ',', '1.5.2', ')', '.', 'Civitates', 'may', 'at', 'any', 'time', 'spend', '(', 'pay', ')', 'Wealth', 'as', 'if', 'Briton', 'Resources', ',', 'and', 'they', 'must', 'do', 'so', 'if', 'called', 'upon', 'to', 'spend', 'Resources', 'but', 'Briton', 'Resources', 'are', 'at', '0', '.', 'EXCEPTION', ':', 'Imperial', 'Taxation', '(', '6.5.3', ',', '6.8.3', ')', 'takes', 'Briton', 'Resources', 'but', 'never', 'affects', 'Wealth', '.', '1.9', 'Victory', 'Markers', 'and', 'Pawns', 'Use', 'markers', 'on', 'the', 'edge', 'track', 'as', 'follows', 'to', 'show', 'various', 'totals', 'that', 'affect', 'victory', '(', '7.0', ')', '.', 'NOTE', ':', 'Colored', ',', 'labeled', 'bands', 'along', 'the', 'track', 'show', 'Victory', 'thresholds', '(', '7.2', ')', '.', '•', 'Dux', 'victory', '–', 'Track', 'Prestige', '(', '1.8.3', ')', 'with', 'the', 'round', '“', 'Dux', 'Prestige', '”', 'marker', '.', 'Under', 'Roman', 'Rule', 'and', 'Autonomy', '(', '6.8', ')', ',', 'track', 'Total', 'Prosperity', '(', '1.7.3', ')', 'with', 'the', '“', 'Total', 'Prosp', '”', 'marker', 'and', 'the', 'sum', 'of', 'Prestige', 'and', 'Total', 'Prosperity', 'with', 'the', 'red', '“', 'Prosper', '+', 'Prestige', '”', 'v', 'i', 'c', 't', 'o', 'r', 'y', 'm', 'a', 'r', 'k', 'e', 'r', '.', 'U', 'n', 'd', 'e', 'r', 'Fragmentation', ',', 'flip', '“', 'Total', 'Prosp.', '”', 'to', '“', 'Dux', 'Control', '”', 'and', '“', 'Prosper', '+', 'Prestige', '”', 'to', '“', 'Control', '+', 'Prestige', '”', 'and', 'instead', 'track', 'Dux', 'Controlled', 'Population', 'and', 'the', 'sum', 'of', 'Dux', 'Control', 'and', 'Prestige', 'with', 'those', 'markers', '.', 'Mark', 'the', 'current', 'Dux', 'victory', 'threshold', '(', '6.8.7', ',', '7.2.1', ')', 'along', 'the', 'edge', 'track', 'with', 'the', 'red', 'pawn', '.', '•', 'Civitates', 'victory', '–', 'Track', 'total', 'Population', 'under', 'Briton', 'Control', '(', 'under', 'Fragmentation', ',', 'meaning', 'Civitates', 'Control', ',', '1.6', ')', 'with', 'the', 'blue', '“', 'Briton', 'Control', '”', 'victory', 'marker', '.', 'Mark', 'the', 'current', 'Civitates', 'victory', 'threshold', '(', '6.8.7', ',', '7.2.2', ')', 'along', 'the', 'edge', 'track', 'with', 'the', 'blue', 'pawn', '.', '•', 'Saxon', 'victory', '–', 'Track', 'total', 'Population', 'under', 'Saxon', 'Control', 'with', 'the', 'black', '“', 'Saxon', 'Control', '”', 'victory', 'marker', '.', 'Before', 'Fragmentation', ',', 'the', 'position', 'of', 'the', 'black', 'Saxon', 'Renown', 'cylinder', '(', '1.8', ')', 'also', 'bears', 'on', 'Saxon', 'victory', '(', '7.2.3', ')', '.', '•', 'Scotti', 'victory', '–', 'The', 'position', 'of', 'the', 'green', 'Scotti', 'Renown', 'cylinder', '(', '1.8', ')', 'shows', 'Scotti', 'victory', '.', 'NOTE', ':', 'Scotti', 'victory', '(', '7.2', ')', 'may', 'also', 'require', 'a', 'certain', 'total', 'of', 'the', 'Scotti', 'Nation', '’', 's', 'Settlements', 'on', 'the', 'map', '(', 'including', 'Foederati', ')', '—a', 'total', 'shown', 'by', 'the', 'highest', 'number', 'visible', 'in', 'the', 'Scotti', 'Available', 'Forces', 'display', '(', '1.4.1', ')', '.', '6', 'Pendragon', '~', 'Rules', 'of', 'Play', '©', '2017', 'GMT', 'Games', ',', 'LLC']\n",
            "/content/Information-Retrieval-Project/Rules/LOD_Rules_Aug2016.pdf\n",
            "['1.0', 'Introduction', 'Liberty', 'or', 'Death—The', 'American', 'Insurrection', 'is', 'a', 'board', 'game', 'about', 'the', 'American', 'Rebellion', 'from', '1775', 'to', '1783', '.', 'It', 'adapts', 'GMT', 'Games', '’', 'COIN', 'series', 'game', 'system', 'about', 'modern', 'insur-', 'gencies', 'to', 'depict', 'the', 'political', ',', 'military', ',', 'and', 'economic', 'affairs', 'of', 'the', 'conflict', 'for', 'the', 'British', 'Colonies', 'in', 'America', '.', 'In', 'Liberty', 'or', 'Death', ',', 'one', 'to', 'four', 'players', 'take', 'the', 'roles', 'of', 'one', 'or', 'more', 'Factions', 'in', 'North', 'America', ':', 'the', 'British', 'attempt', 'to', 'sup-', 'press', 'a', 'distant', 'insurrection', 'throughout', 'a', 'massive', 'region', 'and', 'across', 'the', 'sea', ';', 'the', 'Patriots', 'try', 'to', 'incite', 'rebellion', 'through', 'the', 'population', 'while', 'fighting', 'the', 'British', 'on', 'their', 'own', 'terms', ';', 'their', 'Indian', 'rivals', 'cooperate', 'with', 'the', 'British', 'to', 'limit', 'the', 'Patriots', '’', 'growth', 'in', 'and', 'beyond', 'the', 'Colonies', ';', 'and', 'the', 'French', 'strive', 'to', 'confound', 'the', 'British', 'in', 'North', 'America', '.', 'By', 'issuing', 'Commands', 'and', 'utilizing', 'a', 'Faction', '’', 's', 'Special', 'Activi-', 'ties', 'and', 'various', 'events', ',', 'players', 'assemble', 'and', 'maneuver', 'forces', 'to', 'influence', 'or', 'control', 'the', 'population', 'of', 'the', 'Colonies', ',', 'generate', 'Resources', ',', 'and', 'achieve', 'their', 'Faction', '’', 's', 'objectives', '.', 'Cards', 'regulate', 'turn', 'order', ',', 'events', ',', 'and', 'victory', 'checks', '.', 'The', 'game', '’', 's', 'most', 'important', 'functions', 'are', 'summarized', 'on', 'sev-', 'eral', 'aid', 'sheets', '.', 'This', 'rule', 'book', 'lists', 'key', 'terms', 'in', 'an', 'index', 'near', 'the', 'end', 'and', 'explains', 'on', 'the', 'final', 'pages', 'how', 'to', 'set', 'up', '.', 'Players', 'seeking', 'gradual', 'instruction', 'should', 'start', 'with', 'the', 'tutorial', 'in', 'the', 'Playbook', '.', '1.1', 'General', 'Course', 'Of', 'Play', 'In', 'Liberty', 'or', 'Death', ',', 'cards', 'are', 'played', 'from', 'the', 'deck', 'one', 'at', 'a', 'time', 'with', 'the', 'current', 'card', 'in', 'play', 'as', 'well', 'as', 'one', 'card', 'ahead', 'revealed', 'to', 'all', 'players', '.', 'Each', 'Event', 'card', 'shows', 'the', 'order', 'in', 'which', 'the', 'Factions', 'become', 'Eligible', 'to', 'choose', 'either', 'from', 'a', 'menu', 'of', 'Commands', 'and', 'Special', 'Activities', 'or', 'the', 'card', '’', 's', 'particular', 'Event', '.', 'Executing', 'an', 'Event', 'or', 'Command', 'renders', 'that', 'Faction', 'Ineligible', 'to', 'do', 'so', 'on', 'the', 'next', 'card', '.', 'Winter', 'Quarters', 'cards', 'mixed', 'in', 'with', 'the', 'Event', 'cards', 'provide', 'periodic', 'opportunities', 'for', 'instant', 'victory', 'and', 'activities', 'such', 'as', 'collecting', 'Resources', '.', '1.2', 'Components', 'A', 'complete', 'game', 'of', 'Liberty', 'or', 'Death', 'includes', ':', '•', 'One', '22', \"''\", 'x', '34', \"''\", 'mounted', 'game', 'board', '(', '1.3', ')', '•', 'A', 'deck', 'of', '109', 'playing', 'cards', '(', '5.0', ')', '•', '166', 'red', ',', 'green', ',', 'blue', ',', 'tan', ',', 'and', 'white', 'wooden', 'playing', 'pieces', ',', 'some', 'embossed', '(', '1.4', ',', '1.8', ',', '2.2', ')', '•', 'Six', 'black', 'and', 'six', 'gray', 'wooden', 'pawns', '(', '3.1.1', ')', '•', 'Four', '11', \"''\", 'x', '17', \"''\", 'Faction', 'player', 'aid', 'foldouts', '(', '3.0', ',', '4.0', ',', '7.0', ')', '•', 'Two', '11', \"''\", 'x', '17', \"''\", 'Non-Player', 'Faction', 'flowchart', 'foldouts', '(', '8.4-8.7', ')', '•', 'Four', '8½', \"''\", 'x', '11', \"''\", 'Sequence', 'of', 'Play', 'and', 'Battle', 'Procedure', 'sheets', '(', '2.0', ',', '3.6', ')', '•', 'Two', '11', \"''\", 'x', '17', \"''\", 'Random', 'Spaces', 'and', 'Non-player', 'Events', 'foldouts', '(', '8.2', ',', '8.3', ')', '•', 'Two', 'sheets', 'of', 'markers', '•', 'This', 'rule', 'book', '•', 'A', 'background', 'play', 'book', '•', 'One', 'black', '6-sided', 'dice', '•', 'Three', 'blue', '6-sided', 'dice', 'marked', '1-3', 'twice', '•', 'Three', 'red', '6-sided', 'dice', 'marked', '1-3', 'twice', '•', 'Nine', 'plastic', 'Leader', 'stands', 'R', 'U', 'LE', 'S', 'O', 'F', 'P', 'LAY', 'Liberty', 'or', 'Death', '~', 'Rules', 'of', 'Play', '3', '©', '2015', ',', '2016', 'GMT', 'Games', ',', 'LLC', '1.3', 'The', 'Map', 'The', 'map', 'shows', 'the', 'British', 'Colonies', 'of', 'North', 'America', 'and', 'neighboring', 'Provinces', 'divided', 'into', 'various', 'types', 'of', 'spaces', '.', '1.3.1', 'Map', 'Spaces', '.', 'Map', 'spaces', 'include', 'rural', 'Provinces', '(', 'Colo-', 'nies', 'and', 'Indian', 'Reserve', ')', 'and', 'urban', 'Cities', '.', 'All', 'spaces', 'can', 'hold', 'forces', '.', '1.3.2', 'Provinces', '.', 'Each', 'Province', 'shows', 'a', 'Population', 'value', '(', 'Pop', ')', 'of', '0', 'to', '2', '(', 'each', 'Population', 'value', 'representing', 'roughly', '50,000', 'Colonists', ')', '.', 'Population', 'value', 'affects', 'victory', 'by', 'counting', 'toward', 'a', 'Faction', '’', 's', 'Support', 'for', 'or', 'Opposition', 'to', 'the', 'British', '(', '1.6', ')', '.', 'Population', 'value', 'also', 'affects', 'some', 'Commands', '(', '3.0', ')', '.', '1.3.3', 'Cities', '.', 'Similarly', ',', 'each', 'City', 'shows', 'a', 'Population', 'value', 'of', '1', 'to', '2', '(', 'each', 'Population', 'value', 'representing', 'roughly', '50,000', 'Colonists', 'with', 'adjustments', 'made', 'for', 'economic', 'value', ')', '.', 'Note', ':', 'The', 'Cities', 'of', 'New', 'York', 'and', 'Philadelphia', 'are', 'displaced', 'to', 'the', 'east', 'to', 'improve', 'playability', 'on', 'the', 'map', '.', 'Their', 'actual', 'location', 'is', 'marked', 'by', 'a', 'smaller', 'circle', 'connected', 'by', 'a', 'white', 'shaded', 'area', '.', 'Naming', 'Convention', 'Note', ':', 'When', 'referring', 'to', 'Quebec', 'City', 'and', 'New', 'York', 'City', ',', 'the', 'word', 'City', 'always', 'designates', 'those', 'Cities', '.', 'Otherwise', '“', 'Quebec', '”', 'and', '“', 'New', 'York', '”', 'always', 'refers', 'to', 'the', 'Province', '.', '1.3.4', 'Indian', 'Reserve', 'Provinces', '.', 'The', 'map', 'includes', 'parts', 'of', 'the', 'Indian', 'Reserve', 'Provinces', 'of', 'Quebec', ',', 'Northwest', ',', 'Southwest', 'and', 'Florida', '.', 'These', 'are', 'considered', 'Provinces', 'but', 'not', 'Colonies', '.', 'They', 'have', '0', 'population', '.', '1.3.5', 'Colonies', '.', 'Colonies', 'are', 'Provinces', 'that', 'represent', 'the', 'thir-', 'teen', 'British', 'Colonies', '.', 'Delaware', 'and', 'Maryland', 'are', 'combined', 'into', 'one', 'Colony', 'space', ',', 'as', 'are', 'Connecticut', 'and', 'Rhode', 'Island', ';', 'as', 'a', 'result', 'there', 'are', 'only', 'eleven', 'Colony', 'spaces', '.', '1.3.6', 'Adjacency', '.', 'Adjacency', 'affects', 'the', 'movement', 'of', 'forces', 'and', 'implementation', 'of', 'certain', 'Events', '.', 'Any', 'two', 'spaces', 'that', 'border', 'on', '(', 'touch', ')', 'one', 'another', 'are', 'adjacent', '.', '1.3.7', 'West', 'Indies', '.', 'West', 'Indies', '(', 'WI', ')', 'is', 'a', 'holding', 'box', 'that', 'is', 'not', 'in', 'play', 'until', 'after', 'Treaty', 'of', 'Alliance', '(', 'TOA', ')', 'is', 'played', '.', 'It', 'has', '0', 'population', '.', 'Note', ':', 'The', 'West', 'Indies', 'have', 'a', 'number', 'of', 'characteristics', 'de-', 'tailed', 'in', 'later', 'sections', 'regarding', 'stacking', '(', '1.4.2', ')', ',', 'Squadron/', 'Blockade', 'markers', '(', '1.9', ')', ',', 'Winter', 'Quarters', '(', '6.2.2', ',', '6.3.1', ')', ',', 'and', 'Battle', '(', '3.6', ')', '.', '1.3.8', 'Overflow', '.', 'Use', 'the', 'two', 'Overflow', 'boxes', 'for', 'pieces', 'that', 'exceed', 'the', 'room', 'in', 'a', 'space', 'on', 'the', 'map', ';', 'place', 'the', 'associ-', 'ated', 'Overflow', 'counter', 'in', 'that', 'space', '.', '1.3.9', 'Unavailable', '.', 'Use', 'the', 'Unavailable', 'French', 'Forces', 'box', 'to', 'hold', 'certain', 'French', 'Regulars', 'and', 'Squadrons/Blockades', 'prior', 'to', 'the', 'French', 'moving', 'them', 'to', 'the', 'Available', 'French', 'Forces', 'box', '(', 'or', 'the', 'West', 'Indies', 'box', 'in', 'the', 'case', 'of', 'the', 'Squadrons/Blockades', ')', '.', 'Use', 'the', 'Unavailable', 'British', 'Forces', 'box', 'to', 'hold', 'certain', 'British', 'Regulars', 'and', 'Tories', 'prior', 'to', 'their', 'Release', 'Date', 'as', 'designated', 'by', 'the', 'Scenario', 'Set-up', '(', '2.1', ')', '.', '1763', 'Proclamation', 'Line', 'French', 'Agent', 'Mobilization', 'Space', 'Province', 'Boundary', 'City', 'movement', 'direction', 'Displaced', 'City', 'actual', 'location', 'Space', 'Name', 'City', 'Space', '(', 'yellow', 'dot', ')', 'Control', 'marker', 'box', 'Population', '(', '2', ')', 'Indian', 'Reserve', 'Space', '(', 'black', 'dot', ')', 'Colony', 'Space', '(', 'white', 'dot', ')', 'Support', '&', 'Opposition', 'marker', 'box', 'Shared', 'Colony', 'Boundary', 'Liberty', 'or', 'Death', '~', 'Rules', 'of', 'Play4', '©', '2015', ',', '2016', 'GMT', 'Games', ',', 'LLC', '1.4', 'Pieces', 'The', 'wooden', 'pieces', 'represent', 'the', 'Factions', '’', 'various', 'forces', ':', 'British', 'Regulars', '(', 'red', 'cubes', ')', 'and', 'Tories', '(', 'green', 'cubes', ')', ',', 'Patriot', 'Militia', '(', 'blue', 'hexagonal', 'cylinders', ')', ',', 'Patriot', 'Continentals', '(', 'blue', 'cubes', ')', ',', 'French', 'Regulars', '(', 'white', 'cubes', ')', ',', 'Indian', 'War', 'Parties', '(', 'tan', 'hex-', 'agonal', 'cylinders', ')', ',', 'Indian', 'Villages', '(', 'tan', 'discs', ')', ',', 'and', 'all', 'British', 'and', 'Patriot', 'Forts', '(', 'five-pointed', 'stars', ')', '.', 'Leaders', 'are', 'represented', 'by', 'either', 'round', 'markers', 'or', 'stand-up', 'markers', '(', 'players', 'may', 'choose', 'to', 'use', 'one', 'type', 'or', 'the', 'other', ')', '.', 'Select', 'Components', 'Cubes', ':', 'British', 'British', 'Patriot', 'French', 'Regulars', 'Tories', 'Continentals', 'Regulars', 'Patriot', 'Militia', ':', 'Indian', 'War', 'Party', ':', 'Active', 'Underground', 'Active', 'Underground', 'Forts', ':', 'British', 'Patriot', 'Villages', ':', 'Indian', 'Resource', '&', 'Eligibility', 'markers', ':', 'Indian', 'British', 'Continentals', 'French', 'Wooden', 'Pawns', ':', 'Leaders', ':', 'British', 'Patriots', 'French', 'Indians', 'French', 'Navy', ':', 'Squadron', 'side', 'Blockade', 'side', 'Design', 'Note', 'Forts', 'and', 'Villages', 'represent', 'fortifications', ',', 'headquarters', ',', 'training', 'camps', ',', 'community', 'centers', 'and', 'supply', 'depots', 'as', 'well', 'as', 'capability', 'to', 'organize', 'and', 'project', 'force', '(', 'both', 'politically', 'and', 'militarily', ')', '.', '1.4.1', 'Availability', 'and', 'Removal', '.', 'The', 'Available', 'Forces', 'Table', 'on', 'page', '35', 'lists', 'the', 'number', 'of', 'pieces', 'in', 'the', 'game', 'and', 'Leaders', 'for', 'each', 'Faction', '.', 'Scenario', 'set', 'up', '(', '2.1', ')', 'specifies', 'units', 'as', 'Available', 'and', 'Unavailable', '.', 'Keep', 'forces', 'Available', 'for', 'placement', 'in', 'the', 'Available', 'Forces', 'box', '.', 'Place', 'Indian', 'Villages', ',', 'Patriot', 'Forts', 'and', 'British', 'Forts', 'in', 'the', 'highest-numbered', 'empty', 'spaces', 'on', 'the', 'Available', 'Indian', 'Villages', ',', 'Available', 'Patriot', 'Forts', 'or', 'Available', 'British', 'Forts', 'tracks', 'to', 'show', 'the', 'number', 'of', 'on-map', 'Forts', 'and', 'Villages', '.', 'This', 'also', 'helps', 'track', 'victory', '(', '7.0', ')', 'and', 'calculate', 'Re-', 'sources', 'added', '(', '6.3', ')', '.', 'Some', 'French', 'and', 'British', 'forces', 'may', 'be', 'Unavailable', 'and', 'will', 'remain', 'in', 'the', 'Unavailable', 'Forces', 'box', 'until', 'moved', 'to', 'the', 'Available', 'Forces', 'box', 'by', 'Special', 'Activity', ',', 'Event', ',', 'or', 'during', 'the', 'Winter', 'Quarters', 'Redeployment', 'Phase', '(', '6.5.3', ')', '.', 'Brit-', 'ish', 'and', 'French', 'may', 'have', 'forces', 'in', 'the', 'West', 'Indies', 'box—neither', 'Available', ',', 'Unavailable', 'nor', 'on', 'the', 'map—and', 'British', ',', 'Patriots', 'and', 'French', 'forces', 'can', 'become', 'Casualties', '(', '1.6.4', ')', '.', 'Otherwise', ',', 'forces', 'removed', 'from', 'the', 'map', 'go', 'to', 'Available', '.', 'Unless', 'otherwise', 'instructed', '(', 'by', 'Event', ',', '5.1', ')', ',', 'forces', 'may', 'only', 'be', 'placed', 'from', 'or', 'replaced', 'with', 'those', 'in', 'the', 'Available', 'boxes', '.', 'A', 'piece', 'to', 'be', 'replaced', 'by', 'a', 'piece', 'that', 'is', 'unavailable', 'is', 'simply', 'removed', '.', 'Liberty', 'or', 'Death', '~', 'Rules', 'of', 'Play', '5', '©', '2015', ',', '2016', 'GMT', 'Games', ',', 'LLC', 'Important', ':', 'Factions', ',', 'while', 'executing', 'a', 'Command', ',', 'Special', 'Activity', ',', 'or', 'Event', 'to', 'place', 'their', 'own', 'forces', ',', 'may', 'take', 'them', 'from', 'elsewhere', 'on', 'the', 'map', 'into', 'Available', 'if', 'and', 'only', 'if', 'the', 'desired', 'force', 'type', 'is', 'not', 'Available', '.', 'EXAMPLE', ':', 'Indians', 'without', 'Available', 'War', 'Parties', 'could', 'remove', 'War', 'Parties', 'during', 'a', 'Gather', '(', '3.4.1', ')', 'in', 'order', 'to', 'place', 'them', 'Underground', '.', 'EXCEPTION', ':', 'The', 'British', 'and', 'French', 'may', 'not', 'do', 'so', 'with', 'Regulars', 'but', 'may', 'with', 'Tories', 'and', 'Forts', '.', '1.4.2', 'Stacking', '.', 'No', 'more', 'than', 'two', 'Forts/Villages', '(', 'of', 'any', 'Fac-', 'tions', ')', 'may', 'occupy', 'a', 'single', 'City', ',', 'Province', 'or', 'the', 'West', 'Indies', '.', 'Placing', 'pieces', '(', 'such', 'as', 'Forts', 'or', 'Villages', 'via', 'Muster', '(', '3.2.1', ',', '3.5.3', ')', ',', 'Rally', '(', '3.3.1', ')', ',', 'Gather', '(', '3.4.1', ')', 'or', 'Event', '(', '5.1', ')', ')', 'or', 'moving', 'pieces', 'may', 'never', 'violate', 'stacking', '.', 'The', 'only', 'pieces', 'that', 'may', 'oc-', 'cupy', 'the', 'West', 'Indies', '(', '1.3.7', ')', 'are', 'British', 'and', 'French', 'Regulars', ',', 'British', 'Forts', 'and', 'French', 'Squadrons', '.', 'Indian', 'pieces', 'may', 'never', 'occupy', 'a', 'City', 'space', '.', '1.4.3', 'Underground/Active', '.', 'Militia', 'or', 'War', 'Parties', 'are', 'either', 'Underground-symbol', 'end', 'down-or', 'Active-symbol', 'end', 'up', '.', 'Certain', 'actions', 'and', 'Events', 'flip', 'them', 'from', 'one', 'state', 'to', 'the', 'other', '.', 'Villages', ',', 'Forts', 'and', 'Cubes', 'are', 'always', 'Active', '.', 'Always', 'set', 'up', 'and', 'place', 'new', 'Militia', 'and', 'War', 'Parties', 'Underground', '(', 'including', 'if', 'replacing', 'a', 'piece', ')', '.', 'Note', ':', 'Unless', 'instructions', 'specify', '“', 'Underground', '”', 'Militia', 'or', 'War', 'Parties', ',', 'it', 'is', 'sufficient', 'to', '“', 'Activate', '”', 'already', 'Active', 'Militia', 'or', 'War', 'Parties', '(', 'they', 'stay', 'Active', ')', '.', 'Also', ',', '“', 'moving', '”', 'or', '“', 'relocat-', 'ing', '”', 'Militia', 'or', 'War', 'Parties', 'does', 'not', 'affect', 'Underground', 'status', 'unless', 'specified', '.', '1.5', 'Players', '&', 'Factions', 'The', 'game', 'may', 'have', 'up', 'to', 'four', 'players', ',', 'each', 'as', 'one', 'or', 'more', 'Factions', ':', 'the', 'British', '(', 'red', 'and', 'green', ')', ',', 'the', 'Patriots', '(', 'blue', ')', ',', 'the', 'Indians', '(', 'tan', ')', ',', 'and', 'the', 'French', '(', 'white', ')', '.', 'In', 'a', 'one-player', 'game', ',', 'the', 'player', 'may', 'play', 'the', 'British', 'and', 'Indians', 'together', ',', 'or', 'the', 'Patriots', 'and', 'French', ',', 'or', 'any', 'one', 'Faction', '(', '8.8', ')', '.', 'Leftover', 'Factions', 'are', 'controlled', 'either', 'by', 'rules', 'section', '8', 'as', '“', 'Non-Players', '”', 'or', ',', 'if', 'preferred', 'with', 'two', 'or', 'three', 'players', ',', 'as', 'below', '.', 'No', 'Non-Player', 'Option', '.', 'With', 'two', 'or', 'three', 'players', ',', 'the', 'play-', 'ers', '(', 'rather', 'than', 'the', 'Non-Player', 'rules', ',', '8.0', ')', 'may', 'control', 'any', 'leftover', 'Factions', ':', '•', 'With', 'two', 'players', ',', 'one', 'player', 'controls', 'British', 'and', 'Indians', '(', 'Royalists', ')', ',', 'the', 'other', 'Patriots', 'and', 'French', '(', 'Rebellion', ')', '.', '•', 'With', 'three', 'players', ',', 'a', 'single', 'player', 'controls', 'British', 'and', 'Indians', '(', 'Royalists', ')', 'or', ',', 'if', 'preferred', ',', 'Patriots', 'and', 'French', '(', 'Rebellion', ')', '.', '1.5.1', 'Side', ':', 'The', 'Royalist', ',', 'the', 'British', 'and', 'Indians', ',', 'are', 'one', 'side', '.', 'The', 'Rebellion', ',', 'Patriots', 'and', 'French', ',', 'are', 'the', 'other', 'side', '.', 'Note', ':', 'Although', 'the', 'Factions', 'on', 'the', 'same', 'side', 'share', 'strategic', 'and', 'tactical', 'affinities', ',', 'they', 'do', 'not', 'share', 'victory', 'conditions', '(', '7.0', ')', '.', 'When', 'one', 'Faction', 'wins', ',', 'the', 'other', 'Faction', 'on', 'the', 'same', 'side', 'does', 'not', 'win', '.', '1.5.2', 'Friends', 'and', 'Enemies', '.', 'Factions', 'on', 'the', 'same', 'side', 'are', 'Friends', 'with', '(', 'Friendly', 'to', ')', 'one', 'another', '.', 'Factions', 'on', 'opposing', 'Sides', 'are', 'Enemies', 'to', 'one', 'another', '.', 'Friendly', 'Factions', 'can', 'not', 'Battle', ',', 'Skirmish', ',', 'War', 'Path', 'or', 'Partisans', 'one', 'another', '.', '1.5.3', 'Negotiation', '.', 'Factions', 'may', 'make', 'any', 'mutual', 'arrange-', 'ments', 'within', 'the', 'rules', '.', 'Factions', 'are', 'not', 'permitted', 'to', 'transfer', 'Resources', 'to', 'another', 'Faction', 'except', 'by', 'Command', ',', 'Special', 'Activity', 'or', 'Event', '(', 'per', '2.3', ')', '.', 'All', 'negotiations', 'are', 'open', '.', 'The', 'rules', 'do', 'not', 'bind', 'Factions', 'to', 'agreements', '.', '1.6', 'Support', ',', 'Opposition', ',', 'Casualties', 'And', 'Forts/', 'Villages', 'Support', 'and', 'Opposition', 'affect', 'victory', 'and', 'some', 'Commands', 'and', 'Special', 'Activities', '.', '1.6.1', 'Cities', 'and', 'Provinces', 'with', 'at', 'least', 'one', 'Population', '(', '1.3.2-', '.3', ')', 'always', 'show', '1', 'of', '5', 'levels', 'of', 'its', 'populace', '’', 's', 'Support', 'for', 'or', 'Opposition', 'to', 'the', 'British', 'government', 'that', 'can', 'shift', 'during', 'play', ':', '•', 'Active', 'Support', '•', 'Passive', 'Support', '•', 'Neutral', '•', 'Passive', 'Opposition', '•', 'Active', 'Opposition', 'Spaces', 'with', '0', 'Population', 'are', 'always', 'Neutral', ',', 'never', 'at', 'Support', 'or', 'Opposition', '.', '1.6.2', 'Active', 'Support/Opposition', 'counts', 'double', 'Population', 'for', 'Total', 'Support/Opposition', '(', '1.6.3', ')', 'affecting', 'victory', '(', '7.2', ',', '7.3', ')', '.', 'Show', 'Support', 'or', 'Opposition', 'with', 'markers', 'placed', 'in', 'each', 'City', 'or', 'Province', '.', 'Show', 'Neutral', 'spaces', 'by', 'the', 'absence', 'of', 'such', 'markers', '.', 'The', 'four', 'Indian', 'Reserve', 'spaces', 'and', 'the', 'West', 'Indies', 'are', 'marked', 'as', '“', 'Always', 'Neutral', '”', 'and', 'never', 'contain', 'such', 'markers', '.', '1.6.3', 'Total', 'Support', 'and', 'Total', 'Op-', 'position', '.', 'Every', 'Faction', '’', 's', 'victory', 'de-', 'pends', 'on', 'the', 'total', 'value', 'of', 'population', 'Support', 'or', 'Opposition', ',', 'respectively', '.', 'Adjust', '“', 'Total', 'Support', '”', 'or', '“', 'Total', 'Opposition', '”', 'on', 'the', 'numbered', 'edge', 'track', 'per', 'the', 'box', 'below', 'as', 'any', 'change', 'to', 'Support', 'or', 'Op-', 'position', 'occurs', '.', 'Neutral', 'Total', 'Support', '=', '(', '2', 'x', 'Population', 'in', 'Active', 'Support', ')', '+', '(', '1', 'x', 'Population', 'in', 'Passive', 'Support', ')', 'Total', 'Opposition', '=', '(', '2', 'x', 'Population', 'in', 'Active', 'Opposition', ')', '+', '(', '1', 'x', 'Population', 'in', 'Passive', 'Opposition', ')', '1.6.4', 'Casualties', '.', 'British', 'Regulars', ',', 'Tories', ',', 'British', 'Forts', ',', 'French', 'Regulars', ',', 'Patriot', 'Continentals', ',', 'and', 'Patriot', 'Forts', 'removed', 'due', 'to', 'certain', 'Commands', ',', 'Special', 'Activities', 'or', 'as', 'designated', 'by', 'certain', 'Events', 'are', 'placed', 'in', 'the', 'Casualties', 'box', '.', 'Units', 'in', 'the', 'Casualties', 'box', 'are', 'not', 'available', 'to', 'be', 'used', 'in', 'any', 'manner', 'until', 'the', 'Reset', 'Phase', 'of', 'the', 'Winter', 'Quarters', 'Round', '(', '6.7', ')', '.', 'Exception', ':', 'Forts', 'are', 'immediately', 'returned', 'to', 'Available', 'and', 'may', 'be', 'built', 'immediately', 'but', 'are', 'still', 'counted', 'toward', 'Cumulative', 'British', 'Casualties', 'or', 'Cumulative', 'Rebellion', 'Casualties', '.', 'During', 'the', 'Liberty', 'or', 'Death', '~', 'Rules', 'of', 'Play6', '©', '2015', ',', '2016', 'GMT', 'Games', ',', 'LLC', 'Reset', 'Phase', 'of', 'the', 'Winter', 'Quarters', 'Round', ',', 'all', 'units', 'in', 'the', 'Casualties', 'box', 'are', 'returned', 'to', 'Available', '.', 'Cumulative', 'British', 'Casualties', '(', 'CBC', ')', 'reflects', 'the', 'total', 'British', 'Regular', ',', 'To-', 'ries', 'and', 'Fort', 'Casualties', 'during', 'the', 'entire', 'game', 'and', 'is', 'tracked', 'by', 'accumu-', 'lating', 'Casualties', 'as', 'they', 'occur', 'on', 'the', 'numbered', 'edge', 'track', '.', 'Cumulative', 'Rebellion', 'Casualties', '(', 'CRC', ')', 'reflects', 'the', 'total', 'French', 'Regular', ',', 'Continental', 'and', 'Patriot', 'Fort', 'Casualties', 'during', 'the', 'entire', 'game', 'and', 'is', 'tracked', 'by', 'accumulating', 'Casualties', 'as', 'they', 'occur', 'on', 'the', 'numbered', 'edge', 'track', '.', 'Note', ':', 'Casualties', 'are', 'not', 'limited', 'to', '50', '.', 'If', 'the', 'CRC', 'or', 'CBC', 'marker', 'approaches', '50', ',', 'reset', 'both', 'CRC', 'and', 'CBC', 'markers', 'down', '10', '(', 'or', '20', ')', 'each', '.', 'The', 'difference', 'is', 'what', 'matters', 'for', 'Victory', 'calculations', '.', '1.6.5', 'Forts', 'and', 'Villages', '.', 'Patriot', 'Forts', 'and', 'Indian', 'Villages', 'placed', 'on', 'the', 'map', 'are', 'tracked', 'to', 'determine', 'victory', 'conditions', '.', 'British', 'Forts', 'are', 'placed', 'in', 'the', 'Available', 'British', 'Forts', 'track', '.', 'Available', 'Patriot', 'Forts', 'and', 'Indian', 'Villages', 'are', 'placed', 'on', ',', 'and', 'removed', 'from', ',', 'the', 'Available', 'Indian', 'Villages/Patriot', 'Forts', 'track', 'which', 'facilitates', 'calculation', 'of', 'the', 'number', 'placed', 'on', 'the', 'map', '.', 'The', 'highest', 'value', 'showing', 'in', 'the', 'empty', 'holding', 'space', 'indicates', 'the', 'number', 'of', 'Forts/Villages', 'on', 'the', 'map', '.', 'Note', ':', 'The', 'tracks', 'are', 'offset', 'by', 'three', 'so', 'players', 'can', 'look', 'at', 'the', 'number', 'of', 'Forts/Villages', 'placed', 'and', 'visually', 'determine', 'which', 'Faction', 'is', 'ahead', 'in', 'its', 'second', 'victory', 'condition', '(', '7.2', ')', '.', '1.7', 'Control', 'The', 'Rebellion', 'Controls', 'a', 'Province', 'or', 'City', 'if', 'the', 'pieces', 'of', 'the', 'two', 'Rebellion', 'Factions', '(', 'Patriot', 'and', 'French', ')', 'com-', 'bined', 'exceed', 'those', 'of', 'the', 'Royalist', 'Factions', '(', 'British', 'and', 'Indians', ')', 'combined', '.', 'The', 'British', 'Control', 'a', 'Province', 'or', 'City', 'if', 'Royalist', 'pieces', 'exceed', 'Rebellion', 'pieces', 'and', 'at', 'least', 'one', 'British', 'piece', 'is', 'present', 'in', 'the', 'space', '.', 'If', 'Indian', 'pieces', 'with', 'no', 'British', 'pieces', 'are', 'in', 'a', 'space', 'and', 'they', 'equal', 'or', 'exceed', 'Rebellion', 'pieces', ',', 'no', 'Faction', 'Controls', 'the', 'space', '.', 'Control', 'affects', 'certain', 'activities', '.', 'Adjust', 'British', 'Control', 'and', 'Rebellion', 'Control', 'markers', 'as', 'Control', 'changes', 'due', 'to', 'placement', ',', 're-', 'moval', ',', 'or', 'movement', 'of', 'pieces', '.', 'If', 'no', 'Faction', 'Controls', 'a', 'space', 'then', 'there', 'is', 'no', 'Control', 'marker', 'placed', 'in', 'that', 'space', '.', '1.8', 'Resources', 'At', 'any', 'moment', ',', 'each', 'Faction', 'has', 'between', '0', 'and', '50', 'Resources', 'that', 'it', 'uses', 'to', 'pay', 'for', 'Commands', '(', '3.0', ')', '.', 'Mark', 'Resources', 'on', 'the', 'edge', 'track', 'with', 'a', 'cylinder', 'of', 'the', 'Faction', '’', 's', 'color', '(', '1.5', ')', '.', 'Factions', 'are', 'not', 'permitted', 'to', 'transfer', 'Resources', 'to', 'another', 'Faction', 'except', 'by', 'Command', ',', 'Special', 'Activity', 'or', 'Event', '(', 'per', '2.3', ')', '.', '1.9', 'French', 'Naval', 'Intervention', 'French', 'Naval', 'Intervention', '(', 'FNI', ')', 'represents', 'the', 'commitment', 'of', 'French', 'naval', 'strength', 'to', 'North', 'America', '.', 'At', 'each', 'level', ',', 'the', 'French', 'will', 'have', 'that', 'number', 'of', 'Blockades', 'placed', 'on', 'Cities', '.', 'Both', 'the', 'French', 'and', 'British', 'may', 'adjust', 'the', 'level', 'of', 'FNI', 'through', 'the', 'use', 'of', 'the', 'Naval', 'Pressure', 'Special', 'Activity', 'after', 'the', 'Treaty', 'of', 'Alliance', 'card', 'is', 'played', '(', '2.3.9', ')', '.', 'The', 'FNI', 'level', 'must', 'remain', 'at', '0', 'before', 'the', 'Treaty', 'of', 'Alliance', 'card', 'is', 'played', '.', 'Blockades', 'are', 'placed', 'by', 'the', 'French', 'as', 'the', 'FNI', 'level', 'is', 'raised', '.', 'For', 'each', 'level', 'the', 'FNI', 'is', 'lowered', 'the', 'British', 'remove', 'one', 'Blockade', 'to', 'the', 'West', 'Indies', 'and', 'flip', 'the', 'counter', 'to', 'the', 'Squadron', 'side', '.', 'Available', 'Blockade', 'markers', 'that', 'have', 'not', 'been', 'placed', 'on', 'a', 'City', 'reside', 'in', 'the', 'West', 'Indies', 'holding', 'box', '(', 'or', 'in', 'the', 'Un-', 'available', 'French', 'Forces', 'box', 'depending', 'on', 'the', 'Scenario', ')', 'on', 'their', 'Squadron', 'side', '.', 'They', 'increase', 'British', 'Loss', 'Level', 'in', 'the', 'West', 'Indies', 'by', 'one', 'total', '(', 'during', 'any', 'Battle', 'Command', ')', '(', '3.6.5', ',', '3.6.6', ')', '.', 'FNI', 'level', 'may', 'never', 'exceed', 'the', 'number', 'of', 'Blockades', 'that', 'are', 'Available', '.', 'Blockades', 'may', 'not', 'be', 'placed', 'until', 'after', 'the', 'Treaty', 'of', 'Alliance', 'card', 'is', 'played', '(', '2.3.9', ')', '.', 'After', 'Treaty', 'of', 'Alliance', 'is', 'played', ',', 'Available', 'Squadrons/Blockades', 'remain', 'in', 'the', 'West', 'Indies', 'on', 'their', 'Squadron', 'side', 'unless', 'placed', 'through', 'increasing', 'FNI', '.', 'Squadrons/Blockades', 'have', 'the', 'following', 'im-', 'pact', 'on', 'play', ':', '•', 'No', 'British', 'Muster', 'of', 'Regulars', 'in', 'that', 'City', ',', 'nor', 'in', 'an', 'adjacent', 'Colony', 'unless', 'that', 'Colony', 'is', 'also', 'adjacent', 'to', 'another', 'City', 'that', 'is', 'not', 'Blockaded', ',', '•', 'No', 'British', 'Garrison', 'to', 'or', 'from', 'that', 'City', ',', '•', 'No', 'British', 'March', 'to', 'that', 'City', 'or', 'Provinces', 'adjacent', 'to', 'that', 'City', '(', 'unless', 'destination', 'space', 'is', 'adjacent', 'to', 'starting', 'space', ')', ',', '•', 'The', 'population', 'of', 'that', 'City', 'is', 'considered', '0', 'for', 'purposes', 'of', 'calculating', 'Support', 'and', 'during', 'the', 'Resource', 'Phase', 'of', 'the', 'Winter', 'Quarters', 'Round', ',', 'and', '•', 'More', 'than', 'one', 'Blockade', 'may', 'be', 'placed', 'on', 'a', 'City', 'but', 'the', 'additional', 'Blockade', 'has', 'no', 'additional', 'impact', '.', '•', 'British', 'Garrison', 'not', 'available', 'if', 'FNI', 'at', 'Level', '3', '.', 'Note', ':', 'FNI-related', 'events', 'may', 'come', 'up', 'before', 'the', 'Treaty', 'of', 'Alliance', 'card', 'has', 'been', 'played', '.', 'Factions', 'should', 'ignore', 'all', 'impacts', 'on', 'FNI', 'and', 'may', 'not', 'place', 'Blockades', 'until', 'the', 'Treaty', 'of', 'Alliance', 'card', 'is', 'played', 'and', 'Blockades', 'are', 'avail-', 'able', 'in', 'the', 'West', 'Indies', '(', 'as', 'Squadrons', '.', ')', '1.10', 'Leaders', 'Leader', 'markers', 'represent', 'political', 'and', 'military', 'figures', 'who', 'may', 'have', 'an', 'impact', 'on', 'Events', ',', 'Commands', 'and', 'Special', 'Activities', '.', 'Each', 'Faction', 'receives', 'one', 'Leader', 'in', 'the', 'Scenario', 'Set-Up', '.', 'Only', 'one', 'Leader', 'per', 'Faction', 'is', 'in', 'play', 'at', 'any', 'time', '.', 'A', 'Leader', 'can', 'follow', 'any', 'unit', 'of', 'its', 'Faction', 'anywhere', 'it', 'goes', 'on', 'the', 'map', 'during', 'any', 'Liberty', 'or', 'Death', '~', 'Rules', 'of', 'Play', '7', '©', '2015', ',', '2016', 'GMT', 'Games', ',', 'LLC', 'Command', 'or', 'Event', '.', 'A', 'Leader', 'in', 'the', 'Available', 'Forces', 'box', 'may', 'be', 'placed', 'on', 'the', 'map', 'or', 'West', 'Indies', 'along', 'with', 'any', 'piece', 'from', 'the', 'Available', 'Forces', 'box', '.', 'A', 'Leader', 'has', 'the', 'following', 'impact', 'on', 'play', ':', '•', 'Leader', 'units', 'can', 'not', 'be', 'eliminated', '.', 'If', 'at', 'any', 'time', 'the', 'current', 'Leader', 'is', 'in', 'a', 'space', 'with', 'no', 'pieces', 'of', 'its', 'Faction', ',', 'the', 'owning', 'Faction', 'moves', 'that', 'Leader', 'to', 'any', 'space', 'with', 'the', 'same', 'Faction', '’', 's', 'pieces', 'or', 'to', 'its', 'Available', 'Forces', 'box', '.', '•', 'During', 'the', 'Redeploy', 'Phase', 'of', 'the', 'Winter', 'Quarters', 'Round', ',', 'one', 'Faction', '’', 's', 'Leader', 'may', 'change', '(', '6.5.1', ')', '.', 'Each', 'Faction', 'may', 'move', 'its', 'current', 'Leader', 'to', 'any', 'space', 'with', 'that', 'Faction', '’', 's', 'pieces', 'in', 'the', 'following', 'order', ':', 'Indians', ',', 'French', ',', 'British', ',', 'Patriots', '(', '6.5.2', ')', '.', '•', 'If', 'a', 'Faction', 'plays', 'a', 'Brilliant', 'Stroke', 'card', '(', '5.1.4', ')', ',', 'the', 'Leader', 'must', 'be', 'in', 'a', 'space', 'involved', 'in', 'at', 'least', 'one', 'of', 'the', 'Limited', 'Commands', '(', 'including', 'an', 'origination', 'space', 'for', 'a', 'March', ',', 'Scout', ',', 'Raid', 'or', 'Garrison', 'Limited', 'Command', ')', '.', 'If', 'not', ',', 'the', 'Brilliant', 'Stroke', 'can', 'not', 'be', 'played', '.', 'A', 'Brilliant', 'Stroke', 'card', 'may', 'only', 'be', 'played', 'once', '(', 'unless', 'Trumped', 'by', 'another', 'Faction', 'in', 'which', 'case', 'it', 'is', 'returned', 'for', 'future', 'use', ')', '.', '•', 'Each', 'Leader', 'has', 'a', 'Capability', 'listed', 'in', 'the', 'table', 'below', ':', '110Leader', 'Capabilities', 'Leader', 'Washington', 'Rochambeau', 'Lauzun', 'Gage', 'Howe', 'Clinton', 'Brant', 'Cornplanter', 'Dragging', 'Canoe', 'Capability', 'Double', 'Rebellion', 'Win', 'the', 'Day', 'shift', 'in', 'the', 'space', '.', '–1', 'to', 'Defender', 'Loss', 'Level', 'when', 'Rebellion', 'Defending', 'in', 'the', 'space', 'French', 'March', 'and', 'Battle', 'with', 'Patriot', 'Command', 'at', 'no', 'cost', '.', 'Additional', '+1', 'to', 'Defender', 'Loss', 'Level', 'when', 'French', 'Attacking', 'in', 'the', 'space', '.', '1st', 'shift', ':', 'Reward', 'Loyalty', 'is', 'free', 'in', 'the', 'space', '.', 'Before', 'executing', 'a', 'British', 'SA', '�rst', 'lower', 'FNI', '1', 'level', '.', 'Skirmish', 'removes', '1', 'additional', 'Militia', 'in', 'the', 'space', '.', 'War', 'Path', 'removes', '1', 'additional', 'Militia', 'in', 'the', 'space', '.', 'Gather', 'builds', 'Villages', 'for', '1', 'War', 'Party', 'in', 'the', 'space', '.', 'Raid', 'may', 'move', '1', 'extra', 'space', 'if', 'originated', 'in', 'the', 'space', '.', 'Faction', 'Patriots', 'French', 'French', 'British', 'British', 'British', 'Indians', 'Indians', 'Indians', 'No', 'further', 'changes', 'No', 'further', 'changes', 'No', 'further', 'changes', 'No', 'further', 'changes', 'No', 'changes', 'until', 'TOA', '“', 'In', 'the', 'space', '”', 'means', 'the', 'Leader', 'must', 'be', 'in', 'the', 'space', 'benefiting', 'from', 'the', 'Capability', '.']\n",
            "/content/Information-Retrieval-Project/Rules/GandhiRulesFINALLo-Res.pdf\n",
            "['1.0', 'INTRODUCTION', 'Gandhi', 'is', 'a', '1-', 'to', '4-player', 'board', 'game', 'depicting', 'insurgent', 'and', 'counterinsurgent', '(', 'COIN', ')', 'conflict', 'during', 'the', 'end', 'of', 'the', 'British', 'Raj', 'in', 'India', ',', '1917-1947', ',', 'up', 'to', 'the', 'establishment', 'of', 'the', 'modern', 'states', 'of', 'India', 'and', 'Pakistan', '.', 'Game', 'setup', 'is', 'explained', 'on', 'page', '39', 'of', 'this', 'rule', 'book', '.', 'An', 'index', 'on', 'pages', '46-47', 'lists', 'and', 'defines', 'key', 'game', 'terms', '.', 'Sequences', 'and', 'options', 'for', 'player', 'and', 'Non-player', 'actions', 'are', 'summarized', 'on', 'several', 'aid', 'sheets', '.', '1.1', 'General', 'Course', 'of', 'Play', 'In', 'Gandhi', ',', 'up', 'to', 'four', 'players', 'control', 'Factions', 'seeking', 'to', 'de-', 'termine', 'the', 'fate', 'of', 'India', ':', 'the', 'British', 'Raj', ',', 'the', 'Indian', 'National', 'Congress', ',', 'the', 'Muslim', 'League', ',', 'and', 'the', 'Revolutionaries', '.', 'Each', 'Faction', 'uses', 'its', 'forces', 'and', 'a', 'unique', 'set', 'of', 'abilities', 'to', 'influence', 'spaces', 'on', 'the', 'map', '.', 'Moreover', ',', 'each', 'Faction', 'is', 'working', 'towards', 'a', 'unique', 'victory', 'goal', '.', 'The', 'Raj', 'seeks', 'to', 'control', 'territory', 'and', 'influence', 'the', 'population', 'of', 'India', 'to', 'support', 'its', 'rule', '.', 'The', 'Indian', 'National', 'Congress', 'seeks', 'to', 'disrupt', 'Raj', 'control', 'by', 'building', 'popular', 'opposition', 'to', 'the', 'British', '.', 'The', 'Muslim', 'League', 'also', 'seeks', 'opposition', 'to', 'the', 'British', 'Raj', 'as', 'a', 'means', 'of', 'establishing', 'protected', 'states', 'for', 'Muslim', 'Indians', '.', 'And', 'the', 'Revolutionaries', 'seek', 'to', 'disrupt', 'British', 'Raj', 'control', 'through', 'unrest', 'and', 'to', 'establish', 'bases', 'of', 'Hindu', 'and', 'Sikh', 'influence', '.', 'Gandhi', 'is', 'Volume', 'IX', 'of', 'the', 'COIN', 'Series', 'of', 'games', 'that', 'use', 'similar', 'rules', 'to', 'cover', 'modern', 'and', 'historical', 'insurgencies', '.', 'A', 'deck', 'of', 'cards', 'regulates', 'turn', 'order', ',', 'events', ',', 'victory', 'checks', ',', 'and', 'other', 'processes', '.', 'Each', 'turn', ',', 'a', 'new', 'card', 'is', 'played', 'from', 'the', 'event', 'deck', '.', 'This', 'card', 'determines', 'which', 'two', 'Factions', 'will', 'play', 'this', 'turn', 'and', 'the', 'order', 'in', 'which', 'those', 'Factions', 'will', 'play', '.', 'Each', 'Faction', 'must', 'make', 'a', 'choice', ':', 'make', 'use', 'of', 'the', 'card', 'Event', ',', 'or', 'forgo', 'the', 'Event', 'in', 'order', 'to', 'choose', 'from', 'a', 'unique', 'menu', 'of', 'Operations', 'and', 'Special', 'Activities', '.', 'The', 'choices', 'of', 'one', 'Faction', 'influence', 'the', 'others', ',', 'as', 'a', 'new', 'card', 'is', 'drawn', 'and', 'play', 'continues', '.', 'Periodically', ',', 'a', 'Campaign', 'card', 'interrupts', 'play', ',', 'affording', 'the', 'Factions', 'a', 'moment', '’', 's', 'pause', 'to', 'regroup', 'and', 'prepare', 'for', 'the', 'next', 'round', '.', 'In', 'the', 'end', ',', 'the', 'Faction', 'that', 'most', 'exceeds', 'its', 'goal', 'is', 'the', 'winner', '.', '1.2', 'Components', 'A', 'complete', 'set', 'of', 'Gandhi', 'includes', ':', '●', 'A', '34', '”', 'by', '22', '”', 'game', 'board', '(', '1.3', ')', '●', 'A', 'deck', 'of', '72', 'Event', 'cards', '(', '5.0', ')', '●', '7', 'Campaign', 'cards', '(', '2.4', ')', '●', 'A', 'deck', 'of', '24', 'Arjuna', 'cards', '(', '8.2', ')', '.', '●', '125', 'wooden', 'pieces', '(', '1.4', ')', ':', '15', 'Troops', '(', 'red', 'cubes', ')', '45', 'Sepoys', '(', 'white', 'cubes', ')', '16', 'Muslim', 'League', 'Activists', '(', 'small', 'green', 'cylinders', ')', '16', 'Congress', 'Activists', '(', 'small', 'orange', 'cylinders', ')', '16', 'Rev', '.', 'Guerrillas', '(', 'small', 'octagonal', 'black', 'cylinders', ')', '1', 'Leader', '(', 'large', 'orange', 'cylinder', ')', '5', 'Muslim', 'League', 'Bases', '(', 'green', 'discs', ')', '5', 'Revolutionary', 'Bases', '(', 'black', 'discs', ')', '6', 'Eligibility', 'and', 'Resource', 'tokens', '(', 'medium', 'cylinders', ';', '2', 'red', ',', '1', 'green,1', 'orange', ',', '2', 'black', ')', '●', '12', 'wooden', 'pawns', '(', '6', 'white', ',', '6', 'black', ')', '●', 'A', 'sheet', 'of', 'markers', '.', '●', 'A', 'Sequence', 'of', 'Play', 'and', 'Campaign', 'Round', 'aid', '(', '6.0', ')', '●', '4', 'Faction', 'player', 'aid', 'foldouts', '(', '3.0', ',', '4.0', ',', '7.0', ')', '●', 'A', 'Non-player', 'aid', 'foldout', '(', '8.0', ')', '●', '4', '6-sided', 'dice', '(', '1', 'red', ',', '1', 'orange', ',', '1', 'green', ',', '1', 'black', ')', '●', 'A', 'background', 'Playbook', '●', 'This', 'Rules', 'of', 'Play', 'manual', '1.3', 'The', 'Map', 'The', 'map', 'shows', 'the', 'British', 'colony', 'of', 'India', 'divided', 'into', 'various', 'spaces', '.', '1.3.1', 'Map', 'Spaces', '.', 'There', 'are', 'four', 'types', 'of', 'map', 'spaces', ':', 'Prov-', 'inces', ',', 'Cities', ',', 'States', ',', 'and', 'Railways', ':', '●', 'Cities', 'are', 'urban', 'areas', 'in', 'India', 'that', 'historically', 'were', 'important', 'centers', 'of', 'British', 'imperial', 'administration', '.', '●', 'Provinces', 'are', 'areas', 'that', 'historically', 'were', 'administered', 'directly', 'by', 'the', 'British', 'Raj', '.', '●', 'States', 'are', 'areas', 'that', 'historically', 'were', 'not', 'directly', 'administered', 'by', 'the', 'Raj', '.', 'Princely', 'States', '(', 'shaded', 'yellow', 'and', 'printed', 'on', 'the', 'map', ')', 'were', 'ruled', 'by', 'independent', 'Indian', 'rulers', '.', 'Muslim', 'States', '(', 'denoted', 'by', 'a', 'Muslim', 'State', 'marker', 'in', 'a', 'Province', '’', 's', 'Control', 'Control', 'marker', 'box', 'Province', 'Population', '(', '2', ')', 'Town', 'Railway', 'Province', 'Princely', 'State', 'Muslim', 'Province', 'Province', 'Name', 'Railway', 'Economic', 'Value', '(', '5', ')', 'City', 'Support/Opposition', 'marker', 'box', 'City', 'Population', '(', '1', ')', '3', '©', '2019', 'GMT', 'Games', ',', 'LLC', 'Gandhi', '~', 'Rules', 'marker', 'box', 'placed', 'during', 'the', 'game', ')', 'are', 'areas', 'intended', 'to', 'protect', 'the', 'autonomy', 'of', 'Muslim', 'Indians', '.', '●', 'Railways', 'are', 'lines', 'of', 'communication', 'along', 'which', 'the', 'wealth', 'of', 'India', 'was', 'exported', 'to', 'Britain', '.', '1.3.2', 'Cities', '.', 'Each', 'City', 'shows', 'a', 'Population', 'of', '1', '.', 'Two', 'Cities', 'are', 'also', 'Muslim', 'spaces', '(', '1.3.4', ')', ':', 'Karachi', 'and', 'Calcutta', '.', '1.3.3', 'Provinces', '.', 'Each', 'Province', 'shows', 'a', 'Population', 'of', '1', 'or', '2', '.', 'Seven', 'Provinces', 'are', 'also', 'Muslim', 'spaces', '(', '1.3.4', ')', ':', 'Northwest', 'Frontier', ',', 'Baluchistan', ',', 'Sind', ',', 'Punjab', ',', 'West', 'Bengal', ',', 'East', 'Bengal', ',', 'and', 'Assam', '.', '1.3.4', 'Muslim', 'spaces', '.', 'Green-tinged', 'spaces', 'marked', 'with', 'a', 'crescent', 'moon', 'icon', 'are', 'Muslim', 'spaces', '.', 'Important', ':', 'A', 'Muslim', 'State', 'marker', 'by', 'itself', 'does', 'not', 'turn', 'a', 'space', 'into', 'a', 'Muslim', 'space', '.', '1.3.5', 'States', '.', 'There', 'are', 'two', 'types', 'of', 'States', ':', 'Princely', 'States', 'and', 'Muslim', 'States', '.', 'Princely', 'States', 'are', 'printed', 'on', 'the', 'map', 'and', 'never', 'change', 'status', 'during', 'the', 'game', '.', 'One', 'Princely', 'State', ',', 'Jammu', '&', 'Kashmir', ',', 'is', 'also', 'a', 'Muslim', 'space', '(', '1.3.4', ')', ',', 'but', 'it', 'is', 'not', 'a', 'Muslim', 'State', '.', 'Muslim', 'States', 'come', 'into', 'play', 'during', 'the', 'Muslim', 'League', 'Negotiate', 'and', 'Infiltrate', 'Special', 'Activities', '(', '4.4.1', ',', '4.4.2', ')', 'and', 'some', 'Events', '(', '5.0', ')', '.', 'A', 'Muslim', 'State', 'marker', 'may', 'only', 'ever', 'be', 'placed', 'in', 'a', 'Province', ',', 'and', 'changes', 'that', 'space', 'into', 'a', 'State', '.', 'If', 'the', 'Muslim', 'State', 'marker', 'is', 'later', 'removed', ',', 'the', 'space', 'reverts', 'back', 'to', 'being', 'a', 'Province', 'again', '.', 'PLAY', 'NOTE', ':', 'A', 'Muslim', 'State', 'marker', 'may', 'be', 'placed', 'in', 'a', 'non-', 'Muslim', 'province', '.', 'Any', 'rules', 'that', 'refer', 'to', 'States', 'apply', 'to', 'both', 'Princely', 'States', 'and', 'Muslim', 'States', '.', 'States', 'are', 'not', 'Provinces', 'and', 'are', 'never', 'Controlled', 'by', 'the', 'Raj', '(', 'they', 'are', 'always', '‘', 'spaces', 'with', 'no', 'Raj', 'Control', '’', 'and', 'do', 'not', 'add', 'to', 'Raj', 'victory', 'for', 'Raj', 'Control', '[', '7.2', ']', ')', '.', 'States', 'may', 'never', 'hold', 'Troops', '.', 'When', 'a', 'Muslim', 'State', 'is', 'created', ',', 'the', 'Raj', 'player', 'must', 'immediately', 'move', 'any', 'Troops', 'there', 'to', 'any', 'Cities', '.', 'Important', ':', 'Raj', 'Troops', 'may', 'never', 'enter', 'or', 'be', 'placed', 'in', 'States', 'at', 'any', 'time', '.', '1.3.6', 'Railways', '.', 'Railways', 'affect', 'several', 'Operations', '(', '3.0', ')', 'and', 'Special', 'Activities', '(', '4.0', ')', '.', 'Each', 'Railway', 'is', 'terminated', 'either', 'by', 'a', 'City', 'or', 'a', 'Town', '.', 'Railways', 'are', 'never', 'Controlled', 'by', 'the', 'Raj', 'and', 'they', 'have', 'neither', 'a', 'Support/Opposition', 'value', 'nor', 'Population', '(', 'i.e.', ',', 'they', 'do', 'not', 'add', 'to', 'Raj', 'or', 'Revolutionaries', 'victory', '[', '7.2', ']', ',', 'nor', 'may', 'they', 'hold', 'a', 'Base', '[', '1.4.2', ']', ')', '.', 'Each', 'Railway', 'has', 'an', 'Economic', 'Value', '(', 'Econ', ')', 'that', 'is', 'added', 'to', 'Raj', 'Resources', 'during', 'the', 'Resources', 'Phase', '(', '6.2.2', ')', 'if', 'that', 'Railway', 'does', 'not', 'have', 'a', 'Strike', 'marker', '(', '1.12', ')', '.', 'NV', 'Activists', 'are', 'always', 'Active', '(', '1.4.3', ')', 'when', 'on', 'a', 'Railway', '.', 'PLAY', 'NOTE', ':', 'Railways', 'are', 'spaces', '!', '“', 'Non-Railway', 'spaces', '”', 'are', 'Cities', ',', 'Provinces', ',', 'and', 'States', '.', '1.3.7', 'Protest', 'and', 'Unrest', '.', 'Spaces', 'with', 'a', 'Protest', 'marker', '(', '1.10', ')', 'are', 'Protest', 'spaces', '.', 'Spaces', 'with', 'one', 'or', 'more', 'Unrest', 'markers', '(', '1.11', ')', 'are', 'Unrest', 'spaces', '.', '1.3.8', 'Adjacency', '.', 'Adjacency', 'affects', 'the', 'movement', 'of', 'forces', 'and', 'certain', 'Events', '.', 'Any', 'two', 'spaces', 'meeting', 'one', 'of', 'the', 'following', 'conditions', 'are', 'adjacent', ':', '●', 'Spaces', 'that', 'border', '(', 'touch', ')', 'one', 'another', '.', '●', 'Provinces', 'and', 'States', 'that', 'would', 'touch', 'but', 'for', 'separation', 'by', 'a', 'Railway', '.', '●', 'Railways', ',', 'Provinces', ',', 'or', 'States', 'separated', 'by', 'Towns', '.', 'PLAY', 'NOTE', ':', 'Towns', 'are', 'not', 'spaces', ';', 'they', 'merely', 'terminate', 'Railways', '(', '1.3.6', ')', '.', 'There', 'is', 'one', 'place', 'on', 'the', 'map', 'where', 'a', 'Town', 'links', 'adjacent', 'Provinces', 'and', 'States', ',', 'in', 'the', 'south', ':', 'Bombay', 'Presidency', 'is', 'adjacent', 'to', 'Coastal', 'Andhra', ',', 'and', 'Hyderabad', 'is', 'adjacent', 'to', 'Mysore', '.', '1.3.9', 'Jail', '.', 'The', 'Jail', 'box', 'is', 'used', 'to', 'hold', 'Gandhi', 'and', 'Activists', 'arrested', 'during', 'the', 'Raj', 'Assault', 'Operation', '(', '3.2.4', ')', ',', 'Treaty', 'and', 'Govern', 'Special', 'Activities', '(', '4.2.1', ',', '4.2.2', ')', ',', 'or', 'placed', 'there', 'by', 'Events', '(', '5.0', ')', '.', 'Pieces', 'in', 'Jail', 'are', 'not', 'considered', 'on', 'the', 'map', 'and', 'are', 'not', 'Available', 'until', 'released', '(', 'during', 'NV', 'Rally', 'Operations', '[', '3.3.1', ']', ',', 'Congress', 'Negotiate', '[', '4.3.1', ']', 'or', 'Satyagraha', '[', '4.3.2', ']', 'Spe-', 'cial', 'Activities', ',', 'by', 'Events', ',', 'or', 'during', 'Campaign', 'Rounds', ')', '.', 'When', 'instructed', 'to', 'arrest', 'NV', 'pieces', ',', 'move', 'them', 'to', 'the', 'Jail', 'box', '.', '1.3.10', 'Out', 'of', 'Play', 'Box', '.', 'The', 'Out', 'of', 'Play', 'Box', 'holds', 'forces', 'that', 'are', 'not', 'Available', 'until', 'entered', '.', 'Pieces', 'that', 'are', 'Out', 'of', 'Play', 'enter', 'during', 'Operations', 'or', 'Events', ',', 'or', '(', 'for', 'Raj', 'only', ')', 'during', 'each', 'Crisis', '(', '6.8', ')', '.', '1.3.11', 'Restraint', 'Track', '.', 'The', 'Restraint', 'track', '(', '6.6', ')', 'measures', 'the', 'overall', 'severity', 'of', 'the', 'conflict', 'in', 'India', '.', 'It', 'determines', 'the', 'cost', 'of', 'all', 'Raj', 'Operations', 'that', 'use', 'Sepoys', '(', '3.2', ')', 'and', 'Revolutionaries', 'Unrest', 'Operations', '(', '3.4.4', ')', ',', 'limits', 'the', 'number', 'of', 'spaces', 'Congress', 'may', 'select', 'for', 'Operations', '(', '3.3', ')', ',', 'and', 'determines', 'the', 'number', 'of', 'Available', 'Pro-', 'test', 'markers', '(', '1.10', ')', '.', '1.3.12', 'Unity', 'Track', '.', 'The', 'Unity', 'track', '(', '6.7', ')', 'measures', 'the', 'level', 'of', 'tension', 'between', 'Hindu', 'and', 'Muslim', 'communities', 'in', 'India', '.', 'It', 'affects', 'Muslim', 'League', 'and', 'Revolutionaries', 'Rally', '(', '3.3.1', ',', '3.4.1', ')', ',', 'and', 'limits', 'the', 'number', 'of', 'spaces', 'the', 'Muslim', 'League', 'may', 'select', 'for', 'Operations', '(', '3.3', ')', '.', '1.4', 'Forces', 'The', 'wooden', 'pieces', 'represent', 'the', 'Factions', '’', 'various', 'forces', ':', '●', 'British', 'Army', 'in', 'India', 'Troops', '(', 'red', 'cubes', ')', 'and', 'British', 'Raj', 'Sepoys', '(', 'white', 'cubes', ')', '.', 'The', 'Raj', 'Event', 'card', 'icon', 'is', 'the', 'Star', 'of', 'India', ',', 'and', 'the', 'Raj', 'Eligibility', 'icon', 'is', 'the', 'British', 'crown', ':', 'symbols', 'of', 'British', 'royal', 'sovereignty', 'over', 'India', '.', '●', 'Indian', 'National', 'Congress', 'Activists', '(', 'orange', 'cylinders', ')', 'and', 'Mohandas', 'Gandhi', '(', 'large', 'orange', 'cylinder', ')', '.', 'The', 'Congress', 'Faction', 'icon', 'is', 'a', 'spinning', 'wheel', ',', 'a', 'symbol', 'of', 'Indian', 'political', 'and', 'economic', 'independence', 'that', 'was', 'featured', 'on', 'the', 'Congress', 'swaraj', '(', 'home', 'rule', ')', 'flag', 'of', '1931', '.', '4', 'Gandhi', '~', 'Rules', '©', '2019', 'GMT', 'Games', ',', 'LLC', '●', 'Muslim', 'League', 'Activists', '(', 'green', 'cylinders', ')', 'and', 'Bases', '(', 'green', 'discs', ')', '.', 'The', 'Muslim', 'League', 'Faction', 'icon', 'is', 'a', 'star', 'and', 'crescent', ',', 'a', 'prominent', 'symbol', 'of', 'Islam', 'that', 'later', 'became', 'the', 'basis', 'for', 'the', 'flag', 'of', 'Pakistan', '.', '●', 'Revolutionaries', 'Guerrillas', '(', 'black', 'octagons', ')', 'and', 'Bases', '(', 'black', 'discs', ')', '.', 'The', 'Revolutionaries', 'Faction', 'icon', 'is', 'a', 'tiger', ',', 'based', 'on', 'the', 'Azad', 'Hind', '(', 'free', 'India', ')', 'flag', 'of', 'the', 'WWII', 'era', 'Indian', 'National', 'Army', '.', '1.4.1', 'Availability', 'and', 'Removal', '.', 'The', 'inventory', 'shown', 'on', 'the', '“', 'Available', 'Forces', '”', 'chart', 'on', 'page', '48', 'of', 'this', 'rule', 'book', 'limits', 'the', 'total', 'number', 'of', 'pieces', 'that', 'may', 'be', 'in', 'play', '.', 'Forces', 'not', 'on', 'the', 'map', ',', 'in', 'Jail', ',', 'or', 'in', 'the', 'Out', 'of', 'Play', 'box', 'are', 'kept', 'in', 'the', 'Available', 'Forces', 'boxes', '.', '(', 'Place', 'Revolutionaries', 'Bases', 'in', 'the', 'highest-numbered', 'empty', 'spaces', 'in', 'the', 'Available', 'Bases', 'box', ',', 'revealing', 'the', 'number', 'of', 'on-map', 'Bases', 'to', 'help', 'track', 'Revolutionaries', 'Victory', 'Points', 'and', 'Resource', 'earnings', '.', ')', '●', 'Forces', 'may', 'only', 'be', 'placed', 'from', 'and', 'replaced', 'with', 'those', 'in', 'the', 'Available', 'boxes—ignore', 'any', 'instructions', 'to', 'place', 'or', 'replace', 'forces', 'if', 'the', 'appropriate', 'type', 'is', 'not', 'in', 'the', 'Available', 'box', '(', 'remove', 'rather', 'than', 'replace', 'such', 'pieces', ')', '.', '●', 'Congress', ',', 'the', 'Muslim', 'League', ',', 'and', 'Revolutionaries', 'players', '(', 'only', ')', ',', 'while', 'executing', 'an', 'Operation', ',', 'Special', 'Activity', ',', 'or', 'Event', ',', 'may', 'remove', 'their', 'own', 'pieces', 'on', 'the', 'map', 'to', 'Available', 'Forces', '(', 'exception', ':', 'not', 'Gandhi', ')', '.', '●', 'During', 'Raj', 'Deploy', '(', '3.2.1', ')', ',', 'cubes', 'may', 'be', 'taken', 'from', 'the', 'map', 'if', 'none', 'are', 'Available', '.', '●', 'Protest', 'and', 'Unrest', 'markers', 'may', 'not', 'be', 'removed', 'from', 'the', 'map', 'voluntarily', ',', 'unless', 'as', 'instructed', 'as', 'part', 'of', 'an', 'Operation', ',', 'Special', 'Activity', ',', 'Event', ',', 'or', 'during', 'the', 'Support', 'or', 'Reset', 'Phases', 'of', 'each', 'Campaign', 'Round', '.', '●', 'Rules', 'that', 'apply', 'to', 'Activists', 'affect', 'both', 'Congress', 'and', 'Muslim', 'League', 'pieces', '.', '1.4.2', 'Stacking', '.', 'Any', 'number', 'of', 'forces', 'may', 'occupy', 'a', 'space', ',', 'except', ':', '●', 'The', 'maximum', 'number', 'of', 'Bases', 'allowed', 'in', 'each', 'space', 'is', 'equal', 'to', 'the', 'Population', 'of', 'the', 'space', '(', 'so', 'Bases', 'may', 'never', 'be', 'placed', 'on', 'Railways', ')', '.', '●', 'Troops', 'may', 'never', 'enter', 'or', 'be', 'placed', 'into', 'States', '.', '●', 'A', 'space', 'may', 'only', 'ever', 'hold', 'at', 'most', 'one', 'Protest', 'marker', '.', 'A', 'space', 'may', 'hold', 'any', 'number', 'of', 'Unrest', 'markers', '.', '1.4.3', 'Active', 'Pieces', '.', 'Certain', 'Operations', 'and', 'Special', 'Activities', 'affect', 'only', 'Active', 'pieces', '.', '●', 'Raj', 'cubes', ',', 'Bases', ',', 'and', 'Gandhi', 'are', 'always', 'Active', '.', '●', 'Activists', 'are', 'Active', 'whenever', 'they', 'are', 'in', 'a', 'Protest', 'space', 'or', 'on', 'a', 'Railway', '.', 'Active', 'Activists', 'have', 'their', 'symbol', 'end', 'up', ';', 'otherwise', ',', 'they', 'are', 'Inactive', '.', 'All', 'Activists', 'in', 'a', 'space', 'are', 'Active', 'or', 'Inactive', 'together', '.', '●', 'Guerrillas', 'are', 'Active', 'or', 'Underground', 'as', 'individual', 'pieces', '.', 'Active', 'Guerrillas', 'have', 'their', 'symbol', 'end', 'up', ';', 'otherwise', ',', 'they', 'are', 'Underground', '.', 'Always', 'set', 'up', 'and', 'place', 'new', 'Guerrillas', 'Underground', '(', 'including', 'if', 'replacing', 'a', 'piece', ')', '.', 'PLAY', 'NOTE', ':', 'Unless', 'instructions', 'specify', '“', 'Underground', '”', 'Guerrillas', ',', 'it', 'is', 'sufficient', 'to', '“', 'Activate', '”', 'already', 'Active', 'Guer-', 'rillas', '(', 'they', 'stay', 'Active', ')', '.', 'During', 'play', ',', 'flip', 'Activists', 'if', 'entering', 'or', 'leaving', 'a', 'Protest', 'space', '.', 'Important', ':', 'Activists', 'are', 'always', 'Active', 'whenever', 'they', 'are', 'in', 'Protest', 'spaces', 'and', 'Railways', ',', 'and', 'always', 'Inactive', 'every-', 'where', 'else', '.', '1.4.4', 'Targeting', 'Adversaries', '.', 'Once', 'targeted', ',', 'removal', 'or', 'Activa-', 'tion', 'of', 'pieces', 'to', 'the', 'extent', 'of', 'the', 'executing', 'Faction', '’', 's', 'ability', 'is', 'required', '.', 'During', 'Assault', '(', '3.2.4', ')', 'and', 'Treaty', '(', '4.2.1', ')', ',', 'Raj', 'targets', 'NV', 'forces', 'as', 'one', 'Faction', '.', 'During', 'Attack', '(', '3.4.3', ')', ',', 'Revolutionaries', 'if', 'successful', 'may', 'choose', 'to', 'remove', 'any', 'two', 'adversary', 'pieces', '(', 'not', 'Gandhi', ';', 'Troops', 'and', 'Bases', 'last', ')', '.', '1.4.5', 'Leader', '.', 'The', 'Congress', 'Faction', 'receives', 'one', 'leader', 'token', ',', 'representing', 'Mohandas', 'Gandhi', '.', 'Gandhi', 'is', 'not', 'an', 'Activist', ',', 'but', 'counts', 'as', 'a', 'single', 'piece', 'for', 'purposes', 'of', 'Raj', 'Control', '(', '1.7', ')', '.', 'Additionally', ':', '●', 'Gandhi', 'is', 'always', 'Active', '(', '1.4.3', ')', '.', '●', 'Gandhi', 'can', 'not', 'be', 'eliminated', 'but', 'may', 'be', 'arrested', 'during', 'the', 'Raj', 'Assault', 'Operation', '(', '3.2.4', ')', ',', 'Treaty', 'and', 'Govern', 'Special', 'Activities', '(', '4.2.2', ',', '4.2.3', ')', ',', 'and', 'certain', 'Events', '(', '5.0', ')', '.', '1.5', 'Players', '&', 'Factions', 'Gandhi', 'is', 'playable', 'by', '1', ',', '2', ',', '3', ',', 'or', '4', 'players', '.', 'The', 'Raj', 'is', 'a', 'coun-', 'terinsurgent', '(', 'COIN', ')', 'Faction', ',', 'Congress', 'and', 'the', 'Muslim', 'League', 'are', 'nonviolent', '(', 'NV', ')', 'Factions', ',', 'and', 'the', 'Revolutionaries', 'are', 'an', 'insurgent', 'Faction', '.', 'Leftover', 'Factions', 'are', 'Non-player', 'Factions', '(', 'NP', ')', 'governed', 'by', 'rules', 'section', '8.0', '.', 'Alternatively', ',', 'with', 'two', 'or', 'three', 'players', ',', 'the', 'players', 'may', 'run', 'any', 'leftover', 'Factions', ':', '5', '©', '2019', 'GMT', 'Games', ',', 'LLC', 'Gandhi', '~', 'Rules', '•', 'With', 'three', 'players', ',', 'one', 'player', 'runs', 'Congress', 'and', 'Muslim', 'League', 'or', ',', 'if', 'preferred', ',', 'Raj', 'and', 'Revolutionaries', '.', '•', 'With', 'two', 'players', ',', 'one', 'player', 'runs', 'Congress', 'and', 'Muslim', 'League', ',', 'the', 'other', 'Raj', 'and', 'Revolutionaries', '.', 'A', 'player', 'running', 'two', 'Factions', 'uses', 'the', 'lower', 'victory', 'margin', 'of', 'the', 'two', '(', '7.1-.3', ')', 'and', 'only', 'causes', 'play', 'to', 'end', 'on', 'a', 'victory', 'check', '(', '6.1', ')', 'if', 'both', 'Factions', 'are', 'meeting', 'their', 'conditions', '.', 'For', 'any', 'given', 'Faction', ',', 'friendly', 'pieces', 'are', 'all', 'the', 'pieces', 'belong-', 'ing', 'to', 'that', 'Faction', '.', 'Adversary', 'pieces', 'are', 'any', 'pieces', 'belonging', 'to', 'any', 'other', 'Faction', '.', 'PLAY', 'NOTE', ':', 'Congress', 'and', 'the', 'Muslim', 'League', 'may', 'require', 'more', 'intricate', 'play', 'to', 'achieve', 'their', 'potential', 'and', 'should', 'go', 'to', 'more', 'experienced', 'players', '.', '1.5.1', 'Agreements', '.', 'Players', 'may', 'make', 'any', 'mutual', 'arrangements', 'within', 'the', 'rules', ',', 'binding', 'only', 'as', 'follows', ':', 'once', 'a', 'player', 'agrees', 'to', 'something', 'within', 'the', 'execution', 'of', 'an', 'Operation', ',', 'Special', 'Activity', ',', 'Event', ',', 'or', 'during', 'the', 'Support', 'Phase', ',', 'that', 'agreement', 'holds', 'during', 'that', 'action', '.', 'A', 'player', 'failing', 'to', 'obtain', 'agreement', 'at', 'the', 'outset', 'of', 'an', 'action', 'may', 'cancel', 'the', 'action', '.', 'All', 'negotiations', 'are', 'open', '.', '1.5.2', 'Transferring', 'Resources', '.', 'Raj', 'and', 'Revolutionaries', 'may', 'transfer', 'Resources', 'to', 'each', 'other', 'at', 'any', 'time', 'that', 'one', 'of', 'them', 'is', 'executing', 'an', 'Operation', ',', 'Special', 'Activity', ',', 'or', 'Event', '.', '1.6', 'Support', 'and', 'Opposition', 'Support', 'and', 'Opposition', 'affect', 'victory', 'and', 'some', 'Operations', 'and', 'Special', 'Activities', '.', '1.6.1', 'Levels', 'of', 'Support/Opposition', '.', 'City', ',', 'Province', ',', 'and', 'State', 'spaces', 'always', 'show', 'one', 'of', 'five', 'levels', 'of', 'its', 'populace', '’', 's', 'Support', 'for', 'or', 'Opposition', 'to', 'the', 'colonial', 'Raj', 'government', ':', '●', 'Active', 'Support', '.', '●', 'Passive', 'Support', '.', '●', 'Neutral', '.', '●', 'Passive', 'Opposition', '.', '●', 'Active', 'Opposition', '.', '1.6.2', 'Active', 'Support/Opposition', '.', 'Active', 'Support/Opposition', 'counts', 'double', 'Population', 'for', 'Total', 'Support/Opposition', '(', '1.6.3', ',', '1.6.4', ')', 'affecting', 'victory', '(', '7.2', ')', '.', 'Show', 'the', 'current', 'level', 'of', 'Support', 'or', 'Opposition', 'with', 'markers', 'placed', 'in', 'each', 'space', '.', 'Show', 'Neutral', 'by', 'the', 'absence', 'of', 'such', 'markers', '.', '1.6.3', 'Total', 'Support', '&', 'Total', 'Opposition', '.', 'Raj', ',', 'Congress', ',', 'and', 'Muslim', 'League', 'victory', 'depends', 'on', 'the', 'total', 'value', 'of', 'population', 'Support', 'or', 'Opposition', ',', 'respectively', '.', 'Adjust', 'VC', 'markers', 'on', 'the', 'numbered', 'edge', 'track', 'as', 'any', 'change', 'to', 'Support', 'or', 'Opposition', 'occurs', '.', 'Neutral', 'Total', 'Support', '=', '(', '2', 'x', 'Population', 'in', 'Active', 'Support', ')', '+', '(', '1', 'x', 'Population', 'in', 'Passive', 'Support', ')', 'Total', 'Opposition', '=', '(', '2', 'x', 'Population', 'in', 'Active', 'Opposition', ')', '+', '(', '1', 'x', 'Population', 'in', 'Passive', 'Opposition', ')', '1.6.4', 'Total', 'Muslim', 'Opposition', '.', 'The', 'Muslim', 'League', 'only', 'gains', 'victory', 'points', 'for', 'Opposition', 'in', 'one', 'of', 'the', '10', 'Muslim', 'spaces', 'printed', 'on', 'the', 'map', '(', '7.2', ')', ':', 'Total', 'Muslim', 'Opposition', '=', '(', '2', 'x', 'Population', 'of', 'Muslim', 'spaces', 'in', 'Active', 'Opposition', ')', '+', '(', '1', 'x', 'Population', 'of', 'Muslim', 'spaces', 'in', 'Passive', 'Opposition', ')', '1.7', 'Raj', 'Control', 'Control', 'affects', 'certain', 'Faction', 'activities', 'and', 'vic-', 'tory', '.', 'Only', 'the', 'Raj', 'Faction', 'may', 'Control', 'a', 'space', '.', 'Adjust', 'Control', 'markers', 'as', 'Raj', 'Control', 'changes', 'due', 'to', 'Operations', ',', 'Special', 'Activities', ',', 'Events', ',', 'voluntary', 'force', 'removal', ',', 'and', 'during', 'the', 'Redeploy', 'Phase', 'of', 'Campaign', 'Rounds', '(', '6.4', ')', '.', '1.7.1', 'Raj', 'Control', '.', 'Raj', 'gains', 'Control', 'in', 'a', 'City', 'or', 'Province', 'if', 'the', 'number', 'of', 'cubes', 'there', 'exceed', 'all', 'other', 'Active', 'pieces', '(', '1.4.3', ')', '.', 'Congress', ',', 'the', 'Muslim', 'League', ',', 'and', 'the', 'Revolutionaries', 'can', 'not', 'Control', 'Cities', 'or', 'Provinces', ',', 'but', 'may', 'deny', 'Raj', 'Control', 'by', 'the', 'presence', 'of', 'their', 'Active', 'pieces', '.', 'Raj', 'Control', 'affects', 'certain', 'activi-', 'ties', '.', 'Place', 'or', 'remove', 'Raj', 'Control', 'markers', 'as', 'Raj', 'Control', 'changes', 'due', 'to', 'placement', ',', 'removal', ',', 'activation', ',', 'or', 'movement', 'of', 'pieces', '.', '1.7.2', 'Spaces', 'That', 'May', 'Be', 'Controlled', '.', 'Only', 'Cities', 'and', 'Prov-', 'inces', 'can', 'ever', 'be', 'Controlled', 'by', 'the', 'Raj', '.', 'Cities', 'and', 'Provinces', 'without', 'sufficient', 'cubes', 'for', 'Raj', 'Control', ',', 'Princely', 'States', ',', 'Muslim', 'States', ',', 'and', 'Railways', 'are', 'termed', '‘', 'spaces', 'with', 'no', 'Raj', 'Control.', '’', 'EXAMPLE', 'of', 'Raj', 'Control', ':', 'There', 'are', '2', 'Troops', ',', '2', 'Sepoys', ',', 'a', 'Pro-', 'test', 'marker', ',', 'and', '5', 'Congress', 'Activists', 'in', 'East', 'Bengal', '.', 'Raj', 'does', 'not', 'have', 'more', 'cubes', 'than', 'Active', 'adversaries', 'there', ',', 'so', 'no', 'Raj', 'Control', 'marker', 'is', 'placed', 'in', 'the', 'space', '.', 'If', 'the', 'Protest', 'marker', 'were', 'removed', ',', 'all', 'Activists', 'would', 'be', 'flipped', 'to', 'their', 'Inactive', 'side', 'and', '6', 'Gandhi', '~', 'Rules', '©', '2019', 'GMT', 'Games', ',', 'LLC', 'cubes', 'would', 'exceed', 'Active', 'adversaries', '.', 'In', 'this', 'case', ',', 'Raj', 'would', 'place', 'a', 'Raj', 'Control', 'marker', 'in', 'the', 'space', '.', 'Important', ':', 'Only', 'count', 'Active', 'pieces', 'when', 'determining', 'Raj', 'Control—all', 'Raj', 'cubes', ',', 'Gandhi', ',', 'all', 'Bases', ',', 'Active', 'Guerrillas', ',', 'and', 'Active', 'Activists', '(', 'any', 'Activists', 'in', 'Protest', 'spaces', 'or', 'on', 'Railways', ')', '.', '1.8', 'Resources', 'At', 'any', 'moment', ',', 'Raj', 'and', 'Revolutionar-', 'ies', '(', 'only', ')', 'each', 'have', 'between', '0', 'and', '50', 'Resources', 'used', 'to', 'pay', 'for', 'Operations', '(', '3.0', ')', ',', 'some', 'Special', 'Activities', '(', '4.0', ')', ',', 'and', 'during', 'the', 'Support', 'Phase', 'of', 'Campaign', 'Rounds', '(', '6.3', ')', '.', 'Mark', 'current', 'Resources', 'on', 'the', 'edge', 'track', 'with', 'a', 'cylinder', 'of', 'the', 'Faction', '’', 's', 'color', '(', '1.5', ')', '.', '1.9', 'Victory', 'Markers', 'Each', 'Faction', 'has', 'a', 'victory', 'marker', 'with', 'which', 'to', 'track', 'the', 'fol-', 'lowing', 'totals', 'that', 'affect', 'victory', '(', '7.0', ')', '.', '●', 'British', 'Raj', ':', 'Total', 'Support', '(', '1.6', ')', 'plus', 'Population', 'of', 'Spaces', 'with', 'Raj', 'Control', '(', '1.7', ')', '.', '●', 'Congress', ':', 'Total', 'Opposition', '(', '1.6', ')', '.', '●', 'Muslim', 'League', ':', 'Total', 'Muslim', 'Opposition', '(', '1.6', ')', 'plus', 'the', 'twice', 'the', 'Total', 'Population', 'of', 'Muslim', 'States', '(', '1.3.5', ')', '.', '●', 'Revolutionaries', ':', 'Total', 'Population', 'of', 'spaces', 'with', 'at', 'least', 'one', 'Unrest', 'Marker', '(', '1.11', ')', 'plus', 'the', 'number', 'of', 'Revolutionaries', 'Bases', 'on', 'the', 'map', '.', '1.10', 'Protest', 'Markers', 'Protest', 'markers', 'are', 'placed', 'during', 'NV', 'Civil', 'Dis-', 'obedience', 'and', 'Demonstrate', 'Operations', '(', '3.3.2', ',', '3.3.3', ')', 'and', 'Events', '(', '5.0', ')', '.', 'The', 'total', 'number', 'of', 'Protest', 'markers', 'Available', 'to', 'be', 'placed', 'during', 'Operations', 'is', 'limited', 'by', 'the', 'current', 'Restraint', 'value', '(', '6.6', ')', '.', 'Next', 'to', 'each', 'space', 'on', 'the', 'Restraint', 'track', 'there', 'are', 'boxes', 'that', 'hold', 'one', 'or', 'two', 'Protest', 'markers', '.', 'During', 'Operations', ',', 'only', 'Protest', 'markers', 'in', 'boxes', 'to', 'the', 'right', 'of', 'and', 'above', 'the', 'Restraint', 'marker', 'are', 'Available', 'to', 'be', 'placed', '.', 'Restraint', 'does', 'not', 'limit', 'placement', 'during', 'Events', '.', 'When', 'plac-', 'ing', 'a', 'Protest', 'marker', 'during', 'an', 'Event', ',', 'draw', 'from', 'the', 'lowest', 'numbered', 'occupied', 'Protest', 'marker', 'box', '.', 'When', 'removing', 'markers', 'from', 'the', 'map', ',', 'return', 'them', 'to', 'the', 'high-', 'est', 'numbered', 'open', 'Protest', 'marker', 'box', ',', 'regardless', 'of', 'current', 'Restraint', '.', 'A', 'Protest', 'marker', 'in', 'a', 'space', 'makes', 'that', 'a', 'Protest', 'space', '.', 'In', 'ad-', 'dition', ':', '●', 'Flip', 'all', 'Activists', 'in', 'a', 'Protest', 'space', 'to', 'their', 'Active', 'side', '(', '1.4.3', ')', '.', '●', 'Only', 'one', 'Protest', 'marker', 'may', 'be', 'placed', 'in', 'each', 'space', '.', '●', 'Railways', 'may', 'hold', 'Protest', 'markers', '.', 'During', 'the', 'Resources', 'phase', 'of', 'each', 'Campaign', 'Round', '(', '6.2.1', ')', ',', 'convert', 'each', 'Protest', 'marker', 'on', 'a', 'Railway', 'into', 'a', 'Strike', 'marker', '.', '●', 'Protest', 'markers', 'may', 'only', 'be', 'removed', 'during', 'Congress', 'and', 'Muslim', 'League', 'Negotiate', '(', '4.3.1', ',', '4.4.1', ')', ',', 'Raj', 'Govern', '(', '4.2.2', ')', ',', 'and', 'Muslim', 'League', 'and', 'Revolutionaries', 'Infiltrate', '(', '4.4.2', ',', '4.5.2', ')', 'Special', 'Activities', ';', 'by', 'some', 'Events', '(', '5.0', ')', ';', 'and', 'during', 'Campaign', 'Rounds', '(', '6.0', ')', '.', '●', 'Raj', 'cubes', 'may', 'not', 'exit', 'Protest', 'spaces', 'during', 'Raj', 'Garrison', '(', '3.2.2', ')', ',', 'and', 'Sweep', '(', '3.2.3', ')', 'Operations', ',', 'or', 'Treaty', '(', '4.2.1', ')', 'Special', 'Activity', '(', 'but', 'may', 'enter', 'Protest', 'spaces', ')', '.', '●', 'Changes', 'in', 'Restraint', 'do', 'not', 'affect', 'Protest', 'markers', 'already', 'on', 'the', 'map', '.', 'EXAMPLE', 'of', 'Available', 'Protest', 'Markers', ':', 'Restraint', 'is', '4', '.', 'Two', 'Protest', 'markers', 'are', 'Available', ':', 'those', 'in', 'boxes', '1', 'and', '2', '.', '1.11', 'Unrest', 'Markers', 'Unrest', 'markers', 'are', 'placed', 'during', 'some', 'Operations', '(', '3.0', ')', ',', 'Spe-', 'cial', 'Activities', '(', '4.0', ')', ',', 'and', 'Events', '(', '5.0', ')', '.', 'The', 'flipside', 'of', 'an', 'Unrest', 'marker', 'is', 'a', 'Strike', 'marker', '(', '1.12', ')', '.', '●', 'Unrest', 'markers', 'add', 'to', 'Revolutionaries', 'Victory', '(', '7.2', ')', 'but', 'unlike', 'Protest', 'markers', 'do', 'not', 'have', 'additional', 'affects', 'in', 'their', 'space', '.', '●', 'Unrest', 'markers', 'are', 'removed', 'by', 'Raj', 'Imperialism', 'during', 'the', 'Govern', 'Special', 'Activity', '(', '4.2.3', ')', 'and', 'during', 'the', 'Support', 'Phase', '7', '©', '2019', 'GMT', 'Games', ',', 'LLC', 'Gandhi', '~', 'Rules', '(', '6.3.1', ')', ',', 'Congress', 'Satyagraha', 'Special', 'Activity', '(', '4.3.2', ')', ',', 'NV', 'Negotiate', 'Special', 'Activity', '(', '4.3.1', ',', '4.4.1', ')', ',', 'some', 'Events', '(', '5.0', ')', ',', 'and', 'during', 'the', 'Reset', 'Phase', 'of', 'each', 'Campaign', 'Round', '(', '6.5', ')', 'in', 'spaces', 'without', 'Guerrillas', '.', '●', 'There', 'are', '12', 'Unrest/Strike', 'markers', 'total', '.', 'If', 'all', 'Unrest', 'markers', 'are', 'in', 'play', ',', 'do', 'not', 'place', 'one', 'if', 'called', 'for', '.', '1.12', 'Strike', 'Markers', 'Strike', 'markers', 'are', 'only', 'placed', 'on', 'Railways', '.', 'They', 'may', 'be', 'placed', 'during', 'some', 'Operations', '(', '3.0', ')', ',', 'Events', '(', '5.0', ')', ',', 'and', 'Campaign', 'Rounds', '.', 'The', 'flipside', 'of', 'a', 'Strike', 'marker', 'is', 'an', 'Unrest', 'marker', '(', '1.11', ')', '.', '●', 'The', 'Raj', 'Faction', 'does', 'not', 'earn', 'Resources', 'from', 'Railways', 'with', 'Strike', 'markers', 'during', 'the', 'Resource', 'Phase', 'of', 'each', 'Campaign', 'Round', '(', '6.2.2', ')', '.', '●', 'Strike', 'markers', 'are', 'removed', 'by', 'the', 'Raj', 'Govern', 'Special', 'Activity', '(', '4.2.2', ')', ',', 'some', 'Events', '(', '5.0', ')', ',', 'and', 'during', 'the', 'Reset', 'Phase', 'of', 'each', 'Campaign', 'Round', '(', '6.5', ')', '.', '●', 'There', 'are', '12', 'Unrest/Strike', 'markers', 'total', '.', 'If', 'all', 'Strike', 'markers', 'are', 'in', 'play', ',', 'do', 'not', 'place', 'one', 'if', 'called', 'for', '.', 'EXAMPLE', 'of', 'Placing', 'a', 'Strike', 'Marker', ':', 'Revolutionaries', 'execute', 'an', 'Unrest', 'Operation', '(', '3.4.4', ')', 'on', 'a', '5', 'Econ', 'Railway', '.', 'Rather', 'than', 'placing', 'an', 'Unrest', 'marker', ',', 'place', 'a', 'Strike', 'marker', 'instead', '.', '1.13', 'Campaign', 'Card', 'Marker', 'A', 'Campaign', 'Card', 'marker', 'is', 'kept', 'on', 'the', 'Sequence', 'of', 'Play', 'chart', 'on', 'the', 'map', '.', 'Optionally', ',', 'it', 'may', 'be', 'used', 'during', 'Campaign', 'Rounds', '(', '6.0', ')', 'to', 'mark', 'the', 'current', 'phase', '.']\n",
            "/content/Information-Retrieval-Project/Rules/FireLake-RULES-2018.pdf\n",
            "['1.0', 'INTRODUCTION', 'Fire', 'in', 'the', 'Lake', 'is', 'a', '1-', 'to', '4-player', 'board', 'game', 'depicting', 'insurgent', 'and', 'counterinsurgent', '(', 'COIN', ')', 'conflict', 'during', 'the', 'main', 'US', 'period', 'in', 'Vietnam', ',', '1964-1972', ',', 'up', 'to', 'the', '“', 'Paris', 'Peace', '”', '.', 'Each', 'player', 'takes', 'the', 'role', 'of', 'a', 'Faction', 'seeking', 'to', 'set', 'the', 'fate', 'of', 'South', 'Vietnam', ':', 'the', 'United', 'States', '(', 'US', ')', ',', 'North', 'Vietnamese', 'forces', '(', 'NVA', ')', ',', 'the', 'Republic', 'of', 'Vietnam', 'forces', '(', 'ARVN', ')', ',', 'or', 'the', 'southern', 'communist', 'Viet', 'Cong', '(', 'VC', ')', '.', 'Using', 'military', ',', 'political', ',', 'and', 'economic', 'actions', 'and', 'exploit-', 'ing', 'various', 'events', ',', 'players', 'build', 'and', 'maneuver', 'forces', 'to', 'influence', 'or', 'control', 'the', 'population', ',', 'extract', 'resources', ',', 'or', 'otherwise', 'achieve', 'their', 'Faction', '’', 's', 'aims', '.', 'A', 'deck', 'of', 'cards', 'regulates', 'turn', 'order', ',', 'events', ',', 'victory', 'checks', ',', 'and', 'other', 'processes', '.', 'The', 'rules', 'can', 'run', 'non-player', 'Factions', ',', 'enabling', 'solitaire', ',', '2-player', ',', 'or', 'multi-player', 'games', '.', 'Fire', 'in', 'the', 'Lake', 'is', 'Volume', 'IV', 'in', 'the', 'COIN', 'Series', 'of', 'games', 'that', 'use', 'similar', 'rules', 'to', 'cover', 'modern', 'Insurgencies', 'and', 'other', 'inter-fac-', 'tional', 'conflicts', '.', 'The', 'Playbook', 'lists', 'major', 'rules', 'differences', 'from', 'earlier', 'volumes', '.', 'This', 'Second', 'Edition', 'alters', 'Air', 'Strike', '(', '4.2.3', ')', ',', 'the', 'Commitment', 'Phase', '(', '6.5', ')', 'and', 'nine', 'cards', 'labeled', '“', '2nd', 'Ed', '”', '.', 'Game', 'set', 'up', 'is', 'explained', 'on', 'pages', '23-24', 'of', 'this', 'rule', 'book', '.', 'An', 'index', 'on', 'pages', '21-22', 'lists', 'and', 'defines', 'key', 'game', 'terms', '.', 'Sequences', 'and', 'options', 'for', 'player', 'and', 'non-player', 'actions', 'are', 'summarized', 'on', 'several', 'aid', 'sheets', '.', '1.1', 'General', 'Course', 'of', 'Play', 'Fire', 'in', 'the', 'Lake—unlike', 'many', 'card-assisted', 'war', 'games—does', 'not', 'use', 'hands', 'of', 'cards', '.', 'Instead', ',', 'cards', 'are', 'played', 'from', 'the', 'deck', 'one', 'at', 'time', ',', 'with', 'one', 'card', 'ahead', 'revealed', 'to', 'all', 'players', '.', 'Each', 'Event', 'card', 'shows', 'the', 'order', 'in', 'which', 'the', 'Factions', 'become', 'Eligible', 'to', 'choose', 'between', 'the', 'card', '’', 's', 'Event', 'or', 'one', 'of', 'a', 'menu', 'of', 'Operations', 'and', 'Special', 'Activities', '.', 'Executing', 'an', 'Event', 'or', 'Operation', 'carries', 'the', 'penalty', 'of', 'rendering', 'that', 'Faction', 'Ineligible', 'to', 'do', 'so', 'on', 'the', 'next', 'card', '.', 'Coup', 'cards', 'mixed', 'in', 'with', 'the', 'Event', 'cards', 'provide', 'periodic', 'opportunities', 'for', 'instant', 'wins', 'and', 'for', 'activities', 'such', 'as', 'collecting', 'resources', 'and', 'influencing', 'popular', 'sympathies', '.', '1.2', 'Components', 'A', 'complete', 'set', 'of', 'Fire', 'in', 'the', 'Lake', 'includes', ':', '•', 'A', '22', '”', 'x34', '”', 'mounted', 'game', 'board', '(', '1.3', ')', '.', '•', 'A', 'deck', 'of', '130', 'cards', '(', '5.0', ')', '.', '•', '229', 'olive', ',', 'bright', 'blue', ',', 'red', ',', 'yellow', ',', 'and', 'orange', 'wooden', 'playing', 'pieces', ',', 'many', 'embossed', '(', '1.4', ';', 'see', '“', 'Forces', 'Pool', '”', 'on', 'the', 'Spaces', 'List', 'sheet', 'for', 'a', 'complete', 'listing', ')', '.', '•', '7', 'embossed', 'cylinders', '(', '1.8', ',', '2.2', ')', '.', '•', '6', 'black', 'and', '6', 'white', 'pawns', '(', '3.1.1', ')', '.', '•', 'A', 'sheet', 'of', 'markers', '.', '•', '2', 'Sequence', 'of', 'Play', 'and', 'Spaces', 'List', 'sheets', '(', '1.4.1', ',', '2.0', ',', '6.0', ')', '.', '•', '4', 'Faction', 'player', 'aid', 'foldouts', '(', '3.0', ',', '4.0', ',', '7.0', ')', '.', '•', 'A', 'Random', 'Spaces', 'and', 'Non-player', 'Events', 'sheet', '(', '8.2', ',', '8.4', ')', '.', '•', '2', 'Non-player', 'Operations', 'foldouts', '(', '8.5-8.8', ')', '.', '•', '3', '6-sided', 'dice—1', 'blue', ',', '1', 'red', ',', '1', 'yellow', '.', '•', 'A', 'background', 'play', 'book', '.', '•', 'This', 'rule', 'book', '.', '1.3', 'The', 'Map', 'The', 'map', 'shows', 'South', 'Vietnam', 'and', 'nearby', 'areas', 'divided', 'into', 'various', 'types', 'of', 'spaces', '.', '1.3.1', 'Map', 'Spaces', '.', 'Map', 'spaces', 'include', 'rural', 'Provinces', ',', 'Cities', ',', 'and', 'Lines', 'of', 'Communication', '(', 'LoCs', ')', 'that', 'are', 'either', 'Highways', 'or', 'the', 'Mekong', 'river', '.', 'All', 'spaces—including', 'LoCs—can', 'hold', 'forces', '.', 'Towns', 'are', 'not', 'spaces', ',', 'merely', 'boundaries', 'between', 'adjacent', 'LoCs', '(', '1.3.6', ')', '1.3.2', 'Provinces', '.', 'Each', 'Province', 'shows', 'a', 'Population', 'value', '(', 'Pop', ')', 'of', '0', ',', '1', ',', 'or', '2', 'that', 'affects', 'victory', 'via', 'Support', 'for', 'or', 'Opposition', 'to', 'the', 'Saigon', 'regime', '(', '1.6', ')', 'or', 'Control', '(', '1.7', ')', 'and', 'some', 'Insurgent', 'actions', '.', 'Provinces', 'are', 'further', 'distinguished', 'as', 'Highland', ',', 'Lowland', ',', 'or', 'Jungle', ',', 'affecting', 'Counterinsurgent', 'Sweeps', '(', '3.2.3', ')', ',', 'Assaults', '(', '3.2.4', ')', ',', 'and', 'certain', 'Events', '(', '5.0', ')', '.', '3Fire', 'in', 'the', 'Lake', '©', '2018', 'GMT', 'Games', ',', 'LLC', '1.3.3', 'Cities', '.', 'Cities', 'similarly', 'show', 'Population', 'value', 'of', '1', ',', '2', ',', 'or', '6', '.', 'DESIGN', 'NOTE', ':', 'Each', 'Population', 'value', 'represents', 'about', '500,000', 'citizens', 'of', 'South', 'Vietnam', '.', '1.3.4', 'LoCs', '.', 'Each', 'Line', 'of', 'Communication', '(', 'LoC', ')', 'space', 'is', 'either', 'Highway', '(', 'road', ')', 'or', 'Mekong', '(', 'river', ')', 'or', 'both', 'and', 'shows', 'an', 'Economic', 'value', '(', 'Econ', ')', 'of', '0', ',', '1', ',', 'or', '2', 'affecting', 'ARVN', 'Resource', 'earnings', '(', '1.8', ',', '6.2.3', ')', 'and', 'Viet', 'Cong', 'Taxation', '(', '4.5.1', ')', '.', 'NOTE', ':', 'LoCs', 'are', 'spaces', '!', '1.3.5', 'Foreign', 'Countries', '.', 'The', 'map', '’', 's', 'Provinces', 'include', 'parts', 'of', 'North', 'Vietnam', ',', 'Laos', ',', 'and', 'Cambodia', '.', 'All', 'other', 'spaces', 'are', 'South', 'Vietnam', '(', '“', 'The', 'South', '”', ')', '.', 'Only', 'NVA', 'and', 'VC', 'may', 'stack', 'in', 'North', 'Vietnam', '(', '1.4.2', ')', '.', 'US', 'and', 'ARVN', 'may', 'enter', 'Laos', 'or', 'Cambodia', 'spaces', 'normally', ',', 'but', 'at', 'risk', 'of', 'later', 'removal', '(', '6.4.1', ')', '.', '1.3.6', 'Adjacency', '.', 'Adjacency', 'affects', 'the', 'movement', 'of', 'forces', 'and', 'implementation', 'of', 'certain', 'Events', '.', 'Any', '2', 'spaces', 'meeting', 'one', 'of', 'the', 'following', 'conditions', 'are', 'adjacent', ':', '•', 'Spaces', 'that', 'border', 'on', '(', 'touch', ')', 'one', 'another', '.', '•', 'Provinces', 'that', 'would', 'touch', 'but', 'for', 'separation', 'by', 'a', 'LoC', '.', '•', 'LoCs', 'or', 'Provinces', 'separated', 'by', 'Towns', '.', 'NOTE', ':', 'Towns', 'are', 'not', 'spaces', ';', 'they', 'merely', 'terminate', 'LoCs', '(', '1.3.1', ')', '.', 'ADJACENCY', 'EXAMPLE', ':', 'Quang', 'Duc', 'Province', 'and', 'Route', '11', 'are', 'adjacent', 'via', 'Da', 'Lat', ',', 'as', 'are', 'Quang', 'Duc', 'and', 'Khanh', 'Hoa', 'across', 'Route', '21', '.', '1.3.7', 'Coasts', '.', 'Any', 'spaces', 'adjacent', 'to', 'blue', 'ocean', '(', 'including', 'across', 'a', 'LoC', ')', 'are', 'coastal', ',', 'affecting', 'the', 'Amphibious', 'Landing', ',', 'Operation', 'Starlite', ',', 'and', 'USS', 'New', 'Jersey', 'Events', '(', '5.0', ')', '.', '1.3.8', 'Overflow', '.', 'Use', '“', 'Overflow', '”', 'boxes', 'for', 'pieces', 'that', 'exceed', 'the', 'room', 'in', 'a', 'space', 'on', 'the', 'map', ';', 'place', 'the', 'lettered', 'marker', 'in', 'that', 'space', '.', '1.4', 'Forces', 'The', 'wooden', 'pieces', 'represent', 'the', 'Factions', '’', 'various', 'forces', ':', 'US', 'Troops', '(', 'olive', 'cubes', ')', ',', 'ARVN', 'Troops', '(', 'yellow', 'cubes', ')', 'and', 'Police', '(', 'orange', 'cubes', ')', ',', 'NVA', 'Troops', '(', 'red', 'cubes', ')', ',', 'NVA', 'and', 'VC', 'Guerrillas', ',', 'US', 'and', 'ARVN', 'Special', 'Forces', '(', 'SF', ')', ',', 'and', 'all', 'Factions', '’', 'Bases', '.', 'DESIGN', 'NOTE', ':', 'ARVN', 'Police', 'represent', 'both', 'urban', 'police', 'and', 'rural', 'militias', 'such', 'as', 'Regional', 'Forces', 'and', 'Popular', 'Forces', '.', 'US-led', 'Irregulars', 'include', 'both', 'CIDG', 'counter-guerrillas', 'and', 'US', 'special', 'operations', 'forces', 'training', 'them', 'or', 'operating', 'on', 'their', 'own', '.', 'Bases', 'represent', 'command', ',', 'training', ',', 'and', 'supply', 'facilities', 'as', 'well', 'as', 'polit-', 'ical', 'administration', '.', '1.4.1', 'Availability', ',', 'Removal', ',', 'and', 'Out', 'of', 'Play', '.', 'A', '“', 'Force', 'Pool', '”', 'in-', 'ventory', 'on', 'the', 'Spaces', 'List', 'sheet', 'shows', 'the', 'number', 'of', 'pieces', 'in', 'the', 'game', '.', 'Keep', 'forces', 'Available', 'for', 'placement', 'in', 'the', 'Faction', '’', 's', 'Available', 'Forces', 'box', '(', 'or', 'the', 'US-led', 'Irregulars', 'box', ')', '.', 'Place', 'NVA', 'and', 'VC', 'Bases', 'in', 'the', 'highest-', 'and', 'US', 'Bases', 'and', 'Troops', 'in', 'the', 'lowest-numbered', 'empty', 'spaces', 'to', 'show', 'the', 'number', 'of', 'on-map', 'Bases', 'and', 'Available', 'US', 'Bases', 'and', 'Troops', 'to', 'help', 'track', 'earnings', '(', '6.2', ')', 'and', 'victory', '(', '7.0', ')', '.', 'US', 'and', 'ARVN', 'may', 'have', 'forces', 'in', 'the', 'Out', 'of', 'Play', 'box—neither', 'Available', 'nor', 'on', 'the', 'map—and', 'US', 'forces', 'can', 'become', 'Casualties', '(', '3.3.3', ',', '4.4.2', ',', '5.0', ',', '6.5', ')', '.', 'Otherwise', ',', 'forces', 'removed', 'from', 'the', 'map', 'go', 'to', 'Available', '.', '•', 'Unless', 'otherwise', 'instructed', '(', 'by', 'Event', ',', '5.1.1', ')', ',', 'forces', 'may', 'only', 'be', 'placed', 'from', 'or', 'replaced', 'with', 'those', 'in', 'the', 'Available', 'boxes', '.', 'A', 'piece', 'to', 'be', 'replaced', 'by', 'a', 'piece', 'that', 'is', 'unavailable', 'is', 'simply', 'removed', '(', 'EXCEPTION', ':', 'Infiltrate', ',', '4.4.1', ')', '.', '•', 'Important', ':', 'Factions', 'while', 'executing', 'an', 'Operation', ',', 'Special', 'Activity', ',', 'or', 'Event', 'to', 'place', 'their', 'own', 'forces', 'may', 'take', 'them', 'from', 'elsewhere', 'on', 'the', 'map', '(', 'including', 'a', 'Tunneled', 'Base', ',', 'losing', 'the', 'Tunnel', 'marker', ',', '1.4.4', ')', 'if', 'and', 'only', 'if', 'the', 'desired', 'force', 'type', 'is', 'not', 'Available', '.', 'EXCEPTION', ':', 'The', 'US', 'player', 'may', 'do', 'so', 'only', 'with', 'US-led', 'Irregulars', 'and', 'any', 'ARVN', 'forces', ',', 'not', 'with', 'US', 'Troops', 'nor', 'with', 'US', 'Bases', '.', 'EXAMPLES', ':', 'NVA', 'without', 'Available', 'Guerrillas', 'could', 'remove', 'its', 'own', 'during', 'a', 'Rally', '(', '3.3.1', ')', 'to', 'place', 'them', 'Underground', '.', 'US', 'Train', 'could', 'take', 'Police', 'from', 'another', 'space', 'if', 'none', 'Available', '.', '1.4.2', 'Stacking', '.', 'No', 'more', 'than', '2', 'Bases', '(', 'of', 'any', 'Factions', ')', 'may', 'occupy', 'a', 'single', 'Province', 'or', 'City', '.', 'Bases', 'may', 'not', 'occupy', 'LoCs', '.', 'Only', 'NVA', 'and', 'VC', 'forces', 'may', 'occupy', 'North', 'Vietnam', '(', '1.3.5', ')', '.', '•', 'Placing', '(', 'such', 'as', 'Bases', 'via', 'Train', '3.2.1', ',', 'Rally', '3.3.1', ',', 'Event', '5.1.1', ',', 'or', 'Commitment', '6.5', ')', 'or', 'moving', 'forces', 'may', 'never', 'violate', 'stacking', '.', '1.4.3', 'Underground/Active', '.', 'Guerrillas', 'and', 'Special', 'Forces', 'are', 'either', 'Underground—symbol', 'end', 'down—or', 'Active—symbol', 'end', 'up', '.', 'Actions', 'and', 'Events', 'flip', 'them', 'from', 'one', 'to', 'the', 'other', 'state', '.', 'Bases', ',', 'Troops', ',', 'and', 'Police', 'are', 'always', 'Active', '.', 'Always', 'set', 'up', 'and', 'place', 'new', 'Cubes', ':', 'NVA', 'and', 'VC', 'Guerrillas', ':', 'ARVN', 'Rangers', '(', 'Special', 'Forces', ')', ':', 'US-led', 'Irregulars', '(', 'Special', 'Forces', ')', ':', 'Bases', ':', 'ARVN', 'Troops', 'US', 'Troops', 'TYPES', 'OF', 'FORCES', 'ARVN', 'Police', 'NVA', 'Troops', 'Underground', 'Underground', 'Active', 'Active', 'Underground', 'Active', 'US', 'ARVN', 'NVA', 'VC', '4', 'Fire', 'in', 'the', 'Lake', '©', '2018', 'GMT', 'Games', ',', 'LLC', 'Guerrillas', 'and', 'SF', 'Underground', '(', 'including', 'if', 'replacing', 'a', 'piece', ')', '.', 'NOTE', ':', 'Unless', 'instructions', 'specify', '“', 'Underground', '”', 'Guerrilla', ',', 'it', 'is', 'sufficient', 'to', '“', 'Activate', '”', 'already', 'Active', 'Guerrillas', '(', 'they', 'stay', 'Active', ')', '.', 'Also', ',', '“', 'moving', '”', 'or', '“', 'relocating', '”', 'Guerrillas', 'or', 'SF', 'does', 'not', 'affect', 'Underground', 'status', 'unless', 'specified', '.', '1.4.4', 'Tunnels', '.', 'Scenario', 'Setup', '(', '2.1', ')', 'and', 'Events', '(', '5.0', ')', 'designate', 'certain', 'VC', 'or', 'NVA', 'Bases', 'as', 'Tunneled', '.', 'Place', 'an', 'appropriate', 'Tunnel', 'marker', 'on', 'such', 'a', 'Base', ',', 'never', 'more', 'than', '1', 'Tunnel', 'marker', 'at', 'a', 'time', 'per', 'Base', '.', 'Tunneled', 'Bases', 'are', 'harder', 'to', 'remove', 'by', 'Operations', 'or', 'Events', '(', '3.2.4', ',', '4.2.1', ',', '4.2.3', ',', '4.3.3', ',', '5.1.1', ')', '.', 'When', 'a', 'Tunneled', 'Base', 'is', 'removed', ',', 'so', 'is', 'the', 'Tunnel', 'marker', '.', 'NVA', 'can', 'Infiltrate', 'a', 'VC', 'Tunneled', 'Base', 'to', 'make', 'it', 'NVA', '(', '4.4.1', ')', '.', '1.5', 'Players', '&', 'Factions', 'The', 'game', 'may', 'have', 'up', 'to', '4', 'players', ',', 'each', 'as', '1', 'or', 'more', 'Factions', ':', 'the', 'US', '(', 'olive', ')', ',', 'the', 'NVA', '(', 'red', ')', ',', 'the', 'ARVN', '(', 'yellow', 'and', 'orange', ')', ',', 'or', 'the', 'VC', '(', 'blue', ')', '.', 'In', 'a', '1-player', 'game', ',', 'the', 'player', 'plays', 'US', 'and', 'ARVN', 'together', ',', 'or', 'NVA', 'and', 'VC', ',', 'or', 'any', '1', 'Faction', '(', '8.9', ')', '.', 'Leftover', 'Factions', 'are', 'controlled', 'either', 'by', 'rules', 'section', '8', 'as', '“', 'Non-Players', '”', 'or', ',', 'if', 'pre-', 'ferred', 'with', '2', 'or', '3', 'players', ',', 'as', 'below', '.', 'No', 'Non-Player', 'Option', ':', 'With', '2', 'or', '3', 'players', ',', 'the', 'players', '(', 'rather', 'than', 'the', 'Non-Player', 'rules', ',', '8.0', ')', 'may', 'control', 'any', 'leftover', 'Factions', ':', '•', 'With', '2', 'players', ',', '1', 'player', 'controls', 'NVA', 'and', 'VC', ',', 'the', 'other', 'US', 'and', 'ARVN', '.', '•', 'With', '3', 'players', ',', 'a', 'single', 'player', 'controls', 'NVA', 'and', 'VC', 'or', ',', 'if', 'preferred', ',', 'US', 'and', 'ARVN', '.', 'POLITBURO', ':', 'A', 'combined', 'NVA/VC', 'player', 'uses', 'the', 'higher', 'victory', 'margin', 'of', 'the', '2', 'Factions', 'during', 'Coup', 'Rounds', '(', 'winning', 'if', 'either', 'meets', 'its', 'condition', ',', '6.1', ',', '7.2', ')', ',', 'but', 'uses', 'the', 'lower', 'of', 'the', '2', 'after', 'Final', 'Coup', '(', '7.3', ')', '.', 'SOVEREIGNTY', ':', 'A', 'US/ARVN', 'player', 'uses', 'the', 'lower', 'victory', 'margin', 'of', 'the', '2', 'Factions', '(', '7.3', ')', 'and', 'only', 'causes', 'play', 'to', 'end', 'on', 'a', 'victory', 'check', '(', '6.1', ',', '7.2', ')', 'if', 'both', 'are', 'meeting', 'their', 'conditions', '.', 'DESIGN', 'NOTE', ':', 'NVA', ',', 'VC', ',', 'and', 'ARVN', 'pieces', 'draw', 'their', 'colors', 'as', 'much', 'as', 'possible', 'from', 'their', 'respective', 'flags', ',', 'US', 'from', 'the', 'olive', 'GI', 'uniform', '.', '1.5.1', 'Friends', 'and', 'Enemies', '.', 'US', 'and', 'ARVN', 'are', 'Counterinsurgent', '(', 'COIN', ')', 'Factions', 'and', 'friendly', 'to', 'each', 'other', ';', 'NVA', 'and', 'VC', 'are', 'In-', 'surgents', 'and', 'friendly', 'to', 'each', 'other', '.', 'Counterinsurgents', 'are', 'enemy', 'to', 'Insurgents', '.', '1.5.2', 'Negotiation', '.', 'Players', 'may', 'make', 'any', 'mutual', 'arrangements', 'within', 'the', 'rules', '.', 'All', 'negotiations', 'are', 'open', '.', 'The', 'rules', 'do', 'not', 'bind', 'players', 'to', 'agreements', '.', '•', 'The', 'NVA', 'and', 'VC', 'may', 'voluntarily', 'transfer', 'up', 'to', 'half', 'Resources', '(', '1.8', ')', 'to', 'each', 'other', 'at', 'any', 'time', 'that', 'one', 'of', 'them', 'is', 'executing', 'an', 'Operation', ',', 'Special', 'Activity', ',', 'or', 'Event', '.', '1.6', 'Support', 'and', 'Opposition', 'Support', 'and', 'Opposition', 'affect', 'victory', 'and', 'some', 'operations', 'and', 'activities', '.', '1.6.1', 'Cities', 'and', 'Provinces', 'with', 'at', 'least', '1', 'Population', '(', '1.3.2-3', ')', 'always', 'show', '1', 'of', '5', 'levels', 'of', 'its', 'populace', '’', 's', 'Support', 'for', 'or', 'Opposition', 'to', 'the', 'Saigon', 'regime', 'that', 'can', 'shift', 'during', 'play', ':', '•', 'Active', 'Support', '.', '•', 'Passive', 'Support', '.', '•', 'Neutral', '.', '•', 'Passive', 'Opposition', '.', '•', 'Active', 'Opposition', '.', '1.6.2', 'Active', 'Support', 'or', 'Opposition', 'counts', 'double', 'Population', 'for', 'Total', 'Support', 'or', 'Opposition—affecting', 'US', 'or', 'VC', 'victory', '(', '7.2-.3', ')', '.', 'Show', 'Support', 'or', 'Opposition', 'with', 'markers', 'placed', 'in', 'each', 'City', 'or', 'Province', '.', 'Show', 'Neutral', 'spaces', 'by', 'the', 'absence', 'of', 'such', 'markers', '.', 'Neutral', 'Total', 'Support', '=', '2', 'x', 'Pop', 'in', 'Active', 'Support', '+', '1', 'x', 'Pop', 'in', 'Passive', 'Support', 'Total', 'Opposition', '=', '2', 'x', 'Pop', 'in', 'Active', 'Opposition', '+', '1', 'x', 'Pop', 'in', 'Passive', 'Oppostion', 'NOTE', ':', 'LoCs', '(', '1.3.4', ')', 'and', 'Pop', '0', 'Provinces', 'are', 'always', 'Neutral', ',', 'never', 'at', 'Support', 'or', 'Opposition', '.', '1.7', 'Control', 'The', '2', 'Counterinsurgent', 'Factions', 'together', '(', 'US', 'and', 'ARVN', ')', 'Control', 'a', 'Province', 'or', 'City', 'if', 'their', 'pieces', 'there', 'combined', 'exceed', 'those', 'of', 'the', 'other', '2', 'Factions', '(', 'NVA', 'and', 'VC', ')', 'com-', 'bined', '.', 'The', 'NVA', 'alone', 'Control', 'a', 'Province', 'or', 'City', 'if', 'NVA', 'pieces', 'exceed', 'all', 'other', 'pieces', '(', 'including', 'VC', ')', '.', 'Control', 'affects', 'certain', 'ac-', 'tivities', 'and', 'victory', '.', 'Adjust', 'COIN', 'Control', 'and', 'NVA', 'Control', 'markers', 'as', 'Control', 'changes', 'due', 'to', 'placement', ',', 'removal', ',', 'or', 'movement', 'of', 'pieces', '.', '1.8', 'Resources', ',', 'Aid', ',', 'and', 'Patronage', 'At', 'any', 'moment', ',', 'each', 'Faction', 'except', 'the', 'US', 'has', 'between', '0', 'and', '75', 'Resources', 'that', 'it', 'uses', 'to', 'pay', 'for', 'Operations', '(', '3.0', ')', '.', 'During', 'Coup', 'Rounds', '(', '6.2.3', ')', ',', 'a', 'level', 'of', 'Aid', '(', 'between', '0', 'and', '75', ')', 'is', 'added', 'to', 'ARVN', 'Resources', '.', 'A', 'level', 'of', 'Patronage', '(', '0', 'to', '75', ')', 'contributes', 'to', 'ARVN', 'victory', '(', '7.0', ')', '.', 'Mark', 'Resources', ',', 'Aid', ',', 'and', 'Patronage', 'on', 'the', 'edge', 'track—for', 'Resources', ',', 'with', 'a', 'cylinder', 'of', 'that', 'Faction', '’', 's', 'color', '(', '1.5', ')', '.', 'DESIGN', 'NOTE', ':', 'Patronage', 'represents', 'the', 'wherewithal', 'of', 'the', 'Saigon', 'regime', 'to', 'reward', 'its', 'friends', 'at', 'the', 'expense', 'of', 'the', 'population', ',', 'such', 'as', 'by', 'diverting', 'foreign', 'aid—a', 'means', 'of', 'governance', 'that', 'the', 'US', 'could', 'view', 'as', 'corrupt', '.', '1.8.1', 'Joint', 'Operations', '.', 'The', 'US', 'does', 'not', 'track', 'its', 'own', 'Resources', '.', 'Some', 'US', 'Operations', '(', '3.1', ')', 'and', 'US', 'Pacifi-', 'cation', '(', '3.2.1', ',', '6.3.1', ')', 'spend', 'ARVN', 'Resources', '.', 'The', 'US', 'may', 'only', 'spend', 'those', 'ARVN', 'Resources', 'that', 'exceed', 'the', 'marked', 'Total', 'Econ', 'level', '(', '1.3.4', ',', '6.2.3', ')', '.', 'Only', 'the', 'ARVN', 'Faction', 'may', 'spend', 'ARVN', 'Resources', 'at', 'or', 'below', 'Econ', '.', '5Fire', 'in', 'the', 'Lake', '©', '2018', 'GMT', 'Games', ',', 'LLC', '1.9', 'Victory', 'Markers', 'Similarly', 'track', 'with', 'markers', 'on', 'the', 'edge', 'track', 'the', 'following', 'totals', 'that', 'affect', 'victory', '(', '7.0', ')', '.', '•', 'Total', 'Support', '(', '1.6.2', ')', 'plus', 'the', 'number', 'of', 'US', 'Troops', 'and', 'Bases', 'Available', '(', '1.4.1', ')', '.', '•', 'Total', 'Population', 'Controlled', 'by', 'the', 'NVA', 'plus', 'the', 'number', 'of', 'NVA', 'Bases', 'on', 'the', 'map', '(', '1.7', ')', '.', '•', 'Total', 'Population', 'Controlled', 'by', 'the', 'COIN', 'Factions', '(', '1.7', ')', 'plus', 'Patronage', '(', '1.8', ')', '.', '•', 'Total', 'Opposition', '(', '1.6.2', ')', 'plus', 'the', 'number', 'of', 'VC', 'Bases', 'on', 'the', 'map', '.', 'NOTE', ':', 'A', 'marker', 'on', '“', 'The', 'Trail', '”', 'track', 'records', 'the', 'efficiency', 'level', 'of', 'the', 'NVA', '’', 's', 'North-to-South', 'supply', 'network', '(', '6.7', ')', '.', 'Twelve', '“', 'Deception', '”', 'markers', 'are', 'for', 'victory-related', 'optional', 'rules', '(', '7.3', ')', '.']\n",
            "/content/Information-Retrieval-Project/Rules/FS_Rules_2018.pdf\n",
            "['1.0', 'INTRODUCTION', 'Falling', 'Sky', 'is', 'a', 'board', 'game', 'about', 'the', 'latter', 'part', 'of', 'the', 'Roman', 'conquest', 'of', 'Gaul', ',', 'when', 'numerous', 'tribes', 'rose', 'in', 'revolt', '.', 'It', 'adapts', 'GMT', 'Games', '’', '“', 'COIN', 'Series', '”', 'system', 'about', 'modern', 'insurgencies', 'to', 'depict', 'the', 'political', ',', 'military', ',', 'and', 'economic', 'affairs', 'of', 'ancient', 'Gaul', '.', 'An', 'Ariovistus', 'expansion', 'to', 'Falling', 'Sky', ',', 'sold', 'separately', ',', 'adds', 'the', 'early', 'years', 'of', 'the', 'Gallic', 'War', '.', 'In', 'Falling', 'Sky', ',', 'one', 'to', 'four', 'players', 'each', 'take', 'the', 'roles', 'of', 'one', 'or', 'more', 'Factions', 'in', 'Gaul', ':', 'the', 'Roman', 'Republic', 'seeking', 'to', 'secure', 'Julius', 'Cae-', 'sar', '’', 's', 'recent', 'conquests', ';', 'an', 'anti-Roman', 'confederation', 'led', 'by', 'the', 'Celtic', 'Arverni', 'tribe', 'and', 'its', 'young', 'king', 'Vercingetorix', ';', 'its', 'Celtic', 'rival', ',', 'the', 'generally', 'pro-Roman', 'Aedui', 'confederation', ';', 'and', 'fierce', 'Belgic', 'tribes', 'of', 'the', 'north', 'led', 'by', 'the', 'chieftain', 'Ambiorix', '.', 'Germanic', 'warbands', 'from', 'across', 'the', 'Rhine', 'may', 'intervene', ',', 'sometimes', 'in', 'cooperation', 'with', 'a', 'Faction', ',', 'sometimes', 'alone', '.', 'Issuing', 'commands', 'and', 'exploiting', 'their', 'Factions', '’', 'special', 'abilities', 'and', 'various', 'events', ',', 'players', 'build', 'and', 'maneuver', 'forces', 'to', 'influence', 'or', 'control', 'the', 'tribes', 'of', 'Gaul', ',', 'extract', 'resources', ',', 'and', 'achieve', 'their', 'Factions', '’', 'aims', '.', 'Cards', 'regulate', 'turn', 'order', ',', 'events', ',', 'and', 'victory', 'checks', '.', 'The', 'game', '’', 's', 'most', 'important', 'functions', 'are', 'summarized', 'on', 'several', 'aid', 'sheets', '.', 'This', 'Second', 'Edition', 'rule', 'book', 'explains', '(', 'on', 'pages', '28-34', ')', 'how', 'to', 'set', 'up', 'the', 'scenarios', ',', 'and', 'also', 'lists', 'key', 'terms', 'in', 'an', 'index', 'near', 'the', 'end', '(', 'pages', '35-36', ')', '.', 'Players', 'seeking', 'gradual', 'instruction', 'should', 'start', 'with', 'the', 'tutorial', 'in', 'the', 'Playbook', '.', 'Second', 'Edition', ':', 'This', 'edition', 'of', 'Falling', 'Sky', 'updates', 'five', 'Event', 'cards', ',', 'marked', '“', '2nd', 'Ed', '”', ',', 'and', 'the', 'Non-player', 'rules', ',', 'section', '8', '.', '1.1', 'General', 'Course', 'of', 'Play', 'In', 'Falling', 'Sky', ',', 'cards', 'are', 'played', 'from', 'the', 'deck', 'one', 'at', 'time', ',', 'with', 'one', 'card', 'ahead', 'revealed', 'to', 'all', 'players', '.', 'Each', 'Event', 'card', 'shows', 'the', 'order', 'in', 'which', 'the', 'Factions', 'become', 'Eligible', 'to', 'choose', 'either', 'that', 'Event', 'or', 'from', 'a', 'menu', 'of', 'actions', '.', 'Executing', 'an', 'Event', 'or', 'Command', 'renders', 'that', 'Faction', 'Ineligible', 'to', 'do', 'so', 'on', 'the', 'next', 'card', '.', 'Winter', 'cards', 'mixed', 'in', 'trigger', 'periodic', 'victory', 'checks', 'and', 'other', 'activities', '.', '1.2', 'Components', 'A', 'complete', 'set', 'of', 'Second', 'Edition', 'Falling', 'Sky', 'includes', ':', '•', 'A', '17', \"''\", 'x', '22', \"''\", 'mounted', 'board', '(', '1.3', ')', '.', '•', 'A', 'deck', 'of', '77', 'playing', 'cards', '(', '5.0', ')', '.', '•', '200', 'wooden', 'Forces', 'pieces', ',', 'cylinders', ',', 'and', 'pawns', '(', '1.4', ',', '1.8', ',', '2.2', ',', '3.1.1', ')', '.', '•', 'A', 'sheet', 'of', 'markers', '.', '•', 'Five', 'heavy-cardboard', 'Available', 'Forces', 'displays', '(', '1.4.1', ')', '.', '•', 'Four', 'Faction', 'player', 'aid', 'foldouts', '(', '3.0', ',', '4.0', ',', '7.0', ')', '.', '•', 'Two', 'Sequence', 'of', 'Play', 'and', 'Germanic', 'Tribes', 'sheets', '(', '2.0', ',', '3.4', ',', '6.0', ',', '6.2', ')', '.', '•', 'One', 'Battle', 'Procedure', '(', '3.2.4', ')', 'and', 'Non-Player', 'Guidelines/', 'Instructions', 'foldout', '(', '8.1-8.4', ')', '.', '•', 'Two', 'Second', 'Edition', 'Non-Player', 'flowchart', 'foldouts', '(', '8.5-8.8', ')', '.', '•', 'Four', '6-sided', 'dice—red', ',', 'green', ',', 'blue', ',', 'yellow', '.', '•', 'A', 'background', 'playbook', '.', '•', 'This', 'Second', 'Edition', 'rule', 'book', '.', '1.3', 'The', 'Map', 'The', 'game', 'board', 'shows', 'a', 'map', 'of', 'Gaul', 'and', 'environs', ',', 'with', 'several', 'tracks', 'around', 'the', 'edge', '.', '1.3.1', 'Regions', '.', 'Borders', 'delineate', 'Regions', 'of', 'the', 'map', ',', 'with', 'certain', 'Regions', 'grouped', 'as', 'Celtica', ',', 'Belgica', ',', 'or', 'Germania', '.', 'Each', 'Region', 'is', 'home', 'to', 'one', 'or', 'more', 'Tribes', ',', 'some', 'of', 'which', 'have', 'Cities', '(', '1.3.3', ')', '.', 'Each', 'Region', 'includes', 'a', 'Control', 'marker', 'holding', 'box', 'that', 'also', 'shows', 'the', 'Region', '’', 's', 'Control', 'Value', 'for', 'Belgic', 'Victory', '(', '7.2', ')', '.', 'NOTE', ':', 'Regions', 'go', 'by', 'the', 'name', 'of', 'the', 'highlighted', 'Tribe', 'there—', 'any', 'with', 'a', 'City', ',', 'or', 'the', 'upper-left', 'Tribe', 'if', 'no', 'City', 'there—or', '“', 'Britannia', '”', 'or', '“', 'Provincia', '”', '.', 'Colors', 'of', 'Control', 'Value', 'shields', 'correspond', 'to', 'groups', 'of', 'Regions', '.', 'Victory', 'and', 'Senate', 'Thresholds', 'Rhenus', '(', 'river', 'border', ')', 'Tribe', 'with', 'Special', 'Stacking', 'Borders', 'Senate', 'and', 'Legions', 'Track', 'Space', 'for', 'indestructible', 'Roman', 'Fort', 'Cisalpina', '(', 'not', 'in', 'play', ')', 'Edge', 'Track', 'Home', 'Region', ':', 'This', 'Faction', 'Rallies', 'easier', 'here', 'Parts', 'of', 'Gaul', 'Fallen', 'Legions', 'box', 'Overflow', 'Holding', 'Box', 'Sequence', 'Track', 'Tribe', 'with', 'City', 'Control', 'Value', 'and', 'Control', 'marker', 'box', 'for', 'this', 'Region', 'Regions', 'Adjacency', 'arrow', 'Tribe', 'Falling', 'Sky', '3', '©', '2015', ',', '2018', 'GMT', 'Games', ',', 'LLC', 'Faction', 'symbols', 'and', 'the', 'word', '“', 'Rally', '”', 'or', '“', 'Recruit', '”', 'show', 'Home', 'Regions', 'where', 'that', 'Faction', 'enjoys', 'an', 'advantage', 'for', 'those', 'actions', '(', '3.2.1', ',', '3.3.1', ',', '3.4.1', ')', '.', '1.3.2', 'Tribes', '.', 'Colored', 'circles', 'within', 'the', 'Regions', 'show', 'named', 'Tribes', 'whose', 'status—Subdued', ',', 'Allied', 'to', 'a', 'Faction', ',', 'or', 'Dispersed', '(', '1.4.2', ',', '4.2.3', ')', '—influences', 'victory', '(', '7.0', ')', '.', 'NOTE', ':', 'There', 'are', '30', 'such', 'Tribes', ',', 'listed', 'alphabetically', 'on', 'the', 'back', 'of', 'the', 'Playbook', '.', '1.3.3', 'Cities', '.', 'Gray', 'diamonds', 'around', 'some', 'Tribe', 'circles', 'show', 'that', 'those', 'Tribes', 'have', 'Cities', '(', 'named', 'in', 'capital', 'letters', ')', 'that', 'can', 'be', 'fortified', 'into', 'Cita-', 'dels', '.', '(', '1.4.2', ',', '3.3.1', ')', '1.3.4', 'Britannia', '.', 'The', 'Britannia', 'Region', 'is', 'treated', 'as', 'adjacent', 'to', 'the', 'three', 'coastal', 'Regions', 'of', 'Gaul', 'across', 'from', 'it—as', 'shown', 'by', 'white', 'arrows—for', 'all', 'purposes', 'except', 'for', 'restrictions', 'in', 'Marching', '(', '3.2.2', ',', '3.3.2', ',', '4.1.3', ')', 'or', 'Scouting', '(', '4.2.2', ')', 'across', 'it', '.', '1.3.5', 'Rhenus', '.', 'Germania', '’', 's', 'border', 'with', 'Gaul', 'is', 'a', 'river', 'that', 'halts', 'March', '(', '3.2.2', ',', '3.3.2', ')', '.', 'NOTE', ':', 'The', 'Morini', 'Region', 'borders', 'Germania', 'across', 'the', 'Rhenus', '.', '1.3.6', 'Overflow', 'Box', '.', 'The', 'board', 'features', 'a', 'holding', 'box', 'for', 'the', 'occasional', 'case', 'of', 'a', 'Region', 'becoming', 'too', 'crowded', 'with', 'pieces', '.', 'Place', 'some', 'or', 'all', 'of', 'the', 'pieces', 'in', 'the', 'Overflow', 'box', 'and', 'the', '“', 'Overflow', '”', 'marker', 'into', 'their', 'Region', '.', '1.4', 'Forces', 'Wooden', 'pieces', 'represent', 'the', 'Factions', '’', 'Leaders', '(', 'tall', 'cylinders', ',', 'if', 'any', ')', ',', 'Roman', 'Legions', '(', 'cubes', ')', ',', 'Roman', 'Auxilia', 'or', 'Gallic', 'or', 'Germanic', 'Warbands', '(', 'hexagonal', 'cylinders', ')', ',', 'Allied', 'Tribes', '(', 'also', 'called', '“', 'Allies', '”', ',', 'discs', ')', ',', 'and', 'Roman', 'Forts', 'and', 'Gallic', 'Citadels', '(', 'squares', 'and', 'diamonds', ')', '.', 'Types', 'of', 'FORCES', '(', 'Pieces', ')', 'Leaders', ':', 'Caesar/', 'Vercingetorix/', 'Ambiorix/', 'Roman', 'Successor', 'Arverni', 'Successor', 'Belgic', 'Successor', 'Roman', 'Legion', ':', 'Roman', 'Auxilia', ':', '(', 'Hidden/Revealed', ')', 'Warbands', ':', 'Arverni', 'Belgic', 'Aedui', 'Germanic', '(', 'Hidden/Revealed', ')', 'Types', 'of', 'FORCES', '(', 'Pieces', ',', 'continued', ')', 'Allied', 'Tribes', '(', 'Allies', ')', ':', 'Roman', 'Arverni', 'Belgic', 'Aedui', 'Germanic', 'Roman', 'Fort', ':', 'Gallic', 'Citadels', ':', 'Arverni', 'Belgic', 'Aedui', 'NOTE', ':', 'Available', 'Forces', 'displays', 'and', 'the', 'back', 'of', 'the', 'Playbook', 'show', 'each', 'Faction', '’', 's', 'complete', 'pool', 'of', 'wooden', 'Forces', 'pieces', '.', '1.4.1', 'Available', 'Forces', ',', 'Placement', ',', 'and', 'Removal', '.', 'Each', 'Faction', '(', '1.5', ')', 'has', 'a', 'separate', 'Available', 'Forces', 'display', 'showing', 'an', 'inventory', 'of', 'Forces', ',', 'including', 'spaces', 'for', 'its', 'Allied', 'Tribes', 'and', 'Citadels', '.', 'These', 'Force', 'pools', 'limit', 'the', 'number', 'of', 'pieces', 'that', 'a', 'Faction', 'may', 'have', 'in', 'play', '.', 'Keep', 'a', 'Faction', '’', 's', 'Forces', 'not', 'on', 'the', 'map', 'on', 'its', 'Available', 'Forces', 'display', ',', 'within', 'easy', 'view', 'of', 'all', 'players', '.', 'Place', 'Allies', 'and', 'Citadels', 'in', 'the', 'highest-numbered', 'empty', 'spaces—including', 'Ally', 'discs', 'in', 'any', 'empty', 'Citadel', 'spaces—revealing', 'the', 'number', 'of', 'them', 'that', 'are', 'on', 'the', 'map', ',', 'in', 'order', 'to', 'help', 'track', 'Resource', 'earnings', '(', '6.4', ')', 'and', 'victory', '(', '7.0', ')', '.', '•', 'Placement', ':', 'Pieces', 'other', 'than', 'Legions', 'may', 'only', 'be', 'placed', 'from', 'or', 'replaced', 'with', 'those', 'on', 'the', 'Available', 'Forces', 'displays—ignore', 'any', 'instructions', 'to', 'place', 'pieces', 'if', 'the', 'appropriate', 'type', 'is', 'not', 'Available', '(', 'a', 'piece', 'to', 'be', 'replaced', 'by', 'a', 'piece', 'that', 'is', 'not', 'Available', 'is', 'simply', 'removed', ')', '.', '•', 'Removal', ':', 'When', 'removing', 'pieces', 'other', 'than', 'Legions', 'from', 'the', 'map', ',', 'put', 'them', 'on', 'their', 'Available', 'Forces', 'display', '.', '•', 'Legions', ':', 'Legions', 'not', 'on', 'the', 'map', 'start', 'out', 'on', 'the', 'Legions', 'track', ',', 'on', 'the', 'lowest', 'rows', ',', 'up', 'to', 'four', 'per', 'row', '.', 'Unless', 'otherwise', 'specified', ',', 'place', 'Legions', 'onto', 'the', 'map', 'from', 'the', 'Legions', 'track', '(', 'not', 'from', 'the', 'Fallen', 'Legions', 'box', ')', 'via', 'Event', '(', '5.0', ')', 'or', 'the', 'Senate', 'Phase', '(', '6.5', ')', ',', 'and', 'Legions', 'removed', 'from', 'a', 'Region', 'into', 'the', 'Fallen', 'Legions', 'box', '.', 'Some', 'Events', '(', '5.0', ')', 'and', 'voluntary', 'removal', '(', 'below', ')', 'instead', 'remove', 'Legions', 'to', 'the', 'Legions', 'track', '.', 'Legions', 'move', 'from', 'the', 'Fallen', 'box', 'to', 'the', 'Legions', 'track', 'during', 'the', 'Winter', '(', '6.5.2', ',', '6.6', ')', '.', '•', 'Voluntary', 'Removal', ':', 'A', 'player', 'Faction', 'while', 'executing', 'a', 'Command', 'or', 'Event', 'by', 'the', 'Sequence', 'of', 'Play', '(', '2.3.4', ',', '3.0', ',', '5.0', ')', 'may', 'remove', 'its', 'own', 'pieces', 'from', 'the', 'map', 'to', 'Available', ',', 'or', 'to', 'the', 'Legions', 'Track', 'if', 'a', 'Legion', '(', 'but', 'see', 'permanent', 'Fort', ',', '1.4.2', ';', 'Belgic', 'Enlist', ',', '4.5.1', ')', '.', 'Also', ',', 'a', 'Faction', 'at', 'such', 'time', 'may', 'replace', 'any', 'of', 'its', 'Citadels', 'with', 'its', 'Allied', 'Tribes', '(', 'discs', ')', '.', 'PLAY', 'NOTE', ':', 'Voluntary', 'removal', 'allows', 'placement', 'into', 'a', 'Region', 'when', 'all', 'Available', 'pieces', 'are', 'already', 'elsewhere', 'on', 'the', 'map', '.', '1.4.2', 'Stacking', '.', 'Any', 'number', 'of', 'Forces', 'may', 'occupy', 'a', 'Region', ',', 'except', ':', '•', 'Allied', 'Tribes', 'may', 'occupy', 'only', 'Tribe', 'circles', ',', 'one', 'per', 'circle', '.', '•', 'Citadels', 'may', 'occupy', 'only', 'City', 'diamonds', ',', 'one', 'per', 'diamond', ',', 'taking', 'the', 'place', 'of', 'any', 'Allied', 'Tribe', 'there', '.', '•', 'Only', 'one', 'Roman', 'Fort', 'may', 'be', 'in', 'each', 'Region', '.', 'Falling', 'Sky4', '©', '2015', ',', '2018', 'GMT', 'Games', ',', 'LLC', '•', 'Provincia', 'always', 'has', 'one', 'Roman', 'Fort', 'piece', 'in', 'it', '.', 'Set', 'up', 'and', 'always', 'keep', 'one', 'of', 'the', 'wooden', 'Fort', 'pieces', 'in', 'the', 'red', 'square', 'space', 'there', '.', 'That', 'piece', 'can', 'not', 'be', 'removed', '.', '•', 'No', 'Allies', 'or', 'Citadels', 'may', 'occupy', 'a', 'Dispersed', 'Tribe', '’', 's', 'circle', '(', '1.7', ',', '3.2.3', ')', '.', '•', 'A', 'few', 'Tribe', 'circles', 'and', 'Cities', 'may', 'hold', 'only', 'certain', 'Allies', 'or', 'Citadels—the', 'Aedui', 'Tribe', 'circle/Bibracte', 'City', 'may', 'hold', 'only', 'an', 'Aedui', 'Allied', 'Tribe/Aedui', 'Citadel', '(', 'blue', ')', ';', 'the', 'Arverni', 'circle/', 'Gergovia', 'may', 'hold', 'only', 'an', 'Arverni', 'Ally/Citadel', '(', 'green', ')', ';', 'and', 'the', 'two', 'Suebi', 'circles', 'may', 'hold', 'only', 'Germanic', 'Allies', '(', 'black', ')', '.', '•', 'Cisalpina', 'and', 'Aquitania', 'are', 'non-playable', 'areas', '.', 'They', 'are', 'not', 'Regions', 'and', 'may', 'hold', 'no', 'pieces', '(', 'except', 'by', 'Event', ',', '5.1.1', ')', '.', '1.4.3', 'Flipping', '.', 'Warbands', 'and', 'Auxilia', 'are', 'either', 'Hid-', 'den—symbol', 'end', 'down—or', 'Revealed—symbol', 'end', 'up', ',', 'affecting', 'their', 'abilities', '.', 'Actions', ',', 'Events', ',', 'and', 'the', 'Spring', 'Phase', '(', '6.6', ')', 'flip', 'them', 'from', 'one', 'to', 'the', 'other', 'state', '.', 'All', 'other', 'pieces', 'are', 'always', 'Revealed', ',', 'not', 'Hidden', '.', 'Revealed', 'Warbands', 'can', 'be', 'marked', 'Scouted', '(', '4.2.2', ')', ';', 'whenever', 'they', 'are', 'to', 'be', 'flipped', 'to', 'Hid-', 'den', ',', 'remove', 'the', 'marker', 'instead', 'of', 'flipping', '.', 'Always', 'set', 'up', 'and', 'place', 'new', 'Warbands', 'and', 'Auxilia', 'Hidden', '(', 'including', 'if', 'replacing', 'a', 'Revealed', 'or', 'Scouted', 'piece', ',', '4.2.2', ')', '.', '•', 'Leader', 'pieces', 'symbol', 'end', 'up', 'are', 'Caesar', '(', 'red', ',', 'Roman', ')', ',', 'Vercingetorix', '(', 'green', ',', 'Arverni', ')', ',', 'or', 'Ambiorix', '(', 'yellow', ',', 'Belgic', ')', ',', 'symbol', 'down', 'that', 'person', '’', 's', 'Successor', '.', 'A', 'removed', 'Leader', 'piece', 'will', 'return', 'as', 'a', 'Successor', 'that', 'Winter', '(', '6.6', ')', '.', 'NOTE', ':', 'Hidden', 'Auxilia', 'help', 'Scout', '(', '4.2.2', ')', ',', 'Harass', 'Vercingeto-', 'rix', '’', 's', 'March', '(', '3.3.2', ')', ',', 'and', 'block', 'enemy', 'Ambush', '(', '4.3.3', ')', '.', 'Hidden', 'Warbands', 'can', 'Raid', '(', '3.3.3', ')', ',', 'Harass', 'Roman', 'March', '(', '3.2.2', ')', 'and', 'Seize', '(', '3.2.3', ')', ',', 'Retreat', 'from', 'Roman', 'Battle', 'within', 'a', 'Region', '(', '3.2.4', ')', ',', 'Ambush', '(', '4.3.3', ')', ',', 'Entreat', '(', '4.3.1', ')', ',', 'Suborn', '(', '4.4.2', ')', ',', 'and', 'Rampage', '(', '4.5.2', ')', '.', '1.5', 'Players', '&', 'Factions', 'Falling', 'Sky', 'is', 'playable', 'by', 'one', 'to', 'four', 'players', '.', 'Player', 'Factions', 'are', 'the', 'Roman', 'Republic', '(', 'red', ')', ',', 'the', 'Arverni', 'Confederation', '(', 'green', ')', ',', 'the', 'Aedui', 'Confederation', '(', 'blue', ')', ',', 'and', 'the', 'Belgic', 'Tribes', '(', '“', 'Belgae', '”', ',', 'yellow-orange', ')', '.', 'The', 'game', 'rules—and', 'sometimes', 'players—guide', 'a', '5th', 'Faction', ',', 'the', 'Germanic', 'Tribes', '(', '“', 'Germans', '”', ',', 'black', ')', '.', '•', 'The', 'Arverni', ',', 'Aedui', ',', 'and', 'Belgic', 'Factions', 'collectively', 'are', 'also', 'called', '“', 'Gallic', '”', 'or', '“', 'Gauls', '”', '.', 'PLAY', 'NOTE', ':', 'Romans', 'and', 'Arverni', 'may', 'require', 'more', 'intricate', 'play', 'to', 'achieve', 'their', 'potential', 'and', 'should', 'go', 'to', 'more', 'confident', 'players', '.', '1.5.1', 'Spare', 'Factions', '.', 'With', 'two', 'or', 'three', 'players', ',', 'the', 'players', 'run', 'leftover', 'Factions', ':', '•', 'With', 'three', 'players', ',', 'one', 'player', 'runs', 'Arverni', 'and', 'Belgae', 'or', ',', 'if', 'preferred', ',', 'Romans', 'and', 'Aedui', '.', '•', 'With', 'two', 'players', ',', 'one', 'player', 'runs', 'Arverni', 'and', 'Belgae', ',', 'the', 'other', 'Romans', 'and', 'Aedui', '.', 'A', 'player', 'running', 'two', 'Factions', 'uses', 'the', 'lower', 'victory', 'margin', 'of', 'the', 'two', '(', '7.1-.3', ')', 'and', 'only', 'causes', 'play', 'to', 'end', 'on', 'a', 'victory', 'check', '(', '6.1', ')', 'if', 'both', 'Factions', 'are', 'meeting', 'their', 'conditions', '.', 'EXCEPTION', ':', 'A', 'player', 'running', 'both', 'Arverni', 'and', 'Belgae', 'in', '“', 'The', 'Great', 'Revolt', '”', 'scenario', 'uses', 'the', 'higher', 'of', 'those', 'Factions', '’', 'victory', 'margins', 'and', 'ends', 'play', 'if', 'one', 'has', 'met', 'its', 'condition', '(', '2.1', ')', '.', 'Non-Player', 'Option', ':', 'If', 'playing', 'solitaire', ',', 'or', 'as', 'an', 'alternative', 'to', 'the', 'above', 'with', 'two', 'or', 'three', 'players', ',', 'use', 'the', 'Non-player', 'rules', 'in', 'section', '8', 'to', 'govern', 'leftover', 'Factions', '.', '1.5.2', 'Negotiation', '.', 'All', 'negotiations', 'are', 'open', '.', 'Players', 'may', 'make', 'any', 'mutual', 'arrangements', 'within', 'the', 'rules', ',', 'binding', 'only', 'as', 'follows', ':', 'once', 'a', 'player', 'agrees', 'to', 'something', 'within', 'the', 'execution', 'of', 'a', 'Command', 'or', 'Event', ',', 'or', 'Quarters', 'Phase', ',', 'that', 'agreement', 'holds', 'during', 'that', 'action', '.', 'A', 'player', 'failing', 'to', 'obtain', 'agreement', 'at', 'the', 'outset', 'of', 'an', 'action', 'may', 'cancel', 'the', 'action', '.', '•', 'A', 'Faction', 'may', 'transfer', 'Resources', '(', '1.8', ')', 'to', 'another', 'during', 'either', '’', 's', 'execution', 'by', 'the', 'Sequence', 'of', 'Play', '(', '2.3.4', ')', 'of', 'a', 'Command', 'or', 'Event—a', 'maximum', 'of', 'four', 'Resources', 'per', 'such', 'execution', 'between', 'two', 'Factions', 'run', 'by', 'the', 'same', 'player', '(', '1.5.1', ')', '.', '•', 'Factions', 'may', 'transfer', 'any', 'Resources', 'to', 'any', 'non-German', 'Factions', 'during', 'the', 'Quarters', 'and', 'Harvest', 'Phases', 'of', 'the', 'Winter', 'Round', '(', '6.3-', '6.4', ')', '.', '1.6', 'Control', 'Any', 'Faction', '(', 'including', 'Germanic', ')', 'that', 'has', 'more', 'Forces', '(', 'pieces', ',', '1.4', ')', 'in', 'a', 'Region', 'than', 'all', 'other', 'Factions', 'combined', 'Controls', 'that', 'Region', '.', 'If', 'no', 'Faction', 'does', ',', 'the', 'Region', 'has', 'No', 'Control', '.', 'Control', 'affects', 'a', 'number', 'of', 'Faction', 'actions', 'as', 'well', 'as', 'Belgic', 'victory', '(', '7.0', ')', '.', 'Place', 'and', 'adjust', 'Control', 'markers', 'in', 'a', 'Region', '’', 's', 'Control', 'box', 'at', 'setup', 'and', 'as', 'Commands', '(', '3.0', ')', ',', 'Special', 'Abilities', '(', '4.0', ')', ',', 'Events', '(', '5.0', ')', ',', 'or', 'Winter', '(', '6.0', ')', 'alter', 'Control', '.', 'NOTE', ':', 'Mark', 'uncontrolled', 'Regions', 'with', '“', 'No', 'Control', '”', 'markers', ',', 'or', 'by', 'leaving', 'the', 'Control', 'box', 'empty', ',', 'showing', '“', 'No', 'Control', '”', '.', '1.7', 'Subdued', 'and', 'Dispersed', 'Tribes', 'As', 'the', 'map', 'shows', ',', 'an', 'empty', 'Tribe', 'circle', '(', '1.3.2', ')', 'is', 'Subdued', ':', 'subservient', 'to', 'Rome', 'and', 'not', 'at', 'war', '.', 'Roman', 'Seize', 'actions', '(', '3.2.3', ')', 'can', 'Disperse', 'a', 'Sub-', 'dued', 'Tribe', '(', 'place', 'a', 'marker', 'on', 'it', ')', ',', 'blocking', 'placement', 'of', 'Allies', 'there', '(', '1.4.2', ')', 'and', 'negating', 'its', 'value', 'for', 'Belgic', 'Victory', '(', '1.3.1', ',', '7.2', ')', '.', 'Subdued', 'and', 'Dispersed', 'Tribes', ',', 'along', 'with', 'Roman', 'Allies', ',', 'add', 'to', 'Roman', 'victory', '(', '7.0', ')', '.', '1.8', 'Resources', 'At', 'any', 'moment', ',', 'each', 'Roman', 'and', 'Gallic', 'Faction', 'has', 'between', '0', 'and', '45', 'Resources', 'that', 'they', 'use', 'to', 'pay', 'for', 'Commands', '(', '3.0', ')', '.', 'Mark', 'Resources', 'along', 'the', '0-45', 'board', 'edge', 'track', 'with', 'a', 'short', 'round', 'wooden', 'cylinder', 'of', 'the', 'Faction', '’', 's', 'color', '(', '1.5', ')', '.', 'NOTE', ':', 'The', 'Germans', 'do', 'not', 'track', 'Resources', '.', 'Falling', 'Sky', '5', '©', '2015', ',', '2018', 'GMT', 'Games', ',', 'LLC', '1.9', 'Victory', 'Markers', 'Use', 'markers', 'as', 'follows', 'to', 'track', 'various', 'totals', 'that', 'affect', 'Roman', 'or', 'Gallic', 'victory', '(', '7.0', ')', '.', '•', 'Track', 'Roman', 'victory—the', 'sum', 'of', 'Subdued', ',', 'Dispersed', '(', '1.7', ')', ',', 'and', 'Roman', 'Allied', 'Tribes—on', 'the', 'edge', 'track', 'with', 'the', 'red', '“', 'Subdued', 'Dispersed', '+', 'Allies', '”', 'victory', 'marker', '.', '•', 'Similarly', 'track', 'Belgic', 'victory—the', 'sum', 'of', 'Belgic', 'Controlled', '(', '1.6', ')', 'Tribes', 'plus', 'Belgic', 'Allies', 'and', 'Citadels—on', 'the', 'edge', 'track', 'with', 'the', 'orange', '“', 'Control', '+', 'Allies', '”', 'victory', 'marker', '.', '•', 'Track', 'a', 'part', 'of', 'Arverni', 'victory—off-map', 'Legions', ',', 'meaning', 'those', 'in', 'the', 'Fallen', 'Legions', 'box', ',', 'plus', 'on', 'the', 'Legions', 'track', ',', 'plus', 'removed', 'by', 'Event', '(', '1.4.1', ',', '5.0', ',', '6.5', ')', '—on', 'the', 'edge', 'track', 'with', 'the', 'green', '“', 'Off-Map', 'Legions', '”', 'marker', '.', 'The', 'other', 'part', 'of', 'Arverni', 'victory—', 'total', 'Arverni', 'Allied', 'Tribes', 'and', 'Citadels—is', 'shown', 'by', 'the', 'highest', 'uncovered', 'number', 'on', 'the', 'Arverni', 'Available', 'Forces', 'display', '.', '•', 'Track', 'Aedui', 'victory', 'on', 'the', 'Aedui', 'Available', 'Forces', 'display', 'with', 'the', '“', 'Other', 'Most', 'Allies', '”', 'marker', '.', 'Place', 'the', 'marker', 'at', 'the', 'number', 'of', 'Allied', 'Tribes', 'and', 'Citadels', 'of', 'whatever', 'other', '(', 'non-Aedui', ')', 'Faction', 'has', 'the', 'most', '(', 'including', 'Romans', 'or', 'Germans', ')', '.', 'Comparing', 'the', 'highest', 'Aedui', 'Ally', 'number', 'showing', 'to', 'the', '“', 'Other', '”', 'number', 'indicated', 'will', 'show', 'how', 'close', 'the', 'Aedui', 'are', 'to', 'victory', '.', 'EXAMPLE', ':', 'Aedui', 'Available', 'Forces', 'display', 'showing', 'three', 'Aedui', 'Allies', 'and', 'Citadels', 'are', 'on', 'the', 'map', ',', 'compared', 'to', 'five', 'for', 'whatever', 'other', 'Faction', 'has', 'the', 'most', '.']\n",
            "/content/Information-Retrieval-Project/Rules/ColTwi-RULES-LR-May2018.pdf\n",
            "['1.0', 'Introduction', 'Colonial', 'Twilight', ':', 'Algeria', '1954-62', 'is', 'a', '2-player', 'board', 'game', 'de-', 'picting', 'the', 'conflict', 'in', 'Algeria', 'in', 'its', 'last', 'eight', 'years', 'as', 'a', 'department', 'of', 'France', 'before', 'it', 'became', 'an', 'independent', 'nation', '.', 'Each', 'player', 'takes', 'the', 'role', 'of', 'an', 'agency', 'seeking', 'to', 'set', 'the', 'fate', 'of', 'Algeria', ':', 'the', 'French', 'government', 'and', 'the', 'insurgent', 'anti-government', 'forces', '(', 'mainly', 'these', 'consist', 'of', 'the', 'armed', 'elements', 'of', 'the', 'Front', 'de', 'Lib-', 'eration', 'Nationale', ',', '(', 'FLN', ')', 'but', 'also', 'including', 'other', 'movements', ')', '.', 'Using', 'military', ',', 'political', ',', 'and', 'economic', 'actions', 'and', 'exploiting', 'various', 'events', ',', 'players', 'build', 'and', 'maneuver', 'forces', 'to', 'influence', 'or', 'control', 'the', 'population', 'or', 'otherwise', 'achieve', 'their', 'aims', '.', 'A', 'deck', 'of', 'cards', 'regulates', 'events', ',', 'victory', 'checks', ',', 'and', 'other', 'processes', '.', 'The', 'rules', 'can', 'run', 'a', 'FLN', 'non-player', 'faction', ',', 'enabling', 'a', 'solitaire', 'game', '(', 'or', 'one', 'player', 'can', 'take', 'both', 'factions', ')', '.', 'This', 'game', 'is', 'Volume', '7', 'in', 'the', 'COIN', 'Series', 'of', 'games', 'that', 'use', 'sim-', 'ilar', 'rules', 'to', 'cover', 'modern', 'insurgencies', '.', 'The', 'Designer', '’', 's', 'Notes', 'in', 'the', 'Playbook', 'lists', 'major', 'rules', 'differences', 'from', 'earlier', 'volumes', '.', '1.1', 'General', 'Course', 'of', 'Play', 'Unlike', 'many', 'card-assisted', 'war', 'games', ',', 'this', 'game', 'does', 'not', 'use', 'hands', 'of', 'cards', '.', 'Instead', ',', 'cards', 'are', 'played', 'from', 'the', 'deck', 'one', 'at', 'time', '.', 'Each', 'Event', 'card', 'contains', 'text', 'that', 'may', 'alter', 'or', 'suspend', 'certain', 'rules', 'of', 'the', 'game', ',', 'or', 'demand', 'execution', 'of', 'a', 'particular', 'task', '.', 'Propaganda', 'cards', 'mixed', 'in', 'with', 'the', 'Event', 'cards', 'provide', 'periodic', 'opportunities', 'for', 'instant', 'wins', 'and', 'for', 'activities', 'such', 'as', 'collecting', 'resources', 'and', 'influencing', 'popular', 'sympathies', '.', '1.2', 'Components', 'A', 'complete', 'set', 'of', 'game', 'components', 'includes', ':', '•', 'A', '22', '”', 'x34', '”', 'mounted', 'game', 'board', '(', '1.3', ')', '.', '•', 'A', 'deck', 'of', '71', 'cards', '(', '5.0', ')', '.', '•', '91', 'blue', ',', 'black', ',', 'and', 'green', 'wooden', 'playing', 'pieces', ',', 'some', 'embossed', '(', '1.4', ';', 'see', '“', 'Forces', 'Pool', '”', 'on', 'the', 'Spaces', 'List', 'sheet', 'for', 'a', 'complete', 'listing', ')', '.', 'Some', 'extra', 'blocks', 'have', 'been', 'added', 'to', 'replace', 'any', 'defective', 'blocks', '.', '•', 'Six', 'black', ',', 'six', 'white', 'pawns', '(', '3.1.1', ')', '.', '•', 'Four', 'embossed', 'cylinders', '(', '1.8', ',', '2.3', ')', '.', '•', 'One', 'sheet', 'of', 'markers', '.', '•', 'One', 'Sequence', 'of', 'Play', 'and', 'Spaces', 'List', 'sheet', '(', '1.4.1', ',', '2.0', ',', '6.0', ')', '.', '•', 'Two', 'Player', 'Aid', 'foldouts', '(', '3.0', ',', '4.0', ',', '7.0', ')', '.', '•', 'One', 'non-player', 'faction', 'play', 'aid', 'card', '(', '8.0', ')', '.', '•', 'Two', 'six-sided', 'dice', '.', '•', 'One', 'background', 'playbook', '.', '•', 'This', 'rule', 'book', '.', '1.3', 'The', 'Map', 'The', 'map', 'shows', 'Algeria', 'and', 'nearby', 'areas', 'divided', 'into', 'various', 'types', 'of', 'spaces', '.', '1.3.1', 'Map', 'Spaces', '.', 'Map', 'spaces', 'include', 'Sectors', ',', 'Cities', 'and', 'Countries', '.', 'All', 'spaces', 'can', 'hold', 'forces', '.', '1.3.2', 'Wilayas', 'and', 'Sectors', '.', 'The', 'map', 'is', 'divided', 'into', 'named', 'and', 'numbered', 'areas', 'that', 'correspond', 'roughly', 'with', 'the', 'Wilaya', 'or', 'zone', 'system', 'used', 'by', 'the', 'FLN', 'command', 'structure', ',', 'with', 'each', 'Wilaya', '(', 'Roman', 'numeral', ')', 'divided', 'into', 'a', 'number', 'of', 'mintaka', 'or', 'Sectors', '(', 'Arabic', 'numerals', ',', 'so', 'V-1', 'is', 'the', 'first', 'Sector', 'in', 'Wilaya', '5', ')', '.', 'If', 'you', 'find', 'the', 'numbering', 'system', 'cumbersome', ',', 'each', 'Sector', 'is', 'also', 'marked', 'with', 'the', 'name', 'of', 'a', 'major', 'town', 'located', 'inside', 'it', '.', 'Each', 'Sector', 'shows', 'a', 'Population', 'Value', '(', 'Pop', ')', 'of', '0', ',', '1', ',', 'or', '2', 'that', 'affects', 'victory', 'via', 'Support', 'for', 'or', 'Opposition', 'to', 'the', 'French', 'government', '(', '1.6', ')', 'or', 'Control', '(', '1.7', ')', 'and', 'some', 'FLN', 'actions', '.', 'Sectors', 'are', 'further', 'distinguished', 'as', 'Mountain', 'or', 'Plain', ',', 'affecting', 'player', 'operations', 'and', 'certain', 'Events', '(', '5.0', ')', '.', 'During', 'play', ',', 'the', 'Government', 'player', 'gains', 'the', 'ability', 'to', 'change', 'the', 'Population', 'Value', 'of', 'some', 'spaces', 'through', 'Resettlement', ',', 'turning', 'them', 'from', 'Population', '1', 'to', 'Population', '0', '(', 'place', 'a', '“', 'Pop', '0', '”', 'marker', 'to', 'denote', 'this', ')', '.', '(', '4.2.1', ')', '1.3.3', 'Cities', '.', 'Cities', 'show', 'Population', 'Values', 'of', '2', 'or', '3', '.', 'Cities', 'are', 'spaces', 'in', 'their', 'own', 'right', ',', 'and', 'are', 'also', 'considered', 'to', 'be', 'part', 'of', 'the', 'Wilaya', 'they', 'are', 'located', 'in', ',', 'for', 'purposes', 'of', 'FLN', 'March', '(', '3.3.2', ')', 'or', 'Redeploy', '(', '6.4.2', ')', '.', 'Note', 'that', 'Oran', 'and', 'Algiers', 'are', 'Cities', 'contained', 'entirely', 'within', 'a', 'Sector', ',', 'but', 'Constantine', 'is', 'a', 'City', 'that', 'is', 'adjacent', 'to', 'two', 'Sectors', '.', 'During', 'play', ',', 'Cities', 'may', 'increase', 'by', 'up', 'to', '1', 'Population', 'Value', '(', 'place', 'a', '“', 'Pop', '+1', '”', 'marker', 'to', 'denote', 'this', ')', '.', '3Colonial', 'Twilight', 'Revised', 'May', '2018', '©', '2017', 'GMT', 'Games', ',', 'LLC', 'DESIGN', 'NOTE', ':', 'Each', 'Population', 'Value', 'point', 'represents', 'about', '300,000', 'human', 'beings', '.', '1.3.4', 'Countries', ':', 'Morocco', 'and', 'Tunisia', '.', 'These', 'two', 'Countries', 'were', 'part', 'of', 'the', 'French', 'empire', 'at', 'the', 'beginning', 'of', 'the', 'Algerian', 'conflict', 'but', 'became', 'independent', '.', 'During', 'the', 'game', ',', 'on', 'play', 'of', 'a', 'Pivotal', 'Event', 'card', '(', '5.1.8', ')', ',', 'both', 'of', 'these', 'Countries', 'will', 'become', 'sanctuaries', 'for', 'the', 'FLN', 'player', '’', 's', 'pieces', ',', 'and', 'the', 'Government', 'player', 'may', 'begin', 'to', 'fortify', 'the', 'borders', 'of', 'Algeria', 'to', 'prevent', 'infiltration', 'from', 'them', '.', 'Only', 'FLN', 'pieces', 'may', 'be', 'in', 'these', 'Countries', ',', 'but', 'FLN', 'may', 'not', 'enter', 'these', 'Countries', 'until', 'they', 'become', 'independent', '.', 'These', 'Countries', 'are', 'treated', 'as', 'Mountain', 'Sectors', 'with', 'a', 'Population', 'Value', 'of', '1', ':', 'the', 'FLN', 'may', 'Rally', ',', 'March', 'and', 'Extort', 'in', 'these', 'Countries', ',', 'but', 'their', 'Population', 'is', 'never', 'counted', 'in', 'the', 'total', 'Opposition', '(', '1.6.2', ')', '.', 'During', 'play', ',', 'these', 'Countries', 'may', 'acquire', 'the', 'ability', 'to', 'contain', 'three', 'Bases', '(', '1.4.2', ')', ',', 'shown', 'by', '“', 'Base', '”', 'markers', 'placed', 'in', 'their', 'spaces', '.', '1.3.5', 'Adjacency', '.', 'Adjacency', 'affects', 'the', 'movement', 'of', 'forces', 'and', 'implementation', 'of', 'certain', 'Events', '.', 'Any', 'two', 'spaces', 'that', 'share', 'a', 'land', 'border', 'are', 'considered', 'adjacent', '.', 'EXAMPLES', ':', 'The', 'sector', 'of', 'Philippeville', '(', 'II-2', ')', 'is', 'adjacent', 'to', 'Constantine', ',', 'Setif', '(', 'II-1', ')', ',', 'Barika', '(', 'I-1', ')', ',', 'Oum', 'el', 'Bouaghi', '(', '1-4', ')', 'and', 'Souk', 'Ahras', '(', 'II-3', ')', '.', 'Constantine', 'is', 'adjacent', 'only', 'to', 'Setif', '(', 'II-1', ')', 'and', 'Philippeville', '(', 'II-2', ')', '.', '1.3.6', 'Coasts', '.', 'Any', 'spaces', 'adjacent', 'to', 'blue', 'water', 'are', '“', 'coastal', '”', '.', 'Algiers', 'and', 'Oran', 'are', 'coastal', 'spaces', ',', 'as', 'are', 'Morocco', 'and', 'Tunisia', '.', 'Water', 'is', 'not', 'land', ',', 'so', 'coastal', 'spaces', 'that', 'do', 'not', 'share', 'a', 'land', 'border', 'are', 'not', 'adjacent', '.', '1.3.7', 'Border', 'Sectors', '.', 'There', 'are', 'seven', 'Sectors', 'that', 'are', 'partly', 'bound-', 'ed', 'by', 'an', 'international', 'border', '(', 'three', 'border', 'on', 'Morocco', ',', 'and', 'four', 'bor-', 'der', 'on', 'Tunisia', ')', '.', 'In', 'the', 'Full', 'Scenario', ',', 'they', 'are', 'not', 'considered', 'Border', 'Sectors', 'until', 'Morocco', 'and', 'Tunisia', 'have', 'become', 'independent', 'and', 'the', 'Border', 'Zone', 'activated', ',', 'by', 'play', 'of', 'a', 'Pivotal', 'Event', 'Card', '(', '5.1.8', ')', '.', 'As', 'the', 'international', 'border', 'is', 'progressively', 'fortified', ',', 'the', 'Border', 'Zone', 'Status', 'rises', '(', '3.2.1', ',', '5.1.8', ')', '.', 'FLN', 'Guerrillas', 'will', 'find', 'it', 'more', 'difficult', 'to', 'March', 'into', 'Border', 'Sectors', 'undetected', '(', '3.3.2', ')', 'and', 'will', 'lose', 'some', 'Resources', 'in', 'the', 'Resources', 'and', 'Commitment', 'Adjustment', 'Phase', 'of', 'Propaganda', 'Rounds', '(', '6.2.2', ')', '.', 'Also', ',', 'Police', 'in', 'Border', 'Sectors', 'count', 'as', 'Troops', 'in', 'Assaults', '(', '3.2.4', ')', '.', '1.3.8', 'Other', 'Map', 'Features', '.', 'There', 'are', 'tracks', 'and', 'boxes', 'on', 'the', 'map', 'that', 'record', 'various', 'game', 'parameters', 'or', 'store', 'game', 'pieces', ':', 'Edge', 'Track', '.', 'This', 'track', 'runs', 'along', 'the', 'top', 'of', 'the', 'game', 'board', ',', 'from', '0', 'to', '50', '.', 'It', 'records', 'the', 'amount', 'of', 'Resources', 'the', 'players', 'have', '(', '1.8', ')', ',', 'their', 'current', 'Victory', 'Levels', '(', '1.9', ')', ',', 'the', 'Government', 'Commitment', 'Level', '(', '1.8', ')', 'and', 'the', 'number', 'of', 'Resettled', 'Sectors', '(', '4.2.1', ')', '.', 'France', 'Track', '.', 'Technically', 'France', 'is', 'where', 'the', 'Gov-', 'ernment', 'player', '’', 's', 'Available', 'Forces', 'box', 'is', 'located', ',', 'and', 'legally', 'Algeria', 'is', 'a', 'department', 'of', 'France', ',', 'but', 'for', 'game', 'purposes', 'this', 'track', 'is', 'an', 'abstract', 'representation', 'of', 'the', 'ability', 'of', 'the', 'FLN', 'to', 'obtain', 'material', 'from', 'sympathet-', 'ic', 'organizations', 'and', 'expatriate', 'Algerians', ',', 'and', 'to', 'affect', 'French', 'public', 'opinion', 'on', 'the', 'war', '(', 'and', 'therefore', 'the', 'government', '’', 's', 'commit-', 'ment', 'to', 'continuing', 'the', 'war', ')', '.', 'Border', 'Zone', 'Track', '.', 'When', 'Morocco', 'and', 'Tunisia', 'gain', 'their', 'independence', 'from', 'France', '(', '5.1.8', ')', ',', 'this', 'track', 'is', 'activated', 'to', 'show', 'a', 'status', 'of', '“', '0', '”', '(', 'zero', ')', '.', 'During', 'the', 'game', 'the', 'Government', 'player', 'may', 'expend', 'Resources', 'to', 'improve', 'the', 'Border', 'Zone', 'Status', 'so', 'as', 'to', 'inhibit', 'infiltration', 'from', 'these', 'two', 'FLN', 'safe', 'havens', '(', '3.3.2', ')', '.', 'Initiative', 'Track', '.', 'This', 'diagram', 'is', 'divided', 'into', 'boxes', 'to', 'guide', 'the', 'players', '’', 'choices', 'during', 'the', 'Sequence', 'of', 'Play', '(', '2.3', ')', 'and', 'keep', 'track', 'of', 'player', 'eligibility', '.', 'Available', 'Forces', 'boxes', '.', 'Both', 'players', 'have', 'one', 'of', 'these', ',', 'to', 'store', 'pieces', 'that', 'may', 'be', 'entered', 'into', 'the', 'map', 'spaces', '.', 'Note', 'that', 'the', 'Gov-', 'ernment', 'player', '’', 's', 'box', 'is', 'divided', 'into', 'two', 'sections', ',', 'one', 'for', 'French', 'pieces', ',', 'and', 'one', 'for', 'Algerian', '.', 'Out', 'of', 'Play', 'box', '.', 'This', 'is', 'a', 'common', 'box', 'for', 'pieces', 'that', 'are', 'neither', 'Available', 'nor', 'able', 'to', 'be', 'placed', 'into', 'the', 'map', 'spaces', '.', 'Pieces', 'enter', 'and', 'leave', 'this', 'box', 'through', 'different', 'game', 'functions', '.', 'Casualties', 'box', '.', 'This', 'is', 'a', 'common', 'box', 'for', 'pieces', 'that', 'have', 'been', 'eliminated', 'during', 'play', '.', 'During', 'Propaganda', 'Rounds', 'the', 'pieces', 'here', 'will', 'move', 'either', 'to', 'Out', 'of', 'Play', 'or', 'Available', '.', 'Capabilities', 'box', '.', 'This', 'is', 'a', 'common', 'box', 'for', 'players', 'to', 'store', 'markers', 'that', 'denote', 'Capabilities', 'of', 'one', 'side', 'or', 'the', 'other', '(', '5.3', ')', '.', 'TYPES', 'OF', 'FORCES', 'Underground', 'FLN', 'Guerrillas', ':', 'Cubes', ':', 'Bases', ':', 'Active', 'Algerian', 'Police', 'Algerian', 'Troops', 'FLN', 'Government', 'French', 'Troops', 'French', 'Police', '4', 'Colonial', 'Twilight', 'Revised', 'May', '2018', '©', '2017', 'GMT', 'Games', ',', 'LLC', '1.4', 'Forces', 'The', 'wooden', 'pieces', 'represent', 'the', 'Factions', '’', 'various', 'forces', ':', 'French', 'Troops', 'and', 'Police', '(', 'dark', 'blue', 'and', 'light', 'blue', 'cubes', ',', 'respectively', ')', ',', 'Algerian', 'Troops', 'and', 'Police', '(', 'dark', 'green', 'and', 'light', 'green', 'cubes', ')', ',', 'FLN', 'Guerrillas', '(', 'black', 'cylinders', ')', 'and', 'all', 'Factions', '’', 'Bases', '(', 'light', 'blue', 'or', 'black', 'disks', ')', '.', 'DESIGN', 'NOTE', ':', 'Police', 'represent', 'a', 'combination', 'of', 'French', 'Army', '“', 'sector', 'troops', '”', 'deployed', 'for', 'static', 'defense', ',', 'urban', 'police', ',', 'and', 'rural', 'constabulary', 'and', 'militias', '.', 'Bases', 'represent', 'command', ',', 'train-', 'ing', ',', 'and', 'supply', 'facilities', 'as', 'well', 'as', 'centres', 'of', 'civilian', 'government', 'and', 'administration', '.', '1.4.1', 'Availability', ',', 'Removal', ',', 'and', 'Out', 'of', 'Play', '.', 'A', '“', 'Force', 'Pool', '”', 'in-', 'ventory', 'on', 'the', 'Spaces', 'List', 'sheet', 'shows', 'the', 'number', 'of', 'pieces', 'in', 'the', 'game', '.', 'Keep', 'forces', 'Available', 'for', 'placement', 'in', 'that', 'player', '’', 's', 'Available', 'Forces', 'box', '.', 'Place', 'FLN', 'Bases', 'in', 'the', 'highest-numbered', 'empty', 'spaces', 'to', 'show', 'the', 'number', 'of', 'on-map', 'Bases', 'to', 'help', 'track', 'earnings', '(', '6.2', ')', 'and', 'victory', '(', '7.0', ')', '.', 'Both', 'players', 'may', 'have', 'forces', 'in', 'the', 'Out', 'of', 'Play', 'box—neither', 'Available', 'nor', 'on', 'the', 'map—and', 'forces', 'can', 'become', 'Casualties', '(', '3.3.3', ',', '4.3.3', ',', '5.0', ',', '6.5', ')', '.', 'Otherwise', ',', 'forces', 'removed', 'from', 'the', 'map', 'go', 'to', 'Available', 'or', 'Casualties', '.', 'Unless', 'otherwise', 'instructed', '(', 'by', 'Event', ',', '5.1.1', ')', ',', 'forces', 'may', 'only', 'be', 'placed', 'from', 'or', 'replaced', 'with', 'those', 'in', 'the', 'Available', 'boxes', '.', 'A', 'piece', 'to', 'be', 'replaced', 'by', 'a', 'piece', 'that', 'is', 'unavailable', 'is', 'simply', 'removed', '.', 'Important', ':', 'Players', 'while', 'executing', 'an', 'Operation', ',', 'Special', 'Activity', ',', 'or', 'Event', 'to', 'place', 'their', 'own', 'forces', 'may', 'take', 'them', 'from', 'spaces', 'else-', 'where', 'on', 'the', 'map', 'if', 'and', 'only', 'if', 'the', 'desired', 'force', 'type', 'is', 'not', 'Available', '.', 'Exception', 'to', 'the', 'above', ':', 'the', 'FLN', 'can', 'not', 'take', 'pieces', 'from', 'Morocco', 'or', 'Tunisia', 'to', 'do', 'this', '(', 'though', 'the', 'player', 'can', 'take', 'pieces', 'from', 'other', 'spaces', 'in', 'Algeria', 'to', 'place', 'them', 'in', 'these', 'countries', ')', '.', 'EXAMPLES', ':', 'During', 'a', 'Rally', '(', '3.3.1', ')', ',', 'an', 'FLN', 'player', 'without', 'Avail-', 'able', 'Guerrillas', 'could', 'remove', 'its', 'own', 'from', 'a', 'space', '(', 'not', 'in', 'Morocco', 'or', 'Tunisia', ')', 'to', 'place', 'them', 'Underground', 'in', 'a', 'different', 'space', '.', 'Gov-', 'ernment', 'Train', 'could', 'take', 'Algerian', 'cubes', 'from', 'another', 'space', 'if', 'none', 'were', 'in', 'Available', '.', '1.4.2', 'Stacking', '.', 'No', 'more', 'than', 'two', 'Bases', 'may', 'oc-', 'cupy', 'a', 'single', 'map', 'space', '.', 'Only', 'FLN', 'pieces', 'may', 'occupy', 'Morocco', 'or', 'Tunisia', '(', '1.3.4', ')', '(', 'and', 'there', 'is', 'an', 'Event', 'Card', 'that', 'allows', 'the', 'FLN', 'player', 'to', 'place', 'up', 'to', 'three', 'Bases', 'in', 'each', 'of', 'these', 'countries', ')', '.', 'Placing', '(', 'such', 'as', 'Bases', 'via', 'Train', '3.2.1', ',', 'Rally', '3.3.1', ',', 'Event', '5.1.1', ',', 'or', 'Deploy', ',', '4.2.1', ')', 'or', 'moving', 'forces', 'may', 'never', 'violate', 'stacking', '.', '1.4.3', 'Underground/Active', '.', 'Guerrillas', 'are', 'either', 'Underground—symbol', 'end', 'down—or', 'Active—', 'symbol', 'end', 'up', '.', 'Actions', 'and', 'Events', 'flip', 'them', 'from', 'one', 'to', 'the', 'other', 'state', '.', 'Bases', ',', 'Troops', ',', 'and', 'Police', 'are', 'always', 'Active', '.', 'Always', 'set', 'up', 'and', 'place', 'new', 'Guerrillas', 'Under-', 'ground', '(', 'including', 'if', 'replacing', 'a', 'piece', ')', '.', 'NOTE', ':', 'Unless', 'instructions', 'specify', '“', 'Underground', '”', 'Guerrilla', ',', 'it', 'is', 'sufficient', 'to', '“', 'Activate', '”', 'already', 'Active', 'Guerrillas', '(', 'they', 'stay', 'Active', ')', '.', 'Also', ',', '“', 'moving', '”', 'or', '“', 'relocating', '”', 'Guerrillas', 'does', 'not', 'affect', 'Under-', 'ground', 'status', 'unless', 'specified', '.', '1.5', 'Players', '&', 'Factions', 'The', 'game', 'has', 'two', 'factions', ',', 'the', 'Government', 'and', 'the', 'FLN', '.', 'See', '8.0', 'for', 'rules', 'to', 'be', 'used', 'for', 'an', '“', 'automated', '”', 'FLN', 'player', ',', 'if', 'there', 'is', 'only', 'one', 'human', 'player', 'and', 'they', 'do', 'not', 'want', 'to', 'play', 'both', 'factions', '.', '1.5.1', 'Friends', 'and', 'Enemies', '.', 'The', 'government', 'player', 'has', 'forces', 're-', 'cruited', 'or', 'drafted', 'from', 'both', 'metropolitan', 'France', '(', 'dark', 'blue', 'Troops', ',', 'and', 'light', 'blue', 'Police', 'and', 'Bases', ')', 'and', 'Algeria', '(', 'dark', 'and', 'light', 'green', 'Troops', 'and', 'Police', ')', '.', 'They', 'are', 'on', 'the', 'same', 'side', ',', 'though', 'Algerian', 'forces', 'may', 'be', 'built', 'as', 'a', 'result', 'of', 'Train', 'Operations', 'and', 'are', 'vulnerable', 'to', 'Subvert', 'Operations', 'by', 'the', 'FLN', 'player', '.', 'Occasionally', 'a', 'game', 'rule', 'or', 'event', 'will', 'apply', 'to', 'French', 'or', 'Algerian', 'Troops', ',', 'or', 'Police', 'only', ',', 'and', 'will', 'be', 'denoted', 'as', 'such', ':', 'otherwise', ',', 'the', 'term', '“', 'Government', '”', 'applies', 'equally', 'to', 'both', 'nationalities', '.', '1.5.2', 'Negotiation', '.', 'Players', 'may', 'make', 'any', 'mutual', 'arrangements', 'within', 'the', 'rules', '.', 'The', 'rules', 'do', 'not', 'bind', 'players', 'to', 'agreements', '.', '1.6', 'Support', 'and', 'Opposition', 'Support', 'and', 'Opposition', 'affect', 'victory', 'and', 'some', 'operations', 'and', 'activities', '.', '1.6.1', 'Cities', 'and', 'Sectors', 'with', 'at', 'least', '1', 'Population', '(', '1.3.2-3', ')', 'always', 'show', 'one', 'of', 'three', 'levels', 'of', 'its', 'populace', '’', 's', 'Support', 'for', 'or', 'Opposition', 'to', 'the', 'Government', 'regime', 'that', 'can', 'shift', 'during', 'play', ':', 'Support', 'Neutral', 'Opposition', '(', 'marker', ')', '(', 'no', 'marker', ')', '(', 'other', 'side', 'of', 'marker', ')', '1.6.2', 'Support', 'or', 'Opposition', 'affects', 'player', 'victory', '(', '7.2-.3', ')', '.', 'Show', 'Support', 'or', 'Opposition', 'with', 'markers', 'placed', 'in', 'each', 'City', 'or', 'Sector', '.', 'Show', 'Neutral', 'spaces', 'by', 'the', 'absence', 'of', 'such', 'markers', '.', 'Total', 'Support', '=', 'total', 'Pop', 'Value', 'of', 'Cities', 'and', 'Sectors', 'in', 'Support', 'Total', 'Opposition', '=', 'total', 'Pop', 'Value', 'of', 'Cities', 'and', 'Sectors', 'in', 'Opposition', 'in', 'Algeria', 'NOTE', ':', 'Pop', '0', 'Sectors', 'are', 'always', 'Neutral', ',', 'never', 'at', 'Support', 'or', 'Opposition', '.', '1.6.3', '.', 'Morocco', 'and', 'Tunisia', 'are', 'Pop', '1', ',', 'but', 'this', 'is', 'only', 'so', 'as', 'to', 'allow', 'the', 'FLN', 'to', 'Rally', 'and', 'Extort', 'there', '.', 'Their', 'Population', 'Values', 'are', 'never', 'included', 'in', 'Total', 'Opposition', '.', '1.7', 'Control', 'A', 'player', 'Controls', 'a', 'Sector', 'or', 'City', 'if', 'the', 'number', 'of', 'their', 'pieces', 'there', 'exceeds', 'that', 'of', 'the', 'other', 'player', '.', 'Control', 'affects', 'cer-', 'tain', 'activities', '.', 'Adjust', 'Control', 'markers', 'immediately', 'as', 'Control', 'changes', 'due', 'to', 'placement', ',', 'removal', ',', 'or', 'movement', 'of', 'pieces', '.', '5Colonial', 'Twilight', 'Revised', 'May', '2018', '©', '2017', 'GMT', 'Games', ',', 'LLC', '1.8', 'Resources', 'and', 'Commitment', 'At', 'any', 'moment', ',', 'a', 'player', 'will', 'have', 'between', '0', 'and', '50', 'Resources', 'that', 'are', 'used', 'to', 'pay', 'for', 'Operations', '(', '3.0', ')', '.', 'During', 'Propaganda', 'Rounds', '(', '6.0', ')', ',', 'players', 'will', 'also', 'gain', 'or', 'expend', 'Resources', 'for', 'other', 'purposes', '.', 'The', 'Government', 'player', 'also', 'has', 'a', 'Commitment', 'Level', ',', 'also', 'recorded', 'on', 'the', 'Edge', 'Track', '.', 'This', 'level', 'is', 'important', 'during', 'Propaganda', 'Rounds', 'and', 'is', 'affected', 'by', 'Events', ',', 'the', 'player', '’', 's', 'operational', 'choices', ',', 'and', 'the', 'FLN', 'player', '’', 's', 'actions', '.', 'Mark', 'Resources', 'on', 'the', 'Edge', 'Track', 'with', 'an', 'appropriate', 'cylinder', ',', 'and', 'Commitment', 'with', 'a', 'marker', '.', 'If', 'a', 'player', 'does', 'not', 'have', 'sufficient', 'Resources', 'or', 'Commitment', 'to', 'pay', 'for', 'a', 'given', 'action', 'or', 'choice', ',', 'they', 'may', 'not', 'perform', 'it', '.', 'However', ',', 'if', 'required', 'to', 'lose', 'Resources', 'or', 'Commitment', 'beyond', '0', '(', 'zero', ')', 'because', 'of', 'the', 'other', 'player', '’', 's', 'actions', ',', 'a', 'player', 'may', 'not', 'have', 'a', '“', 'deficit', '”', 'in-', 'flicted', 'on', 'them—the', 'index', 'is', 'lowered', 'to', '0', 'and', 'the', 'excess', 'is', 'ignored', '.', 'NOTES', ':', 'Compared', 'to', 'the', 'FLN', ',', 'the', 'Government', 'player', 'has', 'a', 'far', 'greater', 'military', 'capacity', 'in', 'terms', 'of', 'logistics', ',', 'numbers', 'of', 'troops', 'and', 'firepower', '.', 'However', ',', 'there', 'will', 'be', 'problems', 'not', 'only', 'of', 'keeping', 'within', 'budget', ',', 'but', 'also', 'the', 'practical', 'issues', 'of', 'command', 'and', 'control', ',', 'the', 'challenges', 'of', 'leadership', 'and', 'motivation', 'in', 'a', 'largely', 'conscript', 'military', ',', 'and', 'developing', 'a', 'workable', 'counterinsurgency', 'doctrine', '–', 'which', 'includes', 'improved', 'coordination', 'with', 'law', 'enforcement', 'and', 'civilian', 'agencies', '.', 'This', 'imposes', 'a', 'practical', 'limit', 'on', 'what', 'the', 'Government', 'player', 'can', 'accomplish', 'during', 'a', 'campaign', '-', 'therefore', 'a', 'finite', 'amount', 'of', 'Resources', '.', 'For', 'the', 'FLN', ',', 'Resources', 'are', 'a', 'more', 'straightforward', 'measure', 'of', 'organization', ',', 'training', ',', 'and', '(', 'especially', 'initially', ')', 'obtaining', 'actual', 'weapons', 'and', 'equipment', '.', 'The', 'Government', 'player', 'also', 'has', 'the', 'complication', 'of', 'a', 'Commitment', 'Level', ',', 'addressing', 'the', 'willingness', 'of', 'the', 'Metro-', 'politan', 'French', 'civilian', 'population', 'and', 'its', 'government', 'to', 'continue', 'to', 'maintain', 'Algeria', 'as', 'a', 'colony', '(', 'technically', 'and', 'legally', ',', 'Algeria', 'was', 'the', '10th', 'Department', 'of', 'France', ',', 'but', 'the', 'main', 'effect', 'of', 'this', 'measure', 'was', 'to', 'allow', 'military', 'conscripts', 'to', 'serve', 'their', 'term', 'in', 'Algeria', ',', 'unlike', 'the', 'just-concluded', 'war', 'in', 'Indochina', 'which', 'permitted', 'deployment', 'only', 'of', 'professional', 'military', 'and', 'volunteers', ')', '.', 'He', 'may', 'deliberately', 'raise', 'or', 'lower', 'the', 'Commitment', 'Level', 'by', 'sending', 'or', 'withdrawing', 'forces', 'to', 'or', 'from', 'Algeria', 'in', 'Propaganda', 'Rounds', '.', 'Certain', 'in-game', 'Events', 'will', 'also', 'change', 'Commitment', ':', 'for', 'example', ',', 'destroying', 'FLN', 'Bases', ',', 'sus-', 'taining', 'French', 'casualties', ',', 'using', 'Torture', ',', 'Event', 'cards', ',', 'and', 'so', 'forth', '.', '1.9', 'Victory', 'Markers', 'Similarly', 'track', 'with', 'markers', 'on', 'the', 'Edge', 'Track', 'the', 'following', 'totals', 'that', 'affect', 'victory', '(', '7.0', ')', '.', '•', 'Government', ':', 'Total', 'Support', '(', '1.6.2', ')', 'plus', 'Commitment', '(', '1.8', ')', '.', '•', 'FLN', ':', 'Total', 'Opposition', '(', '1.6.2', ')', 'plus', 'the', 'number', 'of', 'FLN', 'Bases', 'on', 'the', 'map', '.']\n",
            "/content/Information-Retrieval-Project/Rules/CL-RULES-2019-LivingRules.pdf\n",
            "['1.0', 'INTRODUCTION', 'Cuba', 'Libre', 'is', 'a', '1-', 'to', '4-player', 'board', 'game', 'depicting', 'insurgent', 'and', 'counterinsurgent', '(', 'COIN', ')', 'conflict', 'in', 'Cuba', ',', '1957-1958', '.', 'Each', 'player', 'takes', 'the', 'role', 'of', 'a', 'Faction', 'seeking', 'to', 'run', 'Cuban', 'affairs', ':', 'the', 'Government', '(', 'Govt', ')', 'or', '1', 'of', '3', 'Insurgent', 'Factions—the', 'leftist', 'Move-', 'ment', 'of', '26July', '(', '26July', 'or', 'M26', ')', ',', 'the', 'anti-communist', ',', 'anti-Batista', 'Revolutionary', 'Directorate', '(', 'Directorio', 'or', 'DR', ')', ',', 'and', 'the', 'organized', 'crime', 'Syndicate', '.', 'Using', 'military', ',', 'political', ',', 'and', 'economic', 'actions', 'and', 'exploiting', 'various', 'events', ',', 'players', 'build', 'and', 'maneuver', 'forces', 'to', 'influence', 'the', 'population', ',', 'extract', 'resources', ',', 'or', 'otherwise', 'achieve', 'their', 'Faction', '’', 's', 'aims', '.', 'A', 'deck', 'of', 'cards', 'regulates', 'turn', 'order', ',', 'events', ',', 'victory', 'checks', ',', 'and', 'the', 'like', '.', 'The', 'rules', 'can', 'run', 'non-player', 'Factions', ',', 'enabling', 'solitaire', ',', '2-player', ',', 'or', 'multi-player', 'games', '.', 'Cuba', 'Libre', 'is', 'the', 'second', 'volume', 'in', 'the', 'COIN', 'Series', 'of', 'games', 'using', 'similar', 'rules', 'to', 'cover', 'a', 'variety', 'of', 'modern', 'insurgencies', ',', 'and', 'other', 'factional', 'conflicts', '.', 'The', 'Playbook', 'on', 'page', '14', 'summarizes', 'key', 'rules', 'differences', '.', 'This', 'rule', 'book', 'lists', 'and', 'defines', 'key', 'game', 'terms', 'in', 'an', 'index', 'on', 'pages', '17', 'to', '18', '.', 'The', 'most', 'important', 'game', 'functions', 'are', 'summarized', 'on', 'several', 'aid', 'sheets', '.', 'Game', 'set', 'up', 'is', 'explained', 'on', 'the', 'back', 'of', 'this', 'rule', 'book', '.', '1.1', 'General', 'Course', 'of', 'Play', 'Cuba', 'Libre—unlike', 'most', 'card-assisted', 'war', 'games—does', 'not', 'use', 'hands', 'of', 'cards', '.', 'Instead', ',', 'cards', 'are', 'played', 'from', 'the', 'deck', 'one', 'at', 'time', ',', 'with', 'one', 'card', 'ahead', 'revealed', 'to', 'all', 'players', '.', 'Each', 'Event', 'card', 'shows', 'the', 'order', 'in', 'which', 'the', 'Factions', 'become', 'Eligible', 'to', 'choose', 'between', 'the', 'card', '’', 's', 'Event', 'or', 'one', 'of', 'a', 'menu', 'of', 'Operations', 'and', 'Special', 'Activi-', 'ties', '.', 'Executing', 'an', 'Event', 'or', 'Operation', 'carries', 'the', 'penalty', 'of', 'render-', 'ing', 'that', 'Faction', 'Ineligible', 'to', 'do', 'so', 'on', 'the', 'next', 'card', '.', 'Propaganda', 'cards', 'mixed', 'in', 'with', 'the', 'Event', 'cards', 'provide', 'periodic', 'opportunities', 'for', 'instant', 'wins', 'and', 'for', 'activities', 'such', 'as', 'collecting', 'resources', 'and', 'influencing', 'popular', 'sympathies', '.', '1.2', 'Components', 'A', 'complete', 'set', 'of', 'Cuba', 'Libre', 'includes', ':', '•', 'A', '17', '”', 'x22', '”', 'mounted', 'game', 'board', '(', '1.3', ')', '.', '•', 'A', 'deck', 'of', '52', 'cards', '(', '5.0', ')', '.', '•', '86', 'dark', 'and', 'light', 'blue', ',', 'red', ',', 'green', ',', 'and', 'yellow', 'wooden', 'forces', 'pieces', ',', 'some', 'embossed', '(', '1.4', ';', 'see', '“', 'Available', 'Forces', '”', 'on', 'page', '20', 'for', 'a', 'complete', 'listing', ')', '.', '•', '8', 'embossed', 'cylinders', '(', '1.8', ',', '2.2', ')', '.', '•', '6', 'white', 'and', '6', 'black', 'pawns', '(', '3.1.1', ')', '.', '•', 'A', 'sheet', 'of', 'markers', '.', '•', '2', '(', 'identical', ')', 'Sequence', 'of', 'Play', 'sheets', '(', '1.3.1', ',', '2.0', ',', '5.0', ',', '6.0', ')', '.', '•', '4', 'Faction', 'player', 'aid', 'foldouts', '(', '3.0', ',', '4.0', ',', '7.0', ')', '•', 'A', 'Non-player', 'aid', 'foldout', '(', '8.0', ')', '.', '•', '3', '6-sided', 'dice—1', 'red', ',', '1', 'yellow', ',', '1', 'green', '.', '•', 'A', 'background', 'play', 'book', '.', '•', 'This', 'rule', 'book', '.', '1.3', 'The', 'Map', 'The', 'map', 'shows', 'the', 'island', 'of', 'Cuba', 'divided', 'into', 'various', 'types', 'of', 'spaces', '.', '1.3.1', 'Map', 'Spaces', '.', 'Map', 'spaces', 'include', 'rural', 'Provinces', ',', 'urban', 'Cities', ',', 'and', 'Economic', 'Centers', '(', 'ECs', ')', '.', 'All', 'can', 'hold', 'forces', '.', '1.3.2', 'Provinces', '.', 'Each', 'Province', 'shows', 'a', 'Population', 'value', '(', 'Pop', ')', 'of', '1', 'or', '2', 'that', 'affects', 'victory', 'via', 'Support', 'for', 'or', 'Opposition', 'to', 'the', 'Government', '(', '1.6', ')', 'or', 'Control', '(', '1.7', ')', 'and', 'some', 'Insurgent', 'Operations', '(', '3.3', ')', '.', 'Provinces', 'are', 'further', 'distinguished', 'by', 'terrain', 'as', 'Forest', ',', 'Mountain', ',', 'or', 'Grassland', ',', 'affecting', 'some', 'COIN', 'Operations', '(', '3.2', ')', 'and', 'Events', '(', '5.0', ')', '.', '1.3.3', 'Cities', '.', 'Each', 'City', 'shows', 'a', 'Population', 'value', 'of', '1', 'or', '6', '.', 'Economic', 'Center', '(', 'EC', ')', 'Place', 'Support', 'and', 'Opposition', 'markers', 'here', 'Economic', 'Center', 'Place', 'control', 'markers', 'here', '3Cuba', 'Libre', '©', '2018', 'GMT', 'Games', ',', 'LLC', 'Use', 'on', 'the', 'Edge', 'Track', ':', 'Victory-related', 'and', 'Aid', 'markers', 'Government', 'Cubes', ':', '26July', 'Guerrillas', ':', 'Directorio', 'Base', ':', 'Syndicate', 'Bases', ':', '(', 'Casinos', ')', 'Troops', 'Police', 'Underground', 'Active', 'Open', 'TYPES', 'OF', 'FORCES', '1.3.4', 'ECs', '.', 'Each', 'Economic', 'Center', '(', 'EC', ')', 'shows', 'an', 'Economic', 'value', '(', 'Econ', ')', 'of', '2', 'or', '3', 'affecting', 'Government', 'and', 'Syndicate', 'Resources', '(', '1.8', ')', '.', 'DESIGN', 'NOTE', ':', 'ECs', 'represent', 'zones', 'of', 'economic', 'activity', 'important', 'to', 'the', 'government', '—such', 'as', 'sugar', ',', 'mining', ',', 'and', 'tobacco—the', 'major-', 'ity', 'owned', 'by', 'US', 'corporations', '.', 'The', 'towns', 'Santa', 'Clara', 'and', 'Guanta-', 'namo', 'are', 'not', 'spaces', ';', 'they', 'are', 'shown', 'for', 'historical', 'interest', '.', '1.4', 'Forces', 'The', 'wooden', 'pieces', 'represent', 'the', 'Factions', '’', 'various', 'forces', ':', 'Gov-', 'ernment', 'Troops', '(', 'dark-blue', 'cubes', ')', 'and', 'Police', '(', 'light-blue', 'cubes', ')', ',', 'Insurgent', 'Guerrillas', ',', 'and', 'all', 'Factions', '’', 'Bases', '.', 'The', 'Syndicate', 'Faction', '’', 's', 'Bases', 'are', 'a', 'special', 'type', 'called', 'Casinos', '(', '1.4.4-.5', ',', '3.3.5', ')', '.', 'DESIGN', 'NOTE', ':', 'Bases', 'represent', 'not', 'only', 'bivouacs', 'and', 'training', 'camps', 'but', 'also', ',', 'for', 'the', '26July', 'and', 'Directorio', 'Factions', ',', 'political', 'administration', 'and', ',', 'for', 'the', 'Syndicate', ',', 'casinos', '.', 'NOTE', ':', 'Cash', 'markers', '(', '4.5.2', ')', ',', 'though', 'not', 'forces', 'or', 'pieces', ',', 'stack', 'with', 'a', 'specific', 'Guerrilla', 'or', 'cube', 'while', 'on', 'the', 'map', '.', '1.4.1', 'Availability', 'and', 'Removal', '.', 'The', 'inventory', 'shown', 'on', 'the', '“', 'Available', 'Forces', '”', 'chart', 'on', 'the', 'back', 'of', 'this', 'rule', 'book', 'limits', 'the', 'number', 'of', 'pieces', 'that', 'may', 'be', 'in', 'play', '.', 'Keep', 'forces', 'not', 'on', 'the', 'map', 'in', 'the', 'Forces', 'holding', 'boxes', '.', '(', 'Place', 'Bases', 'in', 'the', 'highest-numbered', 'empty', 'circles', ',', 'revealing', 'the', 'number', 'of', 'on-map', 'Bases', 'to', 'help', 'track', 'victory', ',', '7.0', ')', '•', 'Forces', 'may', 'only', 'be', 'placed', 'from', 'or', 'replaced', 'with', 'those', 'available', 'in', 'the', 'holding', 'boxes—ignore', 'any', 'instructions', 'to', 'place', 'forces', 'if', 'the', 'appropriate', 'type', 'is', 'not', 'available', 'because', 'all', 'are', 'already', 'on', 'the', 'map', '(', 'remove', 'rather', 'than', 'replace', 'such', 'pieces', ')', '.', '•', 'Important', ':', 'A', 'player', 'Faction', 'while', 'executing', 'an', 'Operation', ',', 'Special', 'Activity', ',', 'or', 'Event', 'may', 'remove', 'its', 'own', 'pieces', '(', 'including', 'Casinos', ')', 'to', 'Available', 'Forces', '.', 'EXAMPLE', ':', 'Insurgents', 'without', 'Available', 'Guerrillas', 'could', 'remove', 'Active', 'Guerrillas', 'during', 'a', 'Rally', '(', '3.3.1', ')', 'in', 'order', 'to', 'place', 'them', 'Underground', '.', '•', 'Once', 'an', 'enemy', 'Faction', 'is', 'targeted', ',', 'removal', 'or', 'Activation', 'of', 'pieces', 'to', 'the', 'extent', 'of', 'the', 'executing', 'Faction', '’', 's', 'ability', 'is', 'required', '.', 'EXAMPLE', ':', 'A', 'Government', 'Assault', '(', '3.2.4', ')', 'with', '3', 'Troops', 'in', 'Forest', 'must', 'remove', '3', 'Active', 'pieces', 'if', 'there', 'are', 'at', 'least', 'that', 'many', 'among', 'those', 'Factions', 'targeted', '.', '1.4.2', 'Stacking', '.', 'At', 'most', '2', 'non-Casino', 'Bases', '(', 'total', 'Bases', 'of', 'Govern-', 'ment', ',', '26July', ',', 'plus', 'Directorio', ')', 'plus', '2', 'Casinos', 'may', 'occupy', 'a', 'single', 'Province', 'or', 'City', '.', 'Bases', 'and', 'Casinos', 'may', 'not', 'occupy', 'ECs', '.', '•', 'Ignore', 'any', 'instructions', '(', 'such', 'as', 'from', 'Operations', 'or', 'Events', ')', 'to', 'place', 'or', 'move', 'forces', 'if', 'stacking', 'would', 'be', 'violated', '.', 'EXCEPTION', ':', '“', 'Sinatra', '”', 'Event', '.', '1.4.3', 'Underground/Active', '.', 'Guerrillas', 'are', 'either', 'Underground—symbol', 'end', 'down', ',', 'or', 'Active—sym-', 'bol', 'end', 'up', '.', 'Certain', 'actions', 'flip', 'them', 'from', 'one', 'to', 'the', 'other', 'state', '.', 'Always', 'set', 'up', 'and', 'place', 'new', 'Guerrillas', 'Underground', '(', 'including', 'if', 'replacing', 'a', 'piece', ')', '.', 'NOTE', ':', 'Unless', 'text', 'specifies', '“', 'Underground', '”', 'Guerrilla', ',', 'it', 'is', 'sufficient', 'to', '“', 'Activate', '”', 'already', 'Active', 'Guerrillas', '(', 'they', 'stay', 'Active', ')', '.', '1.4.4', 'Open/Closed', '.', 'Casinos', 'are', 'either', 'open—symbol', 'up', ',', 'or', 'closed—symbol', 'down', '.', 'Set', 'up', 'and', 'place', 'Casinos', 'open', '.', 'EXCEP-', 'TION', ':', 'Construct', ',', '3.3.5', '.', '1.4.5', 'Casinos', 'Not', 'Removed', '.', 'Any', 'action', 'that', 'would', 'remove', 'or', 're-', 'place', 'a', 'normal', 'Base', 'instead', 'closes', 'an', 'open', 'Casino', 'and', 'has', 'no', 'effect', 'on', 'a', 'closed', 'Casino', '(', '3.2.4', ',', '3.3.3', ',', '4.2.2', ',', '4.4.3', ',', '5.1.1', ')', '.', 'EXCEPTION', ':', 'The', 'Syndicate', 'may', 'voluntarily', 'remove', 'or', 'close', 'Casinos', '(', '1.4.1', ')', '.', 'DESIGN', 'NOTE', ':', 'Although', 'rebels', 'would', 'disrupt', 'casino', 'operations', ',', 'the', 'Cuban', 'Revolution', 'did', 'not', 'see', 'large-scale', 'attacks', 'on', 'casinos', ',', 'hotels', ',', 'or', 'other', 'Syndicate', 'holdings', '.', 'An', 'Assault', 'or', 'Air', 'Strike', 'that', 'closes', 'a', 'Casino', 'may', 'represent', 'authorities', 'forcing', 'closure', 'in', 'order', 'to', 'pressure', 'the', 'Mob', 'or', 'nearby', 'fighting', 'blocking', 'revenue', '.', 'Capabilities', 'markers', 'Support', 'and', 'Opposition', 'markers', '(', '1.6.2', ')', 'Terror', '(', '3.3.4', ')', 'Sabotage', '(', '3.3.4', ')', 'Use', 'on', 'the', 'Propa-', 'ganda', 'Track', 'Cash', 'Markers', 'U.S.', 'Alliance', 'Deception', '(', 'Optional', 'Rule', ')', 'Control', 'Markers', 'Use', 'to', 'mark', 'control', 'of', 'Cities', 'and', 'Provinces', 'Markers', 'Closed', '4', 'Cuba', 'Libre', '©', '2018', 'GMT', 'Games', ',', 'LLC', 'Total', 'Support', 'equals', ':', '(', '2', 'x', 'Population', 'in', 'Active', 'Support', ')', '+', '(', '1', 'x', 'Population', 'in', 'Pas-', 'sive', 'Support', ')', 'Total', 'Opposition', 'equals', ':', '(', '2', 'x', 'Population', 'in', 'Active', 'Opposition', ')', '+', '(', '1', 'x', 'Population', 'in', 'Passive', 'Opposition', ')', 'Opposition', '+', 'Bases', 'equals', ':', 'Total', 'Opposition', '+', 'The', 'number', 'of', '26July', 'Bases', 'on', 'the', 'map', 'DR', 'Pop', '+', 'Bases', 'equals', ':', 'Population', 'of', 'all', 'spaces', 'Controlled', 'by', 'Directorio', '+', 'The', 'number', 'of', 'Directorio', 'Bases', 'on', 'the', 'map', '•', 'Directorio', 'victory', 'depends', 'on', 'the', 'sum', 'of', 'Population', 'Con-', 'trolled', 'by', 'Directorio', '(', '1.7', ')', 'plus', 'Directorio', 'Bases', '–', '“', 'DR', 'Pop', '+', 'Bases', '”', '.', '•', 'Syndicate', 'victory', 'includes', 'the', 'number', 'of', '“', 'Open', 'Casinos', '”', 'on', 'the', 'map', '(', '1.4.4', ')', '.', 'NOTE', ':', 'The', '12', '“', 'Deception', '”', 'markers', 'are', 'for', 'a', 'victory-related', 'optional', 'rule', '(', '7.3', ')', '.', '1.7', 'Control', 'A', 'Faction', 'Controls', 'a', 'Province', 'or', 'City', 'if', 'its', 'pieces', 'there', 'exceed', 'those', 'of', 'all', 'other', 'Factions', 'combined', '.', '(', 'If', 'none', 'does', ',', 'the', 'space', 'is', 'uncontrolled', '.', ')', 'Casinos', 'count', 'only', 'if', 'open', '(', '1.4.4', ')', '.', 'Control', 'affects', 'certain', 'Faction', 'activities', 'and', 'victory', '.', 'Adjust', 'Control', 'markers', 'to', 'show', 'a', 'Faction', '’', 's', 'control', 'as', 'it', 'changes', 'due', 'to', 'Operations', '(', '3.0', ')', ',', 'Special', 'Activities', '(', '4.0', ')', ',', 'Events', '(', '5.0', ')', ',', 'voluntary', 'force', 'removal', '(', '1.4.1', ')', ',', 'or', 'the', 'Propaganda', 'Round', '(', '6.0', ')', '.', '1.8', 'Resources', 'and', 'Aid', 'At', 'any', 'moment', ',', 'each', 'Faction', 'has', 'between', '0', 'and', '49', 'Resources', 'that', 'it', 'uses', 'to', 'pay', 'for', 'Opera-', 'tions', '(', '3.0', ')', '.', 'During', 'Propaganda', 'Rounds', '(', '6.2.1', ')', 'and', 'Events', ',', 'a', 'level', 'of', 'Aid', '(', '0', 'to', '49', ')', 'adds', 'to', 'Government', 'Resources', '.', 'Mark', 'Resources', 'and', 'Aid', 'on', 'the', 'edge', 'track—for', 'Resources', ',', 'with', 'a', 'cylinder', 'of', 'the', 'Faction', '’', 's', 'color', '(', '1.5', ')', '.', 'Negotiated', 'transfer', 'of', 'Resources', '(', '1.5.1', ')', 'may', 'only', 'be', 'to', 'or', 'from', 'a', 'Faction', 'executing', 'an', 'Operation', ',', 'Special', 'Activ-', 'ity', ',', 'or', 'Event', '(', 'per', '2.3', ')', '.']\n",
            "/content/Information-Retrieval-Project/Rules/ADP-RULES-2015.pdf\n",
            "['1.0', 'INTRODUCTION', 'A', 'Distant', 'Plain', 'is', 'a', '1-', 'to', '4-player', 'board', 'game', 'depicting', 'insurgent', 'and', 'counterinsurgent', '(', 'COIN', ')', 'conflict', 'in', 'modern', 'Afghanistan', '.', 'Each', 'player', 'takes', 'the', 'role', 'of', 'a', 'Faction', 'seeking', 'to', 'guide', 'Afghan', 'affairs', ':', 'the', 'international', 'Coalition', ',', 'the', 'Afghan', 'Government', ',', 'the', 'Islamist', 'Taliban', ',', 'or', 'narco-trafficking', 'Warlords', '.', 'Using', 'military', ',', 'political', ',', 'and', 'economic', 'actions', 'and', 'exploiting', 'various', 'events', ',', 'players', 'build', 'and', 'maneuver', 'forces', 'to', 'influence', 'or', 'control', 'the', 'population', ',', 'extract', 'resources', ',', 'or', 'otherwise', 'achieve', 'their', 'Faction', '’', 's', 'aims', '.', 'A', 'deck', 'of', 'cards', 'regulates', 'turn', 'order', ',', 'events', ',', 'victory', 'checks', ',', 'and', 'other', 'pro-', 'cesses', '.', 'The', 'rules', 'can', 'run', 'non-player', 'Factions', ',', 'enabling', 'solitaire', ',', '2-player', ',', 'or', 'multi-player', 'games', '.', 'A', 'Distant', 'Plain', 'is', 'a', 'volume', 'in', 'the', 'COIN', 'Series', 'of', 'games', 'that', 'use', 'similar', 'rules', 'to', 'cover', 'a', 'variety', 'of', 'insurgencies', '.', 'Volume', 'I', 'was', 'Andean', 'Abyss', ',', 'set', 'in', 'Colombia', '.', 'The', 'Playbook', 'lists', 'major', 'rules', 'differences', 'from', 'Andean', 'Abyss', '.', 'This', 'rule', 'book', 'lists', 'and', 'defines', 'key', 'game', 'terms', 'in', 'an', 'index', 'on', 'pages', '16-17', '.', 'The', 'most', 'important', 'game', 'functions', 'are', 'summarized', 'on', 'several', 'aid', 'sheets', '.', 'Game', 'set', 'up', 'is', 'explained', 'on', 'pages', '19-20', 'of', 'this', 'rule', 'book', '.', '1.1', 'General', 'Course', 'of', 'Play', 'A', 'Distant', 'Plain—unlike', 'many', 'card-assisted', 'war', 'games—does', 'not', 'use', 'hands', 'of', 'cards', '.', 'Instead', ',', 'cards', 'are', 'played', 'from', 'the', 'deck', 'one', 'at', 'time', ',', 'with', 'one', 'card', 'ahead', 'revealed', 'to', 'all', 'players', '.', 'Each', 'Event', 'card', 'shows', 'the', 'order', 'in', 'which', 'the', 'Factions', 'become', 'Eligible', 'to', 'choose', 'between', 'the', 'card', '’', 's', 'Event', 'or', 'one', 'of', 'a', 'menu', 'of', 'Operations', 'and', 'Special', 'Activities', '.', 'Executing', 'an', 'Event', 'or', 'Operation', 'carries', 'the', 'penalty', 'of', 'rendering', 'that', 'Faction', 'Ineligible', 'to', 'do', 'so', 'on', 'the', 'next', 'card', '.', 'Propaganda', 'cards', 'mixed', 'in', 'with', 'the', 'Event', 'cards', 'provide', 'periodic', 'opportunities', 'for', 'instant', 'wins', 'and', 'for', 'activities', 'such', 'as', 'collecting', 'resources', 'and', 'influencing', 'popular', 'sympathies', '.', '1.2', 'Components', 'A', 'complete', 'set', 'of', 'A', 'Distant', 'Plain', 'includes', ':', '•', 'A', '22', '”', 'x34', '”', 'mounted', 'game', 'board', '(', '1.3', ')', '.', '•', 'A', 'deck', 'of', '78', 'cards', '(', '5.0', ')', '.', '•', '158', 'medium', 'and', 'light', 'blue', ',', 'tan', ',', 'black', ',', 'and', 'green', 'wooden', 'forces', 'pieces', ',', 'some', 'embossed', '(', '1.4', ';', 'see', '“', 'Available', 'Forces', '”', 'on', 'page', '19', 'for', 'a', 'complete', 'listing', ')', '.', '•', '7', 'embossed', 'cylinders', '(', '1.8', ',', '2.2', ')', '.', '•', '6', 'red', 'and', '6', 'white', 'pawns', '(', '3.1.1', ')', '.', '•', 'A', 'sheet', 'of', 'markers', '.', '•', 'A', 'Sequence', 'of', 'Play', 'sheet', '(', '2.0', ',', '6.0', ')', '.', '•', '4', 'Faction', 'player', 'aid', 'foldouts', '(', '3.0', ',', '4.0', ',', '7.0', ')', '.', '•', 'A', 'Non-player', 'aid', 'foldout', '(', '8.0', ')', '.', '•', 'A', 'Random', 'Spaces', 'sheet', '(', '8.2', ')', '.', '•', '3', '6-sided', 'dice—1', 'tan', ',', '1', 'black', ',', '1', 'green', '.', '•', 'A', 'background', 'play', 'book', '.', '•', 'This', 'rule', 'book', '.', '1.3', 'The', 'Map', 'The', 'map', 'shows', 'the', 'country', 'of', 'Afghanistan', 'divided', 'into', 'various', 'types', 'of', 'spaces', ',', 'as', 'well', 'as', 'parts', 'of', 'neighboring', 'countries', '.', '1.3.1', 'Map', 'Spaces', '.', 'Map', 'spaces', 'include', 'rural', 'Provinces', ',', 'the', 'City', 'of', 'Kabul', ',', 'and', 'roadways', 'called', 'Lines', 'of', 'Communication', '(', 'LoCs', ')', '.', 'All', 'spaces—including', 'LoCs—can', 'hold', 'forces', '.', '1.3.2', 'Provinces', '.', 'Each', 'Province', 'shows', 'a', 'Population', 'value', '(', 'Pop', ')', 'of', '0', ',', '1', ',', 'or', '2', 'that', 'affects', 'victory', 'via', 'Support', 'for', 'or', 'Opposition', 'to', 'the', 'Government', '(', '1.6', ')', 'or', 'Control', '(', '1.7', ')', 'and', 'some', 'Insurgent', 'actions', '.', 'The', 'Govern', 'activity', '(', '4.3.1', ')', 'can', 'increase', 'Population', '.', 'Provinces', 'are', 'further', 'distinguished', 'as', 'Mountain', 'or', 'Plains', ',', 'affecting', 'Government', '3A', 'Distant', 'Plain', '©', '2013', ',', '2015', 'GMT', 'Games', ',', 'LLC', 'Event', 'Reminder', 'Markers', '(', '5.4', ')', 'Control', 'Markers', 'Use', 'to', 'mark', 'Control', 'of', 'Cities', 'and', 'Provinces', 'Assault', '(', '3.2.4', ')', 'and', 'Events', '(', '5.0', ')', ',', 'or', 'Pakistan', '(', '1.3.5', ')', ',', 'affecting', 'Stack-', 'ing', '(', '1.4.2', ')', '.', 'Several', 'are', 'of', 'Pashtun', 'ethnicity', ',', 'affecting', 'Events', 'and', 'Insurgent', 'Operations', '.', '1.3.3', 'City', '.', 'The', 'City', 'of', 'Kabul', 'shows', 'Pashtun', 'ethnicity', 'and', 'a', 'Popu-', 'lation', 'value', 'of', '3', '.', 'NOTE', ':', 'Each', 'Population', 'value', 'represents', 'about', 'a', 'million', 'Afghans', '.', '1.3.4', 'LoCs', '.', 'Each', 'Line', 'of', 'Communication', '(', 'LoC', ')', 'shows', 'an', 'Eco-', 'nomic', 'value', '(', 'Econ', ')', 'of', '1', 'to', '4', 'that', 'affects', 'Government', 'Resources', '(', '1.8', ')', 'and', 'the', 'Taliban', 'Extort', 'activity', '(', '4.3.1', ')', '.', 'LoCs', 'are', 'never', 'Pashtun', '(', '1.3.2-.3', ')', '.', '1.3.5', 'Foreign', 'Countries', '.', 'The', 'map', 'includes', 'parts', 'of', 'Pakistan', ',', 'Iran', ',', 'and', 'several', 'Central', 'Asian', 'republics', '.', 'Only', 'Pakistan', 'has', 'playable', 'spaces', '(', '1.3.1', ')', '.', 'They', 'are', 'three', 'Provinces', 'where', 'only', 'Taliban', 'forces', 'may', 'stack', '(', '1.4.2', ')', '.', '1.3.6', 'Adjacency', '.', 'Adjacency', 'affects', 'the', 'movement', 'of', 'forces', 'and', 'implementation', 'of', 'certain', 'Events', '.', 'Any', '2', 'spaces', 'meeting', 'one', 'of', 'the', 'following', 'conditions', 'are', 'adjacent', ':', '•', 'Spaces', 'that', 'border', 'on', '(', 'touch', ')', 'one', 'another', '.', '•', 'Provinces', 'separated', 'by', 'LoCs', '.', '•', 'LoCs', 'or', 'Provinces', 'separated', 'by', 'Towns', '.', 'NOTE', ':', 'Towns', 'are', 'not', 'spaces', ';', 'they', 'merely', 'terminate', 'LoCs', '.', 'ADJACENCY', 'EXAMPLE', ':', 'Faryab', 'Province', 'and', 'the', 'LoC', 'ending', 'at', 'the', 'town', 'of', 'Shibirghan', 'are', 'adjacent', ',', 'as', 'are', 'the', 'Provinces', 'north', 'and', 'south', 'of', 'the', 'LoC', '.', '1.4', 'Forces', 'The', 'wooden', 'pieces', 'represent', 'the', 'Factions', '’', 'various', 'forces', ':', 'Coalition', 'Troops', '(', 'tan', 'cubes', ')', ',', 'Government', 'Troops', '(', 'medium-blue', 'cubes', ')', 'and', 'Use', 'on', 'the', 'Edge', 'Track', ':', 'Victory-related', 'and', 'Aid', 'markers', 'Cubes', ':', 'Taliban', 'Guerrillas', ':', 'Warlord', 'Guerrillas', ':', 'Bases', ':', 'Coalition', 'Troops', 'TYPES', 'OF', 'FORCES', 'Capabilities', 'markers', 'Coalition', '/', 'Taliban', 'Terror', '(', '3.3.4', ')', 'Sabotage', '(', '3.3.4', ')', 'Use', 'on', 'the', 'Propaganda', 'Track', 'Islamabad', 'Posture', 'Patronage', 'Marker', 'Deception', '(', 'Optional', 'Rule', ')', 'Markers', 'Police', '(', 'light-blue', 'cubes', ')', ',', 'Insurgent', 'Guerrillas', ',', 'and', 'all', 'Factions', '’', 'Bases', '.', 'DESIGN', 'NOTE', ':', 'Bases', 'represent', 'training', 'and', 'bivouac', 'facilities', ',', 'political', 'administration', ',', 'and', ',', 'for', 'the', 'Insurgents', ',', 'poppy', 'fields', '.', 'PLAY', 'NOTE', ':', 'Use', '“', 'Overflow', '”', 'boxes', 'for', 'pieces', 'that', 'exceed', 'the', 'room', 'in', 'a', 'space', 'on', 'the', 'map', ';', 'place', 'the', 'lettered', 'marker', 'in', 'that', 'space', '.', '1.4.1', 'Availability', 'and', 'Removal', '.', 'The', 'inventory', 'shown', 'on', 'the', '“', 'Available', 'Forces', '”', 'chart', 'on', 'page', '19', 'of', 'this', 'rule', 'book', 'limits', 'the', 'number', 'of', 'pieces', 'that', 'may', 'be', 'in', 'play', '.', 'Keep', 'forces', 'not', 'on', 'the', 'map', 'in', 'the', 'Available', 'Forces', 'boxes', '.', '(', 'Place', 'Taliban', 'and', 'Warlord', 'Bases', 'in', 'the', 'highest-', 'and', 'Coalition', 'in', 'the', 'lowest-numbered', 'empty', 'spaces', ',', 'revealing', 'the', 'number', 'of', 'on-map', 'Bases', 'and', 'Available', 'Coalition', 'pieces', 'to', 'help', 'track', 'Resource', 'earnings', ',', '6.2', ',', 'and', 'victory', ',', '7.0', '.', ')', 'NOTE', ':', 'See', 'also', 'Casualties', '(', '3.3.3', ',', '6.6', ')', '.', '•', 'Forces', 'may', 'only', 'be', 'placed', 'from', 'or', 'replaced', 'with', 'those', 'in', 'the', 'Available', 'boxes—ignore', 'any', 'instructions', 'to', 'place', 'forces', 'if', 'the', 'appropriate', 'type', 'is', 'not', 'available', '(', 'remove', 'rather', 'than', 'replace', 'such', 'pieces', ')', '.', 'EXCEPTIONS', ':', 'Taliban', 'in', 'Pakistan', '(', '1.4.2', ')', ';', 'Training', '(', '3.2.1', ')', '.', '•', 'Important', ':', 'Taliban', 'and', 'Warlord', 'players', '(', 'only', ')', ',', 'while', 'executing', 'an', 'Operation', ',', 'Special', 'Activity', ',', 'or', 'Event', ',', 'may', 'remove', 'their', 'own', 'pieces', 'to', 'Available', 'Forces', '.', 'EXAMPLE', ':', 'Insurgents', 'without', 'Available', 'Guerrillas', 'could', 'remove', 'Guerrillas', 'during', 'a', 'Rally', '(', '3.3.1', ')', 'in', 'order', 'to', 'place', 'them', 'Underground', '.', 'Government', 'Troops', 'Government', 'Police', 'Population', 'Returnees', '(', '4.3', ')', 'Overflow', 'Marker', '(', '1.4', ')', 'Support', 'and', 'Opposition', 'Markers', '(', '1.6.2', ')', 'Underground', 'Active', 'Underground', 'Active', 'Coalition', 'Govern-', 'ment', 'Taliban', 'Warlords', '4', 'A', 'Distant', 'Plain', '©', '2013', ',', '2015', 'GMT', 'Games', ',', 'LLC', '•', 'Once', 'an', 'enemy', 'Faction', 'is', 'targeted', ',', 'removal', 'or', 'Activation', 'of', 'pieces', 'to', 'the', 'extent', 'of', 'the', 'executing', 'Faction', '’', 's', 'ability', 'is', 'required', '.', 'EXAMPLE', ':', 'A', 'Coalition', 'Assault', '(', '3.2.4', ')', 'with', '3', 'Troops', 'must', 'remove', '3', 'Active', 'pieces', 'if', 'there', 'are', 'that', 'many', 'among', 'the', 'Factions', 'targeted', '.', '1.4.2', 'Stacking', '.', 'No', 'more', 'than', '2', 'Bases', '(', 'regardless', 'of', 'Faction', ')', 'may', 'occupy', 'a', 'single', 'Province', 'or', 'Kabul', '.', 'Bases', 'may', 'not', 'occupy', 'LoCs', '.', 'Only', 'Taliban', 'forces', 'may', 'occupy', 'spaces', 'in', 'Pakistan', '(', '1.3.5', ')', '.', '•', 'Ignore', 'any', 'instructions', '(', 'such', 'as', 'from', 'Operations', 'or', 'Events', ')', 'to', 'place', 'or', 'move', 'forces', 'if', 'stacking', 'would', 'be', 'violated', '.', 'Instruction', 'to', 'replace', 'an', 'enemy', 'piece', 'never', 'affects', 'Taliban', 'in', 'Pakistan', '(', '1.3.5', ',', '1.4.1', ')', '.', '1.4.3', 'Underground/Active', '.', 'Guerrillas', 'are', 'either', 'Underground—symbol', 'end', 'down—or', 'Active—', 'symbol', 'end', 'up', '.', 'Certain', 'actions', 'and', 'Events', 'flip', 'them', 'from', 'one', 'to', 'the', 'other', 'state', '.', 'Bases', ',', 'Troops', ',', 'and', 'Police', 'are', 'always', 'Active', '.', 'Always', 'set', 'up', 'and', 'place', 'new', 'Guerrillas', 'Underground', '(', 'including', 'if', 'replacing', 'a', 'piece', ')', '.', 'NOTE', ':', 'Unless', 'instructions', 'specify', '“', 'Underground', '”', 'Guerrilla', ',', 'it', 'is', 'sufficient', 'to', '“', 'Activate', '”', 'already', 'Active', 'Guerrillas', '(', 'they', 'stay', 'Active', ')', '.', '1.5', 'Players', '&', 'Factions', 'A', 'Distant', 'Plain', 'is', 'playable', 'by', '1', ',', '2', ',', '3', ',', 'or', '4', 'players', '.', 'The', '1st', 'player', 'plays', 'the', 'Coalition', '(', 'tan', ')', 'or', 'the', 'Taliban', '(', 'black', ')', ',', 'the', '2nd', 'the', 'other', ',', 'the', '3rd', 'the', 'Government', '(', 'blue', ')', ',', 'and', 'the', '4th', 'the', 'Warlords', '(', 'green', ')', '(', '2.1', ')', '.', 'Coalition', 'and', 'Government', 'are', 'Counterinsurgent', '(', 'COIN', ')', 'Factions', ';', 'Taliban', 'and', 'Warlords', 'are', 'Insurgents', '.', 'Insurgent', 'Factions', 'are', 'enemy', 'to', 'all', 'others', '.', 'Leftover', 'Factions', 'are', 'Non-Players', 'governed', 'by', 'rules', 'section', '8', '.', 'No', 'Non-Player', 'Option', ':', 'If', 'learning', 'the', 'game', 'with', '2', 'or', '3', 'play-', 'ers', ',', 'ignore', 'the', 'Non-Player', 'rules', '(', '8.0', ')', '.', 'Instead', ',', 'players', 'control', 'leftover', 'Factions', ':', '•', 'With', '3', 'players', ',', 'Coalition', 'controls', 'Warlords', '.', '•', 'With', '2', 'players', ',', 'Coalition', 'controls', 'Government', 'or', ',', 'if', 'pre-', 'ferred', ',', 'Warlords', ';', 'Taliban', 'controls', 'the', 'remaining', 'Faction', '.', 'Play', 'only', 'stops', 'on', 'a', 'victory', 'check', '(', '6.1', ')', 'if', 'all', 'of', 'a', 'player', '’', 's', 'Fac-', 'tions', 'are', 'meeting', 'their', 'conditions', '.', 'After', 'a', 'final', 'Propaganda', ',', 'use', 'the', 'lowest', 'victory', 'margin', 'of', 'each', 'player', '’', 's', 'Factions', '(', '7.3', ')', '.', 'Players', 'may', 'not', 'voluntarily', 'transfer', '(', '1.5.1', ')', 'between', 'their', 'own', 'Factions', '.', '1.5.1', 'Negotiation', '.', 'Players', 'may', 'make', 'any', 'mutual', 'arrangements', 'within', 'the', 'rules', '.', 'All', 'negotiations', 'are', 'open', '.', 'The', 'rules', 'do', 'not', 'bind', 'players', 'to', 'agreements', '.', '•', 'Factions', 'other', 'than', 'the', 'Coalition', 'may', 'voluntarily', 'transfer', 'Resources', '(', '1.8', ')', 'to', 'others', 'at', 'any', 'time', 'that', 'the', 'giving', 'or', 'receiving', 'Faction', 'is', 'executing', 'an', 'Operation', ',', 'Special', 'Activity', ',', 'or', 'Event', '.', '•', 'The', 'Government', 'may', 'voluntarily', 'transfer', 'Patronage', 'to', 'Warlord', 'Resources', ',', '1', 'for', '1', ',', 'when', 'either', 'Faction', 'is', 'executing', 'an', 'Operation', ',', 'Special', 'Activity', ',', 'or', 'Event', '.', 'DESIGN', 'NOTE', ':', 'Kabul', 'traditionally', 'governed', 'via', 'patronage', 'to', 'local', 'leaders', '.', '1.6', 'Support', 'and', 'Opposition', 'Support', 'and', 'Opposition', 'affect', 'victory', 'and', 'some', 'operations', 'and', 'activities', '.', '1.6.1', 'Kabul', 'and', 'Afghan', 'Provinces', 'with', 'at', 'least', '1', 'Population', '(', '1.3.2', ')', 'always', 'show', '1', 'of', '3', 'levels', 'of', 'its', 'populace', '’', 's', 'Support', 'for', 'or', 'Opposition', 'to', 'Afghanistan', '’', 's', 'central', 'government', 'that', 'can', 'shift', 'during', 'play', ':', '•', 'Support', '.', '•', 'Neutral', '.', '•', 'Opposition', '.', '1.6.2', 'Show', 'Support', 'or', 'Opposition', 'with', 'markers', 'placed', 'in', 'Kabul', 'or', 'each', 'such', 'Province', '.', 'Show', 'Neutral', 'spaces', 'by', 'the', 'absence', 'of', 'such', 'markers', '.', 'NOTE', ':', 'LoCs', '(', '1.3.4', ')', 'and', 'Provinces', 'with', '0', 'Population', 'or', 'in', 'Pakistan', '(', '1.3.5', ')', 'never', 'have', 'Support', 'or', 'Opposition', '(', 'they', 'are', 'always', 'Neutral', ')', '.', 'If', 'a', '0', 'Population', 'Province', 'receives', 'a', '+1', 'Pop', 'marker', '(', '4.3.1', ')', ',', 'it', 'becomes', 'a', '1', 'Pop', 'Province', 'in', 'all', 'respects', '.', '1.7', 'Control', 'Either', 'the', 'two', 'Counter-insurgent', '(', 'COIN', ')', 'Factions', 'together', '(', 'Coalition', 'and', 'Govern-', 'ment', ')', 'or', 'the', 'Taliban', 'alone', 'Control', 'a', 'Prov-', 'ince', 'or', 'Kabul', 'if', 'their', 'pieces', 'there', 'exceed', 'those', 'of', 'all', 'other', 'Factions', 'combined', '.', 'If', 'neither', 'COIN', 'nor', 'Taliban', 'Controlled', ',', 'the', 'space', 'is', 'uncontrolled', '.', 'Control', 'affects', 'certain', 'Faction', 'activities', 'and', 'victory', '.', 'Adjust', 'Control', 'markers', 'as', 'Control', 'changes', 'due', 'to', 'Operations', '(', '3.0', ')', ',', 'Special', 'Activities', '(', '4.0', ')', ',', 'Events', '(', '5.0', ')', ',', 'vol-', 'untary', 'force', 'removal', '(', '1.4.1', ')', ',', 'or', 'the', 'Propaganda', 'Round', '(', '6.0', ')', '.', '1.8', 'Resources', ',', 'Aid', ',', 'and', 'Patronage', 'At', 'any', 'moment', ',', 'each', 'Faction', 'except', 'the', 'Coalition', 'has', 'between', '0', 'and', '75', 'Resourc-', 'es', 'that', 'it', 'uses', 'to', 'pay', 'for', 'Operations', '(', '3.0', ')', '.', 'During', 'Propaganda', 'Rounds', '(', '6.3.1', ')', 'and', 'some', 'Events', ',', 'a', 'level', 'of', 'Aid', '(', 'between', '0', 'and', '75', ')', 'adds', 'to', 'Government', 'Resources', '.', 'A', 'level', 'of', 'Patronage', '(', '0', 'to', '40', ')', 'adds', 'to', 'Government', 'victory', '(', '7.0', ')', '.', 'Mark', 'Resources', ',', 'Aid', ',', 'and', 'Patronage', 'on', 'the', 'edge', 'track—for', 'Resources', ',', 'with', 'a', 'cylinder', 'of', 'the', 'Faction', '’', 's', 'color', '(', '1.5', ')', '.', 'DESIGN', 'NOTE', ':', 'Patronage', 'represents', 'wherewithal', 'of', 'government', 'officials', 'to', 'reward', 'their', 'friends', ',', 'sometimes', 'by', 'diverting', 'foreign', 'aid', ',', 'a', 'means', 'of', 'governance', 'often', 'viewed', 'in', 'the', 'West', 'as', 'corrupt', '.', '1.9', 'Victory', 'Markers', 'Similarly', 'track', 'with', 'markers', 'on', 'the', 'edge', 'track', 'the', 'fol-', 'lowing', 'totals', 'that', 'affect', 'victory', '(', '7.0', ')', '.', '•', 'Total', 'Population', 'in', 'Support', '(', '1.6', ')', 'plus', 'the', 'number', 'of', 'Coalition', 'pieces', 'Available', '(', '1.4.1', ')', '.', '•', 'Total', 'Population', 'in', 'Opposition', '(', '1.6', ')', 'plus', 'the', 'number', 'of', 'Taliban', 'Bases', 'on', 'the', 'map', '.', '•', 'Total', 'Population', 'Controlled', 'by', 'the', 'COIN', 'Factions', '(', '1.7', ')', 'plus', 'Patronage', '(', '1.8', ')', '.', '•', 'Total', 'Uncontrolled', 'Afghan', 'Population', '(', '1.7', ')', '.', 'PLAY', 'NOTE', ':', 'With', 'many', 'Uncontrolled', 'spaces', ',', 'it', 'can', 'be', 'easiest', 'to', 'find', 'Uncontrolled', 'Population', 'by', 'subtracting', '5A', 'Distant', 'Plain', '©', '2013', ',', '2015', 'GMT', 'Games', ',', 'LLC', 'OPTIONS', 'FOR', '2ND', 'ELIGIBLE', ':', 'If', 'the', '2nd', 'Eligible', 'Faction', 'does', 'not', 'Pass', '(', '2.3.3', ')', ',', 'it', 'also', 'may', 'execute', 'an', 'Operation', 'or', 'possibly', 'the', 'Event', ',', 'but', 'its', 'options', 'depend', 'on', 'what', 'the', '1st', 'Eligible', 'Faction', 'executed', ':', '•', 'Op', 'Only', ':', 'If', 'the', '1st', 'Eligible', 'Faction', 'executed', 'an', 'Operation', ',', 'the', '2nd', 'Eligible', 'Faction', 'may', 'execute', 'a', 'Limited', 'Operation', '(', '2.3.5', ')', '.', '•', 'Op', '&', 'Special', 'Activity', ':', 'If', 'the', '1st', 'Eligible', 'Faction', 'executed', 'an', 'Operation', 'with', 'a', 'Special', 'Activity', ',', 'the', '2nd', 'Eligible', 'Faction', 'may', 'execute', 'a', 'Limited', 'Operation', 'or', 'instead', 'execute', 'the', 'Event', '.', '•', 'Event', ':', 'If', 'the', '1st', 'Eligible', 'Faction', 'executed', 'the', 'Event', ',', 'the', '2nd', 'Eligible', 'Faction', 'may', 'execute', 'an', 'Operation', ',', 'with', 'a', 'Special', 'Activity', 'if', 'desired', '.', 'NOTE', ':', 'The', 'game', 'board', 'and', 'Sequence', 'of', 'Play', 'aid', 'sheet', 'also', 'show', 'these', 'options', '.', '2.3.5', 'Limited', 'Operation', '.', 'A', 'Limited', 'Operation', 'is', 'a', 'player', 'Operation', 'in', 'just', '1', 'space', ',', 'with', 'no', 'Special', 'Activity', '.', 'If', 'the', 'Limited', 'Operation', 'is', 'a', 'Patrol', '(', '3.2.2', ')', ',', 'Sweep', '(', '3.2.3', ')', ',', 'or', 'March', '(', '3.3.2', ')', ',', 'it', 'can', 'involve', 'pieces', 'from', 'multiple', 'spaces', 'but', 'only', '1', 'destination', 'space', '.', 'A', 'Limited', 'Operation', 'counts', 'as', 'an', 'Operation', '.', 'See', 'also', 'Final', 'Event', 'Card', '(', '2.3.8', ')', ',', 'Islamabad', 'Sponsorship', '(', '6.6.1', ')', ',', 'and', 'Non-player', 'Operations', '(', '8.1', ')', '.', '2.3.6', 'Adjust', 'Eligibility', '.', 'After', 'the', '1st', 'and', '2nd', 'Eligible', 'Factions', 'complete', 'all', 'execution', 'of', 'Operations', ',', 'Special', 'Activities', ',', 'and', 'Events', '(', 'or', 'after', 'all', 'Eligible', 'Factions', 'instead', 'have', 'Passed', ')', ',', 'adjust', 'cylinders', 'on', 'the', 'Sequence', 'of', 'Play', 'track', 'as', 'follows', ':', '•', 'Any', 'Faction', 'that', 'did', 'not', 'execute', 'an', 'Operation', 'or', 'Event', '(', 'and', 'was', 'not', 'rendered', 'Ineligible', 'by', 'an', 'Event', ')', 'to', 'the', '“', 'Eligible', '”', 'box', '.', '•', 'Any', 'Faction', 'that', 'executed', 'an', 'Operation', '(', 'including', 'a', 'Limited', 'Operation', ')', 'or', 'Event', 'to', 'the', '“', 'Ineligible', '”', 'box', '(', 'unless', 'otherwise', 'specified', 'by', 'the', 'Event', ';', 'see', 'also', 'Free', 'Operations', ',', '3.1.2', ')', '.', '2.3.7', 'Next', 'Card', '.', 'After', 'adjusting', 'Eligibility', ',', 'move', 'the', 'draw', 'deck', '’', 's', 'top', 'card', 'onto', 'the', 'played', 'card', 'pile', 'face-up', 'and', 'reveal', 'the', 'draw', 'deck', '’', 's', 'next', 'card', '.', 'Play', 'that', 'card', ',', 'proceeding', 'with', 'the', 'appropriate', 'sequence', '.', 'Sudden', 'Propaganda', 'Option', ':', 'For', 'less', 'foreknowledge', ',', 'if', 'all', 'players', 'agree', 'at', 'Setup', '(', '2.1', ')', ',', 'whenever', 'the', 'next', 'card', 'is', 'revealed', 'as', 'Propaganda', ',', 'instead', 'switch', 'the', 'places', 'of', 'the', '2', 'showing', 'cards', 'and', 'conduct', 'an', 'immediate', 'Propaganda', 'Round', '(', '6.0', ')', '.', 'The', 'switched', 'Event', 'card', 'will', 'be', 'the', 'first', 'card', 'of', 'the', 'next', 'Campaign', '(', 'unless', 'the', 'game', 'ends', 'that', 'Round', ')', '.', 'Ignore', 'rule', '2.3.8', 'below', 'regarding', 'the', 'Final', 'Event', 'Card', '.', '2.3.8', 'Final', 'Event', 'Card', '.', 'On', 'the', 'last', 'Event', 'card', 'before', 'the', 'final', 'Propaganda', 'Card', '(', '2.4.1', ')', ',', 'any', 'player', 'Operations', 'must', 'be', 'Limited', '(', '2.3.5', ',', 'no', 'Special', 'Activities', ')', 'and', 'may', 'not', 'include', 'Sweep', '(', '3.2.3', ')', 'or', 'March', '(', '3.3.2', ')', '.', 'COIN-', 'and', 'Taliban-Controlled', 'Population', 'from', 'the', 'total', 'Afghan', 'Population', 'of', '25', '(', 'or', 'higher', 'total', 'from', 'any', 'add', '“', '+1', 'Pop', '”', 'markers', '[', '4.3.1', ']', ')', '.', 'NOTE', ':', 'The', '12', '“', 'Deception', '”', 'markers', 'are', 'for', 'a', 'victo-', 'ry-related', 'optional', 'rule', '(', '7.3', ')', '.']\n",
            "/content/Information-Retrieval-Project/Rules/ABBLivingRulesNov-20.pdf\n",
            "['1.0', 'INTRODUCTION', 'The', 'year', '1918', 'was', 'one', 'of', 'the', 'darker', 'chapters', 'of', 'our', 'recent', 'history', '.', 'Our', 'country', 'was', 'just', 'about', 'to', 'free', 'itself', 'from', 'centuries', 'of', 'repression', 'and', 'to', 'reach', 'a', 'long', 'dreamed', 'of', 'independence', '.', 'This', 'beautiful', 'moment', ',', 'however', ',', 'was', 'almost', 'ruined', 'by', 'a', 'bitter', 'brotherly', 'feud', '.', 'The', 'people', 'split', 'into', 'two', 'camps', ',', 'passions', 'inflamed', 'on', 'both', 'sides', ',', 'and', 'soon', 'blood', 'began', 'to', 'flow', ',', 'threatening', 'to', 'drown', 'our', 'budding', 'independence', '.', 'The', 'period', 'of', 'the', 'civil', 'war', 'was', 'brutal', 'and', 'even', 'after', 'its', 'end', ',', 'brutalities', 'and', 'the', 'desire', 'for', 'revenge', 'went', 'on', 'for', 'a', 'long', 'time', '.', '~', 'Väinö', 'Tanner', ',', 'period', 'politician', 'All', 'Bridges', 'Burning', 'is', 'a', 'board', 'game', 'about', 'the', 'Finnish', 'Civil', 'War', 'of', '1917-1918', ',', 'including', 'the', 'run-up', 'to', 'the', 'conflict', '.', 'It', 'is', 'an', 'adaptation', 'of', 'the', 'COIN', 'Series', 'system', 'for', 'three', 'players', 'recreating', 'the', 'military', 'and', 'political', 'affairs', 'of', 'this', 'historical', 'conflict', '.', 'All', 'Bridges', 'Burning', 'depicts', 'a', 'formative', 'period', 'in', 'Finnish', 'history', 'in', 'which', 'the', 'players', 'vie', 'for', 'political', 'and', 'military', 'advantage', 'in', 'the', 'power', 'vacuum', 'created', 'by', 'the', 'collapse', 'of', 'Russian', 'Tsarist', 'rule', 'in', 'Finland', ',', 'at', 'the', 'time', 'a', 'semi-autono-', 'mous', 'province', 'of', 'Russia', '.', 'The', 'Reds', 'seek', 'to', 'stage', 'a', 'successful', 'revolt', 'to', 'establish', 'socialist', 'rule', 'in', 'the', 'country', '.', 'The', 'white', 'Senate', 'Faction', 'seeks', 'to', 'suppress', 'the', 'leftist', 'revolt', 'while', 'also', 'establishing', 'the', 'bourgeoisie', 'as', 'the', 'leading', 'ruling', 'Faction', 'in', 'the', 'country', '.', 'The', 'blue', ',', 'non-violent', 'Moderates', 'Faction', 'fight', 'for', 'the', 'political', 'survival', 'of', 'parliamentary', 'democracy', 'as', 'well', 'as', 'to', 'keep', 'national', 'sentiment', 'conciliatory', 'enough', 'for', 'a', 'post-conflict', 'settlement', '.', 'In', 'addition', ',', 'two', 'Non-player', 'external', 'Powers—Russia', '(', 'brown', ')', 'and', 'Germany', '(', 'gray', ')', '—seek', 'to', 'fur-', 'ther', 'their', 'geopolitical', 'aims', 'in', 'Finland', 'while', 'also', 'providing', 'crucial', 'military', 'muscle', 'to', 'the', 'Senate', 'and', 'the', 'Reds', '.', 'DESIGN', 'NOTE', ':', 'Since', '1809', ',', 'Finland', 'had', 'been', 'a', 'semi-', 'autonomous', 'province', 'of', 'the', 'Russian', 'Empire', ';', 'before', 'that', 'since', 'time', 'immemorial', ',', 'it', 'was', 'a', 'province', 'of', 'Sweden', ',', 'thus', 'never', 'an', 'independent', 'nation', '.', 'With', 'its', 'own', 'distinct', 'language', 'and', 'ethnicity', ',', 'however', ',', 'Finland', 'had', 'long', 'had', 'a', 'sense', 'of', 'national', 'identity', '.', 'In', 'the', 'course', 'of', '1917', ',', 'the', 'strain', 'of', 'World', 'War', 'I', 'and', 'internal', 'turmoil', 'in', 'the', 'Russian', 'Empire', 'led', 'to', 'the', 'downfall', 'of', 'the', 'Tsar', ',', 'presenting', 'the', 'Finns', 'with', 'a', 'window', 'of', 'opportunity', 'to', 'make', 'Finland', 'an', 'independent', 'nation', '.', 'The', 'declaration', 'of', 'independence', 'was', 'made', 'in', 'December', '1917', '―', 'a', 'good', 'month', 'before', 'the', 'Finnish', 'Civil', 'War', 'broke', 'out', 'in', 'January', '1918', '!', 'For', 'a', 'more', 'detailed', 'history', ',', 'see', 'the', 'Playbook', '.', '1.1', 'Components', 'A', 'complete', 'set', 'of', 'All', 'Bridges', 'Burning', 'includes', ':', '•', 'A', '20', \"''\", 'x25½', \"''\", 'mounted', 'game', 'board', '(', '1.2', ')', '•', 'A', 'deck', 'of', '47', 'Event', 'cards', '(', '5.0', ')', '•', '17', 'Solitaire', 'system', 'cards', '(', '8.0', ')', '•', '88', 'wooden', 'pieces', '◦', '20', 'red', 'octagonal', 'pieces', ',', 'embossed', '◦', '20', 'white', 'octagonal', 'pieces', ',', 'embossed', '◦', '6', 'blue', 'octagonal', 'pieces', ',', 'embossed', '◦', '3', 'red', 'discs', '◦', '2', 'blue', 'discs', '◦', '6', 'gray', 'cubes', '◦', '6', 'brown', 'cubes', '◦', '3', 'red', 'cubes', '◦', '3', 'white', 'cubes', '◦', '2', 'red', 'cylinders', ',', 'embossed', '◦', '2', 'white', 'cylinders', ',', 'embossed', '◦', '2', 'blue', 'cylinders', ',', 'embossed', '◦', '1', 'gray', 'cylinder', ',', 'embossed', '◦', '6', 'tan', 'and', '6', 'green', 'pawns', '(', 'Note', 'that', 'some', 'spare', 'wooden', 'pieces', 'are', 'included', '.', ')', '•', 'A', 'sheet', 'of', 'markers', '•', 'This', 'Rules', 'of', 'Play', 'booklet', '•', 'A', 'Playbook', 'booklet', '•', 'Three', '6-sided', 'dice', ':', '1', 'red', ',', '1', 'white', ',', '1', 'blue', '•', '3', 'Faction', 'player', 'aid', 'foldouts', ',', 'each', 'including', 'the', 'German', 'Actions', 'Flowchart', '•', '1', 'Sequence', 'of', 'Play', 'and', 'Attack', 'Procedure', 'sheet', '•', '1', 'Solitaire', 'Play', 'Aid', 'sheet', '1.2', 'Map', 'The', 'map', 'shows', 'central', 'and', 'southern', 'Finland', 'divided', 'into', 'two', 'types', 'of', 'spaces', ',', 'Towns', 'and', 'Provinces', '.', 'In', 'addition', ',', 'the', 'map', 'contains', 'the', 'Available', 'Forces', 'boxes', 'for', 'each', 'Faction', 'and', 'Power', ',', 'the', 'Polarization', 'Track', '(', '1.10', ')', ',', 'the', 'Political', 'Display', '(', '1.11', ')', ',', 'the', 'edge', 'track', 'for', 'tracking', 'Resources', '(', '1.5', ')', ',', 'Cells', 'on', 'map', '(', '1.8', ')', 'and', 'Victory', '(', '7.0', ')', ',', 'the', 'Sequence', 'of', 'Play', 'track', '(', '2.0', ')', ',', 'the', 'Prisoners', 'of', 'War', 'box', '(', '6.5', ')', ',', 'Railways', '(', '1.2.2', ')', ',', 'as', 'well', 'as', 'Landing', 'Site', 'symbols', 'for', 'the', 'German', 'forces', '(', '3.4', ')', '.', '3All', 'Bridges', 'Burning', '~', 'rules', '©', '2020', 'GMT', 'Games', ',', 'LLC', '1', '3', '4', '2', '1', 'German', 'Landing', 'Site', '(', 'with', 'associated', 'die', 'roll', 'range', ')', '2', 'Town', '(', 'with', 'a', 'Population', 'value', ';', 'e.g.', ',', 'Tampere', '“', '1', '”', ')', '3', 'Railway', 'and', 'Train', 'symbols', '(', '1.2.2', ')', '4', 'Control', 'and', 'Support/Opposition', 'marker', 'slots', '(', 'for', 'each', 'Town', 'and', 'Province', ')', '1.2.1', 'Towns', 'and', 'Provinces', '.', 'Each', 'Town', 'and', 'Province', 'shows', 'a', 'Population', 'of', '0', 'to', '2', ',', 'can', 'be', 'Controlled', '(', '1.7', ')', ',', 'and', 'can', 'have', 'different', 'levels', 'of', 'Support', 'or', 'Opposition', '(', '1.6', ')', '.', 'Towns', 'and', 'Provinces', 'are', 'the', 'only', 'two', 'types', 'of', 'spaces', 'in', 'play', '.', '1.2.2', 'Railways', '.', 'Railways', '(', 'with', 'circled', 'Train', 'text', ')', 'connect', 'spaces', 'and', 'are', 'traversed', 'using', 'Train', 'Capability', 'markers', '(', '5.3', ')', '.', 'PLAY', 'NOTE', ':', 'Unlike', 'Lines', 'of', 'Communication', '(', 'LoCs', ')', 'in', 'many', 'previous', 'COIN', 'volumes', ',', 'Railways', 'go', 'through', 'Provinces', 'and', 'do', 'not', 'constitute', 'borders', 'between', 'spaces', '.', '1.2.3', 'Adjacency', '.', 'Adjacency', 'affects', 'the', 'movement', 'of', 'pieces', 'and', 'the', 'implementation', 'of', 'certain', 'Events', '.', 'Any', 'two', 'spaces', 'that', 'border', 'on', '(', 'touch', ')', 'one', 'another', 'are', 'adjacent', '.', 'NOTE', ':', 'Sea', 'areas', 'are', 'not', 'in', 'play', 'and', 'do', 'not', 'affect', 'adjacency', '.', '1.2.4', 'Borders', '.', 'Each', 'space', 'is', 'considered', 'to', 'have', 'a', 'separate', 'border', 'with', 'each', 'space', 'they', 'touch', '(', 'e.g', '.', 'for', 'the', 'purposes', 'of', 'placing', 'Sabotage', ',', '4.2.3', ')', '.', 'DESIGN', 'NOTE', ':', 'At', 'the', 'time', 'of', 'the', 'conflict', 'depicted', 'in', 'the', 'game', ',', 'Finland', 'was', 'a', 'rural', 'society', 'with', 'industrialization', 'and', 'urbanization', 'only', 'just', 'beginning', 'to', 'occur', '.', 'Historically', ',', 'with', 'the', 'exception', 'of', 'the', 'capital', 'Helsinki', ',', 'most', 'of', 'the', 'Towns', 'on', 'the', 'map', 'had', 'smaller', 'populations', 'than', 'the', 'Provinces', 'surrounding', 'them', '.', 'In', 'the', 'game', ',', 'the', 'Population', 'values', 'allocated', 'to', 'different', 'spaces', 'reflect', 'not', 'only', 'their', 'historical', 'populations', ',', 'but', 'also', 'their', 'political', 'and', 'economic', 'importance', '.', '1.3', 'Players', ',', 'Factions', ',', 'and', 'Powers', 'This', 'game', 'may', 'have', 'up', 'to', 'three', 'players', ',', 'each', 'as', 'one', 'of', 'these', 'Factions', ':', '•', 'Reds', '(', 'red', ')', '•', 'Senate', '(', 'white', ')', '•', 'Moderates', '(', 'blue', ')', 'Leftover', 'Factions', 'can', 'be', 'controlled', 'by', 'Non-players', '(', '8.0', ')', '.', 'In', 'addition', ',', 'the', 'game', 'involves', 'pieces', 'of', 'two', 'external', 'Powers', ':', '•', 'Germany', '(', 'gray', ')', '•', 'Russia', '(', 'brown', ')', 'DESIGN', 'NOTE', ':', 'Historically', ',', 'the', 'Reds', 'represented', 'the', 'Finn-', 'ish', 'working', 'class', 'and', 'the', 'Red', 'Guard', 'militias', 'were', 'their', 'mili-', 'tary', 'wing', '.', 'Politically', 'the', 'Reds', 'were', 'represented', 'by', 'the', 'Finnish', 'Social', 'Democratic', 'Party', 'and', 'Labor', 'Unions', '.', 'On', 'the', 'other', 'side', ',', 'the', 'Senate', 'White', 'Guard', 'militias', 'drew', 'political', 'support', 'from', 'the', 'bourgeoisie', 'and', 'nobility', '.', 'The', 'Whites', 'came', 'to', 'be', 'referred', 'to', 'as', 'the', 'Senate', 'forces', 'because', 'the', 'Red', 'Revolt', 'of', 'January', '1918', 'was', 'aimed', 'at', 'overthrowing', 'a', 'bourgeoisie-controlled', 'Senate', 'and', 'replaced', 'it', 'with', 'a', 'socialist', 'system', 'of', 'people', '’', 's', 'committees', '.', 'As', 'late', 'as', 'the', 'General', 'Election', 'of', 'October', '1917', ',', 'the', 'leader', 'of', 'the', 'Finnish', 'Senate', 'had', 'still', 'been', 'the', 'soon-to-be', 'Red', 'Revolt', 'leader', 'Oskari', 'Tokoi', '.', 'The', 'Playbook', 'provides', 'a', 'more', 'detailed', 'account', 'of', 'why', 'the', 'game', 'also', 'features', 'a', 'third', 'Moderates', 'Faction', '.', '1.3.1', 'Friends', 'and', 'Enemies', '.', 'Each', 'Faction', 'is', 'enemy', 'to', 'all', 'oth-', 'ers', '.', 'Germany', 'is', 'friendly', 'to', 'the', 'Senate', ',', 'Russia', 'to', 'the', 'Reds', ',', 'while', 'each', 'are', 'enemies', 'of', 'the', 'remaining', 'Factions', '.', 'IMPORTANT', ':', 'The', 'Powers', 'are', 'active', 'in', 'Phase', 'II', 'of', 'the', 'game', 'only', '(', '2.4', ')', '.', 'German', 'actions', 'occur', 'during', 'Event', 'cards', 'with', 'the', 'Ger-', 'man', 'Action', 'Phase', 'at', 'the', 'top', '(', '3.4', ')', 'and', 'are', 'determined', 'by', 'the', 'ac-', 'companying', 'flowchart', '.', 'The', 'Reds', 'player', 'may', 'use', 'Russian', 'Troops', 'in', 'Attacks', '(', '3.2.4', ')', 'and', 'March', '(', '3.2.5', ')', 'Commands', '.', 'The', 'Russians', 'never', 'act', 'independently', '.', '1.3.2', 'Negotiations', '.', 'Players', 'may', 'make', 'any', 'mutual', 'arrange-', 'ments', 'within', 'the', 'rules', '.', 'All', 'negotiations', 'are', 'open', '.', 'The', 'rules', 'do', 'not', 'bind', 'players', 'to', 'agreements', '.', 'Each', 'Faction', 'may', 'voluntarily', 'transfer', 'Resources', '(', '1.5', ')', 'to', 'each', 'other', 'at', 'any', 'time', 'while', 'one', 'of', 'them', 'is', 'executing', 'a', 'Command', ',', 'Special', 'Activity', ',', 'or', 'Event', '.', '1.4', 'Forces', 'Forces', 'in', 'play', 'include', 'the', 'following', 'wooden', 'pieces', ':', 'Troops', 'of', 'Russia', 'and', 'Germany', '(', 'brown', 'and', 'gray', 'cubes', ',', 'respectively', ')', 'NOTE', ':', 'Some', 'Russian', 'Troops', 'begin', 'the', 'game', 'on', 'the', 'map', 'while', 'all', 'German', 'Troops', 'begin', 'Out', 'of', 'Play', '(', 'set', 'aside', ')', '.', 'The', 'Powers', 'become', 'active', 'only', 'in', 'Phase', 'II', 'of', 'the', 'game', '(', '2.4', ')', '.', 'Cells', 'of', 'the', 'Reds', '(', 'red', ')', ',', 'Senate', '(', 'white', ')', 'and', 'Moderates', '(', 'blue', ')', 'Factions', '4', 'All', 'Bridges', 'Burning', '~', 'rules', '©', '2020', 'GMT', 'Games', ',', 'LLC', 'Networks', 'of', 'the', 'Moderates', 'Administrations', 'of', 'the', 'Reds', 'In', 'addition', ',', 'certain', 'Capabilities', '(', '5.3', ')', '—like', 'Cannons', ',', 'Trains', ',', 'Commander', ',', 'and', 'Jaeger—as', 'well', 'as', 'the', 'Prepared', 'markers', '(', '1.4.4', ',', '4.2.3', ')', 'enhance', 'the', 'fighting', 'efficiency', 'of', 'the', 'Reds', 'and', 'the', 'Senate', 'Factions', '.', 'DESIGN', 'NOTE', ':', 'The', 'Reds', 'and', 'Senate', 'Cells', 'represent', 'dif-', 'ferent', 'sized', 'groups', 'of', 'people—mostly', 'men', ',', 'sometimes', 'also', 'women', 'and', 'children—who', 'either', 'were', 'active', 'actors', 'for', ',', 'or', 'otherwise', 'supported', ',', 'the', 'cause', 'of', 'a', 'particular', 'Faction', '.', 'They', 'rarely', 'had', 'more', 'than', 'rudimentary', 'military', 'training', '.', 'The', 'Moderates', 'Cells', 'represent', 'individuals', 'and', 'small', 'groups', ',', 'often', 'politicians', 'or', 'cultural', 'figures', ',', 'actively', 'pursuing', 'conciliatory', 'initiatives—such', 'as', 'truce', 'negotiations', 'or', 'other', 'dialogue—to', 'stop', 'the', 'bloodshed', 'and', 'return', 'to', 'parliamentary', 'democracy', '.', '1.4.1', 'Active', ',', 'Inactive', ',', 'and', 'Underground', '.', 'The', 'Senate', 'and', 'Reds', 'Cells', 'are', 'either', 'Inactive', '(', 'symbol-end', 'down', ')', 'or', 'Active', '(', 'symbol-end', 'up', ')', '.', 'The', 'Moder-', 'ates', '’', 'Cells', 'are', 'either', 'Underground', '(', 'symbol-end', 'down', ')', 'or', 'Active', '(', 'symbol-end', 'up', ')', '.', 'Always', 'place', 'new', 'Cells', 'in', 'Inactive', 'or', 'Underground', 'status', ',', 'unless', 'modified', 'by', 'Event', 'text', '.', 'A', 'Cell', '’', 's', 'status', 'affects', 'the', 'execution', 'of', 'some', 'Commands', 'and', 'Special', 'Activities', '.', 'Troops', ',', 'Networks', ',', 'Administrations', ',', 'and', 'other', 'pieces', 'do', 'not', 'have', 'any', 'comparable', 'status', '.', 'IMPORTANT', 'NOTE', 'to', 'Experienced', 'Coin', 'Series', 'Players', ':', 'The', 'way', 'All', 'Bridges', 'Burning', 'treats', 'Inactive/Active', 'status', 'is', 'practically', 'polar', 'opposite', 'to', 'how', 'it', 'has', 'functioned', 'in', 'most', 'other', 'volumes', 'of', 'the', 'COIN', 'Series', '.', 'Pay', 'close', 'attention', '!', 'DESIGN', 'NOTE', ':', 'The', 'game', '’', 's', 'treatment', 'of', 'the', 'Active/Inactive', 'status', 'of', 'Senate', 'and', 'Red', 'Cells', 'reflects', 'the', 'difference', 'between', 'being', 'a', 'more', 'or', 'less', 'passive', 'supporter', 'of', 'a', 'Faction', '(', 'Inac-', 'tive', ')', 'and', 'being', 'an', 'engaged', ',', 'committed', 'supporter', '(', 'Active', ')', ',', 'prepared', 'to', 'undertake', 'drastic', 'action', 'on', 'their', 'Faction', '’', 's', 'behalf', '(', 'like', 'Terror', ',', '3.2.3', ')', '.', 'The', 'Moderates', '’', 'Cells', 'would', ',', 'by', 'contrast', ',', 'focus', 'on', 'remaining', 'undetected', 'or', 'otherwise', 'unidentifiable', 'as', 'supporters', 'of', 'the', 'Faction', '(', 'Underground', ')', ',', 'but', 'many', 'actions', 'will', 'necessitate', 'exposing', 'themselves', '(', 'Active', ')', '.', 'Available', 'Forces', '(', 'Total', ',', 'before', 'setup', ')', 'Germany', 'Type', 'Senate', 'Reds', 'Moderates', '/', 'Russia', 'Cells', '20', '×', '20', '×', '6', '×', '–', 'Admins', '/', 'Networks', '–', '3', '×', '2', '×', '–', 'Troops', '–', '–', '–', '6', '×', '6', '×', '1.4.2', 'Availability', ',', 'Removal', ',', 'and', 'Out', 'of', 'Play', '.', 'The', 'inventory', 'shown', 'on', 'the', 'Available', 'Forces', 'chart', 'at', 'the', 'back', 'of', 'this', 'rule', 'book', 'limits', 'the', 'number', 'of', 'pieces', 'that', 'may', 'be', 'in', 'play', '.', 'Forces', 'that', 'are', 'not', 'on', 'the', 'map', 'are', 'kept', 'in', 'the', 'Available', 'Forces', 'boxes', 'or', 'Out', 'of', 'Play', '(', 'see', 'Setup', 'on', 'the', 'back', 'cover', 'of', 'this', 'rule', 'book', ')', '.', '•', 'Forces', 'may', 'only', 'be', 'placed', 'from', ',', 'or', 'replaced', 'with', ',', 'those', 'that', 'are', 'available—ignore', 'any', 'instructions', 'to', 'place', 'forces', 'if', 'the', 'appropriate', 'type', 'is', 'not', 'available', 'because', 'all', 'are', 'already', 'on', 'the', 'map', '(', 'remove', ',', 'rather', 'than', 'replace', ',', 'such', 'pieces', ')', '.', 'EXCEPTION', ':', 'A', 'player', 'Faction', 'executing', 'a', 'Command', ',', 'Special', 'Activity', ',', 'or', 'Event', 'may', 'remove', 'its', 'own', 'pieces—and', 'the', 'Moderates', 'their', 'Personality', '(', '1.4.4', ')', '—to', 'Available', 'Forces', '.', 'EXAMPLE', ':', 'Factions', 'without', 'Available', 'pieces', 'could', 'remove', 'Cells', 'from', 'one', 'space', 'in', 'order', 'to', 'place', 'them', 'in', 'another', ',', 'or', 'the', 'same', ',', 'space', '.', '•', 'Once', 'an', 'enemy', 'Faction', 'is', 'targeted', ',', 'pieces', 'must', 'be', 'removed', 'to', 'the', 'maximum', 'extent', 'of', 'the', 'executing', 'Faction', '’', 's', 'ability', '.', 'EXAMPLE', ':', 'When', 'Polarization', 'is', 'six', 'or', 'more', ',', 'Terror', 'may', 'remove', 'up', 'to', 'two', 'pieces—if', 'there', 'are', 'at', 'least', 'that', 'many', 'among', 'those', 'Factions', 'targeted', 'in', 'the', 'space', '.', '•', 'Pieces', 'that', 'are', 'Out', 'of', 'Play', '(', 'per', 'Setup', ',', 'back', 'cover', ')', 'are', 'placed', 'next', 'to', 'the', 'board', 'within', 'reach', '.', '1.4.3', 'Stacking', '.', 'The', 'following', 'Stacking', 'rules', 'apply', ':', '•', 'Networks', 'and', 'Administration', '.', 'At', 'most', 'two', 'Network', 'or', 'Administration', 'discs', '(', 'in', 'total', ',', 'for', 'Moderates', 'and', 'Reds', 'combined', ')', 'may', 'occupy', 'a', 'single', 'Town', 'or', 'Province', '.', '•', 'Capabilities', '.', 'Any', 'number', 'of', 'Capability', 'markers', 'may', 'be', 'stacked', 'in', 'a', 'space', 'provided', 'there', 'is', 'a', 'friendly', 'Cell', 'there', '.', 'However', ',', 'at', 'most', 'two', 'Capability', 'markers', 'per', 'Faction', 'may', 'be', 'used', 'in', 'an', 'Attack', 'to', 'affect', 'the', 'Attack', 'Strength', '(', '5.3', ')', '.', '•', 'Prepared', '.', 'At', 'most', 'one', 'Prepared', 'marker', 'per', 'Faction', 'may', 'be', 'stacked', 'in', 'a', 'space', '(', '1.4.4', ')', '.', '•', 'Terror', '.', 'At', 'most', ',', 'two', 'Terror', 'markers', 'total', ',', 'of', 'all', 'colors', ',', 'may', 'exist', 'in', 'a', 'space', '(', '3.2.3', ')', '.', 'Ignore', 'any', 'instructions', '(', 'such', 'as', 'from', 'Commands', 'or', 'Events', ')', ',', 'and', 'remove', 'markers', 'accordingly', ',', 'if', 'Stacking', 'would', 'be', 'vio-', 'lated', '.', 'IMPORTANT', ':', 'Capabilities', ',', 'the', 'Personality', ',', 'and', 'Prepared', 'markers', 'are', 'not', 'placed', 'with', 'any', 'particular', 'Cell', ',', 'but', 'they', 'nonetheless', 'require', 'the', 'presence', 'of', 'at', 'least', 'one', 'friendly', 'Cell', ',', 'otherwise', 'remove', 'the', 'marker', '.', '1.4.4', 'Personality', 'and', 'Prepared', 'Markers', '.', 'The', 'Moderates', 'Personality', 'marker', 'abstractly', 'represents', 'certain', 'historical', 'individuals', 'and', 'impacts', 'certain', 'Moderates', 'Commands', 'and', 'Special', 'Activities', '.', 'The', 'Reds', 'and', 'Senate', 'Prepared', 'markers', 'represent', 'military', 'preparations—from', 'establishing', 'defensive', '5All', 'Bridges', 'Burning', '~', 'rules', '©', '2020', 'GMT', 'Games', ',', 'LLC', 'positions', 'to', 'stashing', 'weapons', ',', 'ammunition', ',', 'and', 'other', 'such', 'materials', '.', 'Prepared', 'markers', 'impact', 'Terror', '(', '3.2.3', ')', 'and', 'Attack', '(', '3.2.4', ')', 'Commands', '.', 'IMPORTANT', ':', 'On-map', 'Personality', 'and', 'Prepared', 'markers', 'must', 'always', 'be', 'accompanied', 'by', 'at', 'least', 'one', 'friendly', 'Cell', ',', 'otherwise', 'remove', 'the', 'marker', '.', 'PLAY', 'NOTE', ':', 'The', 'different', 'persons', 'printed', 'on', 'the', 'two', 'sides', 'of', 'the', 'Personality', 'marker', 'have', 'no', 'effect', 'on', 'game', 'play', '.', '1.5', 'Resources', 'At', 'any', 'moment', ',', 'each', 'Faction', 'has', '0', 'to', '30', 'Re-', 'sources', 'that', 'it', 'uses', 'to', 'pay', 'for', 'its', 'actions', '.', 'Mark', 'Resources', 'on', 'the', 'edge', 'track', 'with', 'a', 'cylinder', 'of', 'the', 'Faction', '’', 's', 'color', '(', '1.3', ')', '.', 'DESIGN', 'NOTE', ':', 'In', 'All', 'Bridges', 'Burning', ',', 'Resources', 'repre-', 'sent', 'political', 'capital', 'or', 'political', 'will', 'to', 'mobilize', 'and', 'command', 'the', 'supporters', 'of', 'a', 'particular', 'Faction', '.', 'Therefore', 'some', 'game', 'actions', ',', 'such', 'as', 'Rally', '(', '3.2.1', ')', 'in', 'a', 'space', 'with', 'a', 'history', 'of', 'en-', 'emy', 'Terror', '(', '3.2.3', ')', ',', 'or', 'Attack', '(', '3.2.4', ')', 'against', 'a', 'more', 'powerful', 'enemy', ',', 'might', 'require', 'a', 'larger', 'injection', 'of', 'will', 'to', 'motivate', 'the', 'supporters', '.', '1.6', 'Support', 'and', 'Opposition', 'Support', 'and', 'Opposition', 'affect', 'Victory', ',', 'as', 'well', 'as', 'some', 'Com-', 'mands', 'and', 'Special', 'Activities', '.', 'Towns', 'and', 'Provinces', 'always', 'show', 'one', 'of', 'the', 'five', 'levels', 'of', 'Support', 'or', 'Opposition', 'to', 'the', 'Senate', 'that', 'can', 'shift', 'during', 'play', ':', 'Neutral', 'Active', 'Support', 'or', 'Opposition', 'counts', 'double', 'the', 'space', '’', 's', 'Population', 'for', 'Total', 'Opposition—affecting', 'Reds', 'Victory', '(', '7.0', ')', '.', 'Show', 'Active', 'or', 'Passive', 'Support', 'or', 'Opposition', 'with', 'markers', 'placed', 'in', 'each', 'Town', 'or', 'Province', '.', 'Show', 'Neutral', 'spaces', 'by', 'the', 'absence', 'of', 'such', 'markers', '.', 'NOTE', ':', 'Zero', 'Population', 'Provinces', 'may', 'hold', 'Support', 'and', 'Opposition', 'markers', '.', 'Opposition', 'there', 'does', 'not', 'contribute', 'to', 'Reds', 'Victory', '(', '7.0', ')', '.', 'Support', 'in', 'a', 'zero', 'Population', 'Province', 'does', 'contribute', 'to', 'Senate', 'Propaganda', 'Round', 'earnings', '(', '6.3', ')', ',', 'as', 'well', 'as', 'to', 'the', 'efficiency', 'and', 'cost', 'of', 'Rally', '(', '3.2.1', ')', '.', 'DESIGN', 'NOTE', ':', 'All', 'Bridges', 'Burning', 'simulates', 'a', 'period', 'in', 'which', 'the', 'state', '’', 's', 'authority', 'and', 'institutions', 'were', 'increasingly', 'evaporating', 'and', 'being', 'replaced', 'by', 'local', 'voluntary', 'militias', 'of', 'the', 'Red', 'and', 'White', 'Guards', '.', 'For', 'this', 'reason', ',', 'the', 'game', 'does', 'not', 'contain', 'game', 'pieces', 'comparable', 'to', 'the', 'police', 'as', 'we', 'know', 'them', 'from', 'many', 'of', 'the', 'published', 'games', 'in', 'the', 'COIN', 'Series', '.', 'Support', 'and', 'Opposition', 'represent', 'people', '’', 's', 'backing', 'of', 'the', 'aims', 'of', 'a', 'given', 'Faction', ',', 'and', 'the', 'fluctuating', 'preparedness', 'to', 'show', 'this', 'publicly', '.', '1.7', 'Control', 'The', 'Reds', ',', 'or', 'the', 'Senate', ',', 'Control', 'a', 'space', 'if', 'their', 'Cells', 'plus', 'Administra-', 'tions', 'there', 'exceed', 'those', 'of', 'both', 'other', 'Factions', 'combined', '(', 'include', 'Moderates', 'pieces', ',', 'exclude', 'German', 'and', 'Russian', 'Troops', ')', ';', 'otherwise', 'the', 'space', 'is', 'Uncontrolled', '.', 'Neither', 'the', 'Moderates', 'nor', 'the', 'German', 'or', 'Russian', 'Powers', 'ever', 'Control', 'any', 'spaces—', 'although', 'the', 'presence', 'of', 'Moderates', 'Cells', 'and', 'Networks', '(', 'but', 'not', 'the', 'Personality', ')', 'may', 'deny', 'Control', '.', 'NOTE', ':', 'The', 'zero', 'Population', 'spaces', 'may', 'hold', 'Control', 'markers', '.', '1.8', 'Cells', 'On', 'Map', 'Use', 'the', 'Cells', 'on', 'Map', 'marker', 'to', 'track', 'the', 'total', 'combined', 'number', 'of', 'Reds', 'and', 'Senate', 'Cells', 'on', 'the', 'map', '.', 'The', 'position', 'of', 'the', 'marker', 'affects', 'the', 'transition', 'to', 'Phase', 'II', 'of', 'the', 'game', '(', 'see', '2.4', ')', '.', '1.9', 'Vassalage', 'German', 'and', 'Russian', 'Troop', 'involve-', 'ment', 'in', 'the', 'game', 'depends', 'on', 'the', 'status', 'of', 'the', 'Russian', 'and', 'German', 'Vassalage', 'markers', '.', 'Use', 'the', 'Vassal-', 'age', 'markers', 'to', 'mark', 'their', 'levels', 'on', 'the', 'edge', 'track', '.', 'Certain', 'Events', ',', 'the', 'Foreign', 'Relations', 'Special', 'Activity', '(', '4.2.2', ')', ',', 'and', 'Russian', 'Turmoil', 'during', 'the', 'Propaganda', 'Round', '(', '6.4.1', ')', ',', 'may', 'shift', 'Vassalage', '.', 'The', 'number', 'of', 'German', 'and', 'Russian', 'Troops', 'on', 'the', 'map', 'is', 'adjusted', 'during', 'the', 'Propaganda', 'Rounds', 'of', 'Phase', 'II', '(', '6.5', ')', ',', 'as', 'well', 'as', 'when', 'the', 'Red', 'Revolt', '!', 'Pivotal', 'Event', 'is', 'played', '(', '2.4', ')', '—to', 'match', 'the', 'level', 'indicated', 'by', 'the', 'Vassalage', 'markers', '.', 'DESIGN', 'NOTE', ':', 'In', 'the', 'game', ',', 'the', 'Vassalage', 'levels', 'represent', 'the', 'measure', 'of', 'foreign', 'influence', 'in', 'Finland', ';', 'that', 'is', ',', 'the', 'degree', 'of', 'Finnish', 'dependence', 'on', 'Germany', 'or', 'Russia', '.', 'See', 'also', '1.10', 'below', '.', '1.10', 'Polarization', 'Also', 'among', 'the', 'Whites', 'it', 'has', 'been', ',', 'they', 'say', ',', 'difficult', 'to', 'control', 'the', 'soldiers', 'from', 'lynching', 'prisoners', 'after', 'they', 'had', 'seen', 'the', 'bloody', 'acts', 'committed', 'by', 'the', 'Reds', 'or', 'had', 'heard', 'of', 'them', '.', 'It', 'looks', 'like', 'this', 'war', 'will', 'turn', 'out', 'to', 'be', 'very', 'bloody', 'and', 'bitter', '.', '~', 'Juhani', 'Aho', '(', '1918', ')', ',', 'novelist', 'The', 'Polarization', 'marker', 'on', 'the', 'Polarization', 'track', 'indicates', 'the', 'level', 'of', 'national', 'unity', 'between', 'the', 'Factions', '.', 'Certain', 'Events', ',', 'Commands', ',', 'Special', 'Activities', ',', 'and', 'the', 'number', 'of', 'Prisoners', 'of', 'War', 'during', 'a', 'Propaganda', 'Round', ',', 'affect', 'the', 'level', 'of', 'Polarization', '.', 'The', 'position', 'of', 'the', 'Polarization', 'marker', 'also', 'affects', 'Victory', '(', '7.0', ')', ',', 'determines', 'the', 'cost', 'of', 'the', 'Moderates', '’', 'Politics', '(', '3.3.4', ')', 'and', 'Rally', 'Commands', '(', '3.3.1', ')', ',', 'as', 'well', 'as', 'the', 'efficiency', 'of', 'Ter-', 'ror', '(', '3.2.3', ')', ',', 'as', 'printed', 'below', 'the', 'track', '.', '6', 'All', 'Bridges', 'Burning', '~', 'rules', '©', '2020', 'GMT', 'Games', ',', 'LLC', 'The', 'Polarization', 'Track', '.', 'DESIGN', 'NOTE', ':', 'Most', 'historical', 'political', 'actors', 'of', 'the', 'period', 'wanted', 'full', 'Finnish', 'national', 'independence', 'after', 'a', 'century', 'of', 'Russian', 'rule', '.', 'The', 'declaration', 'of', 'Finnish', 'independence', 'was', 'indeed', 'made', 'in', 'December', '1917', ',', 'only', 'a', 'few', 'weeks', 'before', 'the', 'Finnish', 'Civil', 'War', 'broke', 'out', '.', 'Arguably', ',', 'an', 'important', 'prereq-', 'uisite', 'for', 'independence', 'was', 'national', 'unity', 'that', ',', 'needless', 'to', 'say', ',', 'was', 'under', 'great', 'strain', 'during', 'the', 'bloody', 'civil', 'war', '―', 'in', 'the', 'space', 'of', 'about', 'six', 'months', ',', 'an', 'estimated', '37,000', 'people', 'of', 'a', 'total', 'population', 'of', 'about', '3', 'million', 'died', 'in', 'the', 'conflict', 'and', 'its', 'aftermath', '.', 'Nonetheless', 'in', 'the', 'two', 'decades', 'that', 'followed', ',', 'the', 'divisions', 'were', 'mended', 'such', 'that', 'Finland', 'was', 'able', 'to', 'preserve', 'its', 'independence', 'throughout', 'World', 'War', 'II', 'and', 'the', 'Cold', 'War', '.', 'In', 'Finnish', 'literature', ',', 'the', 'conflict', 'is', 'sometimes', 'referred', 'to', 'as', 'a', '“', 'war', 'between', 'brothers', '”', '(', 'veljessota', ')', ',', 'a', 'reference', 'to', 'the', 'conflict', 'having', 'been', 'a', 'civil', 'war', 'as', 'well', 'as', 'a', 'war', 'between', 'parties', 'that', 'shared', 'a', 'certain', 'fundamental', 'goal', 'and', 'identity', ':', 'the', 'indepen-', 'dence', 'of', 'Finland', '.', '1.11', 'Political', 'Display', 'The', 'Political', 'Display', 'consists', 'of', 'a', 'semicircle', '(', 'the', '“', 'chamber', '”', ')', 'with', 'boxes', 'in', 'two', 'of', 'the', 'Faction', 'colors', ',', 'as', 'well', 'as', 'three', 'boxes', ',', 'each', 'representing', 'an', 'historical', 'politi-', 'cal', 'Issue', '.', 'Using', 'Politics', '(', '3.3.4', ')', 'and', 'Terror', '(', '3.2.3', ')', ',', 'as', 'well', 'as', 'certain', 'Events', ',', 'the', 'Factions', 'may', 'place', 'or', 'remove', 'cubes', 'in', 'the', 'semicircle', '.', 'This', 'represents', 'their', 'level', 'of', 'political', 'engage-', 'ment', 'for', 'a', 'given', 'issue', '.', 'IMPORTANT', ':', 'The', 'Politics', 'Command', '(', '3.3.4', ')', 'may', 'not', 'be', 'used', 'to', 'place', 'cubes', 'if', 'Polarization', 'is', '6', 'or', 'greater', '.', 'DESIGN', 'NOTE', ':', 'The', 'work', 'of', 'Finland', '’', 's', 'Parliament', 'was', 'fre-', 'quently', 'interrupted', 'in', 'the', 'run-up', 'to', 'the', 'civil', 'war', ',', 'and', 'came', 'to', 'a', 'complete', 'halt', 'during', 'the', 'war', '.', '1.11.1', 'Resolving', 'Issues', '.', 'Issues', 'are', 'either', 'Unresolved', '(', 'no', 'marker', ')', 'or', 'marked', 'as', 'Resolved', '.', 'Resolve', 'the', 'Political', 'Display', 'during', 'the', 'Politics', 'Phase', '(', '6.2', ')', 'of', 'each', 'Propaganda', 'Round', '.', 'A', 'Faction', '’', 's', 'cubes', 'are', 'placed', 'to', 'contribute', 'to', 'up', 'to', 'one', 'Un-', 'resolved', 'Issue', 'at', 'a', 'time', ',', 'moving', 'to', 'the', 'next', 'issue', 'only', 'as', 'the', 'previous', 'one', 'has', 'been', 'Resolved', '(', 'see', '6.2', ')', '.', 'The', 'players', 'may', 'select', 'any', 'one', 'Unresolved', 'Issue', 'they', 'desire', '(', 'the', 'Issues', 'are', 'named', 'for', 'thematic', 'effect', 'only', ')', '.', 'IMPORTANT', ':', 'Resolved', 'Issues', 'affect', 'Moderates', 'Victory', '(', '7.0', ')', ',', 'as', 'well', 'as', 'the', 'cost', 'of', 'Reds', 'and', 'Senate', 'Agitation', '(', '6.2', ')', '.', 'The', 'Faction', 'Contributions', 'part', 'of', 'the', 'display', 'can', 'be', 'thought', 'of', 'as', 'a', 'parliamentary', 'chamber', '.', 'A', 'Faction', '’', 's', 'cubes', 'on', 'this', 'display', 'indicate', 'their', 'political', 'will', 'to', 'contribute', 'to', 'Resolving', 'a', 'given', 'Issue', '.', 'DESIGN', 'NOTE', ':', 'The', 'Finnish', 'Civil', 'War', 'was', ',', 'to', 'a', 'significant', 'part', ',', 'fought', 'over', 'the', 'badly', 'needed', 'social', 'reforms', 'represented', 'by', 'the', 'three', 'Issues', 'named', 'in', 'this', 'game', '(', 'deriving', 'from', 'the', 'Social', 'Democratic', 'Party', 'manifesto', 'of', 'late', '1917', ')', '.', 'The', 'Politi-', 'cal', 'Display', 'recreates', 'that', 'political', 'struggle', 'for', 'reforms', 'that', 'went', 'on', 'in', 'the', 'background', 'of', 'the', 'happenings', 'in', 'the', 'Towns', 'and', 'Provinces', '.', 'It', 'also', 'represents', 'the', 'hypothetical', 'effects', 'of', '(', 'in', 'terms', 'of', 'the', 'increased', 'cost', 'to', 'Senate', 'and', 'Reds', 'Agitation', ')', 'the', 'preparedness', 'of', 'the', 'Finnish', 'people', 'to', 'support', 'a', 'given', 'cause', 'once', 'some', 'reforms', 'had', 'been', 'achieved', '.', '1.12', 'Victory', 'Markers', 'Various', 'totals', 'affect', 'Victory', '(', '7.0', ')', 'and', 'are', 'tracked', 'using', 'mark-', 'ers', 'on', 'the', 'edge', 'track', ':', '•', 'Town', 'Population', 'under', 'Senate', 'Control', '•', 'Russian', 'and', 'German', 'Vassalage', 'levels', 'on', 'the', 'edge', 'track', '•', 'Opposition', 'and', 'Administrations', 'on', 'the', 'map', '•', 'Networks', 'on', 'map', 'and', 'Resolved', 'political', 'Issues', 'German', 'Headquarters', 'in', 'Helsinki—both', 'the', 'flag', 'of', 'the', 'Ger-', 'man', 'Empire', 'and', 'the', 'Finnish', 'Senate', 'hang', 'at', 'the', 'entrance', '.', '7All', 'Bridges', 'Burning', '~', 'rules', '©', '2020', 'GMT', 'Games', ',', 'LLC']\n",
            "/content/Information-Retrieval-Project/Rules/A-RULES-2018-FINAL.pdf\n",
            "['1.0', 'INTRODUCTION', 'Andean', 'Abyss', 'is', 'a', '1-4-player', 'game', 'depicting', 'insurgent', 'and', 'counterinsurgent', '(', 'COIN', ')', 'conflict', 'in', 'Colombia', 'during', 'the', '1990s', 'and', 'early', '2000s', '.', 'Each', 'player', 'takes', 'the', 'role', 'of', 'a', 'Faction', 'seek-', 'ing', 'to', 'run', 'Colombian', 'affairs', ':', 'the', 'Government', '(', 'Govt', ')', 'or', '1', 'of', '3', 'Insurgent', 'Factions—the', 'Marxist', 'FARC', ',', 'the', 'right-wing', 'AUC', '“', 'paramilitaries', '”', ',', 'or', 'the', 'narco-trafficking', 'Cartels', '.', 'Using', 'military', ',', 'political', ',', 'and', 'economic', 'actions', 'and', 'exploiting', 'various', 'events', ',', 'players', 'build', 'and', 'maneuver', 'forces', 'to', 'influence', 'the', 'population', ',', 'extract', 'resources', ',', 'or', 'otherwise', 'achieve', 'their', 'Faction', '’', 's', 'aims', '.', 'A', 'deck', 'of', 'cards', 'regulates', 'turn', 'order', ',', 'events', ',', 'victory', 'checks', ',', 'and', 'other', 'processes', '.', 'The', 'rules', 'can', 'run', 'non-player', 'Factions', ',', 'enabling', 'solitaire', ',', '2-player', ',', 'or', 'multi-player', 'games', '.', 'Andean', 'Abyss', 'is', 'the', 'inaugural', 'volume', 'in', 'the', 'COIN', 'Series', 'of', 'games', 'that', 'use', 'similar', 'rules', 'to', 'cover', 'a', 'variety', 'of', 'insurgencies', 'and', 'other', 'inter-factional', 'conflicts', '.', 'This', 'Second', 'Edition', 'extensively', 'alters', 'and', 'augments', 'rules', 'and', 'play', 'aids', 'throughout', 'to', 'bring', 'this', 'volume', 'up', 'to', 'date', 'within', 'the', 'Series', '.', 'Updated', 'cards', 'are', 'marked', '“', '2nd', 'Ed', '”', '.', 'This', 'rule', 'book', 'lists', 'and', 'defines', 'key', 'game', 'terms', 'in', 'an', 'index', 'on', 'pages', '19-20', '.', 'The', 'most', 'important', 'game', 'functions', 'are', 'summarized', 'on', 'several', 'aid', 'sheets', '.', 'Game', 'setup', 'is', 'explained', 'on', 'the', 'flip', 'side', 'of', 'the', 'Sequence', 'of', 'Play', 'aid', 'sheet', '.', '1.1', 'General', 'Course', 'of', 'Play', 'Andean', 'Abyss—unlike', 'most', 'card-assisted', 'war', 'games—does', 'not', 'use', 'hands', 'of', 'cards', '.', 'Instead', ',', 'cards', 'are', 'played', 'from', 'the', 'deck', 'one', 'at', 'time', ',', 'with', 'one', 'card', 'ahead', 'revealed', 'to', 'all', 'players', '.', 'Each', 'Event', 'card', 'shows', 'the', 'order', 'in', 'which', 'the', 'Factions', 'become', 'Eligible', 'to', 'choose', 'between', 'the', 'card', '’', 's', 'Event', 'or', 'one', 'of', 'a', 'menu', 'of', 'Operations', 'and', 'Special', 'Activities', '.', 'Executing', 'an', 'Event', 'or', 'Operation', 'carries', 'the', 'penalty', 'of', 'rendering', 'that', 'Faction', 'Ineligible', 'to', 'do', 'so', 'on', 'the', 'next', 'card', '.', 'Propaganda', 'cards', 'mixed', 'in', 'with', 'the', 'Event', 'cards', 'provide', 'periodic', 'opportunities', 'for', 'instant', 'wins', 'and', 'for', 'activities', 'such', 'as', 'collecting', 'resources', 'and', 'influencing', 'popular', 'sympathies', '.', '1.2', 'Components', 'A', 'complete', 'set', 'of', 'Andean', 'Abyss', 'includes', ':', '•', 'A', '22', '”', 'x34', '”', 'mounted', 'game', 'board', '.', '•', 'A', 'deck', 'of', '76', 'cards', '.', '•', '153', 'dark', 'and', 'light', 'blue', ',', 'red', ',', 'green', ',', 'and', 'yellow', 'wooden', 'forces', 'pieces', ',', 'some', 'embossed', '(', '1.4', ';', 'see', '“', 'Available', 'Forces', '”', 'on', 'the', 'rule', 'book', '’', 's', 'back', 'for', 'a', 'complete', 'listing', ')', '.', '•', '8', 'cylinders', ',', 'embossed', '(', '1.7', ',', '2.2', ')', '.', '•', '6', 'black', 'and', '6', 'white', 'pawns', '(', '3.1.1', ')', '.', '•', 'A', 'sheet', 'of', 'markers', '.', '•', '2', 'Sequence', 'of', 'Play', 'and', 'Setup', 'sheets', '.', '•', '4', 'Faction', 'player', 'aid', 'foldouts', '.', '•', '1', 'Non-player', 'Insurgents', 'flowcharts', 'foldout', '.', '•', '1', 'Non-player', 'aid', 'foldout', 'with', 'Government', 'flowchart', '.', '•', '3', '6-sided', 'dice', ':', '1', 'red', ',', '1', 'yellow', ',', '1', 'green', '.', '•', 'A', 'background', 'Playbook', '.', '•', 'This', 'rule', 'book', '.', '1.3', 'The', 'Map', 'The', 'map', 'shows', 'the', 'country', 'of', 'Colombia', 'divided', 'into', 'various', 'types', 'of', 'spaces', ',', 'as', 'well', 'as', 'parts', 'of', 'neighboring', 'countries', '.', '1.3.1', 'Map', 'Spaces', '.', 'Map', 'spaces', 'include', 'rural', 'Departments', '(', 'Depts', ')', ',', 'urban', 'Cities', ',', 'and', 'Lines', 'of', 'Communication', '(', 'LoCs', ')', 'between', 'them', '.', 'All', 'spaces—including', 'LoCs—can', 'hold', 'forces', '.', 'Mountain', 'Department', '(', 'Dept', ')', 'Line', 'of', 'Communication', '(', 'Pipeline', ')', 'City', 'Grassland', 'Department', 'Forest', 'Department', 'Town', 'Department', 'Boundary', 'Department', 'Name', 'Population', 'Value', 'Place', 'bases', 'here', 'At', 'Start', 'set', 'up', 'Line', 'of', 'Communication', '(', 'Road', ')', 'Place', 'Terror', 'markers', 'here', 'Place', 'Support', 'and', 'Opposition', 'markers', 'here', '3Andean', 'Abyss', '©', '2018', 'GMT', 'Games', ',', 'LLC', '1.3.2', 'Departments', '.', 'Each', 'Department', 'shows', 'a', 'Population', 'value', '(', 'Pop', ')', 'of', '0', ',', '1', ',', 'or', '2', 'that', 'affects', 'victory', 'via', 'Support', 'for', 'or', 'Oppo-', 'sition', 'to', 'the', 'Government', '(', '1.6', ')', 'and', 'some', 'Insurgent', 'Operations', '(', '3.3', ')', '.', 'Departments', 'are', 'further', 'distinguished', 'by', 'terrain', 'as', 'Tropical', 'Forest', '(', 'Forest', ')', ',', 'Mountain', ',', 'or', 'Grassland', ',', 'affecting', 'some', 'COIN', 'Operations', '(', '3.2', ')', 'and', 'Events', '(', '5.0', ')', '.', '1.3.3', 'Cities', '.', 'Each', 'City', 'similarly', 'shows', 'a', 'Population', 'value', 'of', '1', 'to', '8', '(', 'each', 'Population', 'value', 'representing', 'a', 'million', 'Colombians', ')', '.', '1.3.4', 'LoCs', '.', 'Each', 'Line', 'of', 'Communication', '(', 'LoC', ')', 'shows', 'an', 'Eco-', 'nomic', 'value', '(', 'Econ', ')', 'of', '1', 'to', '3', 'that', 'affects', 'Government', 'Resources', '(', '1.7', ')', '.', 'LoCs', 'are', 'further', 'distinguished', 'as', 'Roads', 'or', 'Pipelines', '.', 'Pipelines', 'tend', 'to', 'have', 'higher', 'Economic', 'value', 'and', 'affect', 'certain', 'Events', '.', 'DESIGN', 'NOTE', ':', 'LoCs', 'also', 'represent', 'other', 'transportation', 'ar-', 'teries', 'and', 'infrastructure', 'such', 'as', 'power', 'lines', 'that', 'parallel', 'roads', 'and', 'pipelines', '.', '1.3.5', 'Foreign', 'Countries', '.', 'The', 'map', 'includes', 'parts', 'of', 'Brazil', '(', 'Bra-', 'sil', ')', ',', 'Ecuador', ',', 'Panamá', ',', 'Perú', ',', 'and', 'Venezuela', '.', 'They', 'are', 'not', 'spaces', '(', '1.3.1', ')', 'unless', 'and', 'until', 'specified', 'by', 'Event', '(', '5.0', ')', '.', 'EXAMPLE', ':', 'The', '“', 'Darién', '”', 'Event', 'renders', 'Panamá', 'a', '0', 'Population', 'Forest', 'Department', 'for', 'all', 'purposes', ',', 'except', 'that', 'Sweep', 'Opera-', 'tions', 'do', 'not', 'Activate', 'Guerrillas', 'there', '(', '3.2.3', ')', '.', 'NOTE', ':', 'Venezuela', 'is', 'next', 'to', 'Guainía', 'but', 'not', 'Vaupés', ',', 'affecting', 'the', '“', 'Hugo', 'Chávez', '”', 'Event', '.', '1.3.6', 'Adjacency', '.', 'Adjacency', 'affects', 'the', 'movement', 'of', 'forces', 'and', 'implementation', 'of', 'certain', 'Events', '.', 'Any', '2', 'spaces', 'meeting', 'one', 'of', 'the', 'following', 'conditions', 'are', 'adjacent', ':', '•', 'Spaces', 'that', 'border', 'on', '(', 'touch', ')', 'one', 'another', '.', '•', 'Departments', 'separated', 'by', 'LoCs', '.', '•', 'LoCs', 'or', 'Departments', 'separated', 'by', 'Towns', '.', 'NOTE', ':', 'Towns', 'are', 'not', 'spaces', ';', 'they', 'merely', 'separate', 'LoCs', 'or', 'Departments', '.', '1.3.7', 'Coasts', '.', 'Spaces', 'adjacent', 'to', 'blue', 'areas', 'are', 'coastal', ',', 'affecting', 'the', '“', 'Narco-Subs', '”', 'Event', '.', '1.4', 'Forces', 'The', 'wooden', 'pieces', 'represent', 'the', 'Factions', '’', 'various', 'forces', ':', 'Gov-', 'ernment', 'Troops', '(', 'dark-blue', 'cubes', ')', 'and', 'Police', '(', 'light-blue', 'cubes', ')', ',', 'Insurgent', 'Guerrillas', ',', 'and', 'all', 'Factions', '’', 'Bases', '.', 'Government', 'Cubes', ':', 'FARC', 'Guerrillas', ':', 'Bases', ':', 'Troops', 'Police', 'Underground', 'Active', 'AUCCartels', 'Use', 'to', 'mark', 'City', 'and', 'Department', 'Control', '(', '1.8', ')', 'Use', 'to', 'mark', 'FARC', 'Zones', '(', '6.4.4', ')', 'Govt', 'Capa-', 'bilities', 'Use', 'on', 'the', 'Edge', 'Track', ':', 'Victory-related', 'and', 'Aid', 'markers', 'Use', 'on', 'the', 'Propa-', 'ganda', 'Track', 'Support', 'and', 'Opposition', 'markers', '(', '1.6.2', ')', 'Terror', '(', '3.3.4', ')', 'Event', 'Reminder', 'markers', 'Sabotage', '(', '3.3.4', ')', 'Drug', 'Shipment', 'Overflow', 'marker', 'TYPES', 'OF', 'FORCES', 'ADJACENCY', 'EXAMPLE', ':', 'The', '4', 'Departments', 'and', '4', 'LoCs', 'around', 'the', 'Town', 'of', 'Ayacucho', 'are', 'all', 'adjacent', 'to', 'each', 'other', 'because', 'they', 'are', 'separated', 'by', 'a', 'Town', '.', 'Antioquia', 'and', 'the', 'Forest', 'Department', 'to', 'the', 'west', 'are', 'adjacent', 'because', 'they', 'are', 'separated', 'by', 'a', 'LoC', '.', 'FARCGovern-', 'ment', '4', 'Andean', 'Abyss', '©', '2018', 'GMT', 'Games', ',', 'LLC', '•', 'With', '3', 'players', ',', 'AUC', 'runs', 'the', 'Cartels', '.', '•', 'With', '2', 'players', ',', 'Government', 'runs', 'AUC', ';', 'FARC', 'runs', 'the', 'Cartels', '.', 'A', 'player', 'running', 'two', 'Factions', 'uses', 'the', 'lower', 'victory', 'margin', 'of', 'the', 'two', '(', '7.1-.3', ')', 'and', 'only', 'causes', 'play', 'to', 'end', 'on', 'a', 'victory', 'check', '(', '6.1', ')', 'if', 'both', 'Factions', 'are', 'meeting', 'their', 'conditions', '.', 'Players', 'may', 'not', 'voluntarily', 'transfer', '(', '1.5.2', ')', 'between', 'their', 'own', 'Factions', '.', 'Non-Player', 'Option', ':', 'If', 'playing', 'solitaire', ',', 'or', 'as', 'an', 'alternative', 'to', 'the', 'above', 'with', 'two', 'or', 'three', 'players', ',', 'use', 'the', 'Non-player', 'rules', 'in', 'section', '8', 'to', 'govern', 'leftover', 'Factions', ':', '1.5.2', 'Negotiation', '.', 'Players', 'may', 'make', 'any', 'mutual', 'arrangements', 'within', 'the', 'rules', 'but', 'may', 'voluntarily', 'transfer', 'only', 'Resources', '(', '1.7', ')', 'or', 'Shipments', '(', '4.5.3', ')', 'and', 'only', 'during', 'either', '’', 's', 'execution', 'by', 'the', 'Sequence', 'of', 'Play', '(', '2.3.4', ')', 'of', 'an', 'Operation', 'or', 'Event', '.', 'All', 'negoti-', 'ations', 'are', 'open', '.', 'The', 'rules', 'do', 'not', 'bind', 'players', 'to', 'agreements', '.', '1.6', 'Support', 'and', 'Opposition', 'Support', 'and', 'Opposition', 'affect', 'victory', 'and', 'some', 'Operations', '.', '1.6.1', 'Cities', 'and', 'Departments', 'with', 'at', 'least', '1', 'Population', '(', '1.3.2-3', ')', 'always', 'show', '1', 'of', '5', 'levels', 'of', 'its', 'populace', '’', 's', 'Support', 'for', 'or', 'Oppo-', 'sition', 'to', 'the', 'Government', 'that', 'can', 'shift', 'during', 'play', ':', '•', 'Active', 'Support', '.', '•', 'Passive', 'Support', '.', '•', 'Neutral', '.', '•', 'Passive', 'Opposition', '.', '•', 'Active', 'Opposition', '.', '1.6.2', 'Show', 'Active', 'or', 'Passive', 'Support', 'or', 'Opposition', 'with', 'mark-', 'ers', 'placed', 'in', 'each', 'City', 'or', 'Department', '.', 'Show', 'Neutral', 'spaces', 'by', 'the', 'absence', 'of', 'such', 'markers', '.', 'Active', 'Support/Opposition', 'counts', 'double', 'for', 'Total', 'Support/Opposition', '(', '1.6.3', ')', '.', 'NOTE', ':', 'LoCs', '(', '1.3.4', ')', 'and', 'Population', '0', 'Departments', 'never', 'hold', 'Support', 'or', 'Opposition', 'markers', '(', 'they', 'are', 'always', 'Neutral', ')', '.', '1.6.3', 'Total', 'Support', 'and', 'Total', 'Opposi-', 'tion', '.', 'Government', 'or', 'FARC', 'victory', 'de-', 'pends', 'on', 'the', 'total', 'value', 'of', 'population', 'Support', 'or', 'Opposition', '(', 'plus', 'FARC', 'Bases', ',', '7.2', ')', ',', 'respectively', '.', 'Adjust', '“', 'Total', 'Support', '”', 'or', '“', 'Opposi-', 'tion', '+', 'Bases', '”', 'on', 'the', 'numbered', 'edge', 'track', 'per', 'the', 'box', 'below', 'as', 'any', 'change', 'to', 'Support', ',', 'Opposition', ',', 'or', 'the', 'number', 'of', 'FARC', 'Bases', 'occurs', '.', 'Total', 'Support', 'and', 'Opposition', 'Equations', 'Total', 'Support', 'equals', ':', '(', '2', 'x', 'Population', 'in', 'Active', 'Support', ')', '+', '(', '1', 'x', 'Population', 'in', 'Passive', 'Support', ')', 'Total', 'Opposition', 'equals', ':', '(', '2', 'x', 'Population', 'in', 'Active', 'Opposition', ')', '+', '(', '1', 'x', 'Population', 'in', 'Passive', 'Opposition', ')', 'Opposition', '+', 'Bases', 'equals', ':', 'Total', 'Opposition', '+', 'The', 'number', 'of', 'FARC', 'Bases', 'on', 'the', 'map', 'DESIGN', 'NOTE', ':', 'Bases', 'represent', 'not', 'only', 'training', 'and', 'bivouac', 'facilities', 'but', 'also', ',', 'for', 'the', 'Insurgents', ',', 'political', 'administration', 'as', 'well', 'as', 'coca', 'or', 'poppy', 'fields', 'and', 'processing', 'labs', '.', 'PLAY', 'NOTE', ':', 'Use', '“', 'Overflow', '”', 'boxes', 'for', 'Forces', 'that', 'exceed', 'the', 'room', 'in', 'a', 'City', 'or', 'smaller', 'Department', 'on', 'the', 'map', ';', 'place', 'the', 'corresponding', 'Overflow', 'marker', 'in', 'that', 'space', '.', '1.4.1', 'Availability', 'and', 'Removal', '.', 'The', 'inventory', 'shown', 'on', 'the', '“', 'Available', 'Forces', '”', 'chart', 'on', 'the', 'back', 'of', 'this', 'rule', 'book', 'limits', 'the', 'number', 'of', 'pieces', 'that', 'may', 'be', 'in', 'play', '.', 'Keep', 'forces', 'not', 'on', 'the', 'map', 'in', 'the', 'Available', 'Forces', 'holding', 'areas', '.', '(', 'Place', 'Bases', 'in', 'the', 'highest-numbered', 'empty', 'circles', ',', 'revealing', 'the', 'number', 'of', 'on-map', 'Bases', 'to', 'help', 'track', 'victory', ',', '7.0', ')', '•', 'Forces', 'may', 'only', 'be', 'placed', 'from', 'or', 'replaced', 'with', 'those', 'avail-', 'able', 'in', 'the', 'holding', 'areas—ignore', 'any', 'instructions', 'to', 'place', 'forces', 'if', 'the', 'appropriate', 'type', 'is', 'not', 'available', 'because', 'all', 'are', 'already', 'on', 'the', 'map', '(', 'remove', 'rather', 'than', 'replace', 'such', 'pieces', ';', 'see', 'also', 'next', 'bullet', ')', '.', '•', 'Important', ':', 'A', 'player', 'Faction', 'while', 'executing', 'an', 'Operation', 'or', 'Event', 'by', 'the', 'Sequence', 'of', 'Play', '(', '2.3.4', ',', '3.0', ',', '5.0', ')', ',', 'may', 'remove', 'its', 'own', 'pieces', 'to', 'Available', 'Forces', '.', 'EXAMPLE', ':', 'Insurgents', 'without', 'Available', 'Guerrillas', 'could', 'remove', 'Guerrillas', 'during', 'a', 'Rally', '(', '3.3.1', ')', 'in', 'order', 'to', 'place', 'them', 'Underground', '.', '•', 'Once', 'an', 'enemy', 'Faction', 'is', 'targeted', ',', 'removal', 'or', 'Activation', 'of', 'pieces', 'to', 'the', 'extent', 'of', 'the', 'executing', 'Faction', '’', 's', 'ability', 'is', 'required', '.', 'EXAMPLE', ':', 'A', 'Government', 'Assault', '(', '3.2.4', ')', 'with', '3', 'Troops', 'in', 'Forest', 'must', 'remove', '3', 'Active', 'pieces', 'if', 'there', 'are', 'at', 'least', 'that', 'many', 'among', 'those', 'Factions', 'targeted', '.', '1.4.2', 'Stacking', '.', 'No', 'more', 'than', '2', 'Bases', '(', 'regardless', 'of', 'Faction', ')', 'may', 'occupy', 'a', 'single', 'Department', 'or', 'City', '.', 'Bases', 'may', 'not', 'occupy', 'LoCs', '.', 'Government', 'forces', 'may', 'not', 'occupy', 'a', 'FARC', 'Zone', '(', '6.4.4', ')', '.', '(', 'See', 'also', 'the', '“', 'Sucumbíos', '”', 'Event', 'regarding', 'Ecuador', '.', ')', 'Ignore', 'any', 'instructions', '(', 'such', 'as', 'from', 'Operations', 'or', 'Events', ')', 'to', 'place', 'or', 'move', 'forces', 'if', 'stacking', 'would', 'be', 'violated', '.', 'Except', 'as', 'noted', 'above', ',', 'any', 'number', 'of', 'Government', 'cubes', 'and', 'Guerrillas', 'may', 'occupy', 'a', 'space', '.', '1.4.3', 'Underground/Active', '.', 'Guerrillas', 'are', 'either', 'Underground—symbol', 'end', 'down—or', 'Ac-', 'tive-symbol', 'end', 'up', '.', 'Certain', 'actions', 'and', 'Events', 'flip', 'them', 'from', 'one', 'to', 'the', 'other', 'state', '.', 'Bases', ',', 'Troops', ',', 'and', 'Police', 'are', 'always', 'Active', '.', 'Always', 'set', 'up', 'and', 'place', 'new', 'Guerrillas', 'Un-', 'derground', '(', 'including', 'if', 'replacing', 'a', 'piece', ')', '.', 'NOTE', ':', 'Unless', 'instructions', 'specify', '“', 'Underground', '”', 'Guerrilla', ',', 'it', 'is', 'sufficient', 'to', '“', 'Activate', '”', 'already', 'Active', 'Guerrillas', '(', 'they', 'stay', 'Active', ')', '.', '1.5', 'Players', '&', 'Factions', 'Andean', 'Abyss', 'is', 'playable', 'by', '1-4', 'players', '.', 'The', '1st', 'player', 'plays', 'the', 'Government', '(', 'blue', ')', ',', 'the', '2nd', 'the', 'FARC', '(', 'red', ')', ',', 'the', '3rd', 'the', 'AUC', '(', 'yellow', ')', ',', 'and', 'the', '4th', 'the', 'Cartels', '(', 'green', ')', '(', '2.1', ')', '.', '(', 'If', 'preferred', ',', 'the', '3rd', 'player', 'in', 'a', '3-player', 'game', 'can', 'play', 'Cartels', 'instead', 'of', 'AUC', '.', ')', 'Each', 'of', 'these', 'Factions', 'is', 'enemy', 'to', 'all', 'others', '.', 'Leftover', 'Factions', 'are', 'Non-Player', ';', 'their', 'actions', 'are', 'governed', 'by', 'rules', 'section', '8', '.', 'See', 'the', 'Playbook', 'for', 'a', 'Role', 'Summary', 'of', 'each', 'Faction', '.', '1.5.1', 'Spare', 'Factions', '.', 'With', 'two', 'or', 'three', 'players', ',', 'the', 'players', 'run', 'leftover', 'Factions', ':', '5Andean', 'Abyss', '©', '2018', 'GMT', 'Games', ',', 'LLC', '1.7', 'Resources', 'and', 'Aid', 'At', 'any', 'moment', ',', 'each', 'Faction', 'has', 'between', '0', 'and', '99', 'Resources', 'that', 'it', 'uses', 'to', 'pay', 'for', 'Operations', '(', '3.0', ')', '.', 'During', 'some', 'Propaganda', 'Rounds', '(', '6.3.1', ')', 'and', 'Events', ',', 'a', 'level', 'of', 'Aid', '(', 'between', '0', 'and', '29', ')', 'adds', 'to', 'Government', 'Resources', '.', 'Mark', 'Resources', 'and', 'Aid', 'on', 'the', 'edge', 'track—for', 'Resources', ',', 'with', 'a', 'cylinder', 'of', 'the', 'Faction', '’', 's', 'color', '(', '1.5', ')', '.', '1.8', 'Control', 'The', 'Government', 'Controls', 'a', 'City', 'or', 'Department', 'if', 'its', 'pieces', 'alone', 'exceed', 'those', 'of', 'all', 'other', 'Factions', 'combined', '.', 'In', 'the', 'same', 'way', ',', 'FARC', 'Controls', 'a', 'City', 'or', 'Department', 'if', 'its', 'pieces', 'alone', 'exceed', 'those', 'of', 'all', 'other', 'Factions', 'combined', '.', 'Cities', 'or', 'Departments', 'that', 'are', 'not', 'Controlled', 'by', 'either', 'the', 'Government', 'or', 'FARC', 'are', 'Uncontrolled', '.', 'As', 'helpful', ',', 'place', 'appropriate', 'Control', 'markers', 'on', 'spaces', 'as', 'reminders', '.', 'PLAY', 'NOTE', ':', 'Control', 'mainly', 'affects', 'Propaganda', 'Round', '(', '6.2-6.5', ')', 'and', 'some', 'Non-player', 'Government', 'actions', '(', 'section', '8', ')', '.', 'DESIGN', 'NOTE', ':', '“', 'FARC', 'Control', '”', 'of', 'a', 'City', 'might', 'not', 'represent', 'complete', 'military', 'control', 'of', 'a', 'major', 'urban', 'area', 'but', 'rather', 'suf-', 'ficient', 'presence', 'to', 'inhibit', 'commerce', 'and', 'encourage', 'resistance', 'to', 'government', 'authority', '.']\n"
          ]
        },
        {
          "output_type": "execute_result",
          "data": {
            "text/plain": [
              "['Event',\n",
              " 'about the fall of the Roman Diocese of Britain',\n",
              " 'about the American Rebellion from 1775 to 1783',\n",
              " 'conflict during the end of the British Raj in India',\n",
              " 'conflict during the main US period in Vietnam',\n",
              " 'about the latter part of the Roman conquest of Gaul',\n",
              " 'conflict in Algeria in its last eight years as a department of France before it became an independent nation',\n",
              " 'conflict in Cuba',\n",
              " 'conflict in modern Afghanistan',\n",
              " 'about to free itself from centuries of repression and to reach a long dreamed of independence',\n",
              " 'conflict in Colombia during the 1990s and early 2000s']"
            ]
          },
          "metadata": {},
          "execution_count": 47
        }
      ],
      "source": [
        "def get_vicenda(text,path):\n",
        "  vicenda = ['Event']\n",
        "  vic = []\n",
        "  for p in range(len(path)):\n",
        "    print(path[p])\n",
        "    t = []\n",
        "\n",
        "    for k in text[p]:\n",
        "        cap0 = get_chapter(text[p])[0][0]\n",
        "        cap1 = get_chapter(text[p])[0][1]\n",
        "        print(token_list[p][cap0:cap1])\n",
        "        break\n",
        "    for k, value in enumerate(token_list[p][cap0:cap1], start=1):\n",
        "      try:\n",
        "        prec_text = token_list[p][cap0:cap1][k-10:k]\n",
        "        succ_text = token_list[p][cap0:cap1][k:k+30]\n",
        "        if value in ['about','conflict']:\n",
        "          for v in token_list[p][cap0:cap1][k-1:k+25]:\n",
        "            if v in punctuation:\n",
        "              break\n",
        "            else:\n",
        "              vic.append(v)\n",
        "              #print(v)\n",
        "          break  \n",
        "      except IndexError as e:  cc=0    #except ValueError: \n",
        "    vicenda.append(\" \".join(vic))\n",
        "    vic.clear()\n",
        "    \n",
        "    #print(set(t))\n",
        "    #t.clear()\n",
        "      #print(t)\n",
        "      #t.clear()\n",
        "  return vicenda\n",
        "\n",
        "topic_vicenda = get_vicenda(token_list,path_list)\n",
        "topic_vicenda\n",
        "#manca la parte che stampa fino al punto o virgola\n"
      ]
    },
    {
      "cell_type": "markdown",
      "metadata": {
        "id": "LZY4GjUcFCeO"
      },
      "source": [
        "##Scenario"
      ]
    },
    {
      "cell_type": "code",
      "execution_count": null,
      "metadata": {
        "colab": {
          "base_uri": "https://localhost:8080/"
        },
        "id": "QKYXhWn_FCnY",
        "outputId": "5e81496d-6d61-45a2-fc0f-82f2aaa95334"
      },
      "outputs": [
        {
          "output_type": "stream",
          "name": "stdout",
          "text": [
            "/content/Information-Retrieval-Project/Rules/PDG_Rules_FINAL.pdf\n",
            "/content/Information-Retrieval-Project/Rules/LOD_Rules_Aug2016.pdf\n",
            "/content/Information-Retrieval-Project/Rules/GandhiRulesFINALLo-Res.pdf\n",
            "/content/Information-Retrieval-Project/Rules/FireLake-RULES-2018.pdf\n",
            "/content/Information-Retrieval-Project/Rules/FS_Rules_2018.pdf\n",
            "/content/Information-Retrieval-Project/Rules/ColTwi-RULES-LR-May2018.pdf\n",
            "/content/Information-Retrieval-Project/Rules/CL-RULES-2019-LivingRules.pdf\n",
            "/content/Information-Retrieval-Project/Rules/ADP-RULES-2015.pdf\n",
            "/content/Information-Retrieval-Project/Rules/ABBLivingRulesNov-20.pdf\n",
            "/content/Information-Retrieval-Project/Rules/A-RULES-2018-FINAL.pdf\n"
          ]
        },
        {
          "output_type": "execute_result",
          "data": {
            "text/plain": [
              "['Scenarios',\n",
              " 'main long short',\n",
              " 'main long short',\n",
              " 'main short',\n",
              " 'main long short',\n",
              " 'main long short',\n",
              " 'main long short',\n",
              " 'main short',\n",
              " 'main long short',\n",
              " 'main',\n",
              " 'main short']"
            ]
          },
          "metadata": {},
          "execution_count": 48
        }
      ],
      "source": [
        "def get_scenario(text,path):\n",
        "  scenario = ['Scenarios']\n",
        "  s = []\n",
        "  for p in range(len(path)):\n",
        "    print(path[p])\n",
        "    t = []\n",
        "    try:\n",
        "      for k, value in enumerate(token_list[p], start=1):\n",
        "        if value in ['duration','scenario','Duration','Scenario', 'MAIN', 'Short', 'Medium', 'Full']: \n",
        "          text = token_list[p][k-5:k+5]\n",
        "          for x, value in enumerate(text,start=k-5):\n",
        "\n",
        "            if value in ['Duration'] and p==0: # solo per PDG\n",
        "              s.append(token_list[p][x+1][:-3].lower())\n",
        "\n",
        "            if value in ['Duration'] and p==1: # solo per LOD\n",
        "              s.append(token_list[p][x-1].lower())\n",
        "\n",
        "            if value.lower() in ['short', 'main', 'medium', 'full'] and (p==2 or p==3 or p==5) : # solo per Gandhi e FL\n",
        "              s.append(token_list[p][x].lower())\n",
        "\n",
        "            if value.lower() in ['scenario'] and token_list[p][x-1].lower() in ['short', 'main', 'long', 'extended'] and (p==4 or p==7) : # solo per FS e ADP\n",
        "              s.append(token_list[p][x-1].lower())\n",
        "\n",
        "            if value=='Game' and (p==6 or p==9) : # solo per CL e AR\n",
        "              s.append(token_list[p][x-1].lower())\n",
        "\n",
        "        else:\n",
        "            s.append('main')\n",
        "\n",
        "      \n",
        "      s = [w.replace('extended', 'long').replace('full', 'long') for w in s]\n",
        "      s = [w.replace('medium', 'main') for w in s]\n",
        "      scenario.append(str(list(set(s))).replace(',','').replace('[','').replace(']','').replace(\"'\",''))\n",
        "      s.clear()\n",
        "          \n",
        "    except IndexError as e: cc=0\n",
        "\n",
        "  return scenario\n",
        "\n",
        "topic_scenario = get_scenario(token_list,path_list)\n",
        "topic_scenario\n"
      ]
    },
    {
      "cell_type": "markdown",
      "metadata": {
        "id": "kQMzcxaWFSSl"
      },
      "source": [
        "#Creazione csv"
      ]
    },
    {
      "cell_type": "code",
      "execution_count": null,
      "metadata": {
        "colab": {
          "base_uri": "https://localhost:8080/"
        },
        "id": "kuVepn0GFV08",
        "outputId": "7450b841-dad8-4d1d-884b-ce2b65bf43de"
      },
      "outputs": [
        {
          "output_type": "stream",
          "name": "stdout",
          "text": [
            "rm: cannot remove '/content/Information-Retrieval-Project/topics_T.csv': No such file or directory\n"
          ]
        }
      ],
      "source": [
        "!rm \"/content/Information-Retrieval-Project/topics_T.csv\"\n",
        "!rm \"/content/Information-Retrieval-Project/topics.csv\"\n",
        "\n",
        "import csv \n",
        "from csv import writer\n",
        "from csv import reader\n",
        "import pandas as pd\n",
        "\n",
        "filename = \"/content/Information-Retrieval-Project/topics.csv\"\n",
        "p = ['Gioco']\n",
        "new_path = [x.replace('/content/Information-Retrieval-Project/Rules/', '').replace('.pdf','') for x in path_list]\n",
        "percorsi = [*p, *new_path]\n",
        "\n",
        "with open(filename, 'w') as csvfile: \n",
        "  writer_object = writer(csvfile)\n",
        "  writer_object.writerow(percorsi)\n",
        "  writer_object.writerow(topic_luogo)\n",
        "  writer_object.writerow(topic_periodo)\n",
        "  #writer_object.writerow(topic_giocatori)\n",
        "  writer_object.writerow(topic_fazioni)\n",
        "  writer_object.writerow(topic_vicenda)\n",
        "  writer_object.writerow(topic_map)\n",
        "  writer_object.writerow(topic_area)\n",
        "  writer_object.writerow(topic_specact)\n",
        "  writer_object.writerow(topic_op)\n",
        "  writer_object.writerow(topic_scenario)\n",
        "  csvfile.close()\n",
        "\n",
        "pd.read_csv(filename, header=None).T.to_csv(filename, header=False, index=False)"
      ]
    },
    {
      "cell_type": "markdown",
      "metadata": {
        "id": "tpQAF1KKndTk"
      },
      "source": [
        "#Topic Similarità"
      ]
    },
    {
      "cell_type": "code",
      "execution_count": null,
      "metadata": {
        "colab": {
          "base_uri": "https://localhost:8080/"
        },
        "id": "o1eOfqm5e91T",
        "outputId": "54cdd10f-4021-4e3d-ea06-9eb53592f95e"
      },
      "outputs": [
        {
          "output_type": "execute_result",
          "data": {
            "text/plain": [
              "                          Place     Period  \\\n",
              "Gioco                                        \n",
              "PDG_Rules_FINAL         Britain    400-500   \n",
              "LOD_Rules_Aug2016       America  1775-1783   \n",
              "GandhiRulesFINALLo-Res    India  1917-1947   \n",
              "FireLake-RULES-2018     Vietnam  1964-1972   \n",
              "FS_Rules_2018              Gaul        NaN   \n",
              "\n",
              "                                                                 Factions  \\\n",
              "Gioco                                                                       \n",
              "PDG_Rules_FINAL                            Dux  Civitates  Saxons  Scotti   \n",
              "LOD_Rules_Aug2016                      Indians  British  Patriots  French   \n",
              "GandhiRulesFINALLo-Res                                                NaN   \n",
              "FireLake-RULES-2018                                     US  VC  NVA  ARVN   \n",
              "FS_Rules_2018           Roman Republic Aedui Confederation Arverni Con...   \n",
              "\n",
              "                                                                    Event  \\\n",
              "Gioco                                                                       \n",
              "PDG_Rules_FINAL            about the fall of the Roman Diocese of Britain   \n",
              "LOD_Rules_Aug2016          about the American Rebellion from 1775 to 1783   \n",
              "GandhiRulesFINALLo-Res  conflict during the end of the British Raj in ...   \n",
              "FireLake-RULES-2018         conflict during the main US period in Vietnam   \n",
              "FS_Rules_2018           about the latter part of the Roman conquest of...   \n",
              "\n",
              "                                                                      Map  \\\n",
              "Gioco                                                                       \n",
              "PDG_Rules_FINAL         a map of late-Roman Britain and environs divid...   \n",
              "LOD_Rules_Aug2016       the British Colonies of North America and neig...   \n",
              "GandhiRulesFINALLo-Res  the British colony of India divided into vario...   \n",
              "FireLake-RULES-2018     South Vietnam and nearby areas divided into va...   \n",
              "FS_Rules_2018                                  a map of Gaul and environs   \n",
              "\n",
              "                                          Area  \\\n",
              "Gioco                                            \n",
              "PDG_Rules_FINAL                marsh mountains   \n",
              "LOD_Rules_Aug2016                        rural   \n",
              "GandhiRulesFINALLo-Res                     NaN   \n",
              "FireLake-RULES-2018     mountains rural forest   \n",
              "FS_Rules_2018                              NaN   \n",
              "\n",
              "                                                       Special Activities  \\\n",
              "Gioco                                                                       \n",
              "PDG_Rules_FINAL         Ravaging Settling Ruling Pillaging Reinforcing...   \n",
              "LOD_Rules_Aug2016             Trade Plunder Persuasion Partisans Skirmish   \n",
              "GandhiRulesFINALLo-Res  Satyagraha Govern Persuade Negotiate Assassina...   \n",
              "FireLake-RULES-2018     Subversion Taxation Events Advise Ambush Infil...   \n",
              "FS_Rules_2018           Scouting Entreaties Trade Rampaging Devastatio...   \n",
              "\n",
              "                                                               Operations  \\\n",
              "Gioco                                                                       \n",
              "PDG_Rules_FINAL         Training Marching Mustering Returning Battle M...   \n",
              "LOD_Rules_Aug2016       Muster March Scout Gather Garrison Battle Raid...   \n",
              "GandhiRulesFINALLo-Res  March Assault Deploy Unrest Players Sweep Garr...   \n",
              "FireLake-RULES-2018     March Training Sweeps Assaults Terror Attack R...   \n",
              "FS_Rules_2018                Marching Raids Seizure Recruiting Mark Rally   \n",
              "\n",
              "                              Scenarios  \n",
              "Gioco                                    \n",
              "PDG_Rules_FINAL         main long short  \n",
              "LOD_Rules_Aug2016       main long short  \n",
              "GandhiRulesFINALLo-Res       main short  \n",
              "FireLake-RULES-2018     main long short  \n",
              "FS_Rules_2018           main long short  "
            ],
            "text/html": [
              "\n",
              "  <div id=\"df-6a22b3d8-cf77-4b6f-9cd4-0ddad7f48cae\">\n",
              "    <div class=\"colab-df-container\">\n",
              "      <div>\n",
              "<style scoped>\n",
              "    .dataframe tbody tr th:only-of-type {\n",
              "        vertical-align: middle;\n",
              "    }\n",
              "\n",
              "    .dataframe tbody tr th {\n",
              "        vertical-align: top;\n",
              "    }\n",
              "\n",
              "    .dataframe thead th {\n",
              "        text-align: right;\n",
              "    }\n",
              "</style>\n",
              "<table border=\"1\" class=\"dataframe\">\n",
              "  <thead>\n",
              "    <tr style=\"text-align: right;\">\n",
              "      <th></th>\n",
              "      <th>Place</th>\n",
              "      <th>Period</th>\n",
              "      <th>Factions</th>\n",
              "      <th>Event</th>\n",
              "      <th>Map</th>\n",
              "      <th>Area</th>\n",
              "      <th>Special Activities</th>\n",
              "      <th>Operations</th>\n",
              "      <th>Scenarios</th>\n",
              "    </tr>\n",
              "    <tr>\n",
              "      <th>Gioco</th>\n",
              "      <th></th>\n",
              "      <th></th>\n",
              "      <th></th>\n",
              "      <th></th>\n",
              "      <th></th>\n",
              "      <th></th>\n",
              "      <th></th>\n",
              "      <th></th>\n",
              "      <th></th>\n",
              "    </tr>\n",
              "  </thead>\n",
              "  <tbody>\n",
              "    <tr>\n",
              "      <th>PDG_Rules_FINAL</th>\n",
              "      <td>Britain</td>\n",
              "      <td>400-500</td>\n",
              "      <td>Dux  Civitates  Saxons  Scotti</td>\n",
              "      <td>about the fall of the Roman Diocese of Britain</td>\n",
              "      <td>a map of late-Roman Britain and environs divid...</td>\n",
              "      <td>marsh mountains</td>\n",
              "      <td>Ravaging Settling Ruling Pillaging Reinforcing...</td>\n",
              "      <td>Training Marching Mustering Returning Battle M...</td>\n",
              "      <td>main long short</td>\n",
              "    </tr>\n",
              "    <tr>\n",
              "      <th>LOD_Rules_Aug2016</th>\n",
              "      <td>America</td>\n",
              "      <td>1775-1783</td>\n",
              "      <td>Indians  British  Patriots  French</td>\n",
              "      <td>about the American Rebellion from 1775 to 1783</td>\n",
              "      <td>the British Colonies of North America and neig...</td>\n",
              "      <td>rural</td>\n",
              "      <td>Trade Plunder Persuasion Partisans Skirmish</td>\n",
              "      <td>Muster March Scout Gather Garrison Battle Raid...</td>\n",
              "      <td>main long short</td>\n",
              "    </tr>\n",
              "    <tr>\n",
              "      <th>GandhiRulesFINALLo-Res</th>\n",
              "      <td>India</td>\n",
              "      <td>1917-1947</td>\n",
              "      <td>NaN</td>\n",
              "      <td>conflict during the end of the British Raj in ...</td>\n",
              "      <td>the British colony of India divided into vario...</td>\n",
              "      <td>NaN</td>\n",
              "      <td>Satyagraha Govern Persuade Negotiate Assassina...</td>\n",
              "      <td>March Assault Deploy Unrest Players Sweep Garr...</td>\n",
              "      <td>main short</td>\n",
              "    </tr>\n",
              "    <tr>\n",
              "      <th>FireLake-RULES-2018</th>\n",
              "      <td>Vietnam</td>\n",
              "      <td>1964-1972</td>\n",
              "      <td>US  VC  NVA  ARVN</td>\n",
              "      <td>conflict during the main US period in Vietnam</td>\n",
              "      <td>South Vietnam and nearby areas divided into va...</td>\n",
              "      <td>mountains rural forest</td>\n",
              "      <td>Subversion Taxation Events Advise Ambush Infil...</td>\n",
              "      <td>March Training Sweeps Assaults Terror Attack R...</td>\n",
              "      <td>main long short</td>\n",
              "    </tr>\n",
              "    <tr>\n",
              "      <th>FS_Rules_2018</th>\n",
              "      <td>Gaul</td>\n",
              "      <td>NaN</td>\n",
              "      <td>Roman Republic Aedui Confederation Arverni Con...</td>\n",
              "      <td>about the latter part of the Roman conquest of...</td>\n",
              "      <td>a map of Gaul and environs</td>\n",
              "      <td>NaN</td>\n",
              "      <td>Scouting Entreaties Trade Rampaging Devastatio...</td>\n",
              "      <td>Marching Raids Seizure Recruiting Mark Rally</td>\n",
              "      <td>main long short</td>\n",
              "    </tr>\n",
              "  </tbody>\n",
              "</table>\n",
              "</div>\n",
              "      <button class=\"colab-df-convert\" onclick=\"convertToInteractive('df-6a22b3d8-cf77-4b6f-9cd4-0ddad7f48cae')\"\n",
              "              title=\"Convert this dataframe to an interactive table.\"\n",
              "              style=\"display:none;\">\n",
              "        \n",
              "  <svg xmlns=\"http://www.w3.org/2000/svg\" height=\"24px\"viewBox=\"0 0 24 24\"\n",
              "       width=\"24px\">\n",
              "    <path d=\"M0 0h24v24H0V0z\" fill=\"none\"/>\n",
              "    <path d=\"M18.56 5.44l.94 2.06.94-2.06 2.06-.94-2.06-.94-.94-2.06-.94 2.06-2.06.94zm-11 1L8.5 8.5l.94-2.06 2.06-.94-2.06-.94L8.5 2.5l-.94 2.06-2.06.94zm10 10l.94 2.06.94-2.06 2.06-.94-2.06-.94-.94-2.06-.94 2.06-2.06.94z\"/><path d=\"M17.41 7.96l-1.37-1.37c-.4-.4-.92-.59-1.43-.59-.52 0-1.04.2-1.43.59L10.3 9.45l-7.72 7.72c-.78.78-.78 2.05 0 2.83L4 21.41c.39.39.9.59 1.41.59.51 0 1.02-.2 1.41-.59l7.78-7.78 2.81-2.81c.8-.78.8-2.07 0-2.86zM5.41 20L4 18.59l7.72-7.72 1.47 1.35L5.41 20z\"/>\n",
              "  </svg>\n",
              "      </button>\n",
              "      \n",
              "  <style>\n",
              "    .colab-df-container {\n",
              "      display:flex;\n",
              "      flex-wrap:wrap;\n",
              "      gap: 12px;\n",
              "    }\n",
              "\n",
              "    .colab-df-convert {\n",
              "      background-color: #E8F0FE;\n",
              "      border: none;\n",
              "      border-radius: 50%;\n",
              "      cursor: pointer;\n",
              "      display: none;\n",
              "      fill: #1967D2;\n",
              "      height: 32px;\n",
              "      padding: 0 0 0 0;\n",
              "      width: 32px;\n",
              "    }\n",
              "\n",
              "    .colab-df-convert:hover {\n",
              "      background-color: #E2EBFA;\n",
              "      box-shadow: 0px 1px 2px rgba(60, 64, 67, 0.3), 0px 1px 3px 1px rgba(60, 64, 67, 0.15);\n",
              "      fill: #174EA6;\n",
              "    }\n",
              "\n",
              "    [theme=dark] .colab-df-convert {\n",
              "      background-color: #3B4455;\n",
              "      fill: #D2E3FC;\n",
              "    }\n",
              "\n",
              "    [theme=dark] .colab-df-convert:hover {\n",
              "      background-color: #434B5C;\n",
              "      box-shadow: 0px 1px 3px 1px rgba(0, 0, 0, 0.15);\n",
              "      filter: drop-shadow(0px 1px 2px rgba(0, 0, 0, 0.3));\n",
              "      fill: #FFFFFF;\n",
              "    }\n",
              "  </style>\n",
              "\n",
              "      <script>\n",
              "        const buttonEl =\n",
              "          document.querySelector('#df-6a22b3d8-cf77-4b6f-9cd4-0ddad7f48cae button.colab-df-convert');\n",
              "        buttonEl.style.display =\n",
              "          google.colab.kernel.accessAllowed ? 'block' : 'none';\n",
              "\n",
              "        async function convertToInteractive(key) {\n",
              "          const element = document.querySelector('#df-6a22b3d8-cf77-4b6f-9cd4-0ddad7f48cae');\n",
              "          const dataTable =\n",
              "            await google.colab.kernel.invokeFunction('convertToInteractive',\n",
              "                                                     [key], {});\n",
              "          if (!dataTable) return;\n",
              "\n",
              "          const docLinkHtml = 'Like what you see? Visit the ' +\n",
              "            '<a target=\"_blank\" href=https://colab.research.google.com/notebooks/data_table.ipynb>data table notebook</a>'\n",
              "            + ' to learn more about interactive tables.';\n",
              "          element.innerHTML = '';\n",
              "          dataTable['output_type'] = 'display_data';\n",
              "          await google.colab.output.renderOutput(dataTable, element);\n",
              "          const docLink = document.createElement('div');\n",
              "          docLink.innerHTML = docLinkHtml;\n",
              "          element.appendChild(docLink);\n",
              "        }\n",
              "      </script>\n",
              "    </div>\n",
              "  </div>\n",
              "  "
            ]
          },
          "metadata": {},
          "execution_count": 50
        }
      ],
      "source": [
        "import math\n",
        "from collections import Counter\n",
        "\n",
        "games = pd.read_csv(filename,index_col=0)\n",
        "games.head()"
      ]
    },
    {
      "cell_type": "markdown",
      "metadata": {
        "id": "qJ3ZTRbxyNHX"
      },
      "source": [
        "##Area, Attività speciali, Operaz, Scenario"
      ]
    },
    {
      "cell_type": "code",
      "execution_count": null,
      "metadata": {
        "id": "PUBsR64CzV2F"
      },
      "outputs": [],
      "source": [
        "def get_val_topics(topic):\n",
        "\n",
        "  topic_oggetti = games[topic]\n",
        "\n",
        "  lista_oggetti = []\n",
        "  for gioco in topic_oggetti:\n",
        "    try:\n",
        "      for e in gioco.split(' '):\n",
        "        lista_oggetti.append(e)\n",
        "    except:\n",
        "      lista_oggetti.append(0)\n",
        "\n",
        "  dict_oggetti = Counter(lista_oggetti)\n",
        "\n",
        "  N = 10\n",
        "  val_topic = []\n",
        "  val_topic.append(topic)\n",
        "\n",
        "  for number, line in enumerate(topic_oggetti):\n",
        "    c = 0\n",
        "    try:\n",
        "      oggetti_gioco = line.split(' ')\n",
        "      for value in oggetti_gioco:\n",
        "        c += math.log10(N / dict_oggetti[value])\n",
        "        c = c / len(oggetti_gioco)\n",
        "      val_topic.append(round(c,4))\n",
        "    except:\n",
        "      val_topic.append(0)\n",
        "  return val_topic"
      ]
    },
    {
      "cell_type": "markdown",
      "metadata": {
        "id": "1-pHrWjvx3sy"
      },
      "source": [
        "##Luogo"
      ]
    },
    {
      "cell_type": "code",
      "execution_count": null,
      "metadata": {
        "colab": {
          "base_uri": "https://localhost:8080/"
        },
        "id": "fmqssEw_byES",
        "outputId": "c4c298d6-b88f-4e17-c21f-54ecb296dc8f"
      },
      "outputs": [
        {
          "output_type": "execute_result",
          "data": {
            "text/plain": [
              "'Asia'"
            ],
            "application/vnd.google.colaboratory.intrinsic+json": {
              "type": "string"
            }
          },
          "metadata": {},
          "execution_count": 52
        }
      ],
      "source": [
        "#!pip install setuptools\n",
        "\n",
        "topic_luogo\n",
        "def country_to_continent(country_name):\n",
        "    country_alpha2 = pc.country_name_to_country_alpha2(country_name)\n",
        "    country_continent_code = pc.country_alpha2_to_continent_code(country_alpha2)\n",
        "    country_continent_name = pc.convert_continent_code_to_continent_name(country_continent_code)\n",
        "    return country_continent_name\n",
        "country_to_continent('China')"
      ]
    },
    {
      "cell_type": "code",
      "execution_count": null,
      "metadata": {
        "colab": {
          "base_uri": "https://localhost:8080/"
        },
        "id": "jKB6Z4EgnC_F",
        "outputId": "87c0dd07-4ece-483c-809a-78871dae23a7"
      },
      "outputs": [
        {
          "output_type": "stream",
          "name": "stdout",
          "text": [
            "['Europe', 'North America', 'Asia', 'Asia', 'Europe', 'Africa', 'North America', 'Asia', 'Europe', 'South America']\n",
            "Europe           0.3\n",
            "Asia             0.3\n",
            "North America    0.2\n",
            "Africa           0.1\n",
            "South America    0.1\n",
            "dtype: float64\n"
          ]
        },
        {
          "output_type": "execute_result",
          "data": {
            "text/plain": [
              "['Place', 0.3, 0.2, 0.3, 0.3, 0.3, 0.1, 0.2, 0.3, 0.3, 0.1]"
            ]
          },
          "metadata": {},
          "execution_count": 53
        }
      ],
      "source": [
        "import pandas as pd\n",
        "\n",
        "def country_to_continent(country_name):\n",
        "    country_alpha2 = pc.country_name_to_country_alpha2(country_name)\n",
        "    country_continent_code = pc.country_alpha2_to_continent_code(country_alpha2)\n",
        "    country_continent_name = pc.convert_continent_code_to_continent_name(country_continent_code)\n",
        "    return country_continent_name\n",
        "\n",
        "def get_val_luogo(luogo):\n",
        "\n",
        "  c = []\n",
        "  val_luogo = ['Place']\n",
        "  \n",
        "  for l in luogo:\n",
        "    if l in ['Place']:\n",
        "      pass\n",
        "    elif l in ['Gaul','Britain','Europe']:\n",
        "      c.append('Europe')\n",
        "      #print(l)\n",
        "    elif l in ['America']:\n",
        "      c.append('North America')\n",
        "      #print(l)\n",
        "    else:\n",
        "      c.append(country_to_continent(l))\n",
        "      #c.append(pc.country_alpha2_to_continent_code(pc.country_name_to_country_alpha2(l, cn_name_format=\"default\")))\n",
        "      #(pc.country_name_to_country_alpha_2('China'))\n",
        "      '''\n",
        "      country_code = pc.country_name_to_country_alpha2(l, cn_name_format=\"default\")\n",
        "      print(country_code)\n",
        "      continent_name = pc.country_alpha2_to_continent_code(country_code)\n",
        "      print(continent_name)\n",
        "      print(k)\n",
        "      k+=1\n",
        "      '''\n",
        "      \n",
        "  print(c)\n",
        "  values = pd.Series(c).value_counts()/len(c)\n",
        "  print(values)\n",
        "\n",
        "  for k in c:\n",
        "    if k in values.index:\n",
        "      val_luogo.append(values[k])\n",
        "    else:\n",
        "      val_luogo.append(0)\n",
        "  return val_luogo\n",
        "\n",
        "\n",
        "get_val_luogo(topic_luogo)\n",
        "#country_to_continent('China')"
      ]
    },
    {
      "cell_type": "markdown",
      "metadata": {
        "id": "PvpaN31Yx02y"
      },
      "source": [
        "##Periodo"
      ]
    },
    {
      "cell_type": "code",
      "execution_count": null,
      "metadata": {
        "colab": {
          "base_uri": "https://localhost:8080/"
        },
        "id": "2zfwBAnzyRGt",
        "outputId": "0adac51e-eedb-45f8-c2f5-dfc46536850e"
      },
      "outputs": [
        {
          "output_type": "execute_result",
          "data": {
            "text/plain": [
              "['Period', 0.1, 0.1, 0.2, 0.4, 0, 0.4, 0.4, 0, 0.2, 0.4]"
            ]
          },
          "metadata": {},
          "execution_count": 54
        }
      ],
      "source": [
        "def get_val_periodo(periodo):\n",
        "\n",
        "  value_periodo = []\n",
        "  values_periodo = ['Period']\n",
        "\n",
        "\n",
        "  for k in periodo:\n",
        "    try:\n",
        "      if k not in 'Period':\n",
        "      #print(k.split('-')[0])\n",
        "        p = (k.split('-')[0])\n",
        "        if(int(p)<1500):\n",
        "          value_periodo.append('<1500')\n",
        "          #print(p,'<1500')\n",
        "        if(1900>=int(p)>=1500):\n",
        "          #print(p,'1500-1900')\n",
        "          value_periodo.append('1500-1900')\n",
        "        if(1950>=int(p)>=1900):\n",
        "          #print(p,'1900-1950')\n",
        "          value_periodo.append('1900-1950')\n",
        "        if(2000>=int(p)>=1950):\n",
        "          #print(p,'1900-1950')\n",
        "          value_periodo.append('1950-2000')\n",
        "        #if not p:\n",
        "\n",
        "\n",
        "    except:\n",
        "        p = k\n",
        "        #print(k,0)\n",
        "        value_periodo.append(k)\n",
        "  #value_periodo\n",
        "  values = pd.Series(value_periodo).value_counts()/len(value_periodo)\n",
        "  values\n",
        "\n",
        "  #for c,v in enumerate(value_periodo):\n",
        "    #if value_periodo[c] in values:\n",
        "  for v in value_periodo:\n",
        "    if v in values.index:\n",
        "      values_periodo.append(values[v])\n",
        "    else:\n",
        "      values_periodo.append(0)\n",
        "    \n",
        "  return values_periodo  #print(p)\n",
        "\n",
        "get_val_periodo(topic_periodo)"
      ]
    },
    {
      "cell_type": "markdown",
      "metadata": {
        "id": "npbgtiYTy1zn"
      },
      "source": [
        "##Vicenda, Mappa, Fazioni"
      ]
    },
    {
      "cell_type": "code",
      "execution_count": null,
      "metadata": {
        "colab": {
          "base_uri": "https://localhost:8080/"
        },
        "id": "ameHI4HM3iJK",
        "outputId": "3e2abc7e-c781-4bb8-90d6-4932db5c4ef0"
      },
      "outputs": [
        {
          "output_type": "stream",
          "name": "stdout",
          "text": [
            "Looking in indexes: https://pypi.org/simple, https://us-python.pkg.dev/colab-wheels/public/simple/\n",
            "Requirement already satisfied: pip in /usr/local/lib/python3.7/dist-packages (22.2)\n",
            "Requirement already satisfied: setuptools in /usr/local/lib/python3.7/dist-packages (63.2.0)\n",
            "Requirement already satisfied: wheel in /usr/local/lib/python3.7/dist-packages (0.37.1)\n",
            "\u001b[33mWARNING: Running pip as the 'root' user can result in broken permissions and conflicting behaviour with the system package manager. It is recommended to use a virtual environment instead: https://pip.pypa.io/warnings/venv\u001b[0m\u001b[33m\n",
            "\u001b[0mLooking in indexes: https://pypi.org/simple, https://us-python.pkg.dev/colab-wheels/public/simple/\n",
            "Requirement already satisfied: spacy in /usr/local/lib/python3.7/dist-packages (3.4.0)\n",
            "Requirement already satisfied: murmurhash<1.1.0,>=0.28.0 in /usr/local/lib/python3.7/dist-packages (from spacy) (1.0.7)\n",
            "Requirement already satisfied: packaging>=20.0 in /usr/local/lib/python3.7/dist-packages (from spacy) (21.3)\n",
            "Requirement already satisfied: cymem<2.1.0,>=2.0.2 in /usr/local/lib/python3.7/dist-packages (from spacy) (2.0.6)\n",
            "Requirement already satisfied: requests<3.0.0,>=2.13.0 in /usr/local/lib/python3.7/dist-packages (from spacy) (2.23.0)\n",
            "Requirement already satisfied: spacy-loggers<2.0.0,>=1.0.0 in /usr/local/lib/python3.7/dist-packages (from spacy) (1.0.3)\n",
            "Requirement already satisfied: catalogue<2.1.0,>=2.0.6 in /usr/local/lib/python3.7/dist-packages (from spacy) (2.0.7)\n",
            "Requirement already satisfied: typer<0.5.0,>=0.3.0 in /usr/local/lib/python3.7/dist-packages (from spacy) (0.4.2)\n",
            "Requirement already satisfied: srsly<3.0.0,>=2.4.3 in /usr/local/lib/python3.7/dist-packages (from spacy) (2.4.4)\n",
            "Requirement already satisfied: wasabi<1.1.0,>=0.9.1 in /usr/local/lib/python3.7/dist-packages (from spacy) (0.9.1)\n",
            "Requirement already satisfied: tqdm<5.0.0,>=4.38.0 in /usr/local/lib/python3.7/dist-packages (from spacy) (4.64.0)\n",
            "Requirement already satisfied: pathy>=0.3.5 in /usr/local/lib/python3.7/dist-packages (from spacy) (0.6.2)\n",
            "Requirement already satisfied: thinc<8.2.0,>=8.1.0 in /usr/local/lib/python3.7/dist-packages (from spacy) (8.1.0)\n",
            "Requirement already satisfied: numpy>=1.15.0 in /usr/local/lib/python3.7/dist-packages (from spacy) (1.21.6)\n",
            "Requirement already satisfied: langcodes<4.0.0,>=3.2.0 in /usr/local/lib/python3.7/dist-packages (from spacy) (3.3.0)\n",
            "Requirement already satisfied: preshed<3.1.0,>=3.0.2 in /usr/local/lib/python3.7/dist-packages (from spacy) (3.0.6)\n",
            "Requirement already satisfied: pydantic!=1.8,!=1.8.1,<1.10.0,>=1.7.4 in /usr/local/lib/python3.7/dist-packages (from spacy) (1.9.1)\n",
            "Requirement already satisfied: typing-extensions<4.2.0,>=3.7.4 in /usr/local/lib/python3.7/dist-packages (from spacy) (4.1.1)\n",
            "Requirement already satisfied: jinja2 in /usr/local/lib/python3.7/dist-packages (from spacy) (2.11.3)\n",
            "Requirement already satisfied: spacy-legacy<3.1.0,>=3.0.9 in /usr/local/lib/python3.7/dist-packages (from spacy) (3.0.9)\n",
            "Requirement already satisfied: setuptools in /usr/local/lib/python3.7/dist-packages (from spacy) (63.2.0)\n",
            "Requirement already satisfied: zipp>=0.5 in /usr/local/lib/python3.7/dist-packages (from catalogue<2.1.0,>=2.0.6->spacy) (3.8.1)\n",
            "Requirement already satisfied: pyparsing!=3.0.5,>=2.0.2 in /usr/local/lib/python3.7/dist-packages (from packaging>=20.0->spacy) (3.0.9)\n",
            "Requirement already satisfied: smart-open<6.0.0,>=5.2.1 in /usr/local/lib/python3.7/dist-packages (from pathy>=0.3.5->spacy) (5.2.1)\n",
            "Requirement already satisfied: urllib3!=1.25.0,!=1.25.1,<1.26,>=1.21.1 in /usr/local/lib/python3.7/dist-packages (from requests<3.0.0,>=2.13.0->spacy) (1.24.3)\n",
            "Requirement already satisfied: idna<3,>=2.5 in /usr/local/lib/python3.7/dist-packages (from requests<3.0.0,>=2.13.0->spacy) (2.10)\n",
            "Requirement already satisfied: chardet<4,>=3.0.2 in /usr/local/lib/python3.7/dist-packages (from requests<3.0.0,>=2.13.0->spacy) (3.0.4)\n",
            "Requirement already satisfied: certifi>=2017.4.17 in /usr/local/lib/python3.7/dist-packages (from requests<3.0.0,>=2.13.0->spacy) (2022.6.15)\n",
            "Requirement already satisfied: blis<0.8.0,>=0.7.8 in /usr/local/lib/python3.7/dist-packages (from thinc<8.2.0,>=8.1.0->spacy) (0.7.8)\n",
            "Requirement already satisfied: click<9.0.0,>=7.1.1 in /usr/local/lib/python3.7/dist-packages (from typer<0.5.0,>=0.3.0->spacy) (7.1.2)\n",
            "Requirement already satisfied: MarkupSafe>=0.23 in /usr/local/lib/python3.7/dist-packages (from jinja2->spacy) (2.0.1)\n",
            "\u001b[33mWARNING: Running pip as the 'root' user can result in broken permissions and conflicting behaviour with the system package manager. It is recommended to use a virtual environment instead: https://pip.pypa.io/warnings/venv\u001b[0m\u001b[33m\n",
            "\u001b[0m2022-07-26 09:22:21.912095: E tensorflow/stream_executor/cuda/cuda_driver.cc:271] failed call to cuInit: CUDA_ERROR_NO_DEVICE: no CUDA-capable device is detected\n",
            "Looking in indexes: https://pypi.org/simple, https://us-python.pkg.dev/colab-wheels/public/simple/\n",
            "Collecting en-core-web-lg==3.4.0\n",
            "  Downloading https://github.com/explosion/spacy-models/releases/download/en_core_web_lg-3.4.0/en_core_web_lg-3.4.0-py3-none-any.whl (587.7 MB)\n",
            "\u001b[2K     \u001b[90m━━━━━━━━━━━━━━━━━━━━━━━━━━━━━━━━━━━━━━━\u001b[0m \u001b[32m587.7/587.7 MB\u001b[0m \u001b[31m2.4 MB/s\u001b[0m eta \u001b[36m0:00:00\u001b[0m\n",
            "\u001b[?25hRequirement already satisfied: spacy<3.5.0,>=3.4.0 in /usr/local/lib/python3.7/dist-packages (from en-core-web-lg==3.4.0) (3.4.0)\n",
            "Requirement already satisfied: srsly<3.0.0,>=2.4.3 in /usr/local/lib/python3.7/dist-packages (from spacy<3.5.0,>=3.4.0->en-core-web-lg==3.4.0) (2.4.4)\n",
            "Requirement already satisfied: numpy>=1.15.0 in /usr/local/lib/python3.7/dist-packages (from spacy<3.5.0,>=3.4.0->en-core-web-lg==3.4.0) (1.21.6)\n",
            "Requirement already satisfied: spacy-loggers<2.0.0,>=1.0.0 in /usr/local/lib/python3.7/dist-packages (from spacy<3.5.0,>=3.4.0->en-core-web-lg==3.4.0) (1.0.3)\n",
            "Requirement already satisfied: thinc<8.2.0,>=8.1.0 in /usr/local/lib/python3.7/dist-packages (from spacy<3.5.0,>=3.4.0->en-core-web-lg==3.4.0) (8.1.0)\n",
            "Requirement already satisfied: jinja2 in /usr/local/lib/python3.7/dist-packages (from spacy<3.5.0,>=3.4.0->en-core-web-lg==3.4.0) (2.11.3)\n",
            "Requirement already satisfied: spacy-legacy<3.1.0,>=3.0.9 in /usr/local/lib/python3.7/dist-packages (from spacy<3.5.0,>=3.4.0->en-core-web-lg==3.4.0) (3.0.9)\n",
            "Requirement already satisfied: preshed<3.1.0,>=3.0.2 in /usr/local/lib/python3.7/dist-packages (from spacy<3.5.0,>=3.4.0->en-core-web-lg==3.4.0) (3.0.6)\n",
            "Requirement already satisfied: cymem<2.1.0,>=2.0.2 in /usr/local/lib/python3.7/dist-packages (from spacy<3.5.0,>=3.4.0->en-core-web-lg==3.4.0) (2.0.6)\n",
            "Requirement already satisfied: murmurhash<1.1.0,>=0.28.0 in /usr/local/lib/python3.7/dist-packages (from spacy<3.5.0,>=3.4.0->en-core-web-lg==3.4.0) (1.0.7)\n",
            "Requirement already satisfied: catalogue<2.1.0,>=2.0.6 in /usr/local/lib/python3.7/dist-packages (from spacy<3.5.0,>=3.4.0->en-core-web-lg==3.4.0) (2.0.7)\n",
            "Requirement already satisfied: langcodes<4.0.0,>=3.2.0 in /usr/local/lib/python3.7/dist-packages (from spacy<3.5.0,>=3.4.0->en-core-web-lg==3.4.0) (3.3.0)\n",
            "Requirement already satisfied: typer<0.5.0,>=0.3.0 in /usr/local/lib/python3.7/dist-packages (from spacy<3.5.0,>=3.4.0->en-core-web-lg==3.4.0) (0.4.2)\n",
            "Requirement already satisfied: pathy>=0.3.5 in /usr/local/lib/python3.7/dist-packages (from spacy<3.5.0,>=3.4.0->en-core-web-lg==3.4.0) (0.6.2)\n",
            "Requirement already satisfied: packaging>=20.0 in /usr/local/lib/python3.7/dist-packages (from spacy<3.5.0,>=3.4.0->en-core-web-lg==3.4.0) (21.3)\n",
            "Requirement already satisfied: setuptools in /usr/local/lib/python3.7/dist-packages (from spacy<3.5.0,>=3.4.0->en-core-web-lg==3.4.0) (63.2.0)\n",
            "Requirement already satisfied: requests<3.0.0,>=2.13.0 in /usr/local/lib/python3.7/dist-packages (from spacy<3.5.0,>=3.4.0->en-core-web-lg==3.4.0) (2.23.0)\n",
            "Requirement already satisfied: typing-extensions<4.2.0,>=3.7.4 in /usr/local/lib/python3.7/dist-packages (from spacy<3.5.0,>=3.4.0->en-core-web-lg==3.4.0) (4.1.1)\n",
            "Requirement already satisfied: pydantic!=1.8,!=1.8.1,<1.10.0,>=1.7.4 in /usr/local/lib/python3.7/dist-packages (from spacy<3.5.0,>=3.4.0->en-core-web-lg==3.4.0) (1.9.1)\n",
            "Requirement already satisfied: tqdm<5.0.0,>=4.38.0 in /usr/local/lib/python3.7/dist-packages (from spacy<3.5.0,>=3.4.0->en-core-web-lg==3.4.0) (4.64.0)\n",
            "Requirement already satisfied: wasabi<1.1.0,>=0.9.1 in /usr/local/lib/python3.7/dist-packages (from spacy<3.5.0,>=3.4.0->en-core-web-lg==3.4.0) (0.9.1)\n",
            "Requirement already satisfied: zipp>=0.5 in /usr/local/lib/python3.7/dist-packages (from catalogue<2.1.0,>=2.0.6->spacy<3.5.0,>=3.4.0->en-core-web-lg==3.4.0) (3.8.1)\n",
            "Requirement already satisfied: pyparsing!=3.0.5,>=2.0.2 in /usr/local/lib/python3.7/dist-packages (from packaging>=20.0->spacy<3.5.0,>=3.4.0->en-core-web-lg==3.4.0) (3.0.9)\n",
            "Requirement already satisfied: smart-open<6.0.0,>=5.2.1 in /usr/local/lib/python3.7/dist-packages (from pathy>=0.3.5->spacy<3.5.0,>=3.4.0->en-core-web-lg==3.4.0) (5.2.1)\n",
            "Requirement already satisfied: chardet<4,>=3.0.2 in /usr/local/lib/python3.7/dist-packages (from requests<3.0.0,>=2.13.0->spacy<3.5.0,>=3.4.0->en-core-web-lg==3.4.0) (3.0.4)\n",
            "Requirement already satisfied: urllib3!=1.25.0,!=1.25.1,<1.26,>=1.21.1 in /usr/local/lib/python3.7/dist-packages (from requests<3.0.0,>=2.13.0->spacy<3.5.0,>=3.4.0->en-core-web-lg==3.4.0) (1.24.3)\n",
            "Requirement already satisfied: idna<3,>=2.5 in /usr/local/lib/python3.7/dist-packages (from requests<3.0.0,>=2.13.0->spacy<3.5.0,>=3.4.0->en-core-web-lg==3.4.0) (2.10)\n",
            "Requirement already satisfied: certifi>=2017.4.17 in /usr/local/lib/python3.7/dist-packages (from requests<3.0.0,>=2.13.0->spacy<3.5.0,>=3.4.0->en-core-web-lg==3.4.0) (2022.6.15)\n",
            "Requirement already satisfied: blis<0.8.0,>=0.7.8 in /usr/local/lib/python3.7/dist-packages (from thinc<8.2.0,>=8.1.0->spacy<3.5.0,>=3.4.0->en-core-web-lg==3.4.0) (0.7.8)\n",
            "Requirement already satisfied: click<9.0.0,>=7.1.1 in /usr/local/lib/python3.7/dist-packages (from typer<0.5.0,>=0.3.0->spacy<3.5.0,>=3.4.0->en-core-web-lg==3.4.0) (7.1.2)\n",
            "Requirement already satisfied: MarkupSafe>=0.23 in /usr/local/lib/python3.7/dist-packages (from jinja2->spacy<3.5.0,>=3.4.0->en-core-web-lg==3.4.0) (2.0.1)\n",
            "\u001b[33mWARNING: Running pip as the 'root' user can result in broken permissions and conflicting behaviour with the system package manager. It is recommended to use a virtual environment instead: https://pip.pypa.io/warnings/venv\u001b[0m\u001b[33m\n",
            "\u001b[0m\u001b[38;5;2m✔ Download and installation successful\u001b[0m\n",
            "You can now load the package via spacy.load('en_core_web_lg')\n"
          ]
        },
        {
          "output_type": "execute_result",
          "data": {
            "text/plain": [
              "['Scenarios',\n",
              " 0.0873,\n",
              " 0.0873,\n",
              " 0.0873,\n",
              " 0.0873,\n",
              " 0.0873,\n",
              " 0.0873,\n",
              " 0.0873,\n",
              " 0.0873,\n",
              " 0.1718,\n",
              " 0.0873]"
            ]
          },
          "metadata": {},
          "execution_count": 55
        }
      ],
      "source": [
        "\n",
        "# SPACY\n",
        "!pip install -U pip setuptools wheel\n",
        "!pip install -U spacy\n",
        "\n",
        "#accuracy\n",
        "#!python -m spacy download en_core_web_trf\n",
        "\n",
        "#efficiency\n",
        "#!python -m spacy download en_core_web_sm\n",
        "\n",
        "#bigger model (https://spacy.io/models/en/#en_core_web_md)\n",
        "#!python -m spacy download en_core_web_md\n",
        "\n",
        "#bigger\n",
        "!python -m spacy download en_core_web_lg\n",
        "import spacy\n",
        "\n",
        "#nlp = spacy.load('en_core_web_sm')\n",
        "#nlp = spacy.load('en_core_web_trf')\n",
        "#nlp = spacy.load('en_core_web_md')\n",
        "#!python -m spacy download en_core_web_lg\n",
        "\n",
        "nlp = spacy.load('en_core_web_lg')\n",
        "\n",
        "def get_val_text_topic(topic):\n",
        "\n",
        "  result = []\n",
        "\n",
        "  max = 0\n",
        "  w = ''\n",
        "  for k in topic:\n",
        "    for p in topic:\n",
        "      if p:\n",
        "        v = nlp(k).similarity(nlp(p))\n",
        "        if (v) != 1 and v>= max:\n",
        "          max = round(v,4)\n",
        "          w = p\n",
        "    if max == 0:\n",
        "      result.append(0)\n",
        "    else:\n",
        "      result.append(round((1-max),4))\n",
        "    max = 0\n",
        "    w = ''\n",
        "  result[0] = topic[0]\n",
        "  return result\n",
        "get_val_text_topic(topic_scenario)"
      ]
    },
    {
      "cell_type": "markdown",
      "metadata": {
        "id": "c_OPTEQ_Sy9j"
      },
      "source": [
        "#Creazione csv"
      ]
    },
    {
      "cell_type": "code",
      "source": [
        "'''\n",
        "new_path = [x.replace('/content/Information-Retrieval-Project/Rules/', '').replace('.pdf','') for x in path_list]\n",
        "percorsi = [*p, *new_path]\n",
        "percorsi\n",
        "\n",
        "\n",
        "with open(filename, 'w') as csvfile: \n",
        "  writer_object = writer(csvfile)\n",
        "  writer_object.writerow(percorsi)\n",
        "  \n",
        "  writer_object.writerow(get_val_luogo(topic_luogo))\n",
        "  writer_object.writerow(get_val_periodo(topic_periodo))\n",
        "  writer_object.writerow(get_val_text_topic(topic_fazioni))\n",
        "  writer_object.writerow(get_val_text_topic(topic_vicenda))\n",
        "  writer_object.writerow(get_val_text_topic(topic_map))\n",
        "  writer_object.writerow(get_val_topics('Area'))\n",
        "  writer_object.writerow(get_val_topics('Special Activities'))\n",
        "  writer_object.writerow(get_val_topics('Operations'))\n",
        "  writer_object.writerow(get_val_topics('Scenarios'))\n",
        "  csvfile.close()\n",
        "\n",
        "pd.read_csv(filename, header=None).T.to_csv(filename, header=False, index=False)\n",
        "'''"
      ],
      "metadata": {
        "colab": {
          "base_uri": "https://localhost:8080/"
        },
        "id": "oXrpWw92yQ1T",
        "outputId": "332a8de0-7334-40f3-d4ae-2fbc33a4c5f5"
      },
      "execution_count": null,
      "outputs": [
        {
          "output_type": "execute_result",
          "data": {
            "text/plain": [
              "\"\\nnew_path = [x.replace('/content/Information-Retrieval-Project/Rules/', '').replace('.pdf','') for x in path_list]\\npercorsi = [*p, *new_path]\\npercorsi\\n\\n\\nwith open(filename, 'w') as csvfile: \\n  writer_object = writer(csvfile)\\n  writer_object.writerow(percorsi)\\n  \\n  writer_object.writerow(get_val_luogo(topic_luogo))\\n  writer_object.writerow(get_val_periodo(topic_periodo))\\n  writer_object.writerow(get_val_text_topic(topic_fazioni))\\n  writer_object.writerow(get_val_text_topic(topic_vicenda))\\n  writer_object.writerow(get_val_text_topic(topic_map))\\n  writer_object.writerow(get_val_topics('Area'))\\n  writer_object.writerow(get_val_topics('Special Activities'))\\n  writer_object.writerow(get_val_topics('Operations'))\\n  writer_object.writerow(get_val_topics('Scenarios'))\\n  csvfile.close()\\n\\npd.read_csv(filename, header=None).T.to_csv(filename, header=False, index=False)\\n\""
            ],
            "application/vnd.google.colaboratory.intrinsic+json": {
              "type": "string"
            }
          },
          "metadata": {},
          "execution_count": 56
        }
      ]
    },
    {
      "cell_type": "code",
      "execution_count": null,
      "metadata": {
        "colab": {
          "base_uri": "https://localhost:8080/"
        },
        "id": "6eFxBOKzX-Zo",
        "outputId": "9c2f14eb-ec42-42ce-ed65-b3bb54d4bf94"
      },
      "outputs": [
        {
          "output_type": "stream",
          "name": "stdout",
          "text": [
            "rm: cannot remove '/content/Information-Retrieval-Project/val_topics_T.csv': No such file or directory\n",
            "['Europe', 'North America', 'Asia', 'Asia', 'Europe', 'Africa', 'North America', 'Asia', 'Europe', 'South America']\n",
            "Europe           0.3\n",
            "Asia             0.3\n",
            "North America    0.2\n",
            "Africa           0.1\n",
            "South America    0.1\n",
            "dtype: float64\n"
          ]
        }
      ],
      "source": [
        "!rm \"/content/Information-Retrieval-Project/val_topics_T.csv\"\n",
        "!rm \"/content/Information-Retrieval-Project/val_topics.csv\"\n",
        "\n",
        "filename = \"/content/Information-Retrieval-Project/val_topics.csv\"\n",
        "p = ['Gioco']\n",
        "new_path = {x.replace('/content/Information-Retrieval-Project/Rules/', '').replace('.pdf','') for x in path_list}\n",
        "percorsi = [*p, *new_path]\n",
        "\n",
        "\n",
        "with open(filename, 'w') as csvfile: \n",
        "  writer_object = writer(csvfile)\n",
        "  writer_object.writerow(percorsi)\n",
        "  \n",
        "  writer_object.writerow(get_val_luogo(topic_luogo))\n",
        "  writer_object.writerow(get_val_periodo(topic_periodo))\n",
        "  writer_object.writerow(get_val_text_topic(topic_fazioni))\n",
        "  writer_object.writerow(get_val_text_topic(topic_vicenda))\n",
        "  writer_object.writerow(get_val_text_topic(topic_map))\n",
        "  writer_object.writerow(get_val_topics('Area'))\n",
        "  writer_object.writerow(get_val_topics('Special Activities'))\n",
        "  writer_object.writerow(get_val_topics('Operations'))\n",
        "  writer_object.writerow(get_val_topics('Scenarios'))\n",
        "  csvfile.close()\n",
        "\n",
        "pd.read_csv(filename, header=None).T.to_csv(filename, header=False, index=False)"
      ]
    },
    {
      "cell_type": "markdown",
      "metadata": {
        "id": "yJaUYWxgRH8u"
      },
      "source": [
        "#Ricerca"
      ]
    },
    {
      "cell_type": "code",
      "execution_count": null,
      "metadata": {
        "colab": {
          "base_uri": "https://localhost:8080/"
        },
        "id": "wEQIHMJd7YQk",
        "outputId": "52583578-e0da-428c-bca5-3a3ac7c1d79b"
      },
      "outputs": [
        {
          "output_type": "execute_result",
          "data": {
            "text/plain": [
              "Place                                                           Britain\n",
              "Period                                                          400-500\n",
              "Factions                                 Dux  Scotti  Saxons  Civitates\n",
              "Event                    about the fall of the Roman Diocese of Britain\n",
              "Map                   a map of late-Roman Britain and environs divid...\n",
              "Area                                                    mountains marsh\n",
              "Special Activities    Entreating Ransoming Building Settling Ravagin...\n",
              "Operations            Battle Trading Mark Intercepting Mustering Rai...\n",
              "Scenarios                                               short long main\n",
              "Name: PDG_Rules_FINAL, dtype: object"
            ]
          },
          "metadata": {},
          "execution_count": 27
        }
      ],
      "source": [
        "#parola per parola\n",
        "def find_nearest(array, value):\n",
        "    array = np.asarray(array).astype(int)\n",
        "    value = int(value)\n",
        "    idx = (np.abs(array - value)).argmin()\n",
        "    return array[idx]\n",
        "def isNaN(num):\n",
        "  return num != num\n",
        "\n",
        "\n",
        "def search_word(parola, topic):\n",
        "  df = pd.read_csv('/content/Information-Retrieval-Project/topics.csv',index_col=0)\n",
        "  if topic in 'Period':\n",
        "    p = []\n",
        "    #print(parola)\n",
        "    #print(df[topic])\n",
        "    for x in df[topic]:\n",
        "      try:\n",
        "        for year in x.split('-'):\n",
        "          p.append(year)\n",
        "        #print(k)\n",
        "      except AttributeError: pass\n",
        "    closest = find_nearest(p,int(parola))\n",
        "    #print(parola,p,closest)\n",
        "    closest = str(closest)\n",
        "    k=''\n",
        "    for a in df[topic]:\n",
        "      try:\n",
        "        if str(closest) in a:\n",
        "          k = (a)\n",
        "        \n",
        "      except TypeError: pass\n",
        "     \n",
        "    result = df.loc[df[topic] == k]\n",
        "    return result.squeeze()\n",
        "    \n",
        "  else:\n",
        "      \n",
        "    d = ''\n",
        "    max = 0\n",
        "    a = nlp(parola)\n",
        "    result = []\n",
        "    for k  in df[topic]:\n",
        "      if not isNaN(k):\n",
        "        try:\n",
        "          for v in k.split(' '):\n",
        "      \n",
        "            n  = nlp(v)\n",
        "            \n",
        "            p = a.similarity(n)\n",
        "            if float(p) > max:\n",
        "              max = p\n",
        "              d = v\n",
        "          result.append(max)\n",
        "          max = 0\n",
        "          d = ''\n",
        "            \n",
        "        except: \n",
        "          #print(0)\n",
        "          pass\n",
        "      else:\n",
        "        result.append(0)\n",
        "    #print(df[topic])\n",
        "  df['Accuracy'] = result\n",
        "  res =  (df.loc[df['Accuracy'].idxmax()])\n",
        "  res['Accuracy' ] = res['Accuracy' ] * 100\n",
        "  return  res\n",
        "  '''\n",
        "  result = enumerate(result)\n",
        "  \n",
        "  v = sorted(result, key=lambda x:x[1],reverse = True)\n",
        "  #print(v[0][0])\n",
        "\n",
        "  for k in v:\n",
        "    a = k[0]\n",
        "    #print(list(new_path)[a], k)\n",
        "    \n",
        "\n",
        "\n",
        "  game = (list(new_path)[a])\n",
        "  #print(v)\n",
        "  for row in df.index:\n",
        "    if row == game:\n",
        "      #return (df.loc[row])\n",
        "      return 0\n",
        "  #return list(new_path)[v[0][0]]\n",
        "  '''\n",
        "\n",
        "search_word('400','Period')\n",
        "\n"
      ]
    },
    {
      "cell_type": "code",
      "execution_count": null,
      "metadata": {
        "colab": {
          "base_uri": "https://localhost:8080/"
        },
        "id": "txQoV-gM8zib",
        "outputId": "216ac3d6-c1c7-4f46-a42a-9341ddae5837"
      },
      "outputs": [
        {
          "output_type": "execute_result",
          "data": {
            "text/plain": [
              "Place                                                              Cuba\n",
              "Period                                                        1957-1958\n",
              "Factions                              Directorio  Government  Syndicate\n",
              "Event                                                  conflict in Cuba\n",
              "Map                   the island of Cuba divided into various types ...\n",
              "Area                                                       forest rural\n",
              "Special Activities    Reprisal Assassination Muscle Subversion Kidna...\n",
              "Operations            Attack Players Rally Sweep Training Terror Ass...\n",
              "Scenarios                                                    short main\n",
              "Accuracy                                                      85.876794\n",
              "Name: CL-RULES-2019-LivingRules, dtype: object"
            ]
          },
          "metadata": {},
          "execution_count": 28
        }
      ],
      "source": [
        "#frase\n",
        "\n",
        "df = pd.read_csv('/content/Information-Retrieval-Project/topics.csv',index_col=0)\n",
        "\n",
        "class Percent(float):\n",
        "    def __str__(self):\n",
        "        return '{:.2%}'.format(self)\n",
        "\n",
        "def search_sentence(frase,topic):\n",
        "\n",
        "  \n",
        " \n",
        "  total,result = [],[]\n",
        "  for tt  in df[topic]:\n",
        "    for parola in frase.split(' '):\n",
        "      if not isNaN(tt):\n",
        "        p = nlp(parola)\n",
        "        t = nlp(tt)\n",
        "        res = p.similarity(t)\n",
        "        # print(parola,tt,res)\n",
        "        # print('############')\n",
        "        \n",
        "        total.append(res)\n",
        "      else:\n",
        "        # print(parola)\n",
        "        # print('############')\n",
        "        total.append(0)\n",
        "    #print(sum(total)/len(total))\n",
        "    result.append(sum(total)/len(total))\n",
        "    total = []\n",
        "\n",
        "  df['Accuracy'] = result\n",
        "  res =  (df.loc[df['Accuracy'].idxmax()])\n",
        "  res['Accuracy' ] = res['Accuracy' ] * 100\n",
        "  return  res\n",
        "\n",
        "  '''\n",
        "  result = enumerate(result)\n",
        "  v = sorted(result, key=lambda x:x[1],reverse = True)\n",
        "  for k in v:\n",
        "    a = k[0]\n",
        "    print(list(new_path)[a], k)\n",
        "\n",
        "  #return list(new_path)[v[0][0]]\n",
        "  return 0\n",
        "  '''\n",
        "search_sentence('Government', 'Factions')"
      ]
    },
    {
      "cell_type": "code",
      "execution_count": null,
      "metadata": {
        "id": "OdYuus1BPr30"
      },
      "outputs": [],
      "source": [
        "def rank_topic_sim(topics):\n",
        "\n",
        "  val_topics = pd.read_csv('/content/Information-Retrieval-Project/val_topics.csv',index_col=0)\n",
        "\n",
        "  if len(topics) == 1:\n",
        "\n",
        "    result = val_topics[[topics[0]]].sort_values(topics[0], ascending = False)\n",
        "\n",
        "    return result.index.to_list()\n",
        "\n",
        "  else:\n",
        "    \n",
        "    return val_topics[topics].mean(axis=1).sort_values(ascending = False).index.to_list()"
      ]
    },
    {
      "cell_type": "markdown",
      "metadata": {
        "id": "34lCqkz7yUJX"
      },
      "source": [
        "#Test "
      ]
    },
    {
      "cell_type": "code",
      "execution_count": null,
      "metadata": {
        "colab": {
          "base_uri": "https://localhost:8080/"
        },
        "id": "u5aT77ThaA-Y",
        "outputId": "4a2b4d47-6796-49bc-eb25-512910e897e3"
      },
      "outputs": [
        {
          "data": {
            "text/plain": [
              "Place                 100.0\n",
              "Period                 80.0\n",
              "Factions               90.0\n",
              "Event                 100.0\n",
              "Map                   100.0\n",
              "Area                   80.0\n",
              "Special Activities     90.0\n",
              "Operations            100.0\n",
              "Scenarios             100.0\n",
              "dtype: float64"
            ]
          },
          "execution_count": 57,
          "metadata": {},
          "output_type": "execute_result"
        }
      ],
      "source": [
        "N = 10 # numero giochi\n",
        "df = pd.read_csv('/content/Information-Retrieval-Project/topics.csv',index_col=0)\n",
        "perc_nan = 100 - ((df.isna().sum() / N) * 100)\n",
        "perc_nan"
      ]
    },
    {
      "cell_type": "code",
      "execution_count": null,
      "metadata": {
        "colab": {
          "base_uri": "https://localhost:8080/"
        },
        "id": "-FZKTD0ldc8K",
        "outputId": "5a61ba09-022c-47e0-994a-a26afb4827bc"
      },
      "outputs": [
        {
          "data": {
            "text/plain": [
              "Place                 100.00\n",
              "Period                100.00\n",
              "Factions               77.78\n",
              "Event                 100.00\n",
              "Map                   100.00\n",
              "Area                  100.00\n",
              "Special Activities     88.89\n",
              "Operations             60.00\n",
              "Scenarios             100.00\n",
              "dtype: float64"
            ]
          },
          "execution_count": 66,
          "metadata": {},
          "output_type": "execute_result"
        }
      ],
      "source": [
        "perc_correct = pd.Series([100, 100, round(100 - (2/9) * 100, 2), 100, 100, 100, round(100 - (1/9) * 100, 2), round(100 - (4/10) * 100, 2), 100], index=df.columns)\n",
        "perc_correct"
      ]
    },
    {
      "cell_type": "code",
      "execution_count": null,
      "metadata": {
        "id": "Ebf2hcxwl7_y"
      },
      "outputs": [],
      "source": [
        "def Rand(start, end, num):\n",
        "    res = []\n",
        " \n",
        "    for j in range(num):\n",
        "        res.append(str(np.random.randint(start, end)))\n",
        " \n",
        "    return res"
      ]
    },
    {
      "cell_type": "code",
      "execution_count": null,
      "metadata": {
        "colab": {
          "base_uri": "https://localhost:8080/"
        },
        "id": "lsYlx1MkGXI_",
        "outputId": "279e986a-29cb-4f30-c6be-d5555c2338e8"
      },
      "outputs": [
        {
          "name": "stdout",
          "output_type": "stream",
          "text": [
            "parola errata :India colony war\n",
            "parola errata :Roman Gaul\n",
            "parola errata :Gallic war\n",
            "parola errata :department of France\n",
            "parola errata :France in Algeria\n",
            "parola errata :Algeria war\n",
            "parola errata :Cuba civil war\n",
            "parola errata :conflict in modern Afghanistan\n",
            "parola errata :conflict Afghanistan\n",
            "parola errata :Finland  dreamed of independence\n"
          ]
        },
        {
          "data": {
            "text/plain": [
              "75"
            ]
          },
          "execution_count": 41,
          "metadata": {},
          "output_type": "execute_result"
        }
      ],
      "source": [
        "list_map = list_place  = [['Britain','England','UK','Scotland','Ireland','Galles','Manchester','London','Bristol',\n",
        "               'Liverpool','Cambridge','Brighton','Birmingham'],\n",
        "              ['America','USA','Canada','California','Texas','Washington','Chicago','Illinois','Houston',\n",
        "               'Filadelfia','Pennsylvania','Dallas','Montreal','Florida','Indiana','','',''],\n",
        "              ['India','Assam','Bihar','Gujarat','Kerala','Madras','Mahārastra'],\n",
        "              [\"Vietnam\", \"China\", \"Japan\", \"Thailand\", \"Hanoi\", \"Malaysia\", \"Haiphong\", \"Cambodia\", \"Laos\"],\n",
        "              ['Germany','France','Berlin','Hamburg'],\n",
        "              ['Algeria','Africa','Marocco','Algeri','Orano','Costantina','Atakor','Tamanrasset','Oran'],\n",
        "              ['Cuba','Haiti','Avana','Artemisa','Camagüey','Cienfuegos','Granma','Guantánamo','Holguín','Matanzas'],\n",
        "              ['Afghanistan', 'Turkmenistan', 'Uzbekistan', 'Pakistan', 'Iran', 'Kabul', 'Herat'],\n",
        "              ['Finland','Sweden','Norway','Helsinki','Rovaniemi','Tampere','Oulu','Turku','Kuopio'],\n",
        "              ['Colombia','Bogotá','Leticia','Tarapacá','Medellín']\n",
        "              ]\n",
        "\n",
        "\n",
        "\n",
        "\n",
        "list_period = [Rand(300, 600, 8),Rand(1760, 1830, 8),Rand(\t1900, 1950, 8),Rand(1960, 1980, 8),\n",
        "               [],Rand(1950, 1965, 8),Rand(1955, 1959, 8),[],\n",
        "               Rand(1918, 1920, 3),Rand(1985, 2020, 8)]\n",
        "\n",
        "list_area = [['marsh','mountains','hills','swamp','marshland','bog','swampland','peak','summit'],\n",
        "            ['rural','pastoral','bucolic','agrarian'],\n",
        "            [],\n",
        "            ['forest','mountains','rural','hills','peak','woodland','summit','trees','plantation','jungle','greenwood'],\n",
        "            [],\n",
        "            ['rural','pastoral','bucolic','agrarian'],\n",
        "            ['forest','rural','pastoral','bucolic','agrarian'],\n",
        "            ['city','townified','citified','metropolitan','suburban','town','rural','pastoral','bucolic','agrarian', 'agrestic'],\n",
        "            ['urban','industrial','rural','urbanistic','industrialization'],\n",
        "            ['forest','rural','pastoral','bucolic','agrarian'],\n",
        "            ]\n",
        "\n",
        "\n",
        "lista_specact = [['Surprise', 'Reinforcing', 'Pillaging', 'Invitation', 'Building',\n",
        "                  'Ransoming', 'Requisition', 'Entreating', 'Settling',\n",
        "                  'Retaliation', 'Ravaging', 'Ruling'],\n",
        "                 ['Trade', 'Persuasion', 'Plunder', 'Partisans', 'Skirmish',],\n",
        "                 ['Treaty', 'Persuade', 'Infiltrate', 'Negotiate', 'Assassinate',\n",
        "                 'Govern', 'Satyagraha'],\n",
        "                 [ 'Governing', 'Infiltration', 'Taxation', 'Events', 'Transport',\n",
        "                  'Ambush', 'Advise', 'Subversion', 'Raiding', 'Bombardment'],\n",
        "                 ['Entreaties', 'Trade', 'Enlist', 'Besieging', 'Building', 'Suborning',\n",
        "                 'Rampaging' 'Devastation' 'Ambush' 'Scouting'],\n",
        "                 [],\n",
        "                 ['Infiltration', 'Kidnapping', 'Bribe', 'Reprisal', 'Transport', 'Profiting', 'Muscle', 'Subversion', 'Assassination'],\n",
        "                 ['Governing', 'Infiltration', 'Transport', 'Eradication', 'Suborn', 'Cultivation', 'Extortion', 'Surge', 'Trafficking', 'Ambush']\n",
        "                 ,['Publish', 'Dialogue', 'Prepare'],['Kidnapping', 'Bribes', 'Eradication', 'Cultivation', 'Processing', 'Extortion', 'Assassination']\n",
        "                 ]\n",
        "\n",
        "\n",
        "list_op = [['Returning', 'Training', 'Marching', 'Mark', 'Battle', 'Intercepting', 'Trading', 'Mustering', 'Raiding'],\n",
        "            ['Garrison',  'Battle', 'Muster', 'Raid', 'Attacker', 'Gather', 'Scout'],\n",
        "            ['Unrest',  'Demonstrate',  'Attack', 'Sweep', 'Deploy', 'Players',  'Assault'],\n",
        "            [  'Patrolling', 'Assaults', 'Sweeps',  'Terror'],\n",
        "            ['Recruiting', 'Seizure', 'Raids', 'Marching', 'Mark'],\n",
        "            [   'Sweeps',  'Terror',  'Garrisoning'],\n",
        "            [ 'Sweep',  'Terror',   'Construct', 'Assault'],\n",
        "            [ 'Patrolling', 'Sweep',   'Terror', ],\n",
        "            [ 'Attack', 'Activism', 'Message', 'Politics' , 'Negotiate'],\n",
        "            ['March',   'Training',  'Players', 'Rally', 'Patrol']\n",
        "            ]\n",
        "\n",
        "list_factions = [['Dux','Saxons','Scotti','Civitates','Gaels','Scots'],\n",
        "                ['British','American','Aborigines','Indians','French','Indigenous'],\n",
        "                [],\n",
        "                ['Vietnam','Vietcong','Army'],\n",
        "                ['Germanic','Belgic','Arverni','Celtic','Aedui','Tribes','Confederation'],\n",
        "                ['Algerian','Islamic','Al-Qaeda','Maghreb','Jihad'],\n",
        "                ['Cuba','Syndicate','Directorio','Libertarian','Democratic','Government'],\n",
        "                ['Afghanistan','Taliban','Terrorist','Pashtun','Tajik','Uzbek','Aimaq','Hazara'],\n",
        "                ['Finland','Russian','Moderates','Red','finnish'],\n",
        "                ['Colombia','Cartels','Revolutionary','liberal']\n",
        "                ]\n",
        "\n",
        "list_event = [\n",
        "                ['Roman','fall Roman','fall Diocese'],\n",
        "                ['American Rebellion','North American Rebellion','American aborigines rebellion','American'],\n",
        "                ['British raj','India revolution','raj India','India indipendence','British in India','India colony war'],\n",
        "                ['Vietnam revolution','Vietnam recession','Vietnam cold war','Vietnam war','Vietnam vs US','Vietnam rebellion','Vietnam civil war'],\n",
        "                ['Gaul conquest','Roman Gaul','Gaul recession','Gallic war'],\n",
        "                ['Algerian independent','department of France','France in Algeria','Algeria war'],\n",
        "                ['Cuba revolution','Cuba war','Cuba civil war','Cuba conflict'],\n",
        "                ['conflict in modern Afghanistan','Afghanistan Taliban','conflict Afghanistan','Afghanistan terrorist','Afghanistan'],\n",
        "                ['Finland repression independence','Finland  dreamed of independence'],\n",
        "                ['Colombia 1990s','Colombia Cartels']\n",
        "                ]\n",
        "\n",
        "#unico metodo scannerizzando vettore per vedere se ci sono parole o frasi\n",
        "def test_topic(list_test,topic):\n",
        "  f = False;\n",
        "\n",
        "  try:\n",
        "    if ' ' in list_test[0][0]:\n",
        "      f = True\n",
        "  except: pass\n",
        "\n",
        "  l = 0\n",
        "  corretti = 0\n",
        "  falsi = 0\n",
        "  c =  0\n",
        "  #print(g,list)\n",
        "  for test in list_test:\n",
        "    for k in test:\n",
        "        l+=1\n",
        "        if not isNaN(games[topic][c]):\n",
        "          if f:\n",
        "            val = (search_sentence(k, topic))\n",
        "          else:\n",
        "            #print(k)\n",
        "            val = (search_word(k, topic))\n",
        "          # print('parola cercata :' + k)\n",
        "          # print('gioco scelto :' + val[topic])\n",
        "          # print('gioco giusto :' + games[topic][c])\n",
        "          # print('############################################################')\n",
        "          if val[topic] in games[topic][c]:\n",
        "            corretti +=1\n",
        "            #print('parola giusta :' + k)\n",
        "          else:\n",
        "            falsi +=1\n",
        "            print('parola errata :' + k)\n",
        "           \n",
        "    c +=1\n",
        "    \n",
        "  \n",
        "  #return topic + ' :' , l,corretti,falsi\n",
        "  percentuale = (int(((corretti*100)/l)))\n",
        "  #return topic + ' :' , l,corretti,falsi,str(int(((corretti*100)/l))) + ' %'\n",
        "  #return int(l),int(percentuale)\n",
        "  return int(percentuale)"
      ]
    },
    {
      "cell_type": "code",
      "execution_count": null,
      "metadata": {
        "colab": {
          "base_uri": "https://localhost:8080/"
        },
        "id": "y8bFbhnnbLqO",
        "outputId": "eecfb246-3428-4d1d-c0ea-80aeb03612c7"
      },
      "outputs": [
        {
          "name": "stdout",
          "output_type": "stream",
          "text": [
            "parola errata :Galles\n",
            "parola errata :Canada\n",
            "parola errata :California\n",
            "parola errata :Illinois\n",
            "parola errata :Filadelfia\n",
            "parola errata :Montreal\n",
            "parola errata :\n",
            "parola errata :\n",
            "parola errata :\n",
            "parola errata :Mahārastra\n",
            "parola errata :China\n",
            "parola errata :Japan\n",
            "parola errata :Thailand\n",
            "parola errata :Malaysia\n",
            "parola errata :Germany\n",
            "parola errata :France\n",
            "parola errata :Berlin\n",
            "parola errata :Hamburg\n",
            "parola errata :Africa\n",
            "parola errata :Orano\n",
            "parola errata :Costantina\n",
            "parola errata :Atakor\n",
            "parola errata :Avana\n",
            "parola errata :Granma\n",
            "parola errata :1913\n",
            "parola errata :1930\n",
            "parola errata :1919\n",
            "parola errata :1924\n",
            "parola errata :1929\n",
            "parola errata :1960\n",
            "parola errata :1956\n",
            "parola errata :1962\n",
            "parola errata :1950\n",
            "parola errata :1961\n",
            "parola errata :1960\n",
            "parola errata :1955\n",
            "parola errata :1955\n",
            "parola errata :Vietnam\n",
            "parola errata :Islamic\n",
            "parola errata :Al-Qaeda\n",
            "parola errata :Jihad\n",
            "parola errata :Cuba\n",
            "parola errata :Libertarian\n",
            "parola errata :Democratic\n",
            "parola errata :Uzbek\n",
            "parola errata :finnish\n",
            "parola errata :Colombia\n",
            "parola errata :Revolutionary\n",
            "parola errata :liberal\n",
            "parola errata :India colony war\n",
            "parola errata :Roman Gaul\n",
            "parola errata :Gallic war\n",
            "parola errata :department of France\n",
            "parola errata :France in Algeria\n",
            "parola errata :Algeria war\n",
            "parola errata :Cuba civil war\n",
            "parola errata :conflict in modern Afghanistan\n",
            "parola errata :conflict Afghanistan\n",
            "parola errata :Finland  dreamed of independence\n",
            "parola errata :Galles\n",
            "parola errata :Bristol\n",
            "parola errata :Brighton\n",
            "parola errata :Canada\n",
            "parola errata :California\n",
            "parola errata :Filadelfia\n",
            "parola errata :Montreal\n",
            "parola errata :\n",
            "parola errata :\n",
            "parola errata :\n",
            "parola errata :Mahārastra\n",
            "parola errata :China\n",
            "parola errata :Japan\n",
            "parola errata :Thailand\n",
            "parola errata :Malaysia\n",
            "parola errata :Germany\n",
            "parola errata :France\n",
            "parola errata :Berlin\n",
            "parola errata :Hamburg\n",
            "parola errata :Africa\n",
            "parola errata :Orano\n",
            "parola errata :Costantina\n",
            "parola errata :Atakor\n",
            "parola errata :Avana\n",
            "parola errata :Granma\n",
            "parola errata :Tarapacá\n",
            "parola errata :mountains\n",
            "parola errata :hills\n",
            "parola errata :peak\n",
            "parola errata :summit\n",
            "parola errata :plantation\n",
            "parola errata :forest\n",
            "parola errata :city\n",
            "parola errata :townified\n",
            "parola errata :citified\n",
            "parola errata :metropolitan\n",
            "parola errata :suburban\n",
            "parola errata :agrestic\n",
            "parola errata :forest\n",
            "parola errata :Trade\n",
            "parola errata :Building\n",
            "parola errata :RampagingDevastationAmbushScouting\n",
            "parola errata :Infiltration\n",
            "parola errata :Transport\n",
            "parola errata :Subversion\n",
            "parola errata :Governing\n",
            "parola errata :Infiltration\n",
            "parola errata :Transport\n",
            "parola errata :Ambush\n",
            "parola errata :Kidnapping\n",
            "parola errata :Eradication\n",
            "parola errata :Cultivation\n",
            "parola errata :Extortion\n",
            "parola errata :Assassination\n",
            "parola errata :Battle\n",
            "parola errata :Marching\n",
            "parola errata :Mark\n",
            "parola errata :Sweeps\n",
            "parola errata :Terror\n",
            "parola errata :Sweep\n",
            "parola errata :Terror\n",
            "parola errata :Assault\n",
            "parola errata :Patrolling\n",
            "parola errata :Sweep\n",
            "parola errata :Terror\n",
            "parola errata :Attack\n",
            "parola errata :March\n",
            "parola errata :Training\n",
            "parola errata :Players\n",
            "parola errata :Rally\n"
          ]
        },
        {
          "data": {
            "text/plain": [
              "[73, 77, 76, 75, 71, 75, 78, 69]"
            ]
          },
          "execution_count": 42,
          "metadata": {},
          "output_type": "execute_result"
        }
      ],
      "source": [
        "percentuale = [test_topic(list_place,'Place'),\n",
        "              test_topic(list_period,'Period'),\n",
        "              test_topic(list_factions,'Factions'),\n",
        "              test_topic(list_event,'Event'),\n",
        "              test_topic(list_map,'Map'),\n",
        "              test_topic(list_area,'Area'),\n",
        "              test_topic(lista_specact,'Special Activities'),\n",
        "              test_topic(list_op,'Operations')\n",
        "              ]\n",
        "percentuale"
      ]
    },
    {
      "cell_type": "code",
      "execution_count": null,
      "metadata": {
        "colab": {
          "base_uri": "https://localhost:8080/"
        },
        "id": "e-H-DaTMlAoD",
        "outputId": "939e6fe9-1353-40f7-9573-829ee23f7b74"
      },
      "outputs": [
        {
          "data": {
            "text/plain": [
              "[91, 59, 50, 41, 91, 54, 70, 52]"
            ]
          },
          "execution_count": 43,
          "metadata": {},
          "output_type": "execute_result"
        }
      ],
      "source": [
        "test = [sum(len(i) for i in list_place),\n",
        "        sum(len(i) for i in list_period),\n",
        "        sum(len(i) for i in list_factions),\n",
        "        sum(len(i) for i in list_event),\n",
        "        sum(len(i) for i in list_map),\n",
        "        sum(len(i) for i in list_area),\n",
        "        sum(len(i) for i in lista_specact),\n",
        "        sum(len(i) for i in list_op)\n",
        "       ]\n",
        "test"
      ]
    },
    {
      "cell_type": "code",
      "execution_count": null,
      "metadata": {
        "colab": {
          "base_uri": "https://localhost:8080/",
          "height": 300
        },
        "id": "JR4BQCViOPtx",
        "outputId": "67edc9b3-b9cb-4c90-f541-cdaf1722322f"
      },
      "outputs": [
        {
          "data": {
            "text/html": [
              "\n",
              "  <div id=\"df-1c97f925-95a0-4082-bc0c-3bd8a7cd73a1\">\n",
              "    <div class=\"colab-df-container\">\n",
              "      <div>\n",
              "<style scoped>\n",
              "    .dataframe tbody tr th:only-of-type {\n",
              "        vertical-align: middle;\n",
              "    }\n",
              "\n",
              "    .dataframe tbody tr th {\n",
              "        vertical-align: top;\n",
              "    }\n",
              "\n",
              "    .dataframe thead th {\n",
              "        text-align: right;\n",
              "    }\n",
              "</style>\n",
              "<table border=\"1\" class=\"dataframe\">\n",
              "  <thead>\n",
              "    <tr style=\"text-align: right;\">\n",
              "      <th></th>\n",
              "      <th>percentuale</th>\n",
              "      <th>test</th>\n",
              "      <th>estrazione</th>\n",
              "      <th>correttezza</th>\n",
              "    </tr>\n",
              "  </thead>\n",
              "  <tbody>\n",
              "    <tr>\n",
              "      <th>Place</th>\n",
              "      <td>73</td>\n",
              "      <td>91</td>\n",
              "      <td>100.0</td>\n",
              "      <td>100.00</td>\n",
              "    </tr>\n",
              "    <tr>\n",
              "      <th>Period</th>\n",
              "      <td>77</td>\n",
              "      <td>59</td>\n",
              "      <td>80.0</td>\n",
              "      <td>100.00</td>\n",
              "    </tr>\n",
              "    <tr>\n",
              "      <th>Factions</th>\n",
              "      <td>76</td>\n",
              "      <td>50</td>\n",
              "      <td>90.0</td>\n",
              "      <td>77.78</td>\n",
              "    </tr>\n",
              "    <tr>\n",
              "      <th>Event</th>\n",
              "      <td>75</td>\n",
              "      <td>41</td>\n",
              "      <td>100.0</td>\n",
              "      <td>100.00</td>\n",
              "    </tr>\n",
              "    <tr>\n",
              "      <th>Map</th>\n",
              "      <td>71</td>\n",
              "      <td>91</td>\n",
              "      <td>100.0</td>\n",
              "      <td>100.00</td>\n",
              "    </tr>\n",
              "    <tr>\n",
              "      <th>Area</th>\n",
              "      <td>75</td>\n",
              "      <td>54</td>\n",
              "      <td>80.0</td>\n",
              "      <td>100.00</td>\n",
              "    </tr>\n",
              "    <tr>\n",
              "      <th>Special Activities</th>\n",
              "      <td>78</td>\n",
              "      <td>70</td>\n",
              "      <td>90.0</td>\n",
              "      <td>88.89</td>\n",
              "    </tr>\n",
              "    <tr>\n",
              "      <th>Operations</th>\n",
              "      <td>69</td>\n",
              "      <td>52</td>\n",
              "      <td>100.0</td>\n",
              "      <td>60.00</td>\n",
              "    </tr>\n",
              "  </tbody>\n",
              "</table>\n",
              "</div>\n",
              "      <button class=\"colab-df-convert\" onclick=\"convertToInteractive('df-1c97f925-95a0-4082-bc0c-3bd8a7cd73a1')\"\n",
              "              title=\"Convert this dataframe to an interactive table.\"\n",
              "              style=\"display:none;\">\n",
              "        \n",
              "  <svg xmlns=\"http://www.w3.org/2000/svg\" height=\"24px\"viewBox=\"0 0 24 24\"\n",
              "       width=\"24px\">\n",
              "    <path d=\"M0 0h24v24H0V0z\" fill=\"none\"/>\n",
              "    <path d=\"M18.56 5.44l.94 2.06.94-2.06 2.06-.94-2.06-.94-.94-2.06-.94 2.06-2.06.94zm-11 1L8.5 8.5l.94-2.06 2.06-.94-2.06-.94L8.5 2.5l-.94 2.06-2.06.94zm10 10l.94 2.06.94-2.06 2.06-.94-2.06-.94-.94-2.06-.94 2.06-2.06.94z\"/><path d=\"M17.41 7.96l-1.37-1.37c-.4-.4-.92-.59-1.43-.59-.52 0-1.04.2-1.43.59L10.3 9.45l-7.72 7.72c-.78.78-.78 2.05 0 2.83L4 21.41c.39.39.9.59 1.41.59.51 0 1.02-.2 1.41-.59l7.78-7.78 2.81-2.81c.8-.78.8-2.07 0-2.86zM5.41 20L4 18.59l7.72-7.72 1.47 1.35L5.41 20z\"/>\n",
              "  </svg>\n",
              "      </button>\n",
              "      \n",
              "  <style>\n",
              "    .colab-df-container {\n",
              "      display:flex;\n",
              "      flex-wrap:wrap;\n",
              "      gap: 12px;\n",
              "    }\n",
              "\n",
              "    .colab-df-convert {\n",
              "      background-color: #E8F0FE;\n",
              "      border: none;\n",
              "      border-radius: 50%;\n",
              "      cursor: pointer;\n",
              "      display: none;\n",
              "      fill: #1967D2;\n",
              "      height: 32px;\n",
              "      padding: 0 0 0 0;\n",
              "      width: 32px;\n",
              "    }\n",
              "\n",
              "    .colab-df-convert:hover {\n",
              "      background-color: #E2EBFA;\n",
              "      box-shadow: 0px 1px 2px rgba(60, 64, 67, 0.3), 0px 1px 3px 1px rgba(60, 64, 67, 0.15);\n",
              "      fill: #174EA6;\n",
              "    }\n",
              "\n",
              "    [theme=dark] .colab-df-convert {\n",
              "      background-color: #3B4455;\n",
              "      fill: #D2E3FC;\n",
              "    }\n",
              "\n",
              "    [theme=dark] .colab-df-convert:hover {\n",
              "      background-color: #434B5C;\n",
              "      box-shadow: 0px 1px 3px 1px rgba(0, 0, 0, 0.15);\n",
              "      filter: drop-shadow(0px 1px 2px rgba(0, 0, 0, 0.3));\n",
              "      fill: #FFFFFF;\n",
              "    }\n",
              "  </style>\n",
              "\n",
              "      <script>\n",
              "        const buttonEl =\n",
              "          document.querySelector('#df-1c97f925-95a0-4082-bc0c-3bd8a7cd73a1 button.colab-df-convert');\n",
              "        buttonEl.style.display =\n",
              "          google.colab.kernel.accessAllowed ? 'block' : 'none';\n",
              "\n",
              "        async function convertToInteractive(key) {\n",
              "          const element = document.querySelector('#df-1c97f925-95a0-4082-bc0c-3bd8a7cd73a1');\n",
              "          const dataTable =\n",
              "            await google.colab.kernel.invokeFunction('convertToInteractive',\n",
              "                                                     [key], {});\n",
              "          if (!dataTable) return;\n",
              "\n",
              "          const docLinkHtml = 'Like what you see? Visit the ' +\n",
              "            '<a target=\"_blank\" href=https://colab.research.google.com/notebooks/data_table.ipynb>data table notebook</a>'\n",
              "            + ' to learn more about interactive tables.';\n",
              "          element.innerHTML = '';\n",
              "          dataTable['output_type'] = 'display_data';\n",
              "          await google.colab.output.renderOutput(dataTable, element);\n",
              "          const docLink = document.createElement('div');\n",
              "          docLink.innerHTML = docLinkHtml;\n",
              "          element.appendChild(docLink);\n",
              "        }\n",
              "      </script>\n",
              "    </div>\n",
              "  </div>\n",
              "  "
            ],
            "text/plain": [
              "                    percentuale  test  estrazione  correttezza\n",
              "Place                        73    91       100.0       100.00\n",
              "Period                       77    59        80.0       100.00\n",
              "Factions                     76    50        90.0        77.78\n",
              "Event                        75    41       100.0       100.00\n",
              "Map                          71    91       100.0       100.00\n",
              "Area                         75    54        80.0       100.00\n",
              "Special Activities           78    70        90.0        88.89\n",
              "Operations                   69    52       100.0        60.00"
            ]
          },
          "execution_count": 67,
          "metadata": {},
          "output_type": "execute_result"
        }
      ],
      "source": [
        "# iterating the columns\n",
        "\n",
        "df_test = ''\n",
        "topic_ = []\n",
        "for col in games.columns:\n",
        "    topic_.append(col)\n",
        "topic_.pop()\n",
        "topic_\n",
        "df_test = pd.DataFrame(data= {'percentuale': percentuale}, index = topic_)\n",
        "df_test['test'] = test\n",
        "df_test['estrazione'] = perc_nan\n",
        "df_test['correttezza'] = perc_correct\n",
        "df_test"
      ]
    },
    {
      "cell_type": "code",
      "execution_count": null,
      "metadata": {
        "colab": {
          "base_uri": "https://localhost:8080/",
          "height": 332
        },
        "id": "HpNUK2B8oLJ-",
        "outputId": "c82ac710-8fc3-4f70-a443-1213f4e20cf8"
      },
      "outputs": [
        {
          "data": {
            "text/html": [
              "\n",
              "  <div id=\"df-36ec4d09-eb8a-43b0-bba3-3c5e7317964e\">\n",
              "    <div class=\"colab-df-container\">\n",
              "      <div>\n",
              "<style scoped>\n",
              "    .dataframe tbody tr th:only-of-type {\n",
              "        vertical-align: middle;\n",
              "    }\n",
              "\n",
              "    .dataframe tbody tr th {\n",
              "        vertical-align: top;\n",
              "    }\n",
              "\n",
              "    .dataframe thead th {\n",
              "        text-align: right;\n",
              "    }\n",
              "</style>\n",
              "<table border=\"1\" class=\"dataframe\">\n",
              "  <thead>\n",
              "    <tr style=\"text-align: right;\">\n",
              "      <th></th>\n",
              "      <th>percentuale</th>\n",
              "      <th>test</th>\n",
              "      <th>estrazione</th>\n",
              "      <th>correttezza</th>\n",
              "    </tr>\n",
              "  </thead>\n",
              "  <tbody>\n",
              "    <tr>\n",
              "      <th>Place</th>\n",
              "      <td>73.00</td>\n",
              "      <td>91.0</td>\n",
              "      <td>100.0</td>\n",
              "      <td>100.00000</td>\n",
              "    </tr>\n",
              "    <tr>\n",
              "      <th>Period</th>\n",
              "      <td>77.00</td>\n",
              "      <td>59.0</td>\n",
              "      <td>80.0</td>\n",
              "      <td>100.00000</td>\n",
              "    </tr>\n",
              "    <tr>\n",
              "      <th>Factions</th>\n",
              "      <td>76.00</td>\n",
              "      <td>50.0</td>\n",
              "      <td>90.0</td>\n",
              "      <td>77.78000</td>\n",
              "    </tr>\n",
              "    <tr>\n",
              "      <th>Event</th>\n",
              "      <td>75.00</td>\n",
              "      <td>41.0</td>\n",
              "      <td>100.0</td>\n",
              "      <td>100.00000</td>\n",
              "    </tr>\n",
              "    <tr>\n",
              "      <th>Map</th>\n",
              "      <td>71.00</td>\n",
              "      <td>91.0</td>\n",
              "      <td>100.0</td>\n",
              "      <td>100.00000</td>\n",
              "    </tr>\n",
              "    <tr>\n",
              "      <th>Area</th>\n",
              "      <td>75.00</td>\n",
              "      <td>54.0</td>\n",
              "      <td>80.0</td>\n",
              "      <td>100.00000</td>\n",
              "    </tr>\n",
              "    <tr>\n",
              "      <th>Special Activities</th>\n",
              "      <td>78.00</td>\n",
              "      <td>70.0</td>\n",
              "      <td>90.0</td>\n",
              "      <td>88.89000</td>\n",
              "    </tr>\n",
              "    <tr>\n",
              "      <th>Operations</th>\n",
              "      <td>69.00</td>\n",
              "      <td>52.0</td>\n",
              "      <td>100.0</td>\n",
              "      <td>60.00000</td>\n",
              "    </tr>\n",
              "    <tr>\n",
              "      <th>Mean</th>\n",
              "      <td>74.25</td>\n",
              "      <td>63.5</td>\n",
              "      <td>92.5</td>\n",
              "      <td>90.83375</td>\n",
              "    </tr>\n",
              "  </tbody>\n",
              "</table>\n",
              "</div>\n",
              "      <button class=\"colab-df-convert\" onclick=\"convertToInteractive('df-36ec4d09-eb8a-43b0-bba3-3c5e7317964e')\"\n",
              "              title=\"Convert this dataframe to an interactive table.\"\n",
              "              style=\"display:none;\">\n",
              "        \n",
              "  <svg xmlns=\"http://www.w3.org/2000/svg\" height=\"24px\"viewBox=\"0 0 24 24\"\n",
              "       width=\"24px\">\n",
              "    <path d=\"M0 0h24v24H0V0z\" fill=\"none\"/>\n",
              "    <path d=\"M18.56 5.44l.94 2.06.94-2.06 2.06-.94-2.06-.94-.94-2.06-.94 2.06-2.06.94zm-11 1L8.5 8.5l.94-2.06 2.06-.94-2.06-.94L8.5 2.5l-.94 2.06-2.06.94zm10 10l.94 2.06.94-2.06 2.06-.94-2.06-.94-.94-2.06-.94 2.06-2.06.94z\"/><path d=\"M17.41 7.96l-1.37-1.37c-.4-.4-.92-.59-1.43-.59-.52 0-1.04.2-1.43.59L10.3 9.45l-7.72 7.72c-.78.78-.78 2.05 0 2.83L4 21.41c.39.39.9.59 1.41.59.51 0 1.02-.2 1.41-.59l7.78-7.78 2.81-2.81c.8-.78.8-2.07 0-2.86zM5.41 20L4 18.59l7.72-7.72 1.47 1.35L5.41 20z\"/>\n",
              "  </svg>\n",
              "      </button>\n",
              "      \n",
              "  <style>\n",
              "    .colab-df-container {\n",
              "      display:flex;\n",
              "      flex-wrap:wrap;\n",
              "      gap: 12px;\n",
              "    }\n",
              "\n",
              "    .colab-df-convert {\n",
              "      background-color: #E8F0FE;\n",
              "      border: none;\n",
              "      border-radius: 50%;\n",
              "      cursor: pointer;\n",
              "      display: none;\n",
              "      fill: #1967D2;\n",
              "      height: 32px;\n",
              "      padding: 0 0 0 0;\n",
              "      width: 32px;\n",
              "    }\n",
              "\n",
              "    .colab-df-convert:hover {\n",
              "      background-color: #E2EBFA;\n",
              "      box-shadow: 0px 1px 2px rgba(60, 64, 67, 0.3), 0px 1px 3px 1px rgba(60, 64, 67, 0.15);\n",
              "      fill: #174EA6;\n",
              "    }\n",
              "\n",
              "    [theme=dark] .colab-df-convert {\n",
              "      background-color: #3B4455;\n",
              "      fill: #D2E3FC;\n",
              "    }\n",
              "\n",
              "    [theme=dark] .colab-df-convert:hover {\n",
              "      background-color: #434B5C;\n",
              "      box-shadow: 0px 1px 3px 1px rgba(0, 0, 0, 0.15);\n",
              "      filter: drop-shadow(0px 1px 2px rgba(0, 0, 0, 0.3));\n",
              "      fill: #FFFFFF;\n",
              "    }\n",
              "  </style>\n",
              "\n",
              "      <script>\n",
              "        const buttonEl =\n",
              "          document.querySelector('#df-36ec4d09-eb8a-43b0-bba3-3c5e7317964e button.colab-df-convert');\n",
              "        buttonEl.style.display =\n",
              "          google.colab.kernel.accessAllowed ? 'block' : 'none';\n",
              "\n",
              "        async function convertToInteractive(key) {\n",
              "          const element = document.querySelector('#df-36ec4d09-eb8a-43b0-bba3-3c5e7317964e');\n",
              "          const dataTable =\n",
              "            await google.colab.kernel.invokeFunction('convertToInteractive',\n",
              "                                                     [key], {});\n",
              "          if (!dataTable) return;\n",
              "\n",
              "          const docLinkHtml = 'Like what you see? Visit the ' +\n",
              "            '<a target=\"_blank\" href=https://colab.research.google.com/notebooks/data_table.ipynb>data table notebook</a>'\n",
              "            + ' to learn more about interactive tables.';\n",
              "          element.innerHTML = '';\n",
              "          dataTable['output_type'] = 'display_data';\n",
              "          await google.colab.output.renderOutput(dataTable, element);\n",
              "          const docLink = document.createElement('div');\n",
              "          docLink.innerHTML = docLinkHtml;\n",
              "          element.appendChild(docLink);\n",
              "        }\n",
              "      </script>\n",
              "    </div>\n",
              "  </div>\n",
              "  "
            ],
            "text/plain": [
              "                    percentuale  test  estrazione  correttezza\n",
              "Place                     73.00  91.0       100.0    100.00000\n",
              "Period                    77.00  59.0        80.0    100.00000\n",
              "Factions                  76.00  50.0        90.0     77.78000\n",
              "Event                     75.00  41.0       100.0    100.00000\n",
              "Map                       71.00  91.0       100.0    100.00000\n",
              "Area                      75.00  54.0        80.0    100.00000\n",
              "Special Activities        78.00  70.0        90.0     88.89000\n",
              "Operations                69.00  52.0       100.0     60.00000\n",
              "Mean                      74.25  63.5        92.5     90.83375"
            ]
          },
          "execution_count": 68,
          "metadata": {},
          "output_type": "execute_result"
        }
      ],
      "source": [
        "import matplotlib.pyplot as plt\n",
        "#df_test['Mean'] = df_test.mean(axis=0)\n",
        "df_test.loc['Mean'] = df_test.mean()\n",
        "#df_test = df_test.drop('Mean',1)\n",
        "df_test\n"
      ]
    },
    {
      "cell_type": "code",
      "execution_count": null,
      "metadata": {
        "colab": {
          "base_uri": "https://localhost:8080/",
          "height": 1000
        },
        "id": "N3RcqtKn_98v",
        "outputId": "c9aeabc8-5161-4aba-d486-40353f936099"
      },
      "outputs": [
        {
          "data": {
            "image/png": "[encoded data removed]",
            "text/plain": [
              "<Figure size 432x288 with 1 Axes>"
            ]
          },
          "metadata": {},
          "output_type": "display_data"
        },
        {
          "data": {
            "image/png": "[encoded data removed]",
            "text/plain": [
              "<Figure size 432x288 with 1 Axes>"
            ]
          },
          "metadata": {},
          "output_type": "display_data"
        },
        {
          "data": {
            "image/png": "[encoded data removed]",
            "text/plain": [
              "<Figure size 432x288 with 1 Axes>"
            ]
          },
          "metadata": {},
          "output_type": "display_data"
        },
        {
          "data": {
            "image/png": "[encoded data removed]",
            "text/plain": [
              "<Figure size 432x288 with 1 Axes>"
            ]
          },
          "metadata": {},
          "output_type": "display_data"
        }
      ],
      "source": [
        "\n",
        "df_test['percentuale'].plot.bar(color=['c','c','c','c','c','c','c','c','y'])\n",
        "plt.ylim(0,100)\n",
        "# fig, ax = plt.subplots()\n",
        "# bars = ax.barh(df_test.index, percentuale)\n",
        "\n",
        "#plt.savefig('grafico1.png')\n",
        "plt.show()\n",
        "\n",
        "df_test['test'].plot.bar(color=['c','c','c','c','c','c','c','c','y'])\n",
        "#plt.savefig('grafico2.png')\n",
        "plt.show()\n",
        "\n",
        "df_test['estrazione'].plot.bar(color=['c','c','c','c','c','c','c','c','y'])\n",
        "plt.ylim(0,100)\n",
        "#plt.savefig('grafico2.png')\n",
        "plt.show()\n",
        "\n",
        "df_test['correttezza'].plot.bar(color=['c','c','c','c','c','c','c','c','y'])\n",
        "plt.ylim(0,100)\n",
        "#plt.savefig('grafico2.png')\n",
        "plt.show()"
      ]
    },
    {
      "cell_type": "markdown",
      "metadata": {
        "id": "toNJkt7A2mj4"
      },
      "source": [
        "#Programma"
      ]
    },
    {
      "cell_type": "code",
      "execution_count": null,
      "metadata": {
        "colab": {
          "base_uri": "https://localhost:8080/",
          "height": 405
        },
        "id": "6N5osvb-Pb-t",
        "outputId": "19dd92b1-db58-435f-d573-e36211715c04"
      },
      "outputs": [
        {
          "name": "stdout",
          "output_type": "stream",
          "text": [
            "\n",
            "\n",
            "1. Evaluate uniqueness of games based on a topic\n",
            "2. Evaluate uniqueness of games based on multiple topics\n",
            "3. Search for a game using a word\n",
            "4. Search for a game using a sentence\n",
            "5. Exit\n",
            "\n",
            "\n"
          ]
        },
        {
          "output_type": "error",
          "ename": "ValueError",
          "evalue": "ignored",
          "traceback": [
            "\u001b[0;31m---------------------------------------------------------------------------\u001b[0m",
            "\u001b[0;31mValueError\u001b[0m                                Traceback (most recent call last)",
            "\u001b[0;32m<ipython-input-31-fe2611b419ed>\u001b[0m in \u001b[0;36m<module>\u001b[0;34m()\u001b[0m\n\u001b[1;32m     14\u001b[0m   \u001b[0mchoice\u001b[0m \u001b[0;34m=\u001b[0m \u001b[0;36m0\u001b[0m\u001b[0;34m\u001b[0m\u001b[0;34m\u001b[0m\u001b[0m\n\u001b[1;32m     15\u001b[0m   \u001b[0;32mwhile\u001b[0m \u001b[0mchoice\u001b[0m \u001b[0;34m<\u001b[0m \u001b[0;36m1\u001b[0m \u001b[0;32mor\u001b[0m \u001b[0mchoice\u001b[0m \u001b[0;34m>\u001b[0m \u001b[0;36m5\u001b[0m\u001b[0;34m:\u001b[0m\u001b[0;34m\u001b[0m\u001b[0;34m\u001b[0m\u001b[0m\n\u001b[0;32m---> 16\u001b[0;31m     \u001b[0mchoice\u001b[0m \u001b[0;34m=\u001b[0m \u001b[0mint\u001b[0m\u001b[0;34m(\u001b[0m\u001b[0minput\u001b[0m\u001b[0;34m(\u001b[0m\u001b[0;34m)\u001b[0m\u001b[0;34m)\u001b[0m\u001b[0;34m\u001b[0m\u001b[0;34m\u001b[0m\u001b[0m\n\u001b[0m\u001b[1;32m     17\u001b[0m \u001b[0;34m\u001b[0m\u001b[0m\n\u001b[1;32m     18\u001b[0m   \u001b[0;32mif\u001b[0m \u001b[0mchoice\u001b[0m \u001b[0;34m==\u001b[0m \u001b[0;36m5\u001b[0m\u001b[0;34m:\u001b[0m\u001b[0;34m\u001b[0m\u001b[0;34m\u001b[0m\u001b[0m\n",
            "\u001b[0;31mValueError\u001b[0m: invalid literal for int() with base 10: ''"
          ]
        }
      ],
      "source": [
        "from IPython.display import clear_output \n",
        "csv = pd.read_csv('/content/Information-Retrieval-Project/topics.csv')\n",
        "colonne = csv.columns[1:]\n",
        "\n",
        "choice = 0\n",
        "\n",
        "while choice != 5:\n",
        "\n",
        "  print('\\nEnter to continue...\\n')\n",
        "  input()\n",
        "  clear_output()\n",
        "\n",
        "  print('\\n\\n1. Evaluate uniqueness of games based on a topic\\n2. Evaluate uniqueness of games based on multiple topics\\n3. Search for a game using a word\\n4. Search for a game using a sentence\\n5. Exit\\n')\n",
        "  choice = 0\n",
        "  while choice < 1 or choice > 5:\n",
        "    choice = int(input())\n",
        "  \n",
        "  if choice == 5:\n",
        "    break\n",
        "\n",
        "  if choice == 2:\n",
        "\n",
        "    print('\\nTopics:')\n",
        "    for num, e in enumerate(colonne, start = 0):\n",
        "      print(num, '\\t', e)\n",
        "\n",
        "    print(\"\\nChoose number of topics to evaluate:\\n\")\n",
        "    n = 0\n",
        "    while n < 1 or n > 9:\n",
        "      n = int(input())\n",
        "\n",
        "    print(\"\\nChoose the \" + str(n) + \" topics to evaluate: [e.g.: 3 4 5]\\n\")\n",
        "\n",
        "    topic = input().split(' ')\n",
        "    topics = []\n",
        "    for i in topic:\n",
        "      topics.append(colonne[int(i)])\n",
        "    print('\\nTOPICS SELECTED:', [x for x in topics])\n",
        "\n",
        "    ranking = rank_topic_sim(topics)\n",
        "\n",
        "    print('\\nRanking of uniqueness:')\n",
        "    for num, e in enumerate(ranking, start=1):\n",
        "      print(num,'\\t', e)\n",
        "\n",
        "  if choice in [1,3,4]:\n",
        "\n",
        "    print(\"\\nChoose a topic to evaluate:\")\n",
        "    for num, e in enumerate(colonne, start = 0):\n",
        "      print(num, '\\t', e)\n",
        "\n",
        "    print('\\n')\n",
        "\n",
        "    topic = -1\n",
        "    while topic < 0 or topic > 9:\n",
        "      topic = int(input())\n",
        "\n",
        "    topic = colonne[topic]\n",
        "\n",
        "    print('\\nTOPIC SELECTED:', topic)\n",
        "\n",
        "  if choice == 1:\n",
        "\n",
        "    ranking = rank_topic_sim([topic])\n",
        "\n",
        "    print('\\nRanking of uniqueness for', topic, ':')\n",
        "    for num, e in enumerate(ranking, start=1):\n",
        "      print(num,'\\t', e)\n",
        "\n",
        "  elif choice == 3:\n",
        "\n",
        "    print('\\nSearch for a game, enter a word:\\n')\n",
        "    word = input()\n",
        "    print('\\nGame found for \\'' + word + '\\' in the topic \\'' + topic + '\\' : \\n')\n",
        "    print(search_word(word, topic).to_markdown())\n",
        "\n",
        "  elif choice == 4:\n",
        "\n",
        "    print('\\nSearch for a game, enter a sentence:\\n')\n",
        "    sentence = input()\n",
        "    print('\\nGame found for \\'' + sentence + '\\' in the topic \\'' + topic + '\\' : \\n' )\n",
        "    print(search_sentence(sentence, topic).to_markdown())"
      ]
    }
  ],
  "metadata": {
    "colab": {
      "collapsed_sections": [
        "HNkr6pQwA8DM",
        "swzn7WE0BStU",
        "7zpsJn9dDoE5",
        "gwC9zwQfD9Ue",
        "tpQAF1KKndTk",
        "34lCqkz7yUJX"
      ],
      "name": "Information_Retrieval.ipynb",
      "provenance": [],
      "include_colab_link": true
    },
    "kernelspec": {
      "display_name": "Python 3",
      "name": "python3"
    },
    "language_info": {
      "name": "python"
    }
  },
  "nbformat": 4,
  "nbformat_minor": 0
}